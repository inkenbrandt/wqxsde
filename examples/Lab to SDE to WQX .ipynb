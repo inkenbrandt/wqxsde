{
 "cells": [
  {
   "cell_type": "code",
   "execution_count": 1,
   "metadata": {
    "ExecuteTime": {
     "end_time": "2020-07-23T22:11:16.336034Z",
     "start_time": "2020-07-23T22:11:12.725687Z"
    }
   },
   "outputs": [],
   "source": [
    "import pandas as pd\n",
    "import numpy as np\n",
    "import glob\n",
    "import os\n",
    "#import arcpy\n",
    "from io import StringIO\n",
    "from arcgis.gis import GIS\n",
    "import sys\n",
    "import requests\n",
    "\n",
    "# Python Standard Library Modules\n",
    "from pathlib import Path\n",
    "from zipfile import ZipFile"
   ]
  },
  {
   "cell_type": "code",
   "execution_count": 2,
   "metadata": {
    "ExecuteTime": {
     "end_time": "2020-07-23T22:11:16.463690Z",
     "start_time": "2020-07-23T22:11:16.338025Z"
    }
   },
   "outputs": [],
   "source": [
    "import importlib.util\n",
    "spec = importlib.util.spec_from_file_location(\"dbconnect\", \"G:/My Drive/Python/dbconnect.py\")\n",
    "dbconnect = importlib.util.module_from_spec(spec)\n",
    "spec.loader.exec_module(dbconnect)"
   ]
  },
  {
   "cell_type": "code",
   "execution_count": 3,
   "metadata": {
    "ExecuteTime": {
     "end_time": "2020-07-23T22:11:16.523532Z",
     "start_time": "2020-07-23T22:11:16.466682Z"
    }
   },
   "outputs": [],
   "source": [
    "engine = dbconnect.postconn_ugs()"
   ]
  },
  {
   "cell_type": "markdown",
   "metadata": {},
   "source": [
    "Import the `wqxsde` module (if it is not installed)"
   ]
  },
  {
   "cell_type": "code",
   "execution_count": 4,
   "metadata": {
    "ExecuteTime": {
     "end_time": "2020-07-23T22:11:16.613289Z",
     "start_time": "2020-07-23T22:11:16.525524Z"
    }
   },
   "outputs": [],
   "source": [
    "wqxpath = \"G:/My Drive/Python/Pycharm/wqxsde/\"\n",
    "sys.path.append(wqxpath)\n",
    "import wqxsde"
   ]
  },
  {
   "cell_type": "code",
   "execution_count": 11,
   "metadata": {
    "ExecuteTime": {
     "end_time": "2020-07-23T22:11:24.450415Z",
     "start_time": "2020-07-23T22:11:19.533046Z"
    }
   },
   "outputs": [],
   "source": [
    "sdewqx = wqxsde.SDEtoWQX(*dbconnect.postconn_ugs_details(), \"G:/My Drive/WORK/Groundwater Chemistry/output/\")"
   ]
  },
  {
   "cell_type": "code",
   "execution_count": 12,
   "metadata": {
    "ExecuteTime": {
     "end_time": "2020-07-23T22:07:28.488101Z",
     "start_time": "2020-07-23T22:07:28.471179Z"
    }
   },
   "outputs": [
    {
     "data": {
      "text/html": [
       "<div>\n",
       "<style scoped>\n",
       "    .dataframe tbody tr th:only-of-type {\n",
       "        vertical-align: middle;\n",
       "    }\n",
       "\n",
       "    .dataframe tbody tr th {\n",
       "        vertical-align: top;\n",
       "    }\n",
       "\n",
       "    .dataframe thead th {\n",
       "        text-align: right;\n",
       "    }\n",
       "</style>\n",
       "<table border=\"1\" class=\"dataframe\">\n",
       "  <thead>\n",
       "    <tr style=\"text-align: right;\">\n",
       "      <th></th>\n",
       "      <th>activityid</th>\n",
       "      <th>activitymedia</th>\n",
       "      <th>activitystartdate</th>\n",
       "      <th>activitystarttime</th>\n",
       "      <th>activitytimezone</th>\n",
       "      <th>activitytype</th>\n",
       "      <th>analysisstartdate</th>\n",
       "      <th>characteristicname</th>\n",
       "      <th>laboratoryname</th>\n",
       "      <th>methodspeciation</th>\n",
       "      <th>...</th>\n",
       "      <th>resultdetectioncondition</th>\n",
       "      <th>detecquantlimitmeasure</th>\n",
       "      <th>resultdetecquantlimittype</th>\n",
       "      <th>resultdetecquantlimitunit</th>\n",
       "      <th>resultsamplefraction</th>\n",
       "      <th>resultstatusid</th>\n",
       "      <th>resultunit</th>\n",
       "      <th>resultvaluetype</th>\n",
       "      <th>sampcollectionequip</th>\n",
       "      <th>sampcollectmethod</th>\n",
       "    </tr>\n",
       "  </thead>\n",
       "  <tbody>\n",
       "    <tr>\n",
       "      <th>0</th>\n",
       "      <td>1406012-01</td>\n",
       "      <td>Water</td>\n",
       "      <td>2014-06-09</td>\n",
       "      <td>09:20</td>\n",
       "      <td>MDT</td>\n",
       "      <td>Sample-Routine</td>\n",
       "      <td>2014-06-17</td>\n",
       "      <td>Chloride</td>\n",
       "      <td>U.S. EPA, Region 8 Laboratory</td>\n",
       "      <td>None</td>\n",
       "      <td>...</td>\n",
       "      <td>None</td>\n",
       "      <td>0.20</td>\n",
       "      <td>Method Detection Level</td>\n",
       "      <td>mg/l</td>\n",
       "      <td>Dissolved</td>\n",
       "      <td>Final</td>\n",
       "      <td>mg/l</td>\n",
       "      <td>Actual</td>\n",
       "      <td>Water Bottle</td>\n",
       "      <td>GRAB</td>\n",
       "    </tr>\n",
       "    <tr>\n",
       "      <th>1</th>\n",
       "      <td>1406012-01</td>\n",
       "      <td>Water</td>\n",
       "      <td>2014-06-09</td>\n",
       "      <td>09:20</td>\n",
       "      <td>MDT</td>\n",
       "      <td>Sample-Routine</td>\n",
       "      <td>2014-06-17</td>\n",
       "      <td>Nitrate</td>\n",
       "      <td>U.S. EPA, Region 8 Laboratory</td>\n",
       "      <td>as N</td>\n",
       "      <td>...</td>\n",
       "      <td>Below Detection Limit</td>\n",
       "      <td>5.00</td>\n",
       "      <td>Method Detection Level</td>\n",
       "      <td>ug/l</td>\n",
       "      <td>Dissolved</td>\n",
       "      <td>Final</td>\n",
       "      <td>mg/l</td>\n",
       "      <td>Actual</td>\n",
       "      <td>Water Bottle</td>\n",
       "      <td>GRAB</td>\n",
       "    </tr>\n",
       "    <tr>\n",
       "      <th>2</th>\n",
       "      <td>1406012-01</td>\n",
       "      <td>Water</td>\n",
       "      <td>2014-06-09</td>\n",
       "      <td>09:20</td>\n",
       "      <td>MDT</td>\n",
       "      <td>Sample-Routine</td>\n",
       "      <td>2014-06-17</td>\n",
       "      <td>Nitrite</td>\n",
       "      <td>U.S. EPA, Region 8 Laboratory</td>\n",
       "      <td>as N</td>\n",
       "      <td>...</td>\n",
       "      <td>Below Detection Limit</td>\n",
       "      <td>5.00</td>\n",
       "      <td>Method Detection Level</td>\n",
       "      <td>ug/l</td>\n",
       "      <td>Dissolved</td>\n",
       "      <td>Final</td>\n",
       "      <td>mg/l</td>\n",
       "      <td>Actual</td>\n",
       "      <td>Water Bottle</td>\n",
       "      <td>GRAB</td>\n",
       "    </tr>\n",
       "    <tr>\n",
       "      <th>3</th>\n",
       "      <td>1406012-01</td>\n",
       "      <td>Water</td>\n",
       "      <td>2014-06-09</td>\n",
       "      <td>09:20</td>\n",
       "      <td>MDT</td>\n",
       "      <td>Sample-Routine</td>\n",
       "      <td>2014-06-17</td>\n",
       "      <td>Orthophosphate</td>\n",
       "      <td>U.S. EPA, Region 8 Laboratory</td>\n",
       "      <td>as P</td>\n",
       "      <td>...</td>\n",
       "      <td>None</td>\n",
       "      <td>5.00</td>\n",
       "      <td>Method Detection Level</td>\n",
       "      <td>ug/l</td>\n",
       "      <td>Dissolved</td>\n",
       "      <td>Final</td>\n",
       "      <td>mg/l</td>\n",
       "      <td>Actual</td>\n",
       "      <td>Water Bottle</td>\n",
       "      <td>GRAB</td>\n",
       "    </tr>\n",
       "    <tr>\n",
       "      <th>4</th>\n",
       "      <td>1406012-01</td>\n",
       "      <td>Water</td>\n",
       "      <td>2014-06-09</td>\n",
       "      <td>09:20</td>\n",
       "      <td>MDT</td>\n",
       "      <td>Sample-Routine</td>\n",
       "      <td>2014-06-13</td>\n",
       "      <td>Total Dissolved Solids</td>\n",
       "      <td>U.S. EPA, Region 8 Laboratory</td>\n",
       "      <td>None</td>\n",
       "      <td>...</td>\n",
       "      <td>None</td>\n",
       "      <td>2.00</td>\n",
       "      <td>Method Detection Level</td>\n",
       "      <td>mg/l</td>\n",
       "      <td>Dissolved</td>\n",
       "      <td>Final</td>\n",
       "      <td>mg/l</td>\n",
       "      <td>Actual</td>\n",
       "      <td>Water Bottle</td>\n",
       "      <td>GRAB</td>\n",
       "    </tr>\n",
       "    <tr>\n",
       "      <th>...</th>\n",
       "      <td>...</td>\n",
       "      <td>...</td>\n",
       "      <td>...</td>\n",
       "      <td>...</td>\n",
       "      <td>...</td>\n",
       "      <td>...</td>\n",
       "      <td>...</td>\n",
       "      <td>...</td>\n",
       "      <td>...</td>\n",
       "      <td>...</td>\n",
       "      <td>...</td>\n",
       "      <td>...</td>\n",
       "      <td>...</td>\n",
       "      <td>...</td>\n",
       "      <td>...</td>\n",
       "      <td>...</td>\n",
       "      <td>...</td>\n",
       "      <td>...</td>\n",
       "      <td>...</td>\n",
       "      <td>...</td>\n",
       "      <td>...</td>\n",
       "    </tr>\n",
       "    <tr>\n",
       "      <th>11420</th>\n",
       "      <td>1808006-04</td>\n",
       "      <td>Water</td>\n",
       "      <td>2018-08-07</td>\n",
       "      <td>16:15</td>\n",
       "      <td>MDT</td>\n",
       "      <td>Sample-Routine</td>\n",
       "      <td>2018-08-22</td>\n",
       "      <td>Manganese</td>\n",
       "      <td>None</td>\n",
       "      <td>None</td>\n",
       "      <td>...</td>\n",
       "      <td>Below Reporting Limit</td>\n",
       "      <td>2.00</td>\n",
       "      <td>Lower Reporting Limit</td>\n",
       "      <td>ug/l</td>\n",
       "      <td>Total</td>\n",
       "      <td>Final</td>\n",
       "      <td>ug/l</td>\n",
       "      <td>Actual</td>\n",
       "      <td>Water Bottle</td>\n",
       "      <td>GRAB</td>\n",
       "    </tr>\n",
       "    <tr>\n",
       "      <th>11421</th>\n",
       "      <td>1808006-04</td>\n",
       "      <td>Water</td>\n",
       "      <td>2018-08-07</td>\n",
       "      <td>16:15</td>\n",
       "      <td>MDT</td>\n",
       "      <td>Sample-Routine</td>\n",
       "      <td>2018-08-22</td>\n",
       "      <td>Copper</td>\n",
       "      <td>None</td>\n",
       "      <td>None</td>\n",
       "      <td>...</td>\n",
       "      <td>Below Reporting Limit</td>\n",
       "      <td>10.00</td>\n",
       "      <td>Lower Reporting Limit</td>\n",
       "      <td>ug/l</td>\n",
       "      <td>Total</td>\n",
       "      <td>Final</td>\n",
       "      <td>ug/l</td>\n",
       "      <td>Actual</td>\n",
       "      <td>Water Bottle</td>\n",
       "      <td>GRAB</td>\n",
       "    </tr>\n",
       "    <tr>\n",
       "      <th>11422</th>\n",
       "      <td>1808006-04</td>\n",
       "      <td>Water</td>\n",
       "      <td>2018-08-07</td>\n",
       "      <td>16:15</td>\n",
       "      <td>MDT</td>\n",
       "      <td>Sample-Routine</td>\n",
       "      <td>2018-08-22</td>\n",
       "      <td>Boron</td>\n",
       "      <td>None</td>\n",
       "      <td>None</td>\n",
       "      <td>...</td>\n",
       "      <td>Below Reporting Limit</td>\n",
       "      <td>100.00</td>\n",
       "      <td>Lower Reporting Limit</td>\n",
       "      <td>ug/l</td>\n",
       "      <td>Total</td>\n",
       "      <td>Final</td>\n",
       "      <td>ug/l</td>\n",
       "      <td>Actual</td>\n",
       "      <td>Water Bottle</td>\n",
       "      <td>GRAB</td>\n",
       "    </tr>\n",
       "    <tr>\n",
       "      <th>11423</th>\n",
       "      <td>1808006-04</td>\n",
       "      <td>Water</td>\n",
       "      <td>2018-08-07</td>\n",
       "      <td>16:15</td>\n",
       "      <td>MDT</td>\n",
       "      <td>Sample-Routine</td>\n",
       "      <td>2018-08-22</td>\n",
       "      <td>Chromium</td>\n",
       "      <td>None</td>\n",
       "      <td>None</td>\n",
       "      <td>...</td>\n",
       "      <td>Below Reporting Limit</td>\n",
       "      <td>5.00</td>\n",
       "      <td>Lower Reporting Limit</td>\n",
       "      <td>ug/l</td>\n",
       "      <td>Total</td>\n",
       "      <td>Final</td>\n",
       "      <td>ug/l</td>\n",
       "      <td>Actual</td>\n",
       "      <td>Water Bottle</td>\n",
       "      <td>GRAB</td>\n",
       "    </tr>\n",
       "    <tr>\n",
       "      <th>11424</th>\n",
       "      <td>1808006-04</td>\n",
       "      <td>Water</td>\n",
       "      <td>2018-08-07</td>\n",
       "      <td>16:15</td>\n",
       "      <td>MDT</td>\n",
       "      <td>Sample-Routine</td>\n",
       "      <td>2018-08-23</td>\n",
       "      <td>Ammonia</td>\n",
       "      <td>None</td>\n",
       "      <td>as N</td>\n",
       "      <td>...</td>\n",
       "      <td>Below Reporting Limit</td>\n",
       "      <td>0.05</td>\n",
       "      <td>Lower Reporting Limit</td>\n",
       "      <td>mg/l</td>\n",
       "      <td>Total</td>\n",
       "      <td>Final</td>\n",
       "      <td>mg/l</td>\n",
       "      <td>Actual</td>\n",
       "      <td>Water Bottle</td>\n",
       "      <td>GRAB</td>\n",
       "    </tr>\n",
       "  </tbody>\n",
       "</table>\n",
       "<p>11425 rows × 24 columns</p>\n",
       "</div>"
      ],
      "text/plain": [
       "       activityid activitymedia activitystartdate activitystarttime  \\\n",
       "0      1406012-01         Water        2014-06-09             09:20   \n",
       "1      1406012-01         Water        2014-06-09             09:20   \n",
       "2      1406012-01         Water        2014-06-09             09:20   \n",
       "3      1406012-01         Water        2014-06-09             09:20   \n",
       "4      1406012-01         Water        2014-06-09             09:20   \n",
       "...           ...           ...               ...               ...   \n",
       "11420  1808006-04         Water        2018-08-07             16:15   \n",
       "11421  1808006-04         Water        2018-08-07             16:15   \n",
       "11422  1808006-04         Water        2018-08-07             16:15   \n",
       "11423  1808006-04         Water        2018-08-07             16:15   \n",
       "11424  1808006-04         Water        2018-08-07             16:15   \n",
       "\n",
       "      activitytimezone    activitytype analysisstartdate  \\\n",
       "0                  MDT  Sample-Routine        2014-06-17   \n",
       "1                  MDT  Sample-Routine        2014-06-17   \n",
       "2                  MDT  Sample-Routine        2014-06-17   \n",
       "3                  MDT  Sample-Routine        2014-06-17   \n",
       "4                  MDT  Sample-Routine        2014-06-13   \n",
       "...                ...             ...               ...   \n",
       "11420              MDT  Sample-Routine        2018-08-22   \n",
       "11421              MDT  Sample-Routine        2018-08-22   \n",
       "11422              MDT  Sample-Routine        2018-08-22   \n",
       "11423              MDT  Sample-Routine        2018-08-22   \n",
       "11424              MDT  Sample-Routine        2018-08-23   \n",
       "\n",
       "           characteristicname                 laboratoryname methodspeciation  \\\n",
       "0                    Chloride  U.S. EPA, Region 8 Laboratory             None   \n",
       "1                     Nitrate  U.S. EPA, Region 8 Laboratory             as N   \n",
       "2                     Nitrite  U.S. EPA, Region 8 Laboratory             as N   \n",
       "3              Orthophosphate  U.S. EPA, Region 8 Laboratory             as P   \n",
       "4      Total Dissolved Solids  U.S. EPA, Region 8 Laboratory             None   \n",
       "...                       ...                            ...              ...   \n",
       "11420               Manganese                           None             None   \n",
       "11421                  Copper                           None             None   \n",
       "11422                   Boron                           None             None   \n",
       "11423                Chromium                           None             None   \n",
       "11424                 Ammonia                           None             as N   \n",
       "\n",
       "       ... resultdetectioncondition detecquantlimitmeasure  \\\n",
       "0      ...                     None                   0.20   \n",
       "1      ...    Below Detection Limit                   5.00   \n",
       "2      ...    Below Detection Limit                   5.00   \n",
       "3      ...                     None                   5.00   \n",
       "4      ...                     None                   2.00   \n",
       "...    ...                      ...                    ...   \n",
       "11420  ...    Below Reporting Limit                   2.00   \n",
       "11421  ...    Below Reporting Limit                  10.00   \n",
       "11422  ...    Below Reporting Limit                 100.00   \n",
       "11423  ...    Below Reporting Limit                   5.00   \n",
       "11424  ...    Below Reporting Limit                   0.05   \n",
       "\n",
       "      resultdetecquantlimittype resultdetecquantlimitunit  \\\n",
       "0        Method Detection Level                      mg/l   \n",
       "1        Method Detection Level                      ug/l   \n",
       "2        Method Detection Level                      ug/l   \n",
       "3        Method Detection Level                      ug/l   \n",
       "4        Method Detection Level                      mg/l   \n",
       "...                         ...                       ...   \n",
       "11420     Lower Reporting Limit                      ug/l   \n",
       "11421     Lower Reporting Limit                      ug/l   \n",
       "11422     Lower Reporting Limit                      ug/l   \n",
       "11423     Lower Reporting Limit                      ug/l   \n",
       "11424     Lower Reporting Limit                      mg/l   \n",
       "\n",
       "      resultsamplefraction  resultstatusid resultunit resultvaluetype  \\\n",
       "0                Dissolved           Final       mg/l          Actual   \n",
       "1                Dissolved           Final       mg/l          Actual   \n",
       "2                Dissolved           Final       mg/l          Actual   \n",
       "3                Dissolved           Final       mg/l          Actual   \n",
       "4                Dissolved           Final       mg/l          Actual   \n",
       "...                    ...             ...        ...             ...   \n",
       "11420                Total           Final       ug/l          Actual   \n",
       "11421                Total           Final       ug/l          Actual   \n",
       "11422                Total           Final       ug/l          Actual   \n",
       "11423                Total           Final       ug/l          Actual   \n",
       "11424                Total           Final       mg/l          Actual   \n",
       "\n",
       "      sampcollectionequip sampcollectmethod  \n",
       "0            Water Bottle              GRAB  \n",
       "1            Water Bottle              GRAB  \n",
       "2            Water Bottle              GRAB  \n",
       "3            Water Bottle              GRAB  \n",
       "4            Water Bottle              GRAB  \n",
       "...                   ...               ...  \n",
       "11420        Water Bottle              GRAB  \n",
       "11421        Water Bottle              GRAB  \n",
       "11422        Water Bottle              GRAB  \n",
       "11423        Water Bottle              GRAB  \n",
       "11424        Water Bottle              GRAB  \n",
       "\n",
       "[11425 rows x 24 columns]"
      ]
     },
     "execution_count": 12,
     "metadata": {},
     "output_type": "execute_result"
    }
   ],
   "source": [
    "sdewqx.ugs_to_upload['Result-Activity']"
   ]
  },
  {
   "cell_type": "code",
   "execution_count": 12,
   "metadata": {},
   "outputs": [
    {
     "data": {
      "text/html": [
       "<div>\n",
       "<style scoped>\n",
       "    .dataframe tbody tr th:only-of-type {\n",
       "        vertical-align: middle;\n",
       "    }\n",
       "\n",
       "    .dataframe tbody tr th {\n",
       "        vertical-align: top;\n",
       "    }\n",
       "\n",
       "    .dataframe thead th {\n",
       "        text-align: right;\n",
       "    }\n",
       "</style>\n",
       "<table border=\"1\" class=\"dataframe\">\n",
       "  <thead>\n",
       "    <tr style=\"text-align: right;\">\n",
       "      <th></th>\n",
       "      <th>level_0</th>\n",
       "      <th>activityid</th>\n",
       "      <th>0</th>\n",
       "    </tr>\n",
       "  </thead>\n",
       "  <tbody>\n",
       "    <tr>\n",
       "      <th>0</th>\n",
       "      <td>temperature_c</td>\n",
       "      <td>1406012-01</td>\n",
       "      <td>None</td>\n",
       "    </tr>\n",
       "    <tr>\n",
       "      <th>1</th>\n",
       "      <td>temperature_c</td>\n",
       "      <td>1406012-03</td>\n",
       "      <td>None</td>\n",
       "    </tr>\n",
       "    <tr>\n",
       "      <th>2</th>\n",
       "      <td>temperature_c</td>\n",
       "      <td>1406012-04</td>\n",
       "      <td>None</td>\n",
       "    </tr>\n",
       "    <tr>\n",
       "      <th>3</th>\n",
       "      <td>temperature_c</td>\n",
       "      <td>1406012-05</td>\n",
       "      <td>None</td>\n",
       "    </tr>\n",
       "    <tr>\n",
       "      <th>4</th>\n",
       "      <td>temperature_c</td>\n",
       "      <td>1406012-06</td>\n",
       "      <td>None</td>\n",
       "    </tr>\n",
       "    <tr>\n",
       "      <th>...</th>\n",
       "      <td>...</td>\n",
       "      <td>...</td>\n",
       "      <td>...</td>\n",
       "    </tr>\n",
       "    <tr>\n",
       "      <th>3550</th>\n",
       "      <td>conduct_uscm</td>\n",
       "      <td>1808006-06</td>\n",
       "      <td>None</td>\n",
       "    </tr>\n",
       "    <tr>\n",
       "      <th>3551</th>\n",
       "      <td>conduct_uscm</td>\n",
       "      <td>1808006-13</td>\n",
       "      <td>None</td>\n",
       "    </tr>\n",
       "    <tr>\n",
       "      <th>3552</th>\n",
       "      <td>conduct_uscm</td>\n",
       "      <td>1808006-13RE1</td>\n",
       "      <td>None</td>\n",
       "    </tr>\n",
       "    <tr>\n",
       "      <th>3553</th>\n",
       "      <td>conduct_uscm</td>\n",
       "      <td>1808006-13RE2</td>\n",
       "      <td>None</td>\n",
       "    </tr>\n",
       "    <tr>\n",
       "      <th>3554</th>\n",
       "      <td>conduct_uscm</td>\n",
       "      <td>1808006-04</td>\n",
       "      <td>None</td>\n",
       "    </tr>\n",
       "  </tbody>\n",
       "</table>\n",
       "<p>3555 rows × 3 columns</p>\n",
       "</div>"
      ],
      "text/plain": [
       "            level_0     activityid     0\n",
       "0     temperature_c     1406012-01  None\n",
       "1     temperature_c     1406012-03  None\n",
       "2     temperature_c     1406012-04  None\n",
       "3     temperature_c     1406012-05  None\n",
       "4     temperature_c     1406012-06  None\n",
       "...             ...            ...   ...\n",
       "3550   conduct_uscm     1808006-06  None\n",
       "3551   conduct_uscm     1808006-13  None\n",
       "3552   conduct_uscm  1808006-13RE1  None\n",
       "3553   conduct_uscm  1808006-13RE2  None\n",
       "3554   conduct_uscm     1808006-04  None\n",
       "\n",
       "[3555 rows x 3 columns]"
      ]
     },
     "execution_count": 12,
     "metadata": {},
     "output_type": "execute_result"
    }
   ],
   "source": [
    "sdewqx.ugs_tabs['Activity'].set_index(['activityid'])[['temperature_c','ph','conduct_uscm']].unstack(0).reset_index()"
   ]
  },
  {
   "cell_type": "code",
   "execution_count": null,
   "metadata": {},
   "outputs": [],
   "source": [
    "sdewqx.wqp_tabs['Activity'].head()"
   ]
  },
  {
   "cell_type": "code",
   "execution_count": null,
   "metadata": {
    "ExecuteTime": {
     "end_time": "2020-07-23T19:39:36.225824Z",
     "start_time": "2020-07-23T19:39:36.186928Z"
    }
   },
   "outputs": [],
   "source": [
    "sdewqx.wqp_tabs['Activity'].head()"
   ]
  },
  {
   "cell_type": "code",
   "execution_count": null,
   "metadata": {
    "ExecuteTime": {
     "end_time": "2020-07-23T19:39:51.149649Z",
     "start_time": "2020-07-23T19:39:50.410351Z"
    }
   },
   "outputs": [],
   "source": [
    "df = sdewqx.results_activities_prep()"
   ]
  },
  {
   "cell_type": "code",
   "execution_count": null,
   "metadata": {
    "ExecuteTime": {
     "end_time": "2020-07-23T19:48:20.929347Z",
     "start_time": "2020-07-23T19:48:20.893445Z"
    }
   },
   "outputs": [],
   "source": [
    "act = sdewqx.ugs_to_upload['Activity'].dropna(axis=1,how='all').drop(['monitoringlocationid'],axis=1)\n",
    "res = sdewqx.ugs_to_upload['Result'].dropna(axis=1,how='all')"
   ]
  },
  {
   "cell_type": "code",
   "execution_count": null,
   "metadata": {
    "ExecuteTime": {
     "end_time": "2020-07-23T19:48:22.267741Z",
     "start_time": "2020-07-23T19:48:22.111133Z"
    }
   },
   "outputs": [],
   "source": [
    "pd.merge(res,act,on='activityid')"
   ]
  },
  {
   "cell_type": "code",
   "execution_count": null,
   "metadata": {
    "ExecuteTime": {
     "end_time": "2020-07-23T20:02:10.352217Z",
     "start_time": "2020-07-23T20:02:10.346233Z"
    }
   },
   "outputs": [],
   "source": [
    "sdewqx.wqp_tabs['Result'].columns\n",
    "         "
   ]
  },
  {
   "cell_type": "code",
   "execution_count": null,
   "metadata": {
    "ExecuteTime": {
     "end_time": "2020-07-23T19:54:36.166696Z",
     "start_time": "2020-07-23T19:54:36.064995Z"
    }
   },
   "outputs": [],
   "source": [
    "sdewqx.ugs_to_upload['Result']"
   ]
  },
  {
   "cell_type": "code",
   "execution_count": null,
   "metadata": {
    "ExecuteTime": {
     "end_time": "2020-07-23T19:39:56.729435Z",
     "start_time": "2020-07-23T19:39:56.661617Z"
    }
   },
   "outputs": [],
   "source": [
    "df[(df['monitoringlocationid']=='401043111361801')].sort_values(['activitystartdate'])"
   ]
  },
  {
   "cell_type": "code",
   "execution_count": null,
   "metadata": {},
   "outputs": [],
   "source": [
    "sdewqx.ugs_tabs['Activity']"
   ]
  },
  {
   "cell_type": "code",
   "execution_count": null,
   "metadata": {},
   "outputs": [],
   "source": [
    "pd.merge(sdewqx.ugs_tabs['Result']"
   ]
  },
  {
   "cell_type": "code",
   "execution_count": null,
   "metadata": {},
   "outputs": [],
   "source": [
    "sdewqx.ugs_tabs['Result'][['resultdetectioncondition','detecquantlimitmeasure', 'resultdetecquantlimittype',\n",
    "                                              'resultdetecquantlimitunit']]"
   ]
  },
  {
   "cell_type": "code",
   "execution_count": null,
   "metadata": {},
   "outputs": [],
   "source": []
  },
  {
   "cell_type": "code",
   "execution_count": null,
   "metadata": {},
   "outputs": [],
   "source": [
    "import datetime\n",
    "datetime.datetime.today()"
   ]
  },
  {
   "cell_type": "code",
   "execution_count": 8,
   "metadata": {},
   "outputs": [
    {
     "data": {
      "text/plain": [
       "['Arsenic', 74.92, 'As', '7440-38-2']"
      ]
     },
     "execution_count": 8,
     "metadata": {},
     "output_type": "execute_result"
    }
   ],
   "source": [
    "chem = 'Arsenic'\n",
    "def chem_lookup(chem):\n",
    "    url = f'https://cdxnodengn.epa.gov/cdx-srs-rest/substance/name/{chem}?qualifier=exact'\n",
    "    rqob = requests.get(url).json()\n",
    "    moleweight = float(rqob[0]['molecularWeight'])\n",
    "    moleformula = rqob[0]['molecularFormula']\n",
    "    casnumber = rqob[0]['currentCasNumber']\n",
    "    epaname = rqob[0]['epaName']\n",
    "    return [epaname,moleweight,moleformula,casnumber]\n",
    "chem_lookup(chem)"
   ]
  },
  {
   "cell_type": "code",
   "execution_count": null,
   "metadata": {},
   "outputs": [],
   "source": [
    "rqob[0]['subsKey']"
   ]
  },
  {
   "cell_type": "code",
   "execution_count": 9,
   "metadata": {},
   "outputs": [],
   "source": [
    "#\"https://cdxnodengn.epa.gov/cdx-srs-rest/\"\n",
    "char_domains = \"http://www.epa.gov/storet/download/DW_domainvalues.xls\"\n",
    "char_schema = pd.read_excel(char_domains)\n",
    "char_schema = char_schema[['PK_ISN','REGISTRY_NAME','CHARACTERISTIC_GROUP_TYPE','SRS_ID','CAS_NUMBER']]\n",
    "chemgroups = char_schema[['REGISTRY_NAME', 'CHARACTERISTIC_GROUP_TYPE']].set_index(['REGISTRY_NAME']).to_dict()['CHARACTERISTIC_GROUP_TYPE']\n"
   ]
  },
  {
   "cell_type": "code",
   "execution_count": null,
   "metadata": {},
   "outputs": [],
   "source": [
    "char_schema[char_schema['CHARACTERISTIC_GROUP_TYPE']=='Inorganics, Major, Metals']"
   ]
  },
  {
   "cell_type": "code",
   "execution_count": null,
   "metadata": {},
   "outputs": [],
   "source": [
    "char_schema.CHARACTERISTIC_GROUP_TYPE.unique()"
   ]
  },
  {
   "cell_type": "code",
   "execution_count": null,
   "metadata": {},
   "outputs": [],
   "source": [
    "requests.get(\"https://cdxnodengn.epa.gov/cdx-srs-rest/substance/name/Nitrate?qualifier=exact\").json()"
   ]
  },
  {
   "cell_type": "code",
   "execution_count": null,
   "metadata": {},
   "outputs": [],
   "source": [
    "wqp = wqxsde.WQP('UTAHGS','organization')"
   ]
  },
  {
   "cell_type": "markdown",
   "metadata": {},
   "source": [
    "assign the relevant paths to the "
   ]
  },
  {
   "cell_type": "code",
   "execution_count": null,
   "metadata": {
    "ExecuteTime": {
     "end_time": "2019-04-09T15:06:31.761026Z",
     "start_time": "2019-04-09T15:06:23.071227Z"
    }
   },
   "outputs": [],
   "source": [
    "sde = wqxsde.GetPaths()\n",
    "arcpy.env.workspace = sde.enviro\n",
    "wqx_results_filename = \"ResultsExport.xlsx\"\n",
    "wqx_stations_filename = \"LocationsExport.xlsx\""
   ]
  },
  {
   "cell_type": "code",
   "execution_count": null,
   "metadata": {
    "scrolled": true
   },
   "outputs": [],
   "source": [
    "gp = GetPaths()"
   ]
  },
  {
   "cell_type": "code",
   "execution_count": null,
   "metadata": {},
   "outputs": [],
   "source": [
    "# Set variables\n",
    "conn_file=\"C:/Users/Hutto/AppData/Roaming/Esri/Desktop10.7/ArcCatalog/Connection to nrwugspgressp.sde\"\n",
    "#arcpy.CreateVersion_management(conn_file, parent_version=\"sde.DEFAULT\",\n",
    " #                                          version_name=\"chemtest\", access_permission=\"PUBLIC\")\n",
    "\n",
    "\n",
    "folderName = \"C:/Users/Hutto/AppData/Roaming/Esri/Desktop10.7/ArcCatalog/\"\n",
    "\n",
    "\n",
    "fileName = \"Connection to nrwugspgressp.sde\"\n",
    "serverName = cp.server\n",
    "serviceName = cp.instance.split(':')[-1]\n",
    "databaseName = cp.database\n",
    "authType = \"DATABASE_AUTH\"\n",
    "username = cp.user\n",
    "password = \"toolbox\"\n",
    "saveUserInfo = \"SAVE_USERNAME\"\n",
    "versionName = 'paulinkenbrandt.chemtest'\n",
    "saveVersionInfo = \"SAVE_VERSION\"\n",
    "\n",
    "\n",
    "# Process: Use the CreateArcSDEConnectionFile function\n",
    "arcpy.CreateArcSDEConnectionFile_management(folderName,\n",
    "                                             fileName,\n",
    "                                             serverName,\n",
    "                                             serviceName,\n",
    "                                             databaseName,\n",
    "                                             authType,\n",
    "                                             username,\n",
    "                                             password,\n",
    "                                             saveUserInfo,\n",
    "                                             versionName,\n",
    "                                             saveVersionInfo)"
   ]
  },
  {
   "cell_type": "code",
   "execution_count": null,
   "metadata": {},
   "outputs": [],
   "source": [
    "cp.instance.split(':')[-1]"
   ]
  },
  {
   "cell_type": "code",
   "execution_count": null,
   "metadata": {},
   "outputs": [],
   "source": [
    "workspace = os.path.join(temp, file +\".sde\")\n",
    "# Set the workspace environment\n",
    "env.workspace = workspace\n",
    "\n",
    "\n",
    "At the end of your script:\n",
    "arcpy.Delete(workspace)"
   ]
  },
  {
   "cell_type": "code",
   "execution_count": null,
   "metadata": {},
   "outputs": [],
   "source": [
    "conn_file=\"C:/Users/Hutto/AppData/Roaming/Esri/Desktop10.7/ArcCatalog/Connection to nrwugspgressp.sde\"\n",
    "arcpy.CreateVersion_management(conn_file, parent_version=\"sde.DEFAULT\",\n",
    "                                           version_name=\"chemtest\", access_permission=\"PUBLIC\")\n",
    "\n",
    "# self.enviro = conn_file\n",
    "arcpy.env.workspace = conn_file\n",
    "desc = arcpy.Describe(conn_file)\n",
    "cp = desc.connectionProperties\n",
    "print(\"\\nDatabase Connection Properties:\")\n",
    "print(\"%-12s %s\" % (\"  Server:\", cp.server))\n",
    "print(\"%-12s %s\" % (\"  Instance:\", cp.instance))\n",
    "print(\"%-12s %s\" % (\"  Database:\", cp.database))\n",
    "print(\"%-12s %s\" % (\"  User:\", cp.user))\n",
    "print(\"%-12s %s\" % (\"  Version:\", cp.version))"
   ]
  },
  {
   "cell_type": "code",
   "execution_count": null,
   "metadata": {},
   "outputs": [],
   "source": [
    "print(\"%-24s %s\" % (\"Connection String:\", desc.connectionString))\n",
    "print(\"%-24s %s\" % (\"WorkspaceFactoryProgID:\", desc.workspaceFactoryProgID))\n",
    "print(\"%-24s %s\" % (\"Workspace Type:\", desc.workspaceType))"
   ]
  },
  {
   "cell_type": "code",
   "execution_count": null,
   "metadata": {
    "scrolled": true
   },
   "outputs": [],
   "source": [
    "gp.compare_sde_wqx('ResultsExport.xlsx')"
   ]
  },
  {
   "cell_type": "code",
   "execution_count": null,
   "metadata": {},
   "outputs": [],
   "source": [
    "class GetPaths(object):\n",
    "    def __init__(self, versionname='chemchild',\n",
    "                 conn_file=\"C:/Users/Hutto/AppData/Roaming/Esri/Desktop10.7/ArcCatalog/Connection to nrwugspgressp.sde\"):\n",
    "        # self.enviro = conn_file\n",
    "        self.chemistry_table = \"ugsgwp.sde.ugs_ngwmn_monitoring_phy_chem_results\"\n",
    "        self.activities_table = \"ugsgwp.sde.ugs_ngwmn_monitoring_phy_chem_activities\"\n",
    "        self.stations_table = \"ugsgwp.sde.ugs_ngwmn_monitoring_locations\"\n",
    "        arcpy.env.workspace = conn_file\n",
    "        self.enviro = arcpy.env.workspace\n",
    "        desc = arcpy.Describe(self.enviro)\n",
    "        self.user = desc.connectionProperties.user\n",
    "        self.version = versionname\n",
    "        if f\"{self.user}.{versionname}\" in [i.name for i in arcpy.da.ListVersions(self.enviro)]:\n",
    "            arcpy.DeleteVersion_management(self.enviro, f\"{self.user}.{versionname}\")\n",
    "            print(f\"{self.user}.{versionname} deleted\")\n",
    "            arcpy.CreateVersion_management(self.enviro, parent_version=\"sde.DEFAULT\",\n",
    "                                           version_name=versionname, access_permission=\"PUBLIC\")\n",
    "            print(f\"{self.user}.{versionname} created\")\n",
    "\n",
    "        else:\n",
    "            arcpy.CreateVersion_management(self.enviro, parent_version=\"sde.DEFAULT\",\n",
    "                                           version_name=versionname, access_permission=\"PUBLIC\")\n",
    "            print(f\"{self.user}.{versionname} created\")\n",
    "\n",
    "    def compare_sde_wqx(self, wqx_results_filename, table_type='chem', recon=False):\n",
    "        \"\"\"\n",
    "        compares unique rows in an SDE chem table to that of a WQX download\n",
    "        :param wqx_results_filename: excel file with wqx results download\n",
    "        :param enviro: file location or sde connection file location of table\n",
    "        :param chem_table_name: table with chemistry data in SDE\n",
    "        :return:\n",
    "        \"\"\"\n",
    "        if table_type == 'chem':\n",
    "            table_name = self.chemistry_table\n",
    "            \n",
    "        else:\n",
    "            table_name = self.stations_table\n",
    "\n",
    "        wqx_table = pd.read_excel(wqx_results_filename)\n",
    "        \n",
    "        if arcpy.Exists('db_table'):\n",
    "            arcpy.Delete_management('db_table')\n",
    "        else:\n",
    "            pass\n",
    "        \n",
    "        arcpy.MakeTableView_management(table_name, 'db_table')\n",
    "        arcpy.ChangeVersion_management('db_table', 'TRANSACTIONAL', f\"{self.user}.{self.version}\")\n",
    "\n",
    "        #sde_table = self.table_to_pandas_dataframe(table_name)\n",
    "        sde_table = self.table_to_pd_df(table_name)\n",
    "\n",
    "        if table_type == 'chem':\n",
    "            wqx_table['uniqueid'] = wqx_table[\n",
    "                ['Monitoring Location ID', 'Activity ID', 'Characteristic']].apply(\n",
    "                lambda x: \"{:}-{:}-{:}\".format(str(x[0]), str(x[1]), x[2]), 1)\n",
    "            sde_table['uniqueid'] = sde_table[\n",
    "                ['monitoringlocationid', 'activityid', 'characteristicname']].apply(\n",
    "                lambda x: \"{:}-{:}-{:}\".format(str(x[0]), str(x[1]), x[2]), 1)\n",
    "            wqx_table = wqx_table.drop_duplicates(subset='uniqueid')\n",
    "            wqx_table = wqx_table.reset_index().set_index('uniqueid')\n",
    "            sde_table = sde_table.reset_index().set_index('uniqueid')\n",
    "\n",
    "        else:\n",
    "            sde_table = sde_table.reset_index().set_index('locationid')\n",
    "            wqx_table = wqx_table.reset_index().set_index('Monitoring Location ID')\n",
    "\n",
    "        objtable = []\n",
    "\n",
    "        for ind in sde_table.index:\n",
    "            if ind in wqx_table.index:\n",
    "                objtable.append(sde_table.loc[ind, 'objectid'])\n",
    "\n",
    "                \n",
    "        with arcpy.da.Editor(self.enviro) as edit:\n",
    "            # iterate input table\n",
    "            with arcpy.da.UpdateCursor('db_table', ['OID@', 'inwqx']) as tcurs:\n",
    "                for row in tcurs:\n",
    "                    # index location row[2]=SHAPE@X and row[1]=SHAPE@Y that matches index locations in dictionary\n",
    "                    if row[0] in objtable:\n",
    "                        row[1] = 1\n",
    "                        tcurs.updateRow(row)\n",
    "                    \n",
    "        if recon:\n",
    "            arcpy.ReconcileVersions_management(self.enviro, \"ALL_VERSIONS\", \"sde.SAFETY\",\n",
    "                                               f\"{self.user}.{versionname}\", \"LOCK_ACQUIRED\",\n",
    "                                               \"ABORT\", \"BY_OBJECT\", \"FAVOR_TARGET_VERSION\",\n",
    "                                               \"POST\", \"DELETE_VERSION\", \"RecLog.txt\")\n",
    "\n",
    "        #sde_table = self.table_to_pd_df(table_name)\n",
    "        return wqx_table, sde_table\n",
    "\n",
    "    def table_to_pandas_dataframe(self, table, field_names=None, query=None, sql_sn=(None, None)):\n",
    "        \"\"\"\n",
    "        Load data into a Pandas Data Frame for subsequent analysis.\n",
    "        :param table: Table readable by ArcGIS.\n",
    "        :param field_names: List of fields.\n",
    "        :param query: SQL query to limit results\n",
    "        :param sql_sn: sort fields for sql; see http://pro.arcgis.com/en/pro-app/arcpy/functions/searchcursor.htm\n",
    "        :return: Pandas DataFrame object.\n",
    "        \"\"\"\n",
    "        # TODO Make fast with SQL\n",
    "        # if field names are not specified\n",
    "        if not field_names:\n",
    "            field_names = self.get_field_names(table)\n",
    "        # create a pandas data frame\n",
    "        df = pd.DataFrame(columns=field_names)\n",
    "\n",
    "        # use a search cursor to iterate rows\n",
    "        with arcpy.da.SearchCursor(table, field_names, query, sql_clause=sql_sn) as search_cursor:\n",
    "            # iterate the rows\n",
    "            for row in search_cursor:\n",
    "                # combine the field names and row items together, and append them\n",
    "                df = df.append(dict(zip(field_names, row)), ignore_index=True)\n",
    "\n",
    "        # return the pandas data frame\n",
    "        return df\n",
    "\n",
    "    def get_field_names(self, table):\n",
    "        read_descr = arcpy.Describe(table)\n",
    "        field_names = []\n",
    "        for field in read_descr.fields:\n",
    "            field_names.append(field.name)\n",
    "        # field_names.remove('OBJECTID')\n",
    "        return field_names\n",
    "    \n",
    "    def table_to_pd_df(self, table, field_names=None, query=None, sql_sn=(None, None)):\n",
    "        try:\n",
    "            egdb_conn = arcpy.ArcSDESQLExecute(self.enviro)\n",
    "            egdb_conn.startTransaction()\n",
    "            # Perform the query\n",
    "            egdb_return = egdb_conn.execute(f\"SELECT * FROM {table}\")\n",
    "            egdb_conn.commitTransaction()\n",
    "            return pd.DataFrame(egdb_return,columns = self.get_field_names(table))\n",
    "            del egdb_conn\n",
    "        except Exception as err:\n",
    "            print(err)\n"
   ]
  },
  {
   "cell_type": "code",
   "execution_count": null,
   "metadata": {},
   "outputs": [],
   "source": []
  },
  {
   "cell_type": "code",
   "execution_count": null,
   "metadata": {},
   "outputs": [],
   "source": [
    "\n",
    "\n",
    "import ipywidgets as widgets\n",
    "slider = widgets.FloatSlider(description='x')\n",
    "text = widgets.FloatText(disabled=True, description='$x^2$')\n",
    "text.disabled\n",
    "def compute(*ignore):\n",
    "    text.value = str(slider.value**2)\n",
    "slider.observe(compute, 'value')\n",
    "slider.value = 4\n",
    "widgets.VBox([slider, text])\n",
    "\n"
   ]
  },
  {
   "cell_type": "markdown",
   "metadata": {},
   "source": [
    "# Stations"
   ]
  },
  {
   "cell_type": "markdown",
   "metadata": {},
   "source": [
    "Compare station export from the CDX to the data in the ArcGIS SDE table."
   ]
  },
  {
   "cell_type": "code",
   "execution_count": 10,
   "metadata": {},
   "outputs": [
    {
     "ename": "AttributeError",
     "evalue": "module 'wqxsde' has no attribute 'compare_sde_wqx'",
     "output_type": "error",
     "traceback": [
      "\u001b[1;31m---------------------------------------------------------------------------\u001b[0m",
      "\u001b[1;31mAttributeError\u001b[0m                            Traceback (most recent call last)",
      "\u001b[1;32m<ipython-input-10-992d8f357847>\u001b[0m in \u001b[0;36m<module>\u001b[1;34m\u001b[0m\n\u001b[1;32m----> 1\u001b[1;33m wqx_stat_table, sde_stat_table = wqxsde.compare_sde_wqx(wqx_stations_filename,\n\u001b[0m\u001b[0;32m      2\u001b[0m                                                         \u001b[0msde\u001b[0m\u001b[1;33m.\u001b[0m\u001b[0menviro\u001b[0m\u001b[1;33m,\u001b[0m\u001b[1;33m\u001b[0m\u001b[1;33m\u001b[0m\u001b[0m\n\u001b[0;32m      3\u001b[0m                                                         \u001b[0msde\u001b[0m\u001b[1;33m.\u001b[0m\u001b[0mstations_table\u001b[0m\u001b[1;33m,\u001b[0m\u001b[1;33m\u001b[0m\u001b[1;33m\u001b[0m\u001b[0m\n\u001b[0;32m      4\u001b[0m                                                         table_type=\"stat\")\n",
      "\u001b[1;31mAttributeError\u001b[0m: module 'wqxsde' has no attribute 'compare_sde_wqx'"
     ]
    }
   ],
   "source": [
    "wqx_stat_table, sde_stat_table = wqxsde.compare_sde_wqx(wqx_stations_filename,\n",
    "                                                        sde.enviro, \n",
    "                                                        sde.stations_table,\n",
    "                                                        table_type=\"stat\")"
   ]
  },
  {
   "cell_type": "markdown",
   "metadata": {},
   "source": [
    "Get data from SDE and prepare for WQX import configuration number 6441 <br>\n",
    "https://cdx.epa.gov/WQXWeb/ImportConfigurationDetail.aspx?mode=import&impcfg_uid=6441"
   ]
  },
  {
   "cell_type": "code",
   "execution_count": null,
   "metadata": {},
   "outputs": [],
   "source": [
    "stats = wqxsde.SDEStationstoWQX(sde_stat_table,\"G:/My Drive/Python/Pycharm/wqxsde\")\n",
    "stats.save_file() # save file to csv\n"
   ]
  },
  {
   "cell_type": "code",
   "execution_count": null,
   "metadata": {},
   "outputs": [],
   "source": [
    "sde_stats = stats.sde_stat_import"
   ]
  },
  {
   "cell_type": "markdown",
   "metadata": {
    "ExecuteTime": {
     "end_time": "2019-04-09T15:07:09.899121Z",
     "start_time": "2019-04-09T15:07:09.896114Z"
    }
   },
   "source": [
    "# Chemistry"
   ]
  },
  {
   "cell_type": "code",
   "execution_count": null,
   "metadata": {},
   "outputs": [],
   "source": [
    "wqx_results_filename = wqxpath + \"WQXResultsExport.xlsx\""
   ]
  },
  {
   "cell_type": "code",
   "execution_count": null,
   "metadata": {},
   "outputs": [],
   "source": [
    "sdechem = wqxsde.table_to_pandas_dataframe(sde.chemistry_table)"
   ]
  },
  {
   "cell_type": "code",
   "execution_count": null,
   "metadata": {},
   "outputs": [],
   "source": [
    "sdechem.columns"
   ]
  },
  {
   "cell_type": "code",
   "execution_count": null,
   "metadata": {},
   "outputs": [],
   "source": [
    "wqx_chem_table, sde_chem_table = wqxsde.compare_sde_wqx(wqx_results_filename,\n",
    "                                                        sde.enviro, \n",
    "                                                        sde.chemistry_table,\n",
    "                                                        table_type=\"chem\")"
   ]
  },
  {
   "cell_type": "markdown",
   "metadata": {},
   "source": [
    "## EPA Lab Data to SDE"
   ]
  },
  {
   "cell_type": "code",
   "execution_count": null,
   "metadata": {
    "code_folding": []
   },
   "outputs": [],
   "source": [
    "epa_file = \"G:/Team Drives/UGS_Groundwater/Projects/NGWMN/Chemistry Data/EPAdata_results/2018/1807003 FINAL EPA Excel 12 Sep 18 1357.xls\"\n",
    "schema_file_path = \"G:/My Drive/Python/Pycharm/wqxsde/examples/Domains.xlsx\"\n",
    "save_path = \"G:/My Drive/WORK/Groundwater Chemistry/\"\n",
    "\n",
    "for file in glob.glob(\n",
    "        \"G:/Team Drives/UGS_Groundwater/Projects/NGWMN/Chemistry Data/EPAdata_results/2018/*.xls\"\n",
    "):\n",
    "\n",
    "    epa = wqxsde.ProcessEPASheet(file, save_path, schema_file_path)\n",
    "\n",
    "    epa.append_data()"
   ]
  },
  {
   "cell_type": "code",
   "execution_count": null,
   "metadata": {},
   "outputs": [],
   "source": [
    "epa.append_data()"
   ]
  },
  {
   "cell_type": "code",
   "execution_count": null,
   "metadata": {
    "code_folding": []
   },
   "outputs": [],
   "source": [
    "{'Ammonia as N':['Ammonia','as N'], \n",
    " 'Sulfate as SO4':['Sulfate','as SO4'], \n",
    " 'Nitrate as N':['Nitrate','as N'], \n",
    " 'Nitrite as N':['Nitrite','as N'], \n",
    " 'Orthophosphate as P':['Orthophosphate','as P']}\n"
   ]
  },
  {
   "cell_type": "code",
   "execution_count": null,
   "metadata": {
    "code_folding": []
   },
   "outputs": [],
   "source": [
    "epa_file = \"G:/Team Drives/UGS_Groundwater/Projects/NGWMN/Chemistry Data/EPAdata_results/2018/1807003 FINAL EPA Excel 12 Sep 18 1357.xls\"\n",
    "\n",
    "epa_raw_data = pd.read_excel(epa_file)\n",
    "\n",
    "epa_rename = {'Laboratory':'LaboratoryName',\n",
    "              'LabNumber':'ActivityID',\n",
    "              'SampleName':'MonitoringLocationID',\n",
    "              'Method':'ResultAnalyticalMethodID',\n",
    "              'Analyte':'CharacteristicName',\n",
    "              'ReportLimit':'ResultDetecQuantLimitUnit',\n",
    "              'Result':'ResultValue',\n",
    "              'AnalyteQual':'ResultQualifier',\n",
    "              'AnalysisClass':'ResultSampleFraction',\n",
    "              'ReportLimit':'ResultDetecQuantLimitMeasure'\n",
    "             }\n",
    "\n",
    "epa_raw_data = epa_raw_data.rename(columns=epa_rename)\n",
    "\n",
    "epa_raw_data['ResultSampleFraction'] = epa_raw_data['ResultSampleFraction'].apply(lambda x: 'Total' if 'WET' else x, 1)\n",
    "\n",
    "def hasless(df):\n",
    "    if '<' in str(df['ResultValue']):\n",
    "        df['ResultValue'] = None\n",
    "        df['ResultDetectionCondition'] = 'Below Reporting Limit'\n",
    "        df['ResultDetectQuantLimitType'] = 'Lower Reporting Limit'\n",
    "    elif '>' in str(df['ResultValue']):\n",
    "        df['ResultValue'] = None\n",
    "        df['ResultDetectionCondition'] = 'Above Reporting Limit'\n",
    "        df['ResultDetectQuantLimitType'] = 'Upper Reporting Limit'\n",
    "    else:\n",
    "        df['ResultValue'] = pd.to_numeric(df['ResultValue'])\n",
    "    return df\n",
    "\n",
    "epa_raw_data = epa_raw_data.apply(lambda x: hasless(x),1)\n",
    "\n",
    "\n",
    "def resqual(x):\n",
    "    if pd.isna(x[1]) and x[0] == 'Below Reporting Limit':\n",
    "        return 'BRL'\n",
    "    elif pd.notnull(x[1]):\n",
    "        return x[1]\n",
    "    else:\n",
    "        return None\n",
    "    \n",
    "\n",
    "def filtmeth(x):\n",
    "    if \"EPA\" in x:\n",
    "        x = x.split(' ')[1]\n",
    "    elif '/' in x:\n",
    "        x = x.split('/')[0]\n",
    "    else:\n",
    "        x = x\n",
    "    return x\n",
    "\n",
    "\n",
    "epa_raw_data['ResultAnalyticalMethodID'] = epa_raw_data['ResultAnalyticalMethodID'].apply(lambda x: filtmeth(x), 1)\n",
    "epa_raw_data['ResultAnalyticalMethodContext'] = 'USEPA'\n",
    "epa_raw_data['ProjectID'] = 'UNGWMN'\n",
    "epa_raw_data['ResultQualifier'] = epa_raw_data[['ResultDetectionCondition',\n",
    "                                                'ResultQualifier']].apply(lambda x: resqual(x),1)\n",
    "\n",
    "epa_raw_data['Sample Date'] = epa_raw_data['Sampled'].apply(lambda x: \"{:%Y-%m-%d}\".format(x),1)\n",
    "epa_raw_data['Sample Time'] = epa_raw_data['Sampled'].apply(lambda x: \"{:%H:%M}\".format(x),1)\n",
    "epa_raw_data['AnalysisStartDate'] = epa_raw_data['Analyzed'].apply(lambda x: \"{:%Y-%m-%d}\".format(x),1)\n",
    "\n",
    "epa_drop = ['Batch','Analysis','Analyst','CASNumber','Elevation','LabQual',\n",
    "            'Client','ClientMatrix','Dilution','SpkAmt','UpperLimit','Recovery',\n",
    "           'Surrogate','LowerLimit','Latitude','Longitude','SampleID','ProjectNumber',\n",
    "            'Sampled','Analyzed','PrepMethod','Prepped','Project']\n",
    "epa_data = epa_raw_data.drop(epa_drop,axis=1)\n",
    "epa_data"
   ]
  },
  {
   "cell_type": "code",
   "execution_count": null,
   "metadata": {},
   "outputs": [],
   "source": []
  },
  {
   "cell_type": "code",
   "execution_count": null,
   "metadata": {},
   "outputs": [],
   "source": [
    "sdechem.columns"
   ]
  },
  {
   "cell_type": "code",
   "execution_count": null,
   "metadata": {},
   "outputs": [],
   "source": [
    "sdeact.columns"
   ]
  },
  {
   "cell_type": "code",
   "execution_count": null,
   "metadata": {},
   "outputs": [],
   "source": [
    "epa_raw_data['ResultQualifier']"
   ]
  },
  {
   "cell_type": "markdown",
   "metadata": {},
   "source": [
    "## State Lab Chemistry Import to SDE"
   ]
  },
  {
   "cell_type": "markdown",
   "metadata": {},
   "source": [
    "### Compile Old State Lab Data"
   ]
  },
  {
   "cell_type": "code",
   "execution_count": 13,
   "metadata": {
    "ExecuteTime": {
     "end_time": "2020-07-09T14:11:50.462331Z",
     "start_time": "2020-07-09T14:11:50.329686Z"
    }
   },
   "outputs": [],
   "source": [
    "state_lab_results = \"G:/Shared drives/UGS_Groundwater/Projects/NGWMN/Chemistry Data/StateLab/UTGS_EDD_20191115.txt\"\n",
    "state_lab = pd.read_csv(state_lab_results, sep='\\t')\n"
   ]
  },
  {
   "cell_type": "code",
   "execution_count": 35,
   "metadata": {
    "ExecuteTime": {
     "end_time": "2020-07-09T15:12:19.628791Z",
     "start_time": "2020-07-09T15:12:19.507116Z"
    },
    "scrolled": true
   },
   "outputs": [
    {
     "name": "stdout",
     "output_type": "stream",
     "text": [
      "811\n",
      "2885\n",
      "4388\n",
      "6871\n"
     ]
    }
   ],
   "source": [
    "import glob\n",
    "import os\n",
    "dfs = {}\n",
    "cnt = 0\n",
    "for file in glob.glob(\"G:/Shared drives/UGS_Groundwater/Projects/NGWMN/Chemistry Data/StateLab/UTGS_EDD_2*.txt\"):\n",
    "#    print(file)\n",
    "    fname = os.path.basename(file)[:-4]\n",
    "    if fname != 'UTGS_EDD_20161117':\n",
    "        dfs[fname] = pd.read_csv(file,sep='\\t')\n",
    "        cntn = len(dfs[fname])\n",
    "        cnt += cntn\n",
    "        print(cnt)\n",
    "        #dfs[fname].columns = [i.strip().title() for i in dfs[fname].columns]\n",
    "        #dfs[fname] = dfs[fname].sort_index(axis=1)\n",
    "df = pd.concat(dfs,axis=0,ignore_index=True)\n"
   ]
  },
  {
   "cell_type": "code",
   "execution_count": 36,
   "metadata": {
    "ExecuteTime": {
     "end_time": "2020-07-09T19:11:58.654401Z",
     "start_time": "2020-07-09T19:11:58.634453Z"
    }
   },
   "outputs": [
    {
     "data": {
      "text/plain": [
       "objectid                                                      198\n",
       "locationname                                    (C-19- 4)31ada- 1\n",
       "locationtype                                                 Well\n",
       "locationdesc                                              67-3499\n",
       "huc8                                                     16030005\n",
       "                                      ...                        \n",
       "personnel                                                    None\n",
       "inwqx                                                           0\n",
       "shape           280000000100000001000400206900000C000000010000...\n",
       "stickup                                                       NaN\n",
       "globalid                   {B7E92F5A-880C-42C8-9FD0-1F2D16B01B8E}\n",
       "Name: 390714112200401, Length: 63, dtype: object"
      ]
     },
     "execution_count": 36,
     "metadata": {},
     "output_type": "execute_result"
    }
   ],
   "source": [
    "sdewqx.ugs_tabs['Station'].set_index(['locationid']).loc['390714112200401']"
   ]
  },
  {
   "cell_type": "code",
   "execution_count": 37,
   "metadata": {
    "ExecuteTime": {
     "end_time": "2020-07-09T19:20:14.997818Z",
     "start_time": "2020-07-09T19:20:14.974880Z"
    },
    "scrolled": true
   },
   "outputs": [
    {
     "data": {
      "text/html": [
       "<div style=\"width:100%;\"><div style=\"position:relative;width:100%;height:0;padding-bottom:60%;\"><span style=\"color:#565656\">Make this Notebook Trusted to load map: File -> Trust Notebook</span><iframe src=\"about:blank\" style=\"position:absolute;width:100%;height:100%;left:0;top:0;border:none !important;\" data-html=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 onload=\"this.contentDocument.open();this.contentDocument.write(atob(this.getAttribute('data-html')));this.contentDocument.close();\" allowfullscreen webkitallowfullscreen mozallowfullscreen></iframe></div></div>"
      ],
      "text/plain": [
       "<folium.folium.Map at 0x26a00974788>"
      ]
     },
     "execution_count": 37,
     "metadata": {},
     "output_type": "execute_result"
    }
   ],
   "source": [
    "import folium\n",
    "\n",
    "station = sdewqx.ugs_tabs['Station'].set_index(['locationid']).loc['384124109393101']\n",
    "m = folium.Map(location=[station.latitude,station.longitude])\n",
    "folium.Marker([station.latitude,station.longitude], popup=f'{station.locationname}').add_to(m)\n",
    "m"
   ]
  },
  {
   "cell_type": "code",
   "execution_count": 38,
   "metadata": {
    "ExecuteTime": {
     "end_time": "2020-07-09T19:39:40.212911Z",
     "start_time": "2020-07-09T19:39:39.302832Z"
    }
   },
   "outputs": [
    {
     "name": "stderr",
     "output_type": "stream",
     "text": [
      "C:\\Users\\Hutto\\Anaconda3\\envs\\geo37\\lib\\site-packages\\pandas\\core\\strings.py:2001: UserWarning: This pattern has match groups. To actually get the groups, use str.extract.\n",
      "  return func(self, *args, **kwargs)\n"
     ]
    },
    {
     "data": {
      "text/html": [
       "<div>\n",
       "<style scoped>\n",
       "    .dataframe tbody tr th:only-of-type {\n",
       "        vertical-align: middle;\n",
       "    }\n",
       "\n",
       "    .dataframe tbody tr th {\n",
       "        vertical-align: top;\n",
       "    }\n",
       "\n",
       "    .dataframe thead th {\n",
       "        text-align: right;\n",
       "    }\n",
       "</style>\n",
       "<table border=\"1\" class=\"dataframe\">\n",
       "  <thead>\n",
       "    <tr style=\"text-align: right;\">\n",
       "      <th></th>\n",
       "      <th>Project Name</th>\n",
       "      <th>Sample Number</th>\n",
       "      <th>Station ID</th>\n",
       "      <th>Sample Date</th>\n",
       "      <th>Sample Time</th>\n",
       "      <th>Sample Type</th>\n",
       "      <th>Cost Code</th>\n",
       "      <th>Agency Bill Code</th>\n",
       "      <th>Trip ID</th>\n",
       "      <th>Sample Description</th>\n",
       "      <th>...</th>\n",
       "      <th>Sample Detect Limit</th>\n",
       "      <th>Sample Report Limit</th>\n",
       "      <th>Units</th>\n",
       "      <th>Dilution Factor</th>\n",
       "      <th>Batch Number</th>\n",
       "      <th>Analysis Date</th>\n",
       "      <th>Project Comment</th>\n",
       "      <th>Sample Comment</th>\n",
       "      <th>Test Comment</th>\n",
       "      <th>Result Comment</th>\n",
       "    </tr>\n",
       "  </thead>\n",
       "  <tbody>\n",
       "    <tr>\n",
       "      <th>0</th>\n",
       "      <td>C2019-06582</td>\n",
       "      <td>2221499</td>\n",
       "      <td>390714112200401</td>\n",
       "      <td>11/20/2019 12:00:00 AM</td>\n",
       "      <td>14:00</td>\n",
       "      <td>NaN</td>\n",
       "      <td>350</td>\n",
       "      <td>27</td>\n",
       "      <td>NaN</td>\n",
       "      <td>LRPX UWR4 LOWER ROCKY PASS SPRING PIPE</td>\n",
       "      <td>...</td>\n",
       "      <td>0.083</td>\n",
       "      <td>2.0</td>\n",
       "      <td>UMHOS-CM</td>\n",
       "      <td>1.0</td>\n",
       "      <td>EPA120.1-20191204-1</td>\n",
       "      <td>12/04/2019 12:00:00 AM</td>\n",
       "      <td>NaN</td>\n",
       "      <td>NaN</td>\n",
       "      <td>NaN</td>\n",
       "      <td>NaN</td>\n",
       "    </tr>\n",
       "    <tr>\n",
       "      <th>1</th>\n",
       "      <td>C2019-06582</td>\n",
       "      <td>2221499</td>\n",
       "      <td>390714112200401</td>\n",
       "      <td>11/20/2019 12:00:00 AM</td>\n",
       "      <td>14:00</td>\n",
       "      <td>NaN</td>\n",
       "      <td>350</td>\n",
       "      <td>27</td>\n",
       "      <td>NaN</td>\n",
       "      <td>LRPX UWR4 LOWER ROCKY PASS SPRING PIPE</td>\n",
       "      <td>...</td>\n",
       "      <td>11.700</td>\n",
       "      <td>20.0</td>\n",
       "      <td>MG-L</td>\n",
       "      <td>1.0</td>\n",
       "      <td>EPA160.1-20191202-2</td>\n",
       "      <td>11/27/2019 12:00:00 AM</td>\n",
       "      <td>NaN</td>\n",
       "      <td>NaN</td>\n",
       "      <td>NaN</td>\n",
       "      <td>NaN</td>\n",
       "    </tr>\n",
       "    <tr>\n",
       "      <th>2</th>\n",
       "      <td>C2019-06582</td>\n",
       "      <td>2221499</td>\n",
       "      <td>390714112200401</td>\n",
       "      <td>11/20/2019 12:00:00 AM</td>\n",
       "      <td>14:00</td>\n",
       "      <td>NaN</td>\n",
       "      <td>350</td>\n",
       "      <td>27</td>\n",
       "      <td>NaN</td>\n",
       "      <td>LRPX UWR4 LOWER ROCKY PASS SPRING PIPE</td>\n",
       "      <td>...</td>\n",
       "      <td>1.490</td>\n",
       "      <td>4.0</td>\n",
       "      <td>MG-L</td>\n",
       "      <td>1.0</td>\n",
       "      <td>EPA160.2-20191202-1</td>\n",
       "      <td>11/27/2019 12:00:00 AM</td>\n",
       "      <td>NaN</td>\n",
       "      <td>NaN</td>\n",
       "      <td>NaN</td>\n",
       "      <td>NaN</td>\n",
       "    </tr>\n",
       "    <tr>\n",
       "      <th>3</th>\n",
       "      <td>C2019-06582</td>\n",
       "      <td>2221499</td>\n",
       "      <td>390714112200401</td>\n",
       "      <td>11/20/2019 12:00:00 AM</td>\n",
       "      <td>14:00</td>\n",
       "      <td>NaN</td>\n",
       "      <td>350</td>\n",
       "      <td>27</td>\n",
       "      <td>NaN</td>\n",
       "      <td>LRPX UWR4 LOWER ROCKY PASS SPRING PIPE</td>\n",
       "      <td>...</td>\n",
       "      <td>0.096</td>\n",
       "      <td>0.1</td>\n",
       "      <td>NTU</td>\n",
       "      <td>1.0</td>\n",
       "      <td>EPA180.1-20191127-1</td>\n",
       "      <td>11/27/2019 12:00:00 AM</td>\n",
       "      <td>NaN</td>\n",
       "      <td>NaN</td>\n",
       "      <td>NaN</td>\n",
       "      <td>NaN</td>\n",
       "    </tr>\n",
       "    <tr>\n",
       "      <th>4</th>\n",
       "      <td>C2019-06582</td>\n",
       "      <td>2221499</td>\n",
       "      <td>390714112200401</td>\n",
       "      <td>11/20/2019 12:00:00 AM</td>\n",
       "      <td>14:00</td>\n",
       "      <td>NaN</td>\n",
       "      <td>350</td>\n",
       "      <td>27</td>\n",
       "      <td>NaN</td>\n",
       "      <td>LRPX UWR4 LOWER ROCKY PASS SPRING PIPE</td>\n",
       "      <td>...</td>\n",
       "      <td>0.440</td>\n",
       "      <td>3.5</td>\n",
       "      <td>MG-L</td>\n",
       "      <td>1.0</td>\n",
       "      <td>EPA325.2-20191202-1</td>\n",
       "      <td>12/02/2019 12:00:00 AM</td>\n",
       "      <td>NaN</td>\n",
       "      <td>NaN</td>\n",
       "      <td>NaN</td>\n",
       "      <td>NaN</td>\n",
       "    </tr>\n",
       "    <tr>\n",
       "      <th>...</th>\n",
       "      <td>...</td>\n",
       "      <td>...</td>\n",
       "      <td>...</td>\n",
       "      <td>...</td>\n",
       "      <td>...</td>\n",
       "      <td>...</td>\n",
       "      <td>...</td>\n",
       "      <td>...</td>\n",
       "      <td>...</td>\n",
       "      <td>...</td>\n",
       "      <td>...</td>\n",
       "      <td>...</td>\n",
       "      <td>...</td>\n",
       "      <td>...</td>\n",
       "      <td>...</td>\n",
       "      <td>...</td>\n",
       "      <td>...</td>\n",
       "      <td>...</td>\n",
       "      <td>...</td>\n",
       "      <td>...</td>\n",
       "      <td>...</td>\n",
       "    </tr>\n",
       "    <tr>\n",
       "      <th>6866</th>\n",
       "      <td>C2019-05927</td>\n",
       "      <td>2215282</td>\n",
       "      <td>390714112200401</td>\n",
       "      <td>10/20/2019 12:00:00 AM</td>\n",
       "      <td>15:40</td>\n",
       "      <td>NaN</td>\n",
       "      <td>350</td>\n",
       "      <td>27</td>\n",
       "      <td>NaN</td>\n",
       "      <td>06W CASTLE VALLEY ADELE CREEKSIDE</td>\n",
       "      <td>...</td>\n",
       "      <td>2.000</td>\n",
       "      <td>4.0</td>\n",
       "      <td>MG-L</td>\n",
       "      <td>4.0</td>\n",
       "      <td>EPA200.8_M-20191023-2</td>\n",
       "      <td>10/23/2019 12:00:00 AM</td>\n",
       "      <td>NaN</td>\n",
       "      <td>NaN</td>\n",
       "      <td>NaN</td>\n",
       "      <td>NaN</td>\n",
       "    </tr>\n",
       "    <tr>\n",
       "      <th>6867</th>\n",
       "      <td>C2019-05927</td>\n",
       "      <td>2215282</td>\n",
       "      <td>390714112200401</td>\n",
       "      <td>10/20/2019 12:00:00 AM</td>\n",
       "      <td>15:40</td>\n",
       "      <td>NaN</td>\n",
       "      <td>350</td>\n",
       "      <td>27</td>\n",
       "      <td>NaN</td>\n",
       "      <td>06W CASTLE VALLEY ADELE CREEKSIDE</td>\n",
       "      <td>...</td>\n",
       "      <td>2.000</td>\n",
       "      <td>4.0</td>\n",
       "      <td>MG-L</td>\n",
       "      <td>4.0</td>\n",
       "      <td>EPA200.8_M-20191023-2</td>\n",
       "      <td>10/23/2019 12:00:00 AM</td>\n",
       "      <td>NaN</td>\n",
       "      <td>NaN</td>\n",
       "      <td>NaN</td>\n",
       "      <td>NaN</td>\n",
       "    </tr>\n",
       "    <tr>\n",
       "      <th>6868</th>\n",
       "      <td>C2019-05927</td>\n",
       "      <td>2215282</td>\n",
       "      <td>390714112200401</td>\n",
       "      <td>10/20/2019 12:00:00 AM</td>\n",
       "      <td>15:40</td>\n",
       "      <td>NaN</td>\n",
       "      <td>350</td>\n",
       "      <td>27</td>\n",
       "      <td>NaN</td>\n",
       "      <td>06W CASTLE VALLEY ADELE CREEKSIDE</td>\n",
       "      <td>...</td>\n",
       "      <td>2.000</td>\n",
       "      <td>4.0</td>\n",
       "      <td>MG-L</td>\n",
       "      <td>4.0</td>\n",
       "      <td>EPA200.8_M-20191023-2</td>\n",
       "      <td>10/23/2019 12:00:00 AM</td>\n",
       "      <td>NaN</td>\n",
       "      <td>NaN</td>\n",
       "      <td>NaN</td>\n",
       "      <td>NaN</td>\n",
       "    </tr>\n",
       "    <tr>\n",
       "      <th>6869</th>\n",
       "      <td>C2019-05927</td>\n",
       "      <td>2215282</td>\n",
       "      <td>390714112200401</td>\n",
       "      <td>10/20/2019 12:00:00 AM</td>\n",
       "      <td>15:40</td>\n",
       "      <td>NaN</td>\n",
       "      <td>350</td>\n",
       "      <td>27</td>\n",
       "      <td>NaN</td>\n",
       "      <td>06W CASTLE VALLEY ADELE CREEKSIDE</td>\n",
       "      <td>...</td>\n",
       "      <td>2.000</td>\n",
       "      <td>4.0</td>\n",
       "      <td>MG-L</td>\n",
       "      <td>4.0</td>\n",
       "      <td>EPA200.8_M-20191023-2</td>\n",
       "      <td>10/23/2019 12:00:00 AM</td>\n",
       "      <td>NaN</td>\n",
       "      <td>NaN</td>\n",
       "      <td>NaN</td>\n",
       "      <td>NaN</td>\n",
       "    </tr>\n",
       "    <tr>\n",
       "      <th>6870</th>\n",
       "      <td>C2019-05927</td>\n",
       "      <td>2215282</td>\n",
       "      <td>390714112200401</td>\n",
       "      <td>10/20/2019 12:00:00 AM</td>\n",
       "      <td>15:40</td>\n",
       "      <td>NaN</td>\n",
       "      <td>350</td>\n",
       "      <td>27</td>\n",
       "      <td>NaN</td>\n",
       "      <td>06W CASTLE VALLEY ADELE CREEKSIDE</td>\n",
       "      <td>...</td>\n",
       "      <td>NaN</td>\n",
       "      <td>NaN</td>\n",
       "      <td>MG-L</td>\n",
       "      <td>NaN</td>\n",
       "      <td>NaN</td>\n",
       "      <td>NaN</td>\n",
       "      <td>NaN</td>\n",
       "      <td>NaN</td>\n",
       "      <td>NaN</td>\n",
       "      <td>NaN</td>\n",
       "    </tr>\n",
       "  </tbody>\n",
       "</table>\n",
       "<p>6871 rows × 36 columns</p>\n",
       "</div>"
      ],
      "text/plain": [
       "     Project Name  Sample Number       Station ID             Sample Date  \\\n",
       "0     C2019-06582        2221499  390714112200401  11/20/2019 12:00:00 AM   \n",
       "1     C2019-06582        2221499  390714112200401  11/20/2019 12:00:00 AM   \n",
       "2     C2019-06582        2221499  390714112200401  11/20/2019 12:00:00 AM   \n",
       "3     C2019-06582        2221499  390714112200401  11/20/2019 12:00:00 AM   \n",
       "4     C2019-06582        2221499  390714112200401  11/20/2019 12:00:00 AM   \n",
       "...           ...            ...              ...                     ...   \n",
       "6866  C2019-05927        2215282  390714112200401  10/20/2019 12:00:00 AM   \n",
       "6867  C2019-05927        2215282  390714112200401  10/20/2019 12:00:00 AM   \n",
       "6868  C2019-05927        2215282  390714112200401  10/20/2019 12:00:00 AM   \n",
       "6869  C2019-05927        2215282  390714112200401  10/20/2019 12:00:00 AM   \n",
       "6870  C2019-05927        2215282  390714112200401  10/20/2019 12:00:00 AM   \n",
       "\n",
       "     Sample Time  Sample Type  Cost Code  Agency Bill Code  Trip ID  \\\n",
       "0          14:00          NaN        350                27      NaN   \n",
       "1          14:00          NaN        350                27      NaN   \n",
       "2          14:00          NaN        350                27      NaN   \n",
       "3          14:00          NaN        350                27      NaN   \n",
       "4          14:00          NaN        350                27      NaN   \n",
       "...          ...          ...        ...               ...      ...   \n",
       "6866       15:40          NaN        350                27      NaN   \n",
       "6867       15:40          NaN        350                27      NaN   \n",
       "6868       15:40          NaN        350                27      NaN   \n",
       "6869       15:40          NaN        350                27      NaN   \n",
       "6870       15:40          NaN        350                27      NaN   \n",
       "\n",
       "                          Sample Description  ... Sample Detect Limit  \\\n",
       "0     LRPX UWR4 LOWER ROCKY PASS SPRING PIPE  ...               0.083   \n",
       "1     LRPX UWR4 LOWER ROCKY PASS SPRING PIPE  ...              11.700   \n",
       "2     LRPX UWR4 LOWER ROCKY PASS SPRING PIPE  ...               1.490   \n",
       "3     LRPX UWR4 LOWER ROCKY PASS SPRING PIPE  ...               0.096   \n",
       "4     LRPX UWR4 LOWER ROCKY PASS SPRING PIPE  ...               0.440   \n",
       "...                                      ...  ...                 ...   \n",
       "6866       06W CASTLE VALLEY ADELE CREEKSIDE  ...               2.000   \n",
       "6867       06W CASTLE VALLEY ADELE CREEKSIDE  ...               2.000   \n",
       "6868       06W CASTLE VALLEY ADELE CREEKSIDE  ...               2.000   \n",
       "6869       06W CASTLE VALLEY ADELE CREEKSIDE  ...               2.000   \n",
       "6870       06W CASTLE VALLEY ADELE CREEKSIDE  ...                 NaN   \n",
       "\n",
       "     Sample Report Limit     Units  Dilution Factor           Batch Number  \\\n",
       "0                    2.0  UMHOS-CM              1.0    EPA120.1-20191204-1   \n",
       "1                   20.0      MG-L              1.0    EPA160.1-20191202-2   \n",
       "2                    4.0      MG-L              1.0    EPA160.2-20191202-1   \n",
       "3                    0.1       NTU              1.0    EPA180.1-20191127-1   \n",
       "4                    3.5      MG-L              1.0    EPA325.2-20191202-1   \n",
       "...                  ...       ...              ...                    ...   \n",
       "6866                 4.0      MG-L              4.0  EPA200.8_M-20191023-2   \n",
       "6867                 4.0      MG-L              4.0  EPA200.8_M-20191023-2   \n",
       "6868                 4.0      MG-L              4.0  EPA200.8_M-20191023-2   \n",
       "6869                 4.0      MG-L              4.0  EPA200.8_M-20191023-2   \n",
       "6870                 NaN      MG-L              NaN                    NaN   \n",
       "\n",
       "               Analysis Date Project Comment Sample Comment Test Comment  \\\n",
       "0     12/04/2019 12:00:00 AM             NaN            NaN          NaN   \n",
       "1     11/27/2019 12:00:00 AM             NaN            NaN          NaN   \n",
       "2     11/27/2019 12:00:00 AM             NaN            NaN          NaN   \n",
       "3     11/27/2019 12:00:00 AM             NaN            NaN          NaN   \n",
       "4     12/02/2019 12:00:00 AM             NaN            NaN          NaN   \n",
       "...                      ...             ...            ...          ...   \n",
       "6866  10/23/2019 12:00:00 AM             NaN            NaN          NaN   \n",
       "6867  10/23/2019 12:00:00 AM             NaN            NaN          NaN   \n",
       "6868  10/23/2019 12:00:00 AM             NaN            NaN          NaN   \n",
       "6869  10/23/2019 12:00:00 AM             NaN            NaN          NaN   \n",
       "6870                     NaN             NaN            NaN          NaN   \n",
       "\n",
       "     Result Comment  \n",
       "0               NaN  \n",
       "1               NaN  \n",
       "2               NaN  \n",
       "3               NaN  \n",
       "4               NaN  \n",
       "...             ...  \n",
       "6866            NaN  \n",
       "6867            NaN  \n",
       "6868            NaN  \n",
       "6869            NaN  \n",
       "6870            NaN  \n",
       "\n",
       "[6871 rows x 36 columns]"
      ]
     },
     "execution_count": 38,
     "metadata": {},
     "output_type": "execute_result"
    }
   ],
   "source": [
    "import re\n",
    "\n",
    "for key, value in matches.items():\n",
    "    fd = key+f\"|{value}\"\n",
    "    df.loc[df['Sample Description'].str.contains(f'(?i){fd}'),'Station ID'] = value\n",
    "\n",
    "df#def findWholeWord(w):\n",
    "#    return re.compile(r'\\b({0})\\b'.format(w), flags=re.IGNORECASE).search\n",
    "#print(re.compile('(foo(.*?)bar)', flags=re.IGNORECASE).search('FOO da da BAR'))"
   ]
  },
  {
   "cell_type": "code",
   "execution_count": 18,
   "metadata": {
    "ExecuteTime": {
     "end_time": "2020-07-09T16:38:08.142860Z",
     "start_time": "2020-07-09T16:38:08.085503Z"
    }
   },
   "outputs": [],
   "source": [
    "state_lab2 = pd.read_csv(r\"G:\\My Drive\\Python\\Pycharm\\wqxsde\\examples\\id_match.csv\")\n",
    "state_lab2['stationid'] = state_lab2['Sample Description'].apply(lambda x: matches)"
   ]
  },
  {
   "cell_type": "code",
   "execution_count": 40,
   "metadata": {},
   "outputs": [
    {
     "data": {
      "text/plain": [
       "Index(['Project Name', 'Sample Number', 'Station ID', 'Sample Date',\n",
       "       'Sample Time', 'Sample Type', 'Cost Code', 'Agency Bill Code',\n",
       "       'Trip ID', 'Sample Description', 'Collector', 'Sample Received Date',\n",
       "       'Chain of Custody', 'Replicate Number', 'Test Number', 'Method Agency',\n",
       "       'Method ID', 'Method Description', 'Param Description', 'CAS Number',\n",
       "       'Matrix Description', 'Problem Identifier', 'Result Code',\n",
       "       'Result Value', 'Lower Report Limit', 'Method Detect Limit',\n",
       "       'Sample Detect Limit', 'Sample Report Limit', 'Units',\n",
       "       'Dilution Factor', 'Batch Number', 'Analysis Date', 'Project Comment',\n",
       "       'Sample Comment', 'Test Comment', 'Result Comment'],\n",
       "      dtype='object')"
      ]
     },
     "execution_count": 40,
     "metadata": {},
     "output_type": "execute_result"
    }
   ],
   "source": [
    "df.columns"
   ]
  },
  {
   "cell_type": "code",
   "execution_count": 17,
   "metadata": {
    "ExecuteTime": {
     "end_time": "2020-07-09T19:19:14.112252Z",
     "start_time": "2020-07-09T19:19:14.097291Z"
    }
   },
   "outputs": [],
   "source": [
    "matches = {'SPRINGVILLE':'401043111361801',\n",
    "           '(C-19-.*?4)31ada-.*?1':'390714112200401',\n",
    "           'AM.*?FK|FORK.*?WELL|wl':'402105111472601', \n",
    "           'Cedar.*?V.*?Fur':'401656112020301',\n",
    "           'FAIRFIELD':'401539112045501', \n",
    "           'clover.*?sp':'402050112330201',\n",
    "           'Pecan':'370858113220301',\n",
    "           'delle.*?sp':'403328112442201', \n",
    "           'sp.*?timpie|timpie.*?sp':'404425112384801',\n",
    "           'sp.*?simpson|simpson.*?sp':'400204112465801', \n",
    "           'sp.*?antelope|antelope.*?sp':'382238113205301',\n",
    "           'sp.*?willow.*?!piez|willow.*?sp.*?!piez|404975112573501':'404975112573501', \n",
    "           'PLACER|OPEN.*?LAND':'383709109230701',\n",
    "           'BAILEY|KEELER':'383832109243901', \n",
    "           'STUCKI':'383922109253801',\n",
    "           'Jenks|ADELE|CREEKSIDE':'383854109242901', \n",
    "           'PORCUPINE':'383453109200601',\n",
    "           'LOOP.*?ROAD':'383746109214001', \n",
    "           'GOLF.*?MOAB|MOAB.*?GOLF|383210109285801':'383210109285801',\n",
    "           'COURTHOUSE.*?WASH':'384113109391001', \n",
    "           'PRICE.*?GOLF':'393841110514801',\n",
    "           'NEPHI.*?WELL':'394313111504701', \n",
    "           'WL.*?FLOWING|FLOWING.*?WL|FLOWING.*?WELL':'3959531115425101',\n",
    "           'SP.*?GOSHEN.*?WARM|GOSHEN.*?WARM.*?SP|395717111512301':'395717111512301',\n",
    "           'WL.*?ELEMEN|ELEMEN.*?WL|ELEMEN.*?WELL':'404724111562501',\n",
    "           'GRATEFUL':'404508112522401', \n",
    "           'RHONDA|EASY.*?ST':'383040109281201',\n",
    "           'LRP1A|LOWER.*?R.*?CKY.*?PASS.*?PIEZ':'413308113492701',\n",
    "           'WLP1C|WILLOW.*?SP.*?PIEZOMETER.*?1C':'413435113475901',\n",
    "           'WLP1B|WILLOW.*?SP.*?PIEZOMETER.*?1B':'413435113475801',\n",
    "           'BRYCE|BC26W.*?RICH':'374159112121001',\n",
    "           'BRYCE.*?BC13W.*?POE':'374124112135501',\n",
    "           'BRYCE.*?BC22W.*?RUBY.*?3':'374138112103102', \n",
    "           'BRYCE.*?BC21W.*?RUBY.*?2':'374138112103101',\n",
    "           'BRYCE.*?BC15S.*?LOWER.*?BERRY':'374410112133001', \n",
    "           'BRYCE.*?BC27W.*?AIRPORT':'374236112092501',\n",
    "           'BRYCE.*?BC40W.*?ELK':'374232112100501',\n",
    "           'BRYCE.*?BC44W.*?NPS.*?1':'373755112124301', \n",
    "           'BRYCE.*?BC17S.*?UPPER.*?BERRY':'374548112142201',\n",
    "           'BRYCE.*?BC25W.*?UDOT':'374156112112401',\n",
    "           'BRYCE.*?BC51W.*?BRISTLE.*?CONE':'374646112063201',\n",
    "           'BRYCE.*?BC11S.*?NPS.*?4':'373801112124701',\n",
    "           'BRYCE.*?BC2S.*?TROPIC.*?1':'373639112152101',\n",
    "           'BRYCE.*?BC4S.*?TROPIC.*?2':'373629112151801',\n",
    "           'BRYCE.*?BC12W USFS':'374017112130801',\n",
    "           'BRYCE.*?BC53S.*?WATER':'373534112151101',\n",
    "           'BRYCE.*?BC6S.*?DRIPPING.*?VAT':'374500112023001',\n",
    "           'BRYCE.*?BC48W.*?SITLA':'374438112080601',\n",
    "           'HAMMOND':'391159111543401',\n",
    "           'NINE.*?MILE':'391020111421301', \n",
    "           'OLSEN':'392335111354601',\n",
    "           'WL.*?T34.*?190605':'394809112161101',\n",
    "           'SP.*?MUD2.*?190605':'394800112160201',\n",
    "           'WL.*?T2.*?190605':'395215112140501',\n",
    "           'SP.*?MUD1.*?190605':'395214112140301',\n",
    "           'WL.*?T53.*?190605':'395059112120501',\n",
    "           'ST.*?T15.*?190605':'395051112120101',\n",
    "           'ST.*?T8.*?190605':'395126112124501',\n",
    "           'BC35S.*?BRYCE|MOSSY.*?CAVE':'373949112065401',\n",
    "           'BC28W.*?BRYCE.*?1':'374750112043401',\n",
    "           'BC30W.*?BRYCE.*?LANDFILL.*?3':'374759112040101',\n",
    "           'BC29W.*?BRYCE.*?LANDFILL.*?2':'374801112042101',\n",
    "           'BC31S.*?BRYCE.*?TOM.*?BEST':'374855112054701',\n",
    "           'BC19W.*?BRYCE.*?KINGS.*?CG':'373647112154301',\n",
    "           'TRI.*?R.*?NCH':'395718112234301',\n",
    "           'SP.*?HUNGTINGTON|HUNTING.*?':'392025110565901', \n",
    "           'IRR.*?WELL.*?GROUSE|GROUSE.*?IRR.*?WELL':'413332113545101',\n",
    "           'IRR.*?WELL.*?13':'415657112514101',\n",
    "           'IRR.*?WELL.*?5':'415906112485001',\n",
    "           '67.*?3499|':'390714112200401',\n",
    "           'FLOWELL.*?WELL|WL.*?FLOWELL':'385822112265201',\n",
    "           'BLACK.*?SPRING':'384610112495201',\n",
    "           'ASHELY.*?GORGE':'403429109370601',\n",
    "           'WHITEROCKS.*?SP|SP.*?WHITEROCKS':'402906109572401',\n",
    "           'SG21C':'395312113244803', \n",
    "           'MUD.*?1':'395214112140301', \n",
    "           'MUD.*?2':'395214112140301', \n",
    "           'T8':'395132112124901', \n",
    "           'T15':'395051112120101', \n",
    "           'T53':'395059112120501', \n",
    "           'T34':'394809112161101', \n",
    "           'T2':'395215112140501',\n",
    "           'KGSP.*?!PIEZ|KEG.*?SPR.*?!PIEZ':'413507113472401', \n",
    "           'NORTH.*?BEDKE.*?SPR':'413810113493901',\n",
    "           'BC7W.*?RUBY.*?4':'374116112083901',\n",
    "           'BC51W.*?BRYCE|BRISTLE.*?CONE':'374646112063201', \n",
    "           'AGI3C':'385630114020202', \n",
    "           'PORCUPINE':'383453109200601'\n",
    "          }"
   ]
  },
  {
   "cell_type": "code",
   "execution_count": null,
   "metadata": {
    "ExecuteTime": {
     "end_time": "2020-07-09T19:18:54.212774Z",
     "start_time": "2020-07-09T19:18:54.195820Z"
    }
   },
   "outputs": [],
   "source": [
    "matches = {'SPRINGVILLE FISH':'401043111361801',\n",
    "           'NGWMN-AM. FK. PRIVATE WELL':'402105111472601', \n",
    "           'NGWMN-CEDAR V FUR FARM':'401656112020301',\n",
    "           'NGWMN-FAIRFIELD WELL':'401539112045501', \n",
    "           'NGWMN-CLOVER SPRINGS':'402050112330201',\n",
    "           'NGWMN-DELLE SPRINGS':'403328112442201', \n",
    "           'NGWMN-BIG TIMPIE SPRING':'404425112384801',\n",
    "           'NGWMN-SP-SIMPSON-19':'400204112465801', \n",
    "           'NGWMN-SP-ANTELOPE-19':'382238113205301',\n",
    "           'NGWMN-SP-WILLOW-19':'404975112573501', \n",
    "           'WL01 CASTLE VALLEY OPEN LANDS PLACER':'383709109230701',\n",
    "           'WL02 CASTLE VALLEY BAILEY':'383832109243901', \n",
    "           'WL03 CASTLE VALLEY STUCKI':'383922109253801',\n",
    "           'WL04 CASTLE VALLEY JENKS CASTLE':'383854109242901', \n",
    "           'WL05 CASTLE VALLEY PORCUPINE':'383453109200601',\n",
    "           'WL06 CASTLE VALLEY LOOP ROAD':'383746109214001', \n",
    "           'WL1 NGWMN GOLF COURSE MOAB':'383210109285801',\n",
    "           'SP3 NGWMN COURTHOUSE WASH':'384113109391001', \n",
    "           'SP04 NGWMN PRICE GOLF':'393841110514801',\n",
    "           'NGWMN-WL-NEPHIWELL2019':'394313111504701', \n",
    "           'NGWMN-WL-FLOWING1-2019':'3959531115425101',\n",
    "           'NGWMN-SP-GOSHENWARM-2019':'395717111512301',\n",
    "           'NGWMN-WL-ELEMENTARYWELL-2019':'404724111562501',\n",
    "           'NGWMN-WL-GRATEFULTOMATO-2019':'404508112522401', \n",
    "           'WL02 NGWMN RHONDA EASY ST':'383040109281201',\n",
    "           'LRP1A LOWER ROCKY PASS SPRING PIEZOMETER':'413308113492701',\n",
    "           'WLP1C WILLOW SPRING CANYON PIEZOMETER 1C':'413435113475901',\n",
    "           'WLP1B WILLOW SPRING CANYON PIEZOMETER 1B':'413435113475801',\n",
    "           'BRYCE CANYON BC26W RICH':'374159112121001',\n",
    "           'BRYCE CANYON BC13W POE':'374124112135501',\n",
    "           'BRYCE CANYON BC22W RUBY 3':'374138112103102', \n",
    "           'BRYCE CANYON BC21W RUBY 2':'374138112103101',\n",
    "           'BRYCE CANYON BC15S LOWER BERRY':'374410112133001', \n",
    "           'BRYCE CANYON BC27W AIRPORT':'374236112092501',\n",
    "           'BRYCE CANYON BC40W ELK':'374232112100501',\n",
    "           'BRYCE CANYON BC44W NPS 1':'373755112124301', \n",
    "           'BRYCE CANYON BC17S UPPER BERRY':'374548112142201',\n",
    "           'BRYCE CANYON BC25W UDOT':'374156112112401',\n",
    "           'BRYCE CANYON BC51W BRISTLE CONE':'374646112063201',\n",
    "           'BRYCE CANYON BC11S NPS 4':'373801112124701',\n",
    "           'BRYCE CANYON BC2S TROPIC 1':'373639112152101',\n",
    "           'BRYCE CANYON BC4S TROPIC 2':'373629112151801',\n",
    "           'BRYCE CANYON BC12W USFS':'374017112130801',\n",
    "           'BRYCE CANYON BC53S WATER STOP':'373534112151101',\n",
    "           'BRYCE CANYON BC6S DRIPPING VAT':'374500112023001',\n",
    "           'BRYCE CANYON BC48W SITLA':'374438112080601',\n",
    "           'NGWMN WL 01 HAMMOND':'391159111543401',\n",
    "           'NGWMN SP 02 NINE MILE':'391020111421301', \n",
    "           'NGWMN WL 03 OLSEN':'392335111354601',\n",
    "           'WL-T34-190605':'394809112161101',\n",
    "           'SP-MUD2-190605':'394800112160201',\n",
    "           'WL-T2-190605':'395215112140501',\n",
    "           'SP-MUD1-190605':'395214112140301',\n",
    "           'WL-T53-190605':'395059112120501',\n",
    "           'ST-T15-190605':'395051112120101',\n",
    "           'ST-T8-190605':'395126112124501',\n",
    "           'BC35S BRYCE MOSSY CAVE':'373949112065401',\n",
    "           'BC28W BRYCE CANYON LANDFILL 1':'374750112043401',\n",
    "           'BC30W BRYCE CANYON LANDFILL 3':'374759112040101',\n",
    "           'BC29W BRYCE LANDFILL 2':'374801112042101',\n",
    "           'BC31S BRYCE CANYON TOM BEST SPG':'374855112054701',\n",
    "           'BC19W BRYCE CANYON KINGS CG':'373647112154301',\n",
    "           'NGWMN-TRIANGLE RANCH SPRING':'395718112234301',\n",
    "           'NGWMN SP HUNGTINGTON':'392025110565901', \n",
    "           'NGWMN IRRIGATION WELL GROUSE CREEK':'413332113545101',\n",
    "           'NGWMN IRRIGATION WELL 13':'415657112514101',\n",
    "           'NGWMN IRRIGATION WELL #5':'415906112485001',\n",
    "           'NGWMN - WL-67-3499-2019':'390714112200401',\n",
    "           'NGWMN - WL-FLOWELL WELL-2019':'385822112265201',\n",
    "           'NGWMN - SP-BLACKSPRING-2019':'384610112495201',\n",
    "           'NGWMN - WL-ASHELY GORGE-2019':'403429109370601',\n",
    "           'NGWMN - SP-WHITEROCKS-2019':'402906109572401',\n",
    "           'SG21C UGMN SG21C':'395312113244803', \n",
    "           'MUD 1':'395214112140301', \n",
    "           'MUD 2':'395214112140301', \n",
    "           'T8':'395132112124901', \n",
    "           'T15':'395051112120101', \n",
    "           'T53':'395059112120501', \n",
    "           'T34':'394809112161101', \n",
    "           'T2':'395215112140501',\n",
    "           'KGSP UWR4 KEG SPRING':'413507113472401', \n",
    "           'NNBS UWR4 NORTH NORTH BEDKE SPRING':'413810113493901',\n",
    "           'BC7W BRYCE CANYON RUBY 4':'374116112083901',\n",
    "           'BC51W BRYCE CANYON BRISTLE CONE':'374646112063201', \n",
    "           'AGI3C NGWMN WL-AGI3C-2019':'385630114020202', \n",
    "           '01W CASTLE VALLEY OPEN LANDS PLACER':'383709109230701',\n",
    "           '02W CASTLE VALLEY KEELER BAILEY':'383832109243901', \n",
    "           '03W CASTLE VALLEY STUCKI':'383922109253801',\n",
    "           '04W CASTLE VALLEY LOOP ROAD':'383746109214001', \n",
    "           '05W CASTLE VALLEY PORCUPINE':'383453109200601',\n",
    "           '06W CASTLE VALLEY ADELE CREEKSIDE':'384124109393101'\n",
    "          }"
   ]
  },
  {
   "cell_type": "code",
   "execution_count": null,
   "metadata": {
    "code_folding": []
   },
   "outputs": [],
   "source": [
    "slfiles = \"G:/Team Drives/UGS_Groundwater/Projects/NGWMN/Chemistry Data/StateLab/\"\n",
    "\n",
    "old_to_new = {'Sample#Number':'Sample Number',\n",
    "              'Sample#Date':'Date Collected',\n",
    "              'Sample#Time':'Time Collected',\n",
    "              'Analysis#Date':'Analysis Date',\n",
    "              'CAS#Number':'CAS Number',\n",
    "              'Agency#Bill#Code':'Agency Bill Code',\n",
    "              'Batch#Number':'Batch Number',\n",
    "              'Comment#Text':'Result Comment',\n",
    "              'Chain#of#Custody#Ind.':'Chain of Custody',\n",
    "              'Cost#Code':'Cost Code',\n",
    "              'Dilution#Factor':'Dilution Factor',\n",
    "              'Lower#Report#Limit':'Lower Report Limit',\n",
    "              'Matrix#Description':'Matrix Description',\n",
    "              'Method#Agency':'Method Agency',\n",
    "              'Method#Description':'Method Description',\n",
    "              'Method#Detect#Limit':'Method Detect Limit',\n",
    "              'Param#Description':'Param Description',\n",
    "              'Problem#Identifier':'Problem Identifier',\n",
    "              'Method#ID':'Method ID',\n",
    "              'Sample#Comment':'Sample Comment',\n",
    "              'Sample#Description':'Sample Description',\n",
    "              'Result#Value':'Result Value',\n",
    "              'Sample#Recieved#Date':'Sample Received Date',\n",
    "              'Replicate#Number':'Replicate Number',\n",
    "              'Result#Code':'Result#Code',\n",
    "              'Station#ID':'Station ID',\n",
    "              'Sample#Type':'Sample Type',\n",
    "              'Trip#ID':'Trip ID'}\n",
    "\n",
    "oldfields = ['%#Confidence#Limit', 'Confidence#Limit', 'Comment#Number', 'Comment#Number.1', 'Comment#Text.1',\n",
    "             'Lab#Code', 'Preparation#Date', 'Source#Code',  'Billing#Code','Matrix#Number',\n",
    "             'Upper#Quant#Limit','Result#Code','Method#Number','Param#Number']\n",
    "\n",
    "\n",
    "stlbnew = {}\n",
    "stlbold = {}\n",
    "\n",
    "for file in glob.glob(slfiles+\"*.txt\"):\n",
    "    \n",
    "    shrtnm = os.path.splitext(os.path.basename(file))[0]\n",
    "    if \"UTGS_EDD\" in shrtnm: \n",
    "        stlbnew[shrtnm] = pd.read_csv(file, sep='\\t', error_bad_lines=False)\n",
    "        samecols = {'Collected By':'Collector',\n",
    "                    'Analyte CAS Number':'CAS Number',\n",
    "                    'Method Number':'Method ID',\n",
    "                    'Method Reported Name':'Param Description',\n",
    "                   'Entry Qualifier':'Problem Identifier',\n",
    "                    'Result Flags':'Result Code',\n",
    "                   'Result Entry':'Result Value',\n",
    "                    'Sample Detection Limit':'Sample Detect Limit',\n",
    "                    'Date Analyzed':'Analysis Date',\n",
    "                   'Method Detection Limit':'Method Detect Limit','Project Comments':'Project Comment',\n",
    "                   'Sample Comments':'Sample Comment','Test Comments':'Test Comment',\n",
    "                   'Result Comments':'Result Comment','Sample Reporting Limit':'Sample Report Limit',\n",
    "                   'Result Dilution Factor':'Dilution Factor','Date Recieved':'Sample Received Date',\n",
    "                   'Specimen Source':'Matrix Description','Customer Internal Code':'Cost Code',\n",
    "                   'Collecting Agency':'Agency Bill Code',\n",
    "                   'Result Units':'Units'}\n",
    "        stlbnew[shrtnm] = stlbnew[shrtnm].rename(columns=samecols)\n",
    "    else:\n",
    "        stlbold[shrtnm] = pd.read_csv(file, sep='\\t', error_bad_lines=False)\n",
    "        stlbold[shrtnm] = stlbold[shrtnm].rename(columns=old_to_new)\n",
    "new_st_data = pd.concat(stlbnew).reset_index().drop(['level_0','level_1'],axis=1)\n",
    "old_st_data = pd.concat(stlbold).reset_index().drop(['level_0','level_1'],axis=1)\n",
    "st_data = pd.concat([new_st_data,old_st_data])\n",
    "st_data = st_data.drop(oldfields, axis=1)\n",
    "\n",
    "\n",
    "st_data.columns"
   ]
  },
  {
   "cell_type": "code",
   "execution_count": null,
   "metadata": {},
   "outputs": [],
   "source": [
    "st_data.head()"
   ]
  },
  {
   "cell_type": "code",
   "execution_count": null,
   "metadata": {},
   "outputs": [],
   "source": []
  },
  {
   "cell_type": "markdown",
   "metadata": {},
   "source": [
    "### Designate the file with the id matches."
   ]
  },
  {
   "cell_type": "code",
   "execution_count": null,
   "metadata": {},
   "outputs": [],
   "source": [
    "lab_based_chem = \"https://cdx.epa.gov/WQXWeb/ImportConfigurationDetail.aspx?impcfg_uid=5926\"\n",
    "\n",
    "field_chem = \"https://cdx.epa.gov/WQXWeb/ImportConfigurationDetail.aspx?mode=import&impcfg_uid=5931\""
   ]
  },
  {
   "cell_type": "code",
   "execution_count": null,
   "metadata": {
    "ExecuteTime": {
     "end_time": "2019-04-09T18:26:39.172118Z",
     "start_time": "2019-04-09T18:26:39.163092Z"
    }
   },
   "outputs": [],
   "source": [
    "match_file = \"G:/My Drive/Python/Pycharm/wqxsde/examples/id_match.csv\"\n",
    "file_path = \"G:/My Drive/Python/Pycharm/wqxsde/examples/UTGS_EDD_20190304.txt\"\n",
    "file_path2 = \"G:/Team Drives/UGS_Groundwater/Projects/NGWMN/Chemistry Data/StateLab/UTGS_EDD_20170907.txt\"\n",
    "schema_file_path = \"G:/My Drive/Python/Pycharm/wqxsde/examples/Domains.xlsx\""
   ]
  },
  {
   "cell_type": "code",
   "execution_count": null,
   "metadata": {},
   "outputs": [],
   "source": [
    "wqx_chem_table, sde_chem_table = compare_sde_wqx(wqx_results_filename,enviro,chem_table_name,table_type=\"chem\")\n",
    "sde_chem_import = sde_chem_table[sde_chem_table['inwqx']==0]"
   ]
  },
  {
   "cell_type": "markdown",
   "metadata": {},
   "source": [
    "### Process the state lab text file to import into database"
   ]
  },
  {
   "cell_type": "code",
   "execution_count": null,
   "metadata": {
    "ExecuteTime": {
     "end_time": "2019-04-09T18:27:01.569451Z",
     "start_time": "2019-04-09T18:27:01.491692Z"
    }
   },
   "outputs": [],
   "source": [
    "state = wqxsde.ProcessStateLabText(file_path,\"G:/My Drive/WORK/Groundwater Chemistry\",\n",
    "                                   match_file, schema_file_path)\n"
   ]
  },
  {
   "cell_type": "code",
   "execution_count": null,
   "metadata": {},
   "outputs": [],
   "source": [
    "state = wqxsde.ProcessStateLabText(file_path,\"\")"
   ]
  },
  {
   "cell_type": "code",
   "execution_count": null,
   "metadata": {
    "ExecuteTime": {
     "end_time": "2019-04-09T18:27:11.979790Z",
     "start_time": "2019-04-09T18:27:04.195207Z"
    }
   },
   "outputs": [],
   "source": [
    "state_lab_chem = state.run_calcs()"
   ]
  },
  {
   "cell_type": "code",
   "execution_count": null,
   "metadata": {
    "ExecuteTime": {
     "end_time": "2019-04-09T18:30:13.594922Z",
     "start_time": "2019-04-09T18:30:13.539269Z"
    }
   },
   "outputs": [],
   "source": [
    "state_lab_chem['resultid'] = state_lab_chem[['ActivityID','CharacteristicName']].apply(lambda x: str(x[0])+ \"-\" +x[1],1) "
   ]
  },
  {
   "cell_type": "code",
   "execution_count": null,
   "metadata": {
    "ExecuteTime": {
     "end_time": "2019-04-09T18:31:21.354523Z",
     "start_time": "2019-04-09T18:31:21.287478Z"
    }
   },
   "outputs": [],
   "source": [
    "state_lab_chem.to_csv(\"G:/My Drive/WORK/Groundwater Chemistry/crosscheck.csv\")"
   ]
  },
  {
   "cell_type": "markdown",
   "metadata": {},
   "source": [
    "### Import SDE Data"
   ]
  },
  {
   "cell_type": "code",
   "execution_count": null,
   "metadata": {},
   "outputs": [],
   "source": [
    "state.append_data()"
   ]
  },
  {
   "cell_type": "markdown",
   "metadata": {},
   "source": [
    "## Pull SDE Data and Prep for WQX import"
   ]
  },
  {
   "cell_type": "code",
   "execution_count": null,
   "metadata": {
    "ExecuteTime": {
     "end_time": "2019-04-10T21:09:13.809401Z",
     "start_time": "2019-04-10T21:08:56.042050Z"
    }
   },
   "outputs": [],
   "source": []
  },
  {
   "cell_type": "code",
   "execution_count": null,
   "metadata": {
    "ExecuteTime": {
     "end_time": "2019-04-10T21:10:27.249053Z",
     "start_time": "2019-04-10T21:10:27.230002Z"
    }
   },
   "outputs": [],
   "source": []
  },
  {
   "cell_type": "code",
   "execution_count": null,
   "metadata": {},
   "outputs": [],
   "source": [
    "onlineacts"
   ]
  },
  {
   "cell_type": "code",
   "execution_count": null,
   "metadata": {
    "ExecuteTime": {
     "end_time": "2019-04-10T21:31:09.460740Z",
     "start_time": "2019-04-10T21:31:09.448733Z"
    },
    "scrolled": true
   },
   "outputs": [],
   "source": []
  },
  {
   "cell_type": "code",
   "execution_count": null,
   "metadata": {},
   "outputs": [],
   "source": [
    "sdefieldact.head()"
   ]
  },
  {
   "cell_type": "code",
   "execution_count": null,
   "metadata": {},
   "outputs": [],
   "source": [
    "actmatch.keys()"
   ]
  },
  {
   "cell_type": "code",
   "execution_count": null,
   "metadata": {},
   "outputs": [],
   "source": [
    "sdefieldact['ActivityStartDate'] = sdefieldact['ActivityID'].apply(lambda)"
   ]
  },
  {
   "cell_type": "markdown",
   "metadata": {
    "ExecuteTime": {
     "end_time": "2019-04-10T21:18:25.726715Z",
     "start_time": "2019-04-10T21:18:25.701622Z"
    }
   },
   "source": [
    "### Pull AGOL Field data and transpose"
   ]
  },
  {
   "cell_type": "code",
   "execution_count": null,
   "metadata": {},
   "outputs": [],
   "source": [
    "https://services.arcgis.com/ZzrwjTRez6FJiOq4/arcgis/rest/services/ActivitiesCollection_lite/FeatureServer/1"
   ]
  },
  {
   "cell_type": "code",
   "execution_count": 15,
   "metadata": {},
   "outputs": [],
   "source": [
    "gis = dbconnect.get_gis()"
   ]
  },
  {
   "cell_type": "code",
   "execution_count": 16,
   "metadata": {},
   "outputs": [],
   "source": [
    "field_activities = gis.content.get('65fc8d796844452cae34d7d2f9d6c060')"
   ]
  },
  {
   "cell_type": "code",
   "execution_count": 28,
   "metadata": {},
   "outputs": [],
   "source": [
    "field_raw = pd.read_excel(\"G:/Shared Drives/UGS_Groundwater/Projects/NGWMN/Chemistry Data/Field_Obs.xlsx\",\n",
    "                         index_col='Activity ID')\n",
    "df = field_raw[['pH','Temp','Cond']]\n",
    "dfs = df.stack().reset_index()\n",
    "dfs.columns = ['Activity ID','Characteristic Name','Result Value']\n",
    "field = pd.merge(dfs,field_raw, left_on = 'Activity ID', right_index=True)\n",
    "field.drop(['pH','Temp','Cond'], inplace=True, axis=1)\n",
    "unitdict = {'pH':'None','Temp':'deg C','Cond':'uS/cm'}\n",
    "chardict = {'pH':'pH','Temp':'Temperature, water','Cond':'Specific conductance'}\n",
    "field['Result Unit'] = field['Characteristic Name'].apply(lambda x: unitdict.get(x),1)\n",
    "field['Characteristic Name'] = field['Characteristic Name'].apply(lambda x: chardict.get(x),1)\n",
    "field['Activity Type'] = 'Field Msr/Obs'\n",
    "field['Activity Media Name'] = 'Water'\n",
    "field['Activity Media Subdivision'] = 'Groundwater'\n",
    "field['Result Value Type'] = 'Actual'\n",
    "field['Result Qualifier'] = ''"
   ]
  },
  {
   "cell_type": "code",
   "execution_count": null,
   "metadata": {},
   "outputs": [],
   "source": []
  },
  {
   "cell_type": "code",
   "execution_count": 26,
   "metadata": {},
   "outputs": [
    {
     "ename": "Exception",
     "evalue": "Token Required\nToken Required\n(Error Code: 499)",
     "output_type": "error",
     "traceback": [
      "\u001b[1;31m---------------------------------------------------------------------------\u001b[0m",
      "\u001b[1;31mException\u001b[0m                                 Traceback (most recent call last)",
      "\u001b[1;32m~\\.conda\\envs\\geo37\\lib\\site-packages\\arcgis\\gis\\__init__.py\u001b[0m in \u001b[0;36m_hydrate\u001b[1;34m(self)\u001b[0m\n\u001b[0;32m  10725\u001b[0m                 \u001b[1;32mif\u001b[0m \u001b[0mself\u001b[0m\u001b[1;33m.\u001b[0m\u001b[0m_con\u001b[0m\u001b[1;33m.\u001b[0m\u001b[0mtoken\u001b[0m \u001b[1;32mis\u001b[0m \u001b[1;32mNone\u001b[0m\u001b[1;33m:\u001b[0m\u001b[1;33m\u001b[0m\u001b[1;33m\u001b[0m\u001b[0m\n\u001b[1;32m> 10726\u001b[1;33m                     \u001b[0mself\u001b[0m\u001b[1;33m.\u001b[0m\u001b[0m_lazy_token\u001b[0m \u001b[1;33m=\u001b[0m \u001b[0mself\u001b[0m\u001b[1;33m.\u001b[0m\u001b[0m_con\u001b[0m\u001b[1;33m.\u001b[0m\u001b[0mgenerate_portal_server_token\u001b[0m\u001b[1;33m(\u001b[0m\u001b[0mserverUrl\u001b[0m\u001b[1;33m=\u001b[0m\u001b[0mself\u001b[0m\u001b[1;33m.\u001b[0m\u001b[0murl\u001b[0m\u001b[1;33m)\u001b[0m\u001b[1;33m\u001b[0m\u001b[1;33m\u001b[0m\u001b[0m\n\u001b[0m\u001b[0;32m  10727\u001b[0m                 \u001b[1;32melse\u001b[0m\u001b[1;33m:\u001b[0m\u001b[1;33m\u001b[0m\u001b[1;33m\u001b[0m\u001b[0m\n",
      "\u001b[1;32m~\\.conda\\envs\\geo37\\lib\\site-packages\\arcgis\\gis\\_impl\\_con\\_connection.py\u001b[0m in \u001b[0;36mgenerate_portal_server_token\u001b[1;34m(self, serverUrl, expiration)\u001b[0m\n\u001b[0;32m   1305\u001b[0m             resp = self.post(path=self._token_url, postdata=postdata,\n\u001b[1;32m-> 1306\u001b[1;33m                              ssl=True, add_token=False)\n\u001b[0m\u001b[0;32m   1307\u001b[0m         \u001b[1;32mif\u001b[0m \u001b[0misinstance\u001b[0m\u001b[1;33m(\u001b[0m\u001b[0mresp\u001b[0m\u001b[1;33m,\u001b[0m \u001b[0mdict\u001b[0m\u001b[1;33m)\u001b[0m \u001b[1;32mand\u001b[0m \u001b[0mresp\u001b[0m\u001b[1;33m:\u001b[0m\u001b[1;33m\u001b[0m\u001b[1;33m\u001b[0m\u001b[0m\n",
      "\u001b[1;32m~\\.conda\\envs\\geo37\\lib\\site-packages\\arcgis\\gis\\_impl\\_con\\_connection.py\u001b[0m in \u001b[0;36mpost\u001b[1;34m(self, path, params, files, **kwargs)\u001b[0m\n\u001b[0;32m    709\u001b[0m                                      \u001b[0mtry_json\u001b[0m\u001b[1;33m=\u001b[0m\u001b[0mtry_json\u001b[0m\u001b[1;33m,\u001b[0m\u001b[1;33m\u001b[0m\u001b[1;33m\u001b[0m\u001b[0m\n\u001b[1;32m--> 710\u001b[1;33m                                      force_bytes=kwargs.pop('force_bytes', False))\n\u001b[0m\u001b[0;32m    711\u001b[0m     \u001b[1;31m#----------------------------------------------------------------------\u001b[0m\u001b[1;33m\u001b[0m\u001b[1;33m\u001b[0m\u001b[1;33m\u001b[0m\u001b[0m\n",
      "\u001b[1;32m~\\.conda\\envs\\geo37\\lib\\site-packages\\arcgis\\gis\\_impl\\_con\\_connection.py\u001b[0m in \u001b[0;36m_handle_response\u001b[1;34m(self, resp, file_name, out_path, try_json, force_bytes)\u001b[0m\n\u001b[0;32m    504\u001b[0m                 \u001b[0merrorcode\u001b[0m \u001b[1;33m=\u001b[0m \u001b[0mdata\u001b[0m\u001b[1;33m[\u001b[0m\u001b[1;34m'error'\u001b[0m\u001b[1;33m]\u001b[0m\u001b[1;33m[\u001b[0m\u001b[1;34m'code'\u001b[0m\u001b[1;33m]\u001b[0m \u001b[1;32mif\u001b[0m \u001b[1;34m'code'\u001b[0m \u001b[1;32min\u001b[0m \u001b[0mdata\u001b[0m\u001b[1;33m[\u001b[0m\u001b[1;34m'error'\u001b[0m\u001b[1;33m]\u001b[0m \u001b[1;32melse\u001b[0m \u001b[1;36m0\u001b[0m\u001b[1;33m\u001b[0m\u001b[1;33m\u001b[0m\u001b[0m\n\u001b[1;32m--> 505\u001b[1;33m                 \u001b[0mself\u001b[0m\u001b[1;33m.\u001b[0m\u001b[0m_handle_json_error\u001b[0m\u001b[1;33m(\u001b[0m\u001b[0mdata\u001b[0m\u001b[1;33m[\u001b[0m\u001b[1;34m'error'\u001b[0m\u001b[1;33m]\u001b[0m\u001b[1;33m,\u001b[0m \u001b[0merrorcode\u001b[0m\u001b[1;33m)\u001b[0m\u001b[1;33m\u001b[0m\u001b[1;33m\u001b[0m\u001b[0m\n\u001b[0m\u001b[0;32m    506\u001b[0m             \u001b[1;32mreturn\u001b[0m \u001b[0mdata\u001b[0m\u001b[1;33m\u001b[0m\u001b[1;33m\u001b[0m\u001b[0m\n",
      "\u001b[1;32m~\\.conda\\envs\\geo37\\lib\\site-packages\\arcgis\\gis\\_impl\\_con\\_connection.py\u001b[0m in \u001b[0;36m_handle_json_error\u001b[1;34m(self, error, errorcode)\u001b[0m\n\u001b[0;32m    522\u001b[0m         \u001b[0merrormessage\u001b[0m \u001b[1;33m=\u001b[0m \u001b[0merrormessage\u001b[0m \u001b[1;33m+\u001b[0m \u001b[1;34m\"\\n(Error Code: \"\u001b[0m \u001b[1;33m+\u001b[0m \u001b[0mstr\u001b[0m\u001b[1;33m(\u001b[0m\u001b[0merrorcode\u001b[0m\u001b[1;33m)\u001b[0m \u001b[1;33m+\u001b[0m\u001b[1;34m\")\"\u001b[0m\u001b[1;33m\u001b[0m\u001b[1;33m\u001b[0m\u001b[0m\n\u001b[1;32m--> 523\u001b[1;33m         \u001b[1;32mraise\u001b[0m \u001b[0mException\u001b[0m\u001b[1;33m(\u001b[0m\u001b[0merrormessage\u001b[0m\u001b[1;33m)\u001b[0m\u001b[1;33m\u001b[0m\u001b[1;33m\u001b[0m\u001b[0m\n\u001b[0m\u001b[0;32m    524\u001b[0m     \u001b[1;31m#----------------------------------------------------------------------\u001b[0m\u001b[1;33m\u001b[0m\u001b[1;33m\u001b[0m\u001b[1;33m\u001b[0m\u001b[0m\n",
      "\u001b[1;31mException\u001b[0m: Unable to generate token.\n'token' must be specified in the request, for server token.\n(Error Code: 400)",
      "\nDuring handling of the above exception, another exception occurred:\n",
      "\u001b[1;31mException\u001b[0m                                 Traceback (most recent call last)",
      "\u001b[1;32m~\\.conda\\envs\\geo37\\lib\\site-packages\\arcgis\\gis\\__init__.py\u001b[0m in \u001b[0;36m_refresh\u001b[1;34m(self)\u001b[0m\n\u001b[0;32m  10692\u001b[0m             \u001b[1;32mtry\u001b[0m\u001b[1;33m:\u001b[0m\u001b[1;33m\u001b[0m\u001b[1;33m\u001b[0m\u001b[0m\n\u001b[1;32m> 10693\u001b[1;33m                 \u001b[0mdictdata\u001b[0m \u001b[1;33m=\u001b[0m \u001b[0mself\u001b[0m\u001b[1;33m.\u001b[0m\u001b[0m_con\u001b[0m\u001b[1;33m.\u001b[0m\u001b[0mpost\u001b[0m\u001b[1;33m(\u001b[0m\u001b[0mself\u001b[0m\u001b[1;33m.\u001b[0m\u001b[0murl\u001b[0m\u001b[1;33m,\u001b[0m \u001b[0mparams\u001b[0m\u001b[1;33m,\u001b[0m \u001b[0mtoken\u001b[0m\u001b[1;33m=\u001b[0m\u001b[0mself\u001b[0m\u001b[1;33m.\u001b[0m\u001b[0m_lazy_token\u001b[0m\u001b[1;33m)\u001b[0m\u001b[1;33m\u001b[0m\u001b[1;33m\u001b[0m\u001b[0m\n\u001b[0m\u001b[0;32m  10694\u001b[0m             \u001b[1;32mexcept\u001b[0m \u001b[0mException\u001b[0m \u001b[1;32mas\u001b[0m \u001b[0me\u001b[0m\u001b[1;33m:\u001b[0m\u001b[1;33m\u001b[0m\u001b[1;33m\u001b[0m\u001b[0m\n",
      "\u001b[1;32m~\\.conda\\envs\\geo37\\lib\\site-packages\\arcgis\\gis\\_impl\\_con\\_connection.py\u001b[0m in \u001b[0;36mpost\u001b[1;34m(self, path, params, files, **kwargs)\u001b[0m\n\u001b[0;32m    709\u001b[0m                                      \u001b[0mtry_json\u001b[0m\u001b[1;33m=\u001b[0m\u001b[0mtry_json\u001b[0m\u001b[1;33m,\u001b[0m\u001b[1;33m\u001b[0m\u001b[1;33m\u001b[0m\u001b[0m\n\u001b[1;32m--> 710\u001b[1;33m                                      force_bytes=kwargs.pop('force_bytes', False))\n\u001b[0m\u001b[0;32m    711\u001b[0m     \u001b[1;31m#----------------------------------------------------------------------\u001b[0m\u001b[1;33m\u001b[0m\u001b[1;33m\u001b[0m\u001b[1;33m\u001b[0m\u001b[0m\n",
      "\u001b[1;32m~\\.conda\\envs\\geo37\\lib\\site-packages\\arcgis\\gis\\_impl\\_con\\_connection.py\u001b[0m in \u001b[0;36m_handle_response\u001b[1;34m(self, resp, file_name, out_path, try_json, force_bytes)\u001b[0m\n\u001b[0;32m    504\u001b[0m                 \u001b[0merrorcode\u001b[0m \u001b[1;33m=\u001b[0m \u001b[0mdata\u001b[0m\u001b[1;33m[\u001b[0m\u001b[1;34m'error'\u001b[0m\u001b[1;33m]\u001b[0m\u001b[1;33m[\u001b[0m\u001b[1;34m'code'\u001b[0m\u001b[1;33m]\u001b[0m \u001b[1;32mif\u001b[0m \u001b[1;34m'code'\u001b[0m \u001b[1;32min\u001b[0m \u001b[0mdata\u001b[0m\u001b[1;33m[\u001b[0m\u001b[1;34m'error'\u001b[0m\u001b[1;33m]\u001b[0m \u001b[1;32melse\u001b[0m \u001b[1;36m0\u001b[0m\u001b[1;33m\u001b[0m\u001b[1;33m\u001b[0m\u001b[0m\n\u001b[1;32m--> 505\u001b[1;33m                 \u001b[0mself\u001b[0m\u001b[1;33m.\u001b[0m\u001b[0m_handle_json_error\u001b[0m\u001b[1;33m(\u001b[0m\u001b[0mdata\u001b[0m\u001b[1;33m[\u001b[0m\u001b[1;34m'error'\u001b[0m\u001b[1;33m]\u001b[0m\u001b[1;33m,\u001b[0m \u001b[0merrorcode\u001b[0m\u001b[1;33m)\u001b[0m\u001b[1;33m\u001b[0m\u001b[1;33m\u001b[0m\u001b[0m\n\u001b[0m\u001b[0;32m    506\u001b[0m             \u001b[1;32mreturn\u001b[0m \u001b[0mdata\u001b[0m\u001b[1;33m\u001b[0m\u001b[1;33m\u001b[0m\u001b[0m\n",
      "\u001b[1;32m~\\.conda\\envs\\geo37\\lib\\site-packages\\arcgis\\gis\\_impl\\_con\\_connection.py\u001b[0m in \u001b[0;36m_handle_json_error\u001b[1;34m(self, error, errorcode)\u001b[0m\n\u001b[0;32m    522\u001b[0m         \u001b[0merrormessage\u001b[0m \u001b[1;33m=\u001b[0m \u001b[0merrormessage\u001b[0m \u001b[1;33m+\u001b[0m \u001b[1;34m\"\\n(Error Code: \"\u001b[0m \u001b[1;33m+\u001b[0m \u001b[0mstr\u001b[0m\u001b[1;33m(\u001b[0m\u001b[0merrorcode\u001b[0m\u001b[1;33m)\u001b[0m \u001b[1;33m+\u001b[0m\u001b[1;34m\")\"\u001b[0m\u001b[1;33m\u001b[0m\u001b[1;33m\u001b[0m\u001b[0m\n\u001b[1;32m--> 523\u001b[1;33m         \u001b[1;32mraise\u001b[0m \u001b[0mException\u001b[0m\u001b[1;33m(\u001b[0m\u001b[0merrormessage\u001b[0m\u001b[1;33m)\u001b[0m\u001b[1;33m\u001b[0m\u001b[1;33m\u001b[0m\u001b[0m\n\u001b[0m\u001b[0;32m    524\u001b[0m     \u001b[1;31m#----------------------------------------------------------------------\u001b[0m\u001b[1;33m\u001b[0m\u001b[1;33m\u001b[0m\u001b[1;33m\u001b[0m\u001b[0m\n",
      "\u001b[1;31mException\u001b[0m: Token Required\nToken Required\n(Error Code: 499)",
      "\nDuring handling of the above exception, another exception occurred:\n",
      "\u001b[1;31mException\u001b[0m                                 Traceback (most recent call last)",
      "\u001b[1;32m<ipython-input-26-f2fda67f0144>\u001b[0m in \u001b[0;36m<module>\u001b[1;34m\u001b[0m\n\u001b[1;32m----> 1\u001b[1;33m \u001b[0marcgis\u001b[0m\u001b[1;33m.\u001b[0m\u001b[0mfeatures\u001b[0m\u001b[1;33m.\u001b[0m\u001b[0mFeatureLayerCollection\u001b[0m\u001b[1;33m(\u001b[0m\u001b[1;34m'https://services.arcgis.com/ZzrwjTRez6FJiOq4/arcgis/rest/services/ActivitiesCollection_lite/FeatureServer/1'\u001b[0m\u001b[1;33m)\u001b[0m\u001b[1;33m\u001b[0m\u001b[1;33m\u001b[0m\u001b[0m\n\u001b[0m",
      "\u001b[1;32m~\\.conda\\envs\\geo37\\lib\\site-packages\\arcgis\\features\\layer.py\u001b[0m in \u001b[0;36m__init__\u001b[1;34m(self, url, gis)\u001b[0m\n\u001b[0;32m   2238\u001b[0m \u001b[1;33m\u001b[0m\u001b[0m\n\u001b[0;32m   2239\u001b[0m         \u001b[1;32mtry\u001b[0m\u001b[1;33m:\u001b[0m\u001b[1;33m\u001b[0m\u001b[1;33m\u001b[0m\u001b[0m\n\u001b[1;32m-> 2240\u001b[1;33m             \u001b[1;32mif\u001b[0m \u001b[0mself\u001b[0m\u001b[1;33m.\u001b[0m\u001b[0mproperties\u001b[0m\u001b[1;33m.\u001b[0m\u001b[0msyncEnabled\u001b[0m\u001b[1;33m:\u001b[0m\u001b[1;33m\u001b[0m\u001b[1;33m\u001b[0m\u001b[0m\n\u001b[0m\u001b[0;32m   2241\u001b[0m                 \u001b[0mself\u001b[0m\u001b[1;33m.\u001b[0m\u001b[0mreplicas\u001b[0m \u001b[1;33m=\u001b[0m \u001b[0mSyncManager\u001b[0m\u001b[1;33m(\u001b[0m\u001b[0mself\u001b[0m\u001b[1;33m)\u001b[0m\u001b[1;33m\u001b[0m\u001b[1;33m\u001b[0m\u001b[0m\n\u001b[0;32m   2242\u001b[0m         \u001b[1;32mexcept\u001b[0m \u001b[0mAttributeError\u001b[0m\u001b[1;33m:\u001b[0m\u001b[1;33m\u001b[0m\u001b[1;33m\u001b[0m\u001b[0m\n",
      "\u001b[1;32m~\\.conda\\envs\\geo37\\lib\\site-packages\\arcgis\\gis\\__init__.py\u001b[0m in \u001b[0;36mproperties\u001b[1;34m(self)\u001b[0m\n\u001b[0;32m  10708\u001b[0m             \u001b[1;32mreturn\u001b[0m \u001b[0mself\u001b[0m\u001b[1;33m.\u001b[0m\u001b[0m_lazy_properties\u001b[0m\u001b[1;33m\u001b[0m\u001b[1;33m\u001b[0m\u001b[0m\n\u001b[0;32m  10709\u001b[0m         \u001b[1;32melse\u001b[0m\u001b[1;33m:\u001b[0m\u001b[1;33m\u001b[0m\u001b[1;33m\u001b[0m\u001b[0m\n\u001b[1;32m> 10710\u001b[1;33m             \u001b[0mself\u001b[0m\u001b[1;33m.\u001b[0m\u001b[0m_hydrate\u001b[0m\u001b[1;33m(\u001b[0m\u001b[1;33m)\u001b[0m\u001b[1;33m\u001b[0m\u001b[1;33m\u001b[0m\u001b[0m\n\u001b[0m\u001b[0;32m  10711\u001b[0m             \u001b[1;32mreturn\u001b[0m \u001b[0mself\u001b[0m\u001b[1;33m.\u001b[0m\u001b[0m_lazy_properties\u001b[0m\u001b[1;33m\u001b[0m\u001b[1;33m\u001b[0m\u001b[0m\n\u001b[0;32m  10712\u001b[0m \u001b[1;33m\u001b[0m\u001b[0m\n",
      "\u001b[1;32m~\\.conda\\envs\\geo37\\lib\\site-packages\\arcgis\\gis\\__init__.py\u001b[0m in \u001b[0;36m_hydrate\u001b[1;34m(self)\u001b[0m\n\u001b[0;32m  10755\u001b[0m                     \u001b[1;31m# try as a public server\u001b[0m\u001b[1;33m\u001b[0m\u001b[1;33m\u001b[0m\u001b[1;33m\u001b[0m\u001b[0m\n\u001b[0;32m  10756\u001b[0m                     \u001b[0mself\u001b[0m\u001b[1;33m.\u001b[0m\u001b[0m_lazy_token\u001b[0m \u001b[1;33m=\u001b[0m \u001b[1;32mNone\u001b[0m\u001b[1;33m\u001b[0m\u001b[1;33m\u001b[0m\u001b[0m\n\u001b[1;32m> 10757\u001b[1;33m                     \u001b[0mself\u001b[0m\u001b[1;33m.\u001b[0m\u001b[0m_refresh\u001b[0m\u001b[1;33m(\u001b[0m\u001b[1;33m)\u001b[0m\u001b[1;33m\u001b[0m\u001b[1;33m\u001b[0m\u001b[0m\n\u001b[0m\u001b[0;32m  10758\u001b[0m \u001b[1;33m\u001b[0m\u001b[0m\n\u001b[0;32m  10759\u001b[0m                 \u001b[1;32mexcept\u001b[0m \u001b[0mHTTPError\u001b[0m \u001b[1;32mas\u001b[0m \u001b[0mhttperror\u001b[0m\u001b[1;33m:\u001b[0m\u001b[1;33m\u001b[0m\u001b[1;33m\u001b[0m\u001b[0m\n",
      "\u001b[1;32m~\\.conda\\envs\\geo37\\lib\\site-packages\\arcgis\\gis\\__init__.py\u001b[0m in \u001b[0;36m_refresh\u001b[1;34m(self)\u001b[0m\n\u001b[0;32m  10696\u001b[0m                     \u001b[0mdictdata\u001b[0m \u001b[1;33m=\u001b[0m \u001b[0mself\u001b[0m\u001b[1;33m.\u001b[0m\u001b[0m_con\u001b[0m\u001b[1;33m.\u001b[0m\u001b[0mget\u001b[0m\u001b[1;33m(\u001b[0m\u001b[0mself\u001b[0m\u001b[1;33m.\u001b[0m\u001b[0murl\u001b[0m\u001b[1;33m,\u001b[0m \u001b[0mparams\u001b[0m\u001b[1;33m,\u001b[0m \u001b[0mtoken\u001b[0m\u001b[1;33m=\u001b[0m\u001b[0mself\u001b[0m\u001b[1;33m.\u001b[0m\u001b[0m_lazy_token\u001b[0m\u001b[1;33m)\u001b[0m\u001b[1;33m\u001b[0m\u001b[1;33m\u001b[0m\u001b[0m\n\u001b[0;32m  10697\u001b[0m                 \u001b[1;32melif\u001b[0m \u001b[0mstr\u001b[0m\u001b[1;33m(\u001b[0m\u001b[0me\u001b[0m\u001b[1;33m)\u001b[0m\u001b[1;33m.\u001b[0m\u001b[0mlower\u001b[0m\u001b[1;33m(\u001b[0m\u001b[1;33m)\u001b[0m\u001b[1;33m.\u001b[0m\u001b[0mfind\u001b[0m\u001b[1;33m(\u001b[0m\u001b[1;34m\"token required\"\u001b[0m\u001b[1;33m)\u001b[0m \u001b[1;33m>\u001b[0m \u001b[1;33m-\u001b[0m\u001b[1;36m1\u001b[0m\u001b[1;33m:\u001b[0m\u001b[1;33m\u001b[0m\u001b[1;33m\u001b[0m\u001b[0m\n\u001b[1;32m> 10698\u001b[1;33m                     \u001b[0mdictdata\u001b[0m \u001b[1;33m=\u001b[0m \u001b[0mself\u001b[0m\u001b[1;33m.\u001b[0m\u001b[0m_con\u001b[0m\u001b[1;33m.\u001b[0m\u001b[0mget\u001b[0m\u001b[1;33m(\u001b[0m\u001b[0mself\u001b[0m\u001b[1;33m.\u001b[0m\u001b[0murl\u001b[0m\u001b[1;33m,\u001b[0m \u001b[0mparams\u001b[0m\u001b[1;33m)\u001b[0m\u001b[1;33m\u001b[0m\u001b[1;33m\u001b[0m\u001b[0m\n\u001b[0m\u001b[0;32m  10699\u001b[0m                 \u001b[1;32melse\u001b[0m\u001b[1;33m:\u001b[0m\u001b[1;33m\u001b[0m\u001b[1;33m\u001b[0m\u001b[0m\n\u001b[0;32m  10700\u001b[0m                     \u001b[1;32mraise\u001b[0m \u001b[0me\u001b[0m\u001b[1;33m\u001b[0m\u001b[1;33m\u001b[0m\u001b[0m\n",
      "\u001b[1;32m~\\.conda\\envs\\geo37\\lib\\site-packages\\arcgis\\gis\\_impl\\_con\\_connection.py\u001b[0m in \u001b[0;36mget\u001b[1;34m(self, path, params, **kwargs)\u001b[0m\n\u001b[0;32m    423\u001b[0m                 'An unknown error occurred: %s' % traceback.format_exc())\n\u001b[0;32m    424\u001b[0m \u001b[1;33m\u001b[0m\u001b[0m\n\u001b[1;32m--> 425\u001b[1;33m         \u001b[1;32mreturn\u001b[0m \u001b[0mself\u001b[0m\u001b[1;33m.\u001b[0m\u001b[0m_handle_response\u001b[0m\u001b[1;33m(\u001b[0m\u001b[0mresp\u001b[0m\u001b[1;33m,\u001b[0m \u001b[0mfile_name\u001b[0m\u001b[1;33m,\u001b[0m \u001b[0mout_path\u001b[0m\u001b[1;33m,\u001b[0m \u001b[0mtry_json\u001b[0m\u001b[1;33m,\u001b[0m \u001b[0mforce_bytes\u001b[0m\u001b[1;33m=\u001b[0m\u001b[0mkwargs\u001b[0m\u001b[1;33m.\u001b[0m\u001b[0mpop\u001b[0m\u001b[1;33m(\u001b[0m\u001b[1;34m'force_bytes'\u001b[0m\u001b[1;33m,\u001b[0m \u001b[1;32mFalse\u001b[0m\u001b[1;33m)\u001b[0m\u001b[1;33m)\u001b[0m\u001b[1;33m\u001b[0m\u001b[1;33m\u001b[0m\u001b[0m\n\u001b[0m\u001b[0;32m    426\u001b[0m     \u001b[1;31m#----------------------------------------------------------------------\u001b[0m\u001b[1;33m\u001b[0m\u001b[1;33m\u001b[0m\u001b[1;33m\u001b[0m\u001b[0m\n\u001b[0;32m    427\u001b[0m     \u001b[1;32mdef\u001b[0m \u001b[0m_handle_response\u001b[0m\u001b[1;33m(\u001b[0m\u001b[0mself\u001b[0m\u001b[1;33m,\u001b[0m \u001b[0mresp\u001b[0m\u001b[1;33m,\u001b[0m \u001b[0mfile_name\u001b[0m\u001b[1;33m,\u001b[0m \u001b[0mout_path\u001b[0m\u001b[1;33m,\u001b[0m \u001b[0mtry_json\u001b[0m\u001b[1;33m,\u001b[0m \u001b[0mforce_bytes\u001b[0m\u001b[1;33m=\u001b[0m\u001b[1;32mFalse\u001b[0m\u001b[1;33m)\u001b[0m\u001b[1;33m:\u001b[0m\u001b[1;33m\u001b[0m\u001b[1;33m\u001b[0m\u001b[0m\n",
      "\u001b[1;32m~\\.conda\\envs\\geo37\\lib\\site-packages\\arcgis\\gis\\_impl\\_con\\_connection.py\u001b[0m in \u001b[0;36m_handle_response\u001b[1;34m(self, resp, file_name, out_path, try_json, force_bytes)\u001b[0m\n\u001b[0;32m    503\u001b[0m             \u001b[1;32mif\u001b[0m \u001b[1;34m'error'\u001b[0m \u001b[1;32min\u001b[0m \u001b[0mdata\u001b[0m\u001b[1;33m:\u001b[0m\u001b[1;33m\u001b[0m\u001b[1;33m\u001b[0m\u001b[0m\n\u001b[0;32m    504\u001b[0m                 \u001b[0merrorcode\u001b[0m \u001b[1;33m=\u001b[0m \u001b[0mdata\u001b[0m\u001b[1;33m[\u001b[0m\u001b[1;34m'error'\u001b[0m\u001b[1;33m]\u001b[0m\u001b[1;33m[\u001b[0m\u001b[1;34m'code'\u001b[0m\u001b[1;33m]\u001b[0m \u001b[1;32mif\u001b[0m \u001b[1;34m'code'\u001b[0m \u001b[1;32min\u001b[0m \u001b[0mdata\u001b[0m\u001b[1;33m[\u001b[0m\u001b[1;34m'error'\u001b[0m\u001b[1;33m]\u001b[0m \u001b[1;32melse\u001b[0m \u001b[1;36m0\u001b[0m\u001b[1;33m\u001b[0m\u001b[1;33m\u001b[0m\u001b[0m\n\u001b[1;32m--> 505\u001b[1;33m                 \u001b[0mself\u001b[0m\u001b[1;33m.\u001b[0m\u001b[0m_handle_json_error\u001b[0m\u001b[1;33m(\u001b[0m\u001b[0mdata\u001b[0m\u001b[1;33m[\u001b[0m\u001b[1;34m'error'\u001b[0m\u001b[1;33m]\u001b[0m\u001b[1;33m,\u001b[0m \u001b[0merrorcode\u001b[0m\u001b[1;33m)\u001b[0m\u001b[1;33m\u001b[0m\u001b[1;33m\u001b[0m\u001b[0m\n\u001b[0m\u001b[0;32m    506\u001b[0m             \u001b[1;32mreturn\u001b[0m \u001b[0mdata\u001b[0m\u001b[1;33m\u001b[0m\u001b[1;33m\u001b[0m\u001b[0m\n\u001b[0;32m    507\u001b[0m         \u001b[1;32melse\u001b[0m\u001b[1;33m:\u001b[0m\u001b[1;33m\u001b[0m\u001b[1;33m\u001b[0m\u001b[0m\n",
      "\u001b[1;32m~\\.conda\\envs\\geo37\\lib\\site-packages\\arcgis\\gis\\_impl\\_con\\_connection.py\u001b[0m in \u001b[0;36m_handle_json_error\u001b[1;34m(self, error, errorcode)\u001b[0m\n\u001b[0;32m    521\u001b[0m \u001b[1;33m\u001b[0m\u001b[0m\n\u001b[0;32m    522\u001b[0m         \u001b[0merrormessage\u001b[0m \u001b[1;33m=\u001b[0m \u001b[0merrormessage\u001b[0m \u001b[1;33m+\u001b[0m \u001b[1;34m\"\\n(Error Code: \"\u001b[0m \u001b[1;33m+\u001b[0m \u001b[0mstr\u001b[0m\u001b[1;33m(\u001b[0m\u001b[0merrorcode\u001b[0m\u001b[1;33m)\u001b[0m \u001b[1;33m+\u001b[0m\u001b[1;34m\")\"\u001b[0m\u001b[1;33m\u001b[0m\u001b[1;33m\u001b[0m\u001b[0m\n\u001b[1;32m--> 523\u001b[1;33m         \u001b[1;32mraise\u001b[0m \u001b[0mException\u001b[0m\u001b[1;33m(\u001b[0m\u001b[0merrormessage\u001b[0m\u001b[1;33m)\u001b[0m\u001b[1;33m\u001b[0m\u001b[1;33m\u001b[0m\u001b[0m\n\u001b[0m\u001b[0;32m    524\u001b[0m     \u001b[1;31m#----------------------------------------------------------------------\u001b[0m\u001b[1;33m\u001b[0m\u001b[1;33m\u001b[0m\u001b[1;33m\u001b[0m\u001b[0m\n\u001b[0;32m    525\u001b[0m     def post(self,\n",
      "\u001b[1;31mException\u001b[0m: Token Required\nToken Required\n(Error Code: 499)"
     ]
    }
   ],
   "source": [
    "arcgis.features.FeatureLayerCollection('https://services.arcgis.com/ZzrwjTRez6FJiOq4/arcgis/rest/services/ActivitiesCollection_lite/FeatureServer/1')"
   ]
  },
  {
   "cell_type": "code",
   "execution_count": 24,
   "metadata": {},
   "outputs": [
    {
     "ename": "AttributeError",
     "evalue": "'Item' object has no attribute 'query'",
     "output_type": "error",
     "traceback": [
      "\u001b[1;31m---------------------------------------------------------------------------\u001b[0m",
      "\u001b[1;31mKeyError\u001b[0m                                  Traceback (most recent call last)",
      "\u001b[1;32m~\\.conda\\envs\\geo37\\lib\\site-packages\\arcgis\\gis\\__init__.py\u001b[0m in \u001b[0;36m__getattr__\u001b[1;34m(self, name)\u001b[0m\n\u001b[0;32m   7785\u001b[0m         \u001b[1;32mtry\u001b[0m\u001b[1;33m:\u001b[0m\u001b[1;33m\u001b[0m\u001b[1;33m\u001b[0m\u001b[0m\n\u001b[1;32m-> 7786\u001b[1;33m             \u001b[1;32mreturn\u001b[0m \u001b[0mdict\u001b[0m\u001b[1;33m.\u001b[0m\u001b[0m__getitem__\u001b[0m\u001b[1;33m(\u001b[0m\u001b[0mself\u001b[0m\u001b[1;33m,\u001b[0m \u001b[0mname\u001b[0m\u001b[1;33m)\u001b[0m\u001b[1;33m\u001b[0m\u001b[1;33m\u001b[0m\u001b[0m\n\u001b[0m\u001b[0;32m   7787\u001b[0m         \u001b[1;32mexcept\u001b[0m\u001b[1;33m:\u001b[0m\u001b[1;33m\u001b[0m\u001b[1;33m\u001b[0m\u001b[0m\n",
      "\u001b[1;31mKeyError\u001b[0m: 'query'",
      "\nDuring handling of the above exception, another exception occurred:\n",
      "\u001b[1;31mAttributeError\u001b[0m                            Traceback (most recent call last)",
      "\u001b[1;32m<ipython-input-24-286615bf41aa>\u001b[0m in \u001b[0;36m<module>\u001b[1;34m\u001b[0m\n\u001b[1;32m----> 1\u001b[1;33m \u001b[0mfield_activities\u001b[0m\u001b[1;33m.\u001b[0m\u001b[0mquery\u001b[0m\u001b[1;33m(\u001b[0m\u001b[1;34m'ActivityID is NOT NULL'\u001b[0m\u001b[1;33m)\u001b[0m\u001b[1;33m\u001b[0m\u001b[1;33m\u001b[0m\u001b[0m\n\u001b[0m",
      "\u001b[1;32m~\\.conda\\envs\\geo37\\lib\\site-packages\\arcgis\\gis\\__init__.py\u001b[0m in \u001b[0;36m__getattr__\u001b[1;34m(self, name)\u001b[0m\n\u001b[0;32m   7786\u001b[0m             \u001b[1;32mreturn\u001b[0m \u001b[0mdict\u001b[0m\u001b[1;33m.\u001b[0m\u001b[0m__getitem__\u001b[0m\u001b[1;33m(\u001b[0m\u001b[0mself\u001b[0m\u001b[1;33m,\u001b[0m \u001b[0mname\u001b[0m\u001b[1;33m)\u001b[0m\u001b[1;33m\u001b[0m\u001b[1;33m\u001b[0m\u001b[0m\n\u001b[0;32m   7787\u001b[0m         \u001b[1;32mexcept\u001b[0m\u001b[1;33m:\u001b[0m\u001b[1;33m\u001b[0m\u001b[1;33m\u001b[0m\u001b[0m\n\u001b[1;32m-> 7788\u001b[1;33m             \u001b[1;32mraise\u001b[0m \u001b[0mAttributeError\u001b[0m\u001b[1;33m(\u001b[0m\u001b[1;34m\"'%s' object has no attribute '%s'\"\u001b[0m \u001b[1;33m%\u001b[0m \u001b[1;33m(\u001b[0m\u001b[0mtype\u001b[0m\u001b[1;33m(\u001b[0m\u001b[0mself\u001b[0m\u001b[1;33m)\u001b[0m\u001b[1;33m.\u001b[0m\u001b[0m__name__\u001b[0m\u001b[1;33m,\u001b[0m \u001b[0mname\u001b[0m\u001b[1;33m)\u001b[0m\u001b[1;33m)\u001b[0m\u001b[1;33m\u001b[0m\u001b[1;33m\u001b[0m\u001b[0m\n\u001b[0m\u001b[0;32m   7789\u001b[0m \u001b[1;33m\u001b[0m\u001b[0m\n\u001b[0;32m   7790\u001b[0m     \u001b[1;32mdef\u001b[0m \u001b[0m__getitem__\u001b[0m\u001b[1;33m(\u001b[0m\u001b[0mself\u001b[0m\u001b[1;33m,\u001b[0m \u001b[0mk\u001b[0m\u001b[1;33m)\u001b[0m\u001b[1;33m:\u001b[0m \u001b[1;31m# support item attributes as dictionary keys on this object\u001b[0m\u001b[1;33m\u001b[0m\u001b[1;33m\u001b[0m\u001b[0m\n",
      "\u001b[1;31mAttributeError\u001b[0m: 'Item' object has no attribute 'query'"
     ]
    }
   ],
   "source": [
    "field_activities.query('ActivityID is NOT NULL')"
   ]
  },
  {
   "cell_type": "code",
   "execution_count": null,
   "metadata": {},
   "outputs": [],
   "source": [
    "https://services.arcgis.com/ZzrwjTRez6FJiOq4/ArcGIS/rest/services/ActivitiesCollection_lite/FeatureServer/1?"
   ]
  },
  {
   "cell_type": "code",
   "execution_count": 23,
   "metadata": {},
   "outputs": [
    {
     "data": {
      "text/plain": [
       "'https://services.arcgis.com/ZzrwjTRez6FJiOq4/ArcGIS/rest/services/ActivitiesCollection_lite/FeatureServer/1/query?where=ActivityID+is+NOT+NULL&returnIdsOnly=false&returnUniqueIdsOnly=false&returnCountOnly=false&returnDistinctValues=true&outFields=%2A&orderByFields=ActivityID&sqlFormat=standard&f=pjson&token=B0c0oan7KJBxQLTQzdPNi6IHZmQXM4x2BAeatBob1LukJYLY39I6k5FQYI2ZcA_i2ssxwNdzrlNjIEAwH-tJba22OQFCKN9sfqdJhrFzamZPxqx5vd8sZV4qc9KDf0xamLRU9STxR325Rh7YAnO5Dg..'"
      ]
     },
     "execution_count": 23,
     "metadata": {},
     "output_type": "execute_result"
    }
   ],
   "source": [
    "repsns.url"
   ]
  },
  {
   "cell_type": "code",
   "execution_count": 22,
   "metadata": {
    "ExecuteTime": {
     "end_time": "2019-04-09T22:01:51.077067Z",
     "start_time": "2019-04-09T22:01:51.063000Z"
    }
   },
   "outputs": [
    {
     "ename": "KeyError",
     "evalue": "'features'",
     "output_type": "error",
     "traceback": [
      "\u001b[1;31m---------------------------------------------------------------------------\u001b[0m",
      "\u001b[1;31mKeyError\u001b[0m                                  Traceback (most recent call last)",
      "\u001b[1;32m<ipython-input-22-8ad50aae0229>\u001b[0m in \u001b[0;36m<module>\u001b[1;34m\u001b[0m\n\u001b[0;32m     12\u001b[0m \u001b[0mkwargs\u001b[0m\u001b[1;33m[\u001b[0m\u001b[1;34m'token'\u001b[0m\u001b[1;33m]\u001b[0m \u001b[1;33m=\u001b[0m \u001b[0mdbconnect\u001b[0m\u001b[1;33m.\u001b[0m\u001b[0mchem_getter_api\u001b[0m\u001b[1;33m(\u001b[0m\u001b[1;33m)\u001b[0m\u001b[1;33m\u001b[0m\u001b[1;33m\u001b[0m\u001b[0m\n\u001b[0;32m     13\u001b[0m \u001b[0mrepsns\u001b[0m \u001b[1;33m=\u001b[0m \u001b[0mrequests\u001b[0m\u001b[1;33m.\u001b[0m\u001b[0mget\u001b[0m\u001b[1;33m(\u001b[0m\u001b[0murl\u001b[0m\u001b[1;33m,\u001b[0m \u001b[0mparams\u001b[0m\u001b[1;33m=\u001b[0m\u001b[0mkwargs\u001b[0m\u001b[1;33m)\u001b[0m\u001b[1;33m\u001b[0m\u001b[1;33m\u001b[0m\u001b[0m\n\u001b[1;32m---> 14\u001b[1;33m \u001b[0monlineacts\u001b[0m \u001b[1;33m=\u001b[0m \u001b[0mpd\u001b[0m\u001b[1;33m.\u001b[0m\u001b[0mDataFrame\u001b[0m\u001b[1;33m(\u001b[0m\u001b[1;33m[\u001b[0m\u001b[0mi\u001b[0m\u001b[1;33m[\u001b[0m\u001b[1;34m'attributes'\u001b[0m\u001b[1;33m]\u001b[0m \u001b[1;32mfor\u001b[0m \u001b[0mi\u001b[0m \u001b[1;32min\u001b[0m \u001b[0mrepsns\u001b[0m\u001b[1;33m.\u001b[0m\u001b[0mjson\u001b[0m\u001b[1;33m(\u001b[0m\u001b[1;33m)\u001b[0m\u001b[1;33m[\u001b[0m\u001b[1;34m'features'\u001b[0m\u001b[1;33m]\u001b[0m\u001b[1;33m]\u001b[0m\u001b[1;33m)\u001b[0m\u001b[1;33m\u001b[0m\u001b[1;33m\u001b[0m\u001b[0m\n\u001b[0m\u001b[0;32m     15\u001b[0m \u001b[0monlineacts\u001b[0m\u001b[1;33m.\u001b[0m\u001b[0mhead\u001b[0m\u001b[1;33m(\u001b[0m\u001b[1;33m)\u001b[0m\u001b[1;33m\u001b[0m\u001b[1;33m\u001b[0m\u001b[0m\n\u001b[0;32m     16\u001b[0m \u001b[1;33m\u001b[0m\u001b[0m\n",
      "\u001b[1;31mKeyError\u001b[0m: 'features'"
     ]
    }
   ],
   "source": [
    "url = 'https://services.arcgis.com/ZzrwjTRez6FJiOq4/ArcGIS/rest/services/ActivitiesCollection_lite/FeatureServer/1/query?'\n",
    "kwargs = {}\n",
    "kwargs['where'] = 'ActivityID is NOT NULL'\n",
    "kwargs['returnIdsOnly'] = 'false'\n",
    "kwargs['returnUniqueIdsOnly'] = 'false'\n",
    "kwargs['returnCountOnly'] ='false'\n",
    "kwargs['returnDistinctValues'] ='true'\n",
    "kwargs['outFields'] = '*'\n",
    "kwargs['orderByFields'] ='ActivityID'\n",
    "kwargs['sqlFormat'] ='standard'\n",
    "kwargs['f'] ='pjson'\n",
    "kwargs['token'] = dbconnect.chem_getter_api()\n",
    "repsns = requests.get(url, params=kwargs)\n",
    "onlineacts = pd.DataFrame([i['attributes'] for i in repsns.json()['features']])\n",
    "onlineacts.head()\n",
    "\n",
    "afields = ['ActivityID', 'ProjectID', 'MonitoringLocationID', \n",
    "               'ActivityStartDate', 'ActivityStartTime']\n",
    "\n",
    "actmatch = onlineacts[afields].set_index('ActivityID').to_dict()\n",
    "\n",
    "sdefieldact = onlineacts[['ActivityID','temperature_c','conduct_uscm','pH']].set_index('ActivityID').stack().reset_index()\n",
    "\n",
    "sdefieldact.columns = ['ActivityID','CharacteristicName','ResultValue']\n",
    "\n",
    "def funitsandchar(df):\n",
    "    fcharnms = {'temperature_c':['Temperature, water','deg C'],\n",
    "                'conduct_uscm':['Specific conductance','uS/cm'],\n",
    "                'pH':['pH','None']}\n",
    "    df['ResultUnit'] = fcharnms.get(df['CharacteristicName'])[1]\n",
    "    df['CharacteristicName'] = fcharnms.get(df['CharacteristicName'])[0]\n",
    "    return df\n",
    "\n",
    "sdefieldact = sdefieldact.apply(lambda x: funitsandchar(x),1)\n",
    "sdefieldact['ActivityID'] = sdefieldact['ActivityID'].apply(lambda x: str(x)+'-FM',1)\n",
    "\n",
    "\n",
    "sdestat = wqxsde.table_to_pandas_dataframe(sde.stations_table, field_names = statfields)\n",
    "sdeact = wqxsde.table_to_pandas_dataframe(sde.activities_table, field_names = activfields)\n",
    "sdechem = wqxsde.table_to_pandas_dataframe(sde.chemistry_table, field_names = chemfields, query = 'inwqx = 0' )\n",
    "\n",
    "\n",
    "fcharnms = {'temperature_c':['Temperature, water','deg C'],'conduct_uscm':['Specific conductance','uS/cm'],'pH':['pH','None']}\n",
    "\n",
    "sdefactchem = sdefieldact\n",
    "#sdefactchem = pd.merge(sdechem, sdefieldact, how = 'inner', on = 'ActivityID')\n",
    "\n",
    "sdefactchem['Activity Media Name'] = 'Water'\n",
    "sdefactchem['Activity Start Time Zone'] = 'MDT'\n",
    "sdefactchem['Activity Type'] = sdefactchem['ActivityID'].apply(lambda x: 'Field Msr/Obs' if '-FM' in x else 'Sample-Routine', 1)\n",
    "sdefactchem['ResultStatusID'] = 'Final'\n",
    "sdefactchem['ResultValueType'] = 'Actual'"
   ]
  },
  {
   "cell_type": "markdown",
   "metadata": {},
   "source": [
    "### Pull SDE Data and export a WQX csv for import"
   ]
  },
  {
   "cell_type": "code",
   "execution_count": null,
   "metadata": {
    "ExecuteTime": {
     "end_time": "2019-04-09T22:01:51.087567Z",
     "start_time": "2019-04-09T22:01:51.078571Z"
    }
   },
   "outputs": [],
   "source": [
    "chemfields = ['ActivityID', 'ResultDetectionCondition', 'CharacteristicName', 'MethodSpeciation',\n",
    "              'ResultSampleFraction', 'ResultValue', 'ResultUnit', 'ResultQualifier', \n",
    "              'ResultAnalyticalMethodID', \n",
    "              'ResultAnalyticalMethodContext', 'LaboratoryName',\n",
    "              'AnalysisStartDate', 'ResultDetecQuantLimitType',\n",
    "              'DetecQuantLimitMeasure', 'ResultDetecQuantLimitUnit']\n",
    "\n",
    "activfields = ['ActivityID', 'ProjectID', 'MonitoringLocationID', \n",
    "               'ActivityStartDate', 'ActivityStartTime','temperature_c','conduct_uscm','pH']\n",
    "\n",
    "statfields = ['LocationID','Send','inwqx']\n",
    "\n",
    "sdestat = wqxsde.table_to_pandas_dataframe(sde.stations_table, field_names = statfields)\n",
    "sdeact = wqxsde.table_to_pandas_dataframe(sde.activities_table, field_names = activfields)\n",
    "sdechem = wqxsde.table_to_pandas_dataframe(sde.chemistry_table, field_names = chemfields, query = 'inwqx = 0' )\n",
    "\n",
    "\n",
    "fcharnms = {'temperature_c':['Temperature, water','deg C'],'conduct_uscm':['Specific conductance','uS/cm'],'pH':['pH','None']}\n",
    "\n",
    "sdeactchem = pd.merge(sdechem, sdeact, how = 'inner', on = 'ActivityID')\n",
    "\n",
    "sdeactchem['Activity Media Name'] = 'Water'\n",
    "sdeactchem['Activity Start Time Zone'] = 'MDT'\n",
    "sdeactchem['Activity Type'] = sdeactchem['ActivityID'].apply(lambda x: 'Field Msr/Obs' if '-FM' in x else 'Sample-Routine', 1)\n",
    "sdeactchem['Sample Collection Equipment Name'] = 'Water Bottle'\n",
    "sdeactchem['Sample Collection Method ID'] = 'GRAB'\n",
    "sdeactchem['ResultStatusID'] = 'Final'\n",
    "sdeactchem['ResultValueType'] = 'Actual'\n",
    "\n",
    "fieldorder = ['ActivityID', 'Activity Media Name', 'ActivityStartDate', 'ActivityStartTime',\n",
    "              'Activity Start Time Zone', 'Activity Type', 'AnalysisStartDate', \n",
    "              'CharacteristicName', 'LaboratoryName', 'MethodSpeciation',\n",
    "              'MonitoringLocationID', 'ProjectID', 'ResultAnalyticalMethodContext',\n",
    "              'ResultAnalyticalMethodID', 'ResultDetectionCondition',\n",
    "              'DetecQuantLimitMeasure', 'ResultDetecQuantLimitType',\n",
    "              'ResultDetecQuantLimitUnit', 'ResultQualifier', 'ResultSampleFraction', \n",
    "              'ResultStatusID', 'ResultUnit',  'ResultValue', 'ResultValueType',\n",
    "              'Sample Collection Equipment Name','Sample Collection Method ID']\n",
    "\n",
    "senders = sdestat[sdestat['Send']=='1']['LocationID'].values\n",
    "\n",
    "\n",
    "sdeactchemimp = sdeactchem[fieldorder].replace(to_replace='None',value=None)\n",
    "#sdeactchemimp = sdeactchemimp[sdeactchemimp['Activity Type']=='Sample-Routine']\n",
    "sdeactchemimp = sdeactchemimp[pd.notna(sdeactchemimp['ProjectID'])]\n",
    "sdeactchemimp = sdeactchemimp[sdeactchemimp['MonitoringLocationID'].isin(senders)]\n",
    "\n",
    "save_dir = 'G:/My Drive/Python/Pycharm/wqxsde'\n",
    "sdeactchemimp.to_csv(save_dir + \"/chem_{:%Y%m%d%H%M}.csv\".format(pd.datetime.today()), index=False)"
   ]
  },
  {
   "cell_type": "code",
   "execution_count": null,
   "metadata": {
    "ExecuteTime": {
     "end_time": "2019-04-09T22:02:25.276849Z",
     "start_time": "2019-04-09T22:02:25.080754Z"
    }
   },
   "outputs": [],
   "source": [
    "sfieldorder = ['ActivityID','ActivityStartDate', 'ActivityStartTime',\n",
    "              'CharacteristicName',\n",
    "              'MonitoringLocationID','ResultAnalyticalMethodContext',\n",
    "              'ResultAnalyticalMethodID']\n",
    "\n",
    "sdeactchemimp[sfieldorder][(pd.notnull(sdeactchemimp['ResultAnalyticalMethodContext']))&(pd.isnull(sdeactchemimp['ResultAnalyticalMethodID']))]"
   ]
  },
  {
   "cell_type": "code",
   "execution_count": null,
   "metadata": {
    "ExecuteTime": {
     "end_time": "2019-04-09T22:09:03.530525Z",
     "start_time": "2019-04-09T22:09:03.465856Z"
    }
   },
   "outputs": [],
   "source": [
    "sdeactchemimp"
   ]
  },
  {
   "cell_type": "code",
   "execution_count": null,
   "metadata": {
    "ExecuteTime": {
     "end_time": "2019-04-09T22:02:32.430598Z",
     "start_time": "2019-04-09T22:02:32.426110Z"
    }
   },
   "outputs": [],
   "source": [
    "sdeactchemimp['ProjectID'].unique()"
   ]
  },
  {
   "cell_type": "code",
   "execution_count": null,
   "metadata": {
    "ExecuteTime": {
     "end_time": "2019-04-09T17:04:05.318358Z",
     "start_time": "2019-04-09T17:04:05.309299Z"
    }
   },
   "outputs": [],
   "source": [
    "sdeactchem"
   ]
  },
  {
   "cell_type": "code",
   "execution_count": null,
   "metadata": {
    "ExecuteTime": {
     "end_time": "2019-04-09T22:09:19.120588Z",
     "start_time": "2019-04-09T22:09:18.975942Z"
    }
   },
   "outputs": [],
   "source": []
  },
  {
   "cell_type": "code",
   "execution_count": null,
   "metadata": {},
   "outputs": [],
   "source": [
    "activities = "
   ]
  },
  {
   "cell_type": "code",
   "execution_count": null,
   "metadata": {},
   "outputs": [],
   "source": [
    "stations[['LocationName','AltLocationID','Offset','BaroLoggerType']][stations['AltLocationID']>1000].to_clipboard()"
   ]
  },
  {
   "cell_type": "markdown",
   "metadata": {},
   "source": [
    "~~~~sql\n",
    "CREATE VIEW UGGP.UGGPADMIN.UGS_NGWMN_View_Activities_and_Results\n",
    "AS\n",
    "SELECT \n",
    "UGGP.UGGPADMIN.UGS_NGWMN_Monitoring_Phy_Chem_Activities.ActivityID,\n",
    "UGGP.UGGPADMIN.UGS_NGWMN_Monitoring_Phy_Chem_Activities.ActivityStartDate,\n",
    "UGGP.UGGPADMIN.UGS_NGWMN_Monitoring_Phy_Chem_Activities.ActivityStartTime,\n",
    "UGGP.UGGPADMIN.UGS_NGWMN_Monitoring_Phy_Chem_Activities.ProjectID,\n",
    "UGGP.UGGPADMIN.UGS_NGWMN_Monitoring_Phy_Chem_Activities.MonitoringLocationID,\n",
    "UGGP.UGGPADMIN.UGS_NGWMN_Monitoring_Phy_Chem_Results.ResultDetectionCondition,\n",
    "UGGP.UGGPADMIN.UGS_NGWMN_Monitoring_Phy_Chem_Results.CharacteristicName,\n",
    "UGGP.UGGPADMIN.UGS_NGWMN_Monitoring_Phy_Chem_Results.MethodSpeciation,\n",
    "UGGP.UGGPADMIN.UGS_NGWMN_Monitoring_Phy_Chem_Results.ResultSampleFraction,\n",
    "UGGP.UGGPADMIN.UGS_NGWMN_Monitoring_Phy_Chem_Results.ResultValue,\n",
    "UGGP.UGGPADMIN.UGS_NGWMN_Monitoring_Phy_Chem_Results.ResultUnit,\n",
    "UGGP.UGGPADMIN.UGS_NGWMN_Monitoring_Phy_Chem_Results.ResultQualifier,\n",
    "UGGP.UGGPADMIN.UGS_NGWMN_Monitoring_Phy_Chem_Results.ResultStatusID,\n",
    "UGGP.UGGPADMIN.UGS_NGWMN_Monitoring_Phy_Chem_Results.ResultValueType,\n",
    "UGGP.UGGPADMIN.UGS_NGWMN_Monitoring_Phy_Chem_Results.ResultAnalyticalMethodID,\n",
    "UGGP.UGGPADMIN.UGS_NGWMN_Monitoring_Phy_Chem_Results.ResultAnalyticalMethodContext,\n",
    "UGGP.UGGPADMIN.UGS_NGWMN_Monitoring_Phy_Chem_Results.LaboratoryName,\n",
    "UGGP.UGGPADMIN.UGS_NGWMN_Monitoring_Phy_Chem_Results.AnalysisStartDate,\n",
    "UGGP.UGGPADMIN.UGS_NGWMN_Monitoring_Phy_Chem_Results.ResultDetecQuantLimitType,\n",
    "UGGP.UGGPADMIN.UGS_NGWMN_Monitoring_Phy_Chem_Results.ResultDetecQuantLimitMeasure,\n",
    "UGGP.UGGPADMIN.UGS_NGWMN_Monitoring_Phy_Chem_Results.ResultDetecQuantLimitUnit\n",
    "\n",
    "FROM\n",
    "UGGP.UGGPADMIN.UGS_NGWMN_Monitoring_Phy_Chem_Results \n",
    "JOIN\n",
    "UGGP.UGGPADMIN.UGS_NGWMN_Monitoring_Phy_Chem_Activities ON\n",
    "UGGP.UGGPADMIN.UGS_NGWMN_Monitoring_Phy_Chem_Activities.ActivityID = UGGP.UGGPADMIN.UGS_NGWMN_Monitoring_Phy_Chem_Results.ActivityID\n",
    "~~~~\n"
   ]
  },
  {
   "cell_type": "code",
   "execution_count": null,
   "metadata": {},
   "outputs": [],
   "source": []
  },
  {
   "cell_type": "code",
   "execution_count": null,
   "metadata": {},
   "outputs": [],
   "source": []
  },
  {
   "cell_type": "code",
   "execution_count": null,
   "metadata": {},
   "outputs": [],
   "source": []
  },
  {
   "cell_type": "code",
   "execution_count": null,
   "metadata": {},
   "outputs": [],
   "source": []
  }
 ],
 "metadata": {
  "kernelspec": {
   "display_name": "Python 3",
   "language": "python",
   "name": "python3"
  },
  "language_info": {
   "codemirror_mode": {
    "name": "ipython",
    "version": 3
   },
   "file_extension": ".py",
   "mimetype": "text/x-python",
   "name": "python",
   "nbconvert_exporter": "python",
   "pygments_lexer": "ipython3",
   "version": "3.8.5"
  },
  "latex_envs": {
   "LaTeX_envs_menu_present": true,
   "autoclose": false,
   "autocomplete": true,
   "bibliofile": "biblio.bib",
   "cite_by": "apalike",
   "current_citInitial": 1,
   "eqLabelWithNumbers": true,
   "eqNumInitial": 1,
   "hotkeys": {
    "equation": "Ctrl-E",
    "itemize": "Ctrl-I"
   },
   "labels_anchors": false,
   "latex_user_defs": false,
   "report_style_numbering": false,
   "user_envs_cfg": false
  },
  "toc": {
   "base_numbering": 1,
   "nav_menu": {},
   "number_sections": true,
   "sideBar": true,
   "skip_h1_title": false,
   "title_cell": "Table of Contents",
   "title_sidebar": "Contents",
   "toc_cell": false,
   "toc_position": {
    "height": "calc(100% - 180px)",
    "left": "10px",
    "top": "150px",
    "width": "248.867px"
   },
   "toc_section_display": true,
   "toc_window_display": true
  },
  "varInspector": {
   "cols": {
    "lenName": 16,
    "lenType": 16,
    "lenVar": 40
   },
   "kernels_config": {
    "python": {
     "delete_cmd_postfix": "",
     "delete_cmd_prefix": "del ",
     "library": "var_list.py",
     "varRefreshCmd": "print(var_dic_list())"
    },
    "r": {
     "delete_cmd_postfix": ") ",
     "delete_cmd_prefix": "rm(",
     "library": "var_list.r",
     "varRefreshCmd": "cat(var_dic_list()) "
    }
   },
   "types_to_exclude": [
    "module",
    "function",
    "builtin_function_or_method",
    "instance",
    "_Feature"
   ],
   "window_display": false
  }
 },
 "nbformat": 4,
 "nbformat_minor": 2
}
