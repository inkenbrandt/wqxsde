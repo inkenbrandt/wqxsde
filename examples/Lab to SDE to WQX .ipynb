{
 "cells": [
  {
   "cell_type": "code",
   "execution_count": 1,
   "metadata": {
    "ExecuteTime": {
     "end_time": "2019-04-10T23:17:15.231948Z",
     "start_time": "2019-04-10T23:17:15.227937Z"
    }
   },
   "outputs": [],
   "source": [
    "import pandas as pd\n",
    "import numpy as np\n",
    "import glob\n",
    "import os\n",
    "import arcpy\n",
    "from io import StringIO\n",
    "from arcgis.gis import GIS\n",
    "\n",
    "# Python Standard Library Modules\n",
    "from pathlib import Path\n",
    "from zipfile import ZipFile"
   ]
  },
  {
   "cell_type": "code",
   "execution_count": 2,
   "metadata": {
    "ExecuteTime": {
     "end_time": "2019-04-10T22:07:09.727382Z",
     "start_time": "2019-04-10T22:07:09.193459Z"
    }
   },
   "outputs": [],
   "source": [
    "import importlib.util\n",
    "spec = importlib.util.spec_from_file_location(\"dbconnect\", \"G:/My Drive/Python/dbconnect.py\")\n",
    "dbconnect = importlib.util.module_from_spec(spec)\n",
    "spec.loader.exec_module(dbconnect)"
   ]
  },
  {
   "cell_type": "code",
   "execution_count": 3,
   "metadata": {
    "ExecuteTime": {
     "end_time": "2019-04-10T23:23:59.670389Z",
     "start_time": "2019-04-10T23:23:59.215588Z"
    }
   },
   "outputs": [
    {
     "data": {
      "text/html": [
       "<div>\n",
       "<style scoped>\n",
       "    .dataframe tbody tr th:only-of-type {\n",
       "        vertical-align: middle;\n",
       "    }\n",
       "\n",
       "    .dataframe tbody tr th {\n",
       "        vertical-align: top;\n",
       "    }\n",
       "\n",
       "    .dataframe thead th {\n",
       "        text-align: right;\n",
       "    }\n",
       "</style>\n",
       "<table border=\"1\" class=\"dataframe\">\n",
       "  <thead>\n",
       "    <tr style=\"text-align: right;\">\n",
       "      <th></th>\n",
       "      <th>ActivityID</th>\n",
       "      <th>ActivityStartDate</th>\n",
       "      <th>ActivityStartTime</th>\n",
       "      <th>GlobalID</th>\n",
       "      <th>JoinField</th>\n",
       "      <th>MonitoringLocationID</th>\n",
       "      <th>OBJECTID</th>\n",
       "      <th>ProjectID</th>\n",
       "      <th>SampleCollEquipmentName</th>\n",
       "      <th>SampleCollMethodID</th>\n",
       "      <th>conduct_uscm</th>\n",
       "      <th>notes</th>\n",
       "      <th>pH</th>\n",
       "      <th>personnel</th>\n",
       "      <th>temperature_c</th>\n",
       "    </tr>\n",
       "  </thead>\n",
       "  <tbody>\n",
       "    <tr>\n",
       "      <th>0</th>\n",
       "      <td>1406012-01</td>\n",
       "      <td>1402272000000</td>\n",
       "      <td>09:20</td>\n",
       "      <td>8f45e0b3-37d7-4247-8585-5110ce44e787</td>\n",
       "      <td>1406012-01-FM</td>\n",
       "      <td>384113109391001</td>\n",
       "      <td>1</td>\n",
       "      <td>UNGWMN</td>\n",
       "      <td>Water Bottle</td>\n",
       "      <td>GRAB</td>\n",
       "      <td>1680.0</td>\n",
       "      <td>None</td>\n",
       "      <td>8.10</td>\n",
       "      <td>None</td>\n",
       "      <td>20.1</td>\n",
       "    </tr>\n",
       "    <tr>\n",
       "      <th>1</th>\n",
       "      <td>1406012-03</td>\n",
       "      <td>1402272000000</td>\n",
       "      <td>13:05</td>\n",
       "      <td>3fcfc3c3-0755-4ba2-8b57-958b26698ca4</td>\n",
       "      <td>1406012-03-FM</td>\n",
       "      <td>383210109285801</td>\n",
       "      <td>2</td>\n",
       "      <td>UNGWMN</td>\n",
       "      <td>Water Bottle</td>\n",
       "      <td>GRAB</td>\n",
       "      <td>280.0</td>\n",
       "      <td>None</td>\n",
       "      <td>8.27</td>\n",
       "      <td>None</td>\n",
       "      <td>15.9</td>\n",
       "    </tr>\n",
       "    <tr>\n",
       "      <th>2</th>\n",
       "      <td>1406012-04</td>\n",
       "      <td>1402272000000</td>\n",
       "      <td>15:20</td>\n",
       "      <td>2b6e5214-fc01-4c31-89e3-480063cb3bf6</td>\n",
       "      <td>1406012-04-FM</td>\n",
       "      <td>383453109200601</td>\n",
       "      <td>3</td>\n",
       "      <td>UNGWMN</td>\n",
       "      <td>Water Bottle</td>\n",
       "      <td>GRAB</td>\n",
       "      <td>320.0</td>\n",
       "      <td>None</td>\n",
       "      <td>7.97</td>\n",
       "      <td>None</td>\n",
       "      <td>11.5</td>\n",
       "    </tr>\n",
       "    <tr>\n",
       "      <th>3</th>\n",
       "      <td>1406012-05</td>\n",
       "      <td>1402272000000</td>\n",
       "      <td>17:00</td>\n",
       "      <td>a7396c4a-0b4c-459e-bf26-03795384ab75</td>\n",
       "      <td>1406012-05-FM</td>\n",
       "      <td>383854109242901</td>\n",
       "      <td>4</td>\n",
       "      <td>UNGWMN</td>\n",
       "      <td>Water Bottle</td>\n",
       "      <td>GRAB</td>\n",
       "      <td>1300.0</td>\n",
       "      <td>None</td>\n",
       "      <td>8.10</td>\n",
       "      <td>None</td>\n",
       "      <td>17.0</td>\n",
       "    </tr>\n",
       "    <tr>\n",
       "      <th>4</th>\n",
       "      <td>1406012-06</td>\n",
       "      <td>1402358400000</td>\n",
       "      <td>13:15</td>\n",
       "      <td>4a39ac1b-3765-4a6c-bd45-b22b4578e608</td>\n",
       "      <td>1406012-06-FM</td>\n",
       "      <td>373702109284401</td>\n",
       "      <td>5</td>\n",
       "      <td>UNGWMN</td>\n",
       "      <td>Water Bottle</td>\n",
       "      <td>GRAB</td>\n",
       "      <td>1410.0</td>\n",
       "      <td>None</td>\n",
       "      <td>8.40</td>\n",
       "      <td>None</td>\n",
       "      <td>16.3</td>\n",
       "    </tr>\n",
       "  </tbody>\n",
       "</table>\n",
       "</div>"
      ],
      "text/plain": [
       "   ActivityID  ActivityStartDate ActivityStartTime  \\\n",
       "0  1406012-01      1402272000000             09:20   \n",
       "1  1406012-03      1402272000000             13:05   \n",
       "2  1406012-04      1402272000000             15:20   \n",
       "3  1406012-05      1402272000000             17:00   \n",
       "4  1406012-06      1402358400000             13:15   \n",
       "\n",
       "                               GlobalID      JoinField MonitoringLocationID  \\\n",
       "0  8f45e0b3-37d7-4247-8585-5110ce44e787  1406012-01-FM      384113109391001   \n",
       "1  3fcfc3c3-0755-4ba2-8b57-958b26698ca4  1406012-03-FM      383210109285801   \n",
       "2  2b6e5214-fc01-4c31-89e3-480063cb3bf6  1406012-04-FM      383453109200601   \n",
       "3  a7396c4a-0b4c-459e-bf26-03795384ab75  1406012-05-FM      383854109242901   \n",
       "4  4a39ac1b-3765-4a6c-bd45-b22b4578e608  1406012-06-FM      373702109284401   \n",
       "\n",
       "   OBJECTID ProjectID SampleCollEquipmentName SampleCollMethodID  \\\n",
       "0         1    UNGWMN            Water Bottle               GRAB   \n",
       "1         2    UNGWMN            Water Bottle               GRAB   \n",
       "2         3    UNGWMN            Water Bottle               GRAB   \n",
       "3         4    UNGWMN            Water Bottle               GRAB   \n",
       "4         5    UNGWMN            Water Bottle               GRAB   \n",
       "\n",
       "   conduct_uscm notes    pH personnel  temperature_c  \n",
       "0        1680.0  None  8.10      None           20.1  \n",
       "1         280.0  None  8.27      None           15.9  \n",
       "2         320.0  None  7.97      None           11.5  \n",
       "3        1300.0  None  8.10      None           17.0  \n",
       "4        1410.0  None  8.40      None           16.3  "
      ]
     },
     "execution_count": 3,
     "metadata": {},
     "output_type": "execute_result"
    }
   ],
   "source": [
    "import requests\n",
    "\n",
    "url = 'https://services.arcgis.com/ZzrwjTRez6FJiOq4/arcgis/rest/services/SamplingActivitiesTable/FeatureServer/1/query?'\n",
    "kwargs = {}\n",
    "kwargs['where'] = 'ActivityID is NOT NULL'\n",
    "kwargs['returnIdsOnly'] = 'false'\n",
    "kwargs['returnUniqueIdsOnly'] = 'false'\n",
    "kwargs['returnCountOnly'] ='false'\n",
    "kwargs['returnDistinctValues'] ='true'\n",
    "kwargs['outFields'] = '*'\n",
    "kwargs['orderByFields'] ='ActivityID'\n",
    "kwargs['sqlFormat'] ='standard'\n",
    "kwargs['f'] ='pjson'\n",
    "kwargs['token'] = 'twt1PeCt9UqHmMEe4hceWzSLu6FllZQoVAi3pdSTvTkH9OZBJVv1RveHS6Xzzcaj4kZ3QozNIniFitdBQ2LKU7Bwjz-WNGdP2yVvEXPc7NRJuj0FsV2njhebPV-5nktDAbdcHKwqUdVQQQ-EnW63gHG17KVZJiMjeyJXy2oduZfPPsGzbhfURZGFuaRRCg3WCT-GI8Tr04lnAHBbYT5g1akFQYmf6QV1lAOVVv4DOnM.'\n",
    "repsns = requests.get(url, params=kwargs)\n",
    "onlineacts = pd.DataFrame([i['attributes'] for i in repsns.json()['features']])\n",
    "onlineacts.head()"
   ]
  },
  {
   "cell_type": "code",
   "execution_count": null,
   "metadata": {
    "ExecuteTime": {
     "end_time": "2019-04-10T23:24:05.172672Z",
     "start_time": "2019-04-10T23:24:05.156639Z"
    }
   },
   "outputs": [],
   "source": []
  },
  {
   "cell_type": "code",
   "execution_count": null,
   "metadata": {
    "ExecuteTime": {
     "end_time": "2019-04-10T23:20:28.032027Z",
     "start_time": "2019-04-10T23:20:28.021973Z"
    }
   },
   "outputs": [],
   "source": [
    "'1805005-10RE1','UNGWMN',404724111562501,'2018-05-08','10:00',NULL,NULL,'paulinkenbrandt','2019-04-15 16:55:42.273037','paulinkenbrandt','2019-04-15 16:55:42.274040',,13063"
   ]
  },
  {
   "cell_type": "code",
   "execution_count": null,
   "metadata": {},
   "outputs": [],
   "source": []
  },
  {
   "cell_type": "markdown",
   "metadata": {},
   "source": [
    "Import the `wqxsde` module (if it is not installed)"
   ]
  },
  {
   "cell_type": "code",
   "execution_count": 4,
   "metadata": {
    "ExecuteTime": {
     "end_time": "2019-04-10T20:01:51.749853Z",
     "start_time": "2019-04-10T20:01:51.743837Z"
    }
   },
   "outputs": [],
   "source": [
    "wqxpath = \"G:/My Drive/Python/Pycharm/wqxsde/\"\n",
    "sys.path.append(wqxpath)\n",
    "import wqxsde"
   ]
  },
  {
   "cell_type": "markdown",
   "metadata": {},
   "source": [
    "assign the relevant paths to the "
   ]
  },
  {
   "cell_type": "code",
   "execution_count": 5,
   "metadata": {
    "ExecuteTime": {
     "end_time": "2019-04-09T15:06:31.761026Z",
     "start_time": "2019-04-09T15:06:23.071227Z"
    }
   },
   "outputs": [],
   "source": [
    "sde = wqxsde.GetPaths()\n",
    "arcpy.env.workspace = sde.enviro\n",
    "wqx_results_filename = \"ResultsExport.xlsx\"\n",
    "wqx_stations_filename = \"LocationsExport.xlsx\""
   ]
  },
  {
   "cell_type": "markdown",
   "metadata": {},
   "source": [
    "# Stations"
   ]
  },
  {
   "cell_type": "markdown",
   "metadata": {},
   "source": [
    "Compare station export from the CDX to the data in the ArcGIS SDE table."
   ]
  },
  {
   "cell_type": "code",
   "execution_count": null,
   "metadata": {},
   "outputs": [],
   "source": [
    "wqx_stat_table, sde_stat_table = wqxsde.compare_sde_wqx(wqx_stations_filename,\n",
    "                                                        sde.enviro, \n",
    "                                                        sde.stations_table,\n",
    "                                                        table_type=\"stat\")"
   ]
  },
  {
   "cell_type": "markdown",
   "metadata": {},
   "source": [
    "Get data from SDE and prepare for WQX import configuration number 6441 <br>\n",
    "https://cdx.epa.gov/WQXWeb/ImportConfigurationDetail.aspx?mode=import&impcfg_uid=6441"
   ]
  },
  {
   "cell_type": "code",
   "execution_count": null,
   "metadata": {},
   "outputs": [],
   "source": [
    "stats = wqxsde.SDEStationstoWQX(sde_stat_table,\"G:/My Drive/Python/Pycharm/wqxsde\")\n",
    "stats.save_file() # save file to csv\n",
    "sde_stats = stats.sde_stat_import"
   ]
  },
  {
   "cell_type": "markdown",
   "metadata": {
    "ExecuteTime": {
     "end_time": "2019-04-09T15:07:09.899121Z",
     "start_time": "2019-04-09T15:07:09.896114Z"
    }
   },
   "source": [
    "# Chemistry"
   ]
  },
  {
   "cell_type": "markdown",
   "metadata": {},
   "source": [
    "## EPA Lab Data to SDE"
   ]
  },
  {
   "cell_type": "code",
   "execution_count": 6,
   "metadata": {},
   "outputs": [
    {
     "name": "stdout",
     "output_type": "stream",
     "text": [
      "0 to 22 complete\n",
      "Transaction started...\n",
      "INSERT INTO UGGP.UGGPADMIN.UGS_NGWMN_Monitoring_Phy_Chem_Activities(ActivityID,ProjectID,MonitoringLocationID,ActivityStartDate,ActivityStartTime,notes,personnel,created_user,created_date,last_edited_user,last_edited_date,OBJECTID)\n",
      "VALUES ('1807003-01','UNGWMN','390129110085301','2018-07-09','10:00',NULL,NULL,'paulinkenbrandt','2019-04-16 08:16:04.295547','paulinkenbrandt','2019-04-16 08:16:04.296550', 13069),('1807003-01RE1','UNGWMN','390129110085301','2018-07-09','10:00',NULL,NULL,'paulinkenbrandt','2019-04-16 08:16:04.295547','paulinkenbrandt','2019-04-16 08:16:04.296550', 13070),('1807003-02','UNGWMN','391026110472401','2018-07-09','12:20',NULL,NULL,'paulinkenbrandt','2019-04-16 08:16:04.295547','paulinkenbrandt','2019-04-16 08:16:04.296550', 13071),('1807003-02RE1','UNGWMN','391026110472401','2018-07-09','12:20',NULL,NULL,'paulinkenbrandt','2019-04-16 08:16:04.295547','paulinkenbrandt','2019-04-16 08:16:04.296550', 13072),('1807003-03','UNGWMN','391026110472401d','2018-07-09','13:00',NULL,NULL,'paulinkenbrandt','2019-04-16 08:16:04.295547','paulinkenbrandt','2019-04-16 08:16:04.296550', 13073),('1807003-03RE1','UNGWMN','391026110472401d','2018-07-09','13:00',NULL,NULL,'paulinkenbrandt','2019-04-16 08:16:04.295547','paulinkenbrandt','2019-04-16 08:16:04.296550', 13074),('1807003-04','UNGWMN','411830111581501','2018-07-09','15:20',NULL,NULL,'paulinkenbrandt','2019-04-16 08:16:04.295547','paulinkenbrandt','2019-04-16 08:16:04.296550', 13075),('1807003-08','UNGWMN','412857111495501','2018-07-10','12:15',NULL,NULL,'paulinkenbrandt','2019-04-16 08:16:04.295547','paulinkenbrandt','2019-04-16 08:16:04.296550', 13076),('1807003-13','UNGWMN','41332113545101','2018-07-10','15:15',NULL,NULL,'paulinkenbrandt','2019-04-16 08:16:04.295547','paulinkenbrandt','2019-04-16 08:16:04.296550', 13077),('1807003-13RE1','UNGWMN','41332113545101','2018-07-10','15:15',NULL,NULL,'paulinkenbrandt','2019-04-16 08:16:04.295547','paulinkenbrandt','2019-04-16 08:16:04.296550', 13078),('1807003-07','UNGWMN','414143111495501','2018-07-10','11:00',NULL,NULL,'paulinkenbrandt','2019-04-16 08:16:04.295547','paulinkenbrandt','2019-04-16 08:16:04.296550', 13079),('1807003-09','UNGWMN','414234112551701','2018-07-09','19:23',NULL,NULL,'paulinkenbrandt','2019-04-16 08:16:04.295547','paulinkenbrandt','2019-04-16 08:16:04.296550', 13080),('1807003-09RE1','UNGWMN','414234112551701','2018-07-09','19:23',NULL,NULL,'paulinkenbrandt','2019-04-16 08:16:04.295547','paulinkenbrandt','2019-04-16 08:16:04.296550', 13081),('1807003-09RE2','UNGWMN','414234112551701','2018-07-09','19:23',NULL,NULL,'paulinkenbrandt','2019-04-16 08:16:04.295547','paulinkenbrandt','2019-04-16 08:16:04.296550', 13082),('1807003-05','UNGWMN','414454111425901','2018-07-10','08:45',NULL,NULL,'paulinkenbrandt','2019-04-16 08:16:04.295547','paulinkenbrandt','2019-04-16 08:16:04.296550', 13083),('1807003-10','UNGWMN','414729113080001','2018-07-09','20:20',NULL,NULL,'paulinkenbrandt','2019-04-16 08:16:04.295547','paulinkenbrandt','2019-04-16 08:16:04.296550', 13084),('1807003-10RE1','UNGWMN','414729113080001','2018-07-09','20:20',NULL,NULL,'paulinkenbrandt','2019-04-16 08:16:04.295547','paulinkenbrandt','2019-04-16 08:16:04.296550', 13085),('1807003-06','UNGWMN','414905111510701','2018-07-10','10:00',NULL,NULL,'paulinkenbrandt','2019-04-16 08:16:04.295547','paulinkenbrandt','2019-04-16 08:16:04.296550', 13086),('1807003-12','UNGWMN','415657112514101','2018-07-10','12:06',NULL,NULL,'paulinkenbrandt','2019-04-16 08:16:04.295547','paulinkenbrandt','2019-04-16 08:16:04.296550', 13087),('1807003-12RE1','UNGWMN','415657112514101','2018-07-10','12:06',NULL,NULL,'paulinkenbrandt','2019-04-16 08:16:04.295547','paulinkenbrandt','2019-04-16 08:16:04.296550', 13088),('1807003-11','UNGWMN','415704112514701','2018-07-10','10:30',NULL,NULL,'paulinkenbrandt','2019-04-16 08:16:04.295547','paulinkenbrandt','2019-04-16 08:16:04.296550', 13089),('1807003-11RE1','UNGWMN','415704112514701','2018-07-10','10:30',NULL,NULL,'paulinkenbrandt','2019-04-16 08:16:04.295547','paulinkenbrandt','2019-04-16 08:16:04.296550', 13090)\n",
      "Committed Transaction\n",
      "success!\n",
      "0 to 286 complete\n",
      "Transaction started...\n",
      "INSERT INTO UGGP.UGGPADMIN.UGS_NGWMN_Monitoring_Phy_Chem_Results(ActivityID,MonitoringLocationID,ResultAnalyticalMethodContext,ResultAnalyticalMethodID,ResultSampleFraction,resultvalue,DetecQuantLimitMeasure,ResultDetecQuantLimitUnit,ResultUnit,AnalysisStartDate,ResultDetecQuantLimitType,ResultDetectionCondition,CharacteristicName,MethodSpeciation,characteristicgroup,resultid,inwqx,created_user,last_edited_user,created_date,last_edited_date,OBJECTID)\n",
      "VALUES ('1807003-01','390129110085301','USEPA','300.0','Total',NULL,0.5,'mg/l','mg/l','2018-07-13','Lower Reporting Limit','Below Reporting Limit','Bromide',NULL,'Inorganics, Major, Non-metals','1807003-01-Bromide',0,'paulinkenbrandt','paulinkenbrandt','2019-04-16 08:16:04.295547','2019-04-16 08:16:04.296550', 14069),('1807003-01','390129110085301','USEPA','300.0','Total',26.0,1.0,'mg/l','mg/l','2018-07-13',NULL,NULL,'Chloride',NULL,'Inorganics, Major, Non-metals','1807003-01-Chloride',0,'paulinkenbrandt','paulinkenbrandt','2019-04-16 08:16:04.295547','2019-04-16 08:16:04.296550', 14070),('1807003-01','390129110085301','USEPA','300.0','Total',NULL,0.5,'mg/l','mg/l','2018-07-13','Lower Reporting Limit','Below Reporting Limit','Fluoride',NULL,'Inorganics, Major, Non-metals','1807003-01-Fluoride',0,'paulinkenbrandt','paulinkenbrandt','2019-04-16 08:16:04.295547','2019-04-16 08:16:04.296550', 14071),('1807003-01','390129110085301','USEPA','310.1','Total',366.0,50.0,'mg/l','mg/l','2018-07-18',NULL,NULL,'Alkalinity',NULL,NULL,'1807003-01-Alkalinity',0,'paulinkenbrandt','paulinkenbrandt','2019-04-16 08:16:04.295547','2019-04-16 08:16:04.296550', 14072),('1807003-01','390129110085301','USEPA','350.1','Total',NULL,0.05,'mg/l','mg/l','2018-07-30','Lower Reporting Limit','Below Reporting Limit','Ammonia','as N','Nutrient','1807003-01-Ammonia',0,'paulinkenbrandt','paulinkenbrandt','2019-04-16 08:16:04.295547','2019-04-16 08:16:04.296550', 14073),('1807003-01','390129110085301','USEPA','200.8','Total',NULL,2.0,'ug/l','ug/l','2018-08-22','Lower Reporting Limit','Below Reporting Limit','Arsenic',NULL,'Inorganics, Minor, Non-metals','1807003-01-Arsenic',0,'paulinkenbrandt','paulinkenbrandt','2019-04-16 08:16:04.295547','2019-04-16 08:16:04.296550', 14074),('1807003-01','390129110085301','USEPA','200.8','Total',NULL,0.2,'ug/l','ug/l','2018-08-22','Lower Reporting Limit','Below Reporting Limit','Cadmium',NULL,'Inorganics, Minor, Metals','1807003-01-Cadmium',0,'paulinkenbrandt','paulinkenbrandt','2019-04-16 08:16:04.295547','2019-04-16 08:16:04.296550', 14075),('1807003-01','390129110085301','USEPA','200.8','Total',NULL,0.5,'ug/l','ug/l','2018-08-22','Lower Reporting Limit','Below Reporting Limit','Lead',NULL,'Inorganics, Minor, Metals','1807003-01-Lead',0,'paulinkenbrandt','paulinkenbrandt','2019-04-16 08:16:04.295547','2019-04-16 08:16:04.296550', 14076),('1807003-01','390129110085301','USEPA','200.8','Total',3.4,1.0,'ug/l','ug/l','2018-08-22',NULL,NULL,'Selenium',NULL,'Inorganics, Minor, Non-metals','1807003-01-Selenium',0,'paulinkenbrandt','paulinkenbrandt','2019-04-16 08:16:04.295547','2019-04-16 08:16:04.296550', 14077),('1807003-01','390129110085301','USEPA','200.8','Total',NULL,10.0,'ug/l','ug/l','2018-08-22','Lower Reporting Limit','Below Reporting Limit','Zinc',NULL,'Inorganics, Minor, Metals','1807003-01-Zinc',0,'paulinkenbrandt','paulinkenbrandt','2019-04-16 08:16:04.295547','2019-04-16 08:16:04.296550', 14078),('1807003-01','390129110085301','USEPA','200.7','Total',118000.0,100.0,'ug/l','ug/l','2018-08-24',NULL,NULL,'Calcium',NULL,'Inorganics, Major, Metals','1807003-01-Calcium',0,'paulinkenbrandt','paulinkenbrandt','2019-04-16 08:16:04.295547','2019-04-16 08:16:04.296550', 14079),('1807003-01','390129110085301','USEPA','200.7','Total',69900.0,500.0,'ug/l','ug/l','2018-08-24',NULL,NULL,'Sodium',NULL,'Inorganics, Major, Metals','1807003-01-Sodium',0,'paulinkenbrandt','paulinkenbrandt','2019-04-16 08:16:04.295547','2019-04-16 08:16:04.296550', 14080),('1807003-01','390129110085301','USEPA','200.7','Total',NULL,100.0,'ug/l','ug/l','2018-08-24','Lower Reporting Limit','Below Reporting Limit','Aluminum',NULL,'Inorganics, Minor, Metals','1807003-01-Aluminum',0,'paulinkenbrandt','paulinkenbrandt','2019-04-16 08:16:04.295547','2019-04-16 08:16:04.296550', 14081),('1807003-01','390129110085301','USEPA','200.7','Total',38.3,4.0,'ug/l','ug/l','2018-08-24',NULL,NULL,'Barium',NULL,'Inorganics, Minor, Metals','1807003-01-Barium',0,'paulinkenbrandt','paulinkenbrandt','2019-04-16 08:16:04.295547','2019-04-16 08:16:04.296550', 14082),('1807003-01','390129110085301','USEPA','200.7','Total',35400.0,100.0,'ug/l','ug/l','2018-08-24',NULL,NULL,'Magnesium',NULL,'Inorganics, Major, Metals','1807003-01-Magnesium',0,'paulinkenbrandt','paulinkenbrandt','2019-04-16 08:16:04.295547','2019-04-16 08:16:04.296550', 14083),('1807003-01','390129110085301','USEPA','200.7','Total',1570.0,1000.0,'ug/l','ug/l','2018-08-24',NULL,NULL,'Potassium',NULL,'Inorganics, Major, Metals','1807003-01-Potassium',0,'paulinkenbrandt','paulinkenbrandt','2019-04-16 08:16:04.295547','2019-04-16 08:16:04.296550', 14084),('1807003-01','390129110085301','USEPA','200.7','Total',NULL,100.0,'ug/l','ug/l','2018-08-24','Lower Reporting Limit','Below Reporting Limit','Iron',NULL,'Inorganics, Minor, Metals','1807003-01-Iron',0,'paulinkenbrandt','paulinkenbrandt','2019-04-16 08:16:04.295547','2019-04-16 08:16:04.296550', 14085),('1807003-01','390129110085301','USEPA','200.7','Total',28.1,2.0,'ug/l','ug/l','2018-08-24',NULL,NULL,'Manganese',NULL,'Inorganics, Minor, Metals','1807003-01-Manganese',0,'paulinkenbrandt','paulinkenbrandt','2019-04-16 08:16:04.295547','2019-04-16 08:16:04.296550', 14086),('1807003-01','390129110085301','USEPA','200.7','Total',NULL,10.0,'ug/l','ug/l','2018-08-24','Lower Reporting Limit','Below Reporting Limit','Copper',NULL,'Inorganics, Minor, Metals','1807003-01-Copper',0,'paulinkenbrandt','paulinkenbrandt','2019-04-16 08:16:04.295547','2019-04-16 08:16:04.296550', 14087),('1807003-01','390129110085301','USEPA','200.7','Total',170.0,100.0,'ug/l','ug/l','2018-08-24',NULL,NULL,'Boron',NULL,'Inorganics, Minor, Non-metals','1807003-01-Boron',0,'paulinkenbrandt','paulinkenbrandt','2019-04-16 08:16:04.295547','2019-04-16 08:16:04.296550', 14088),('1807003-01','390129110085301','USEPA','200.7','Total',NULL,5.0,'ug/l','ug/l','2018-08-24','Lower Reporting Limit','Below Reporting Limit','Chromium',NULL,'Inorganics, Minor, Metals','1807003-01-Chromium',0,'paulinkenbrandt','paulinkenbrandt','2019-04-16 08:16:04.295547','2019-04-16 08:16:04.296550', 14089),('1807003-01RE1','390129110085301','USEPA','300.0','Total',213.0,50.0,'mg/l','mg/l','2018-07-16',NULL,NULL,'Sulfate','as SO4','Inorganics, Major, Non-metals','1807003-01RE1-Sulfate',0,'paulinkenbrandt','paulinkenbrandt','2019-04-16 08:16:04.295547','2019-04-16 08:16:04.296550', 14090),('1807003-02','391026110472401','USEPA','300.0','Total',NULL,0.5,'mg/l','mg/l','2018-07-13','Lower Reporting Limit','Below Reporting Limit','Bromide',NULL,'Inorganics, Major, Non-metals','1807003-02-Bromide',0,'paulinkenbrandt','paulinkenbrandt','2019-04-16 08:16:04.295547','2019-04-16 08:16:04.296550', 14091),('1807003-02','391026110472401','USEPA','300.0','Total',NULL,0.5,'mg/l','mg/l','2018-07-13','Lower Reporting Limit','Below Reporting Limit','Fluoride',NULL,'Inorganics, Major, Non-metals','1807003-02-Fluoride',0,'paulinkenbrandt','paulinkenbrandt','2019-04-16 08:16:04.295547','2019-04-16 08:16:04.296550', 14092),('1807003-02','391026110472401','USEPA','310.1','Total',84.7,10.0,'mg/l','mg/l','2018-07-18',NULL,NULL,'Alkalinity',NULL,NULL,'1807003-02-Alkalinity',0,'paulinkenbrandt','paulinkenbrandt','2019-04-16 08:16:04.295547','2019-04-16 08:16:04.296550', 14093),('1807003-02','391026110472401','USEPA','350.1','Total',NULL,0.05,'mg/l','mg/l','2018-07-30','Lower Reporting Limit','Below Reporting Limit','Ammonia','as N','Nutrient','1807003-02-Ammonia',0,'paulinkenbrandt','paulinkenbrandt','2019-04-16 08:16:04.295547','2019-04-16 08:16:04.296550', 14094),('1807003-02','391026110472401','USEPA','200.8','Total',NULL,2.0,'ug/l','ug/l','2018-08-22','Lower Reporting Limit','Below Reporting Limit','Arsenic',NULL,'Inorganics, Minor, Non-metals','1807003-02-Arsenic',0,'paulinkenbrandt','paulinkenbrandt','2019-04-16 08:16:04.295547','2019-04-16 08:16:04.296550', 14095),('1807003-02','391026110472401','USEPA','200.8','Total',NULL,0.2,'ug/l','ug/l','2018-08-22','Lower Reporting Limit','Below Reporting Limit','Cadmium',NULL,'Inorganics, Minor, Metals','1807003-02-Cadmium',0,'paulinkenbrandt','paulinkenbrandt','2019-04-16 08:16:04.295547','2019-04-16 08:16:04.296550', 14096),('1807003-02','391026110472401','USEPA','200.8','Total',NULL,0.5,'ug/l','ug/l','2018-08-22','Lower Reporting Limit','Below Reporting Limit','Lead',NULL,'Inorganics, Minor, Metals','1807003-02-Lead',0,'paulinkenbrandt','paulinkenbrandt','2019-04-16 08:16:04.295547','2019-04-16 08:16:04.296550', 14097),('1807003-02','391026110472401','USEPA','200.8','Total',4.2,1.0,'ug/l','ug/l','2018-08-22',NULL,NULL,'Selenium',NULL,'Inorganics, Minor, Non-metals','1807003-02-Selenium',0,'paulinkenbrandt','paulinkenbrandt','2019-04-16 08:16:04.295547','2019-04-16 08:16:04.296550', 14098),('1807003-02','391026110472401','USEPA','200.8','Total',NULL,10.0,'ug/l','ug/l','2018-08-22','Lower Reporting Limit','Below Reporting Limit','Zinc',NULL,'Inorganics, Minor, Metals','1807003-02-Zinc',0,'paulinkenbrandt','paulinkenbrandt','2019-04-16 08:16:04.295547','2019-04-16 08:16:04.296550', 14099),('1807003-02','391026110472401','USEPA','200.7','Total',259000.0,100.0,'ug/l','ug/l','2018-08-22',NULL,NULL,'Magnesium',NULL,'Inorganics, Major, Metals','1807003-02-Magnesium',0,'paulinkenbrandt','paulinkenbrandt','2019-04-16 08:16:04.295547','2019-04-16 08:16:04.296550', 14100),('1807003-02','391026110472401','USEPA','200.7','Total',380000.0,500.0,'ug/l','ug/l','2018-08-22',NULL,NULL,'Sodium',NULL,'Inorganics, Major, Metals','1807003-02-Sodium',0,'paulinkenbrandt','paulinkenbrandt','2019-04-16 08:16:04.295547','2019-04-16 08:16:04.296550', 14101),('1807003-02','391026110472401','USEPA','200.7','Total',NULL,100.0,'ug/l','ug/l','2018-08-22','Lower Reporting Limit','Below Reporting Limit','Aluminum',NULL,'Inorganics, Minor, Metals','1807003-02-Aluminum',0,'paulinkenbrandt','paulinkenbrandt','2019-04-16 08:16:04.295547','2019-04-16 08:16:04.296550', 14102),('1807003-02','391026110472401','USEPA','200.7','Total',6.9,4.0,'ug/l','ug/l','2018-08-22',NULL,NULL,'Barium',NULL,'Inorganics, Minor, Metals','1807003-02-Barium',0,'paulinkenbrandt','paulinkenbrandt','2019-04-16 08:16:04.295547','2019-04-16 08:16:04.296550', 14103),('1807003-02','391026110472401','USEPA','200.7','Total',10600.0,1000.0,'ug/l','ug/l','2018-08-22',NULL,NULL,'Potassium',NULL,'Inorganics, Major, Metals','1807003-02-Potassium',0,'paulinkenbrandt','paulinkenbrandt','2019-04-16 08:16:04.295547','2019-04-16 08:16:04.296550', 14104),('1807003-02','391026110472401','USEPA','200.7','Total',NULL,100.0,'ug/l','ug/l','2018-08-22','Lower Reporting Limit','Below Reporting Limit','Iron',NULL,'Inorganics, Minor, Metals','1807003-02-Iron',0,'paulinkenbrandt','paulinkenbrandt','2019-04-16 08:16:04.295547','2019-04-16 08:16:04.296550', 14105),('1807003-02','391026110472401','USEPA','200.7','Total',47.3,2.0,'ug/l','ug/l','2018-08-22',NULL,NULL,'Manganese',NULL,'Inorganics, Minor, Metals','1807003-02-Manganese',0,'paulinkenbrandt','paulinkenbrandt','2019-04-16 08:16:04.295547','2019-04-16 08:16:04.296550', 14106),('1807003-02','391026110472401','USEPA','200.7','Total',1220.0,100.0,'ug/l','ug/l','2018-08-22',NULL,NULL,'Boron',NULL,'Inorganics, Minor, Non-metals','1807003-02-Boron',0,'paulinkenbrandt','paulinkenbrandt','2019-04-16 08:16:04.295547','2019-04-16 08:16:04.296550', 14107),('1807003-02','391026110472401','USEPA','200.7','Total',NULL,5.0,'ug/l','ug/l','2018-08-22','Lower Reporting Limit','Below Reporting Limit','Chromium',NULL,'Inorganics, Minor, Metals','1807003-02-Chromium',0,'paulinkenbrandt','paulinkenbrandt','2019-04-16 08:16:04.295547','2019-04-16 08:16:04.296550', 14108),('1807003-02','391026110472401','USEPA','200.7','Total',NULL,10.0,'ug/l','ug/l','2018-08-22','Lower Reporting Limit','Below Reporting Limit','Copper',NULL,'Inorganics, Minor, Metals','1807003-02-Copper',0,'paulinkenbrandt','paulinkenbrandt','2019-04-16 08:16:04.295547','2019-04-16 08:16:04.296550', 14109),('1807003-02RE1','391026110472401','USEPA','300.0','Total',666.0,20.0,'mg/l','mg/l','2018-07-16',NULL,NULL,'Chloride',NULL,'Inorganics, Major, Non-metals','1807003-02RE1-Chloride',0,'paulinkenbrandt','paulinkenbrandt','2019-04-16 08:16:04.295547','2019-04-16 08:16:04.296550', 14110),('1807003-02RE1','391026110472401','USEPA','300.0','Total',2400.0,50.0,'mg/l','mg/l','2018-07-16',NULL,NULL,'Sulfate','as SO4','Inorganics, Major, Non-metals','1807003-02RE1-Sulfate',0,'paulinkenbrandt','paulinkenbrandt','2019-04-16 08:16:04.295547','2019-04-16 08:16:04.296550', 14111),('1807003-02RE1','391026110472401','USEPA','200.7','Total',542000.0,500.0,'ug/l','ug/l','2018-08-22',NULL,NULL,'Calcium',NULL,'Inorganics, Major, Metals','1807003-02RE1-Calcium',0,'paulinkenbrandt','paulinkenbrandt','2019-04-16 08:16:04.295547','2019-04-16 08:16:04.296550', 14112),('1807003-03','391026110472401d','USEPA','300.0','Total',NULL,0.5,'mg/l','mg/l','2018-07-13','Lower Reporting Limit','Below Reporting Limit','Bromide',NULL,'Inorganics, Major, Non-metals','1807003-03-Bromide',0,'paulinkenbrandt','paulinkenbrandt','2019-04-16 08:16:04.295547','2019-04-16 08:16:04.296550', 14113),('1807003-03','391026110472401d','USEPA','300.0','Total',NULL,0.5,'mg/l','mg/l','2018-07-13','Lower Reporting Limit','Below Reporting Limit','Fluoride',NULL,'Inorganics, Major, Non-metals','1807003-03-Fluoride',0,'paulinkenbrandt','paulinkenbrandt','2019-04-16 08:16:04.295547','2019-04-16 08:16:04.296550', 14114),('1807003-03','391026110472401d','USEPA','310.1','Total',83.5,10.0,'mg/l','mg/l','2018-07-18',NULL,NULL,'Alkalinity',NULL,NULL,'1807003-03-Alkalinity',0,'paulinkenbrandt','paulinkenbrandt','2019-04-16 08:16:04.295547','2019-04-16 08:16:04.296550', 14115),('1807003-03','391026110472401d','USEPA','350.1','Total',NULL,0.05,'mg/l','mg/l','2018-07-30','Lower Reporting Limit','Below Reporting Limit','Ammonia','as N','Nutrient','1807003-03-Ammonia',0,'paulinkenbrandt','paulinkenbrandt','2019-04-16 08:16:04.295547','2019-04-16 08:16:04.296550', 14116),('1807003-03','391026110472401d','USEPA','200.8','Total',NULL,2.0,'ug/l','ug/l','2018-08-22','Lower Reporting Limit','Below Reporting Limit','Arsenic',NULL,'Inorganics, Minor, Non-metals','1807003-03-Arsenic',0,'paulinkenbrandt','paulinkenbrandt','2019-04-16 08:16:04.295547','2019-04-16 08:16:04.296550', 14117),('1807003-03','391026110472401d','USEPA','200.8','Total',NULL,0.2,'ug/l','ug/l','2018-08-22','Lower Reporting Limit','Below Reporting Limit','Cadmium',NULL,'Inorganics, Minor, Metals','1807003-03-Cadmium',0,'paulinkenbrandt','paulinkenbrandt','2019-04-16 08:16:04.295547','2019-04-16 08:16:04.296550', 14118),('1807003-03','391026110472401d','USEPA','200.8','Total',NULL,0.5,'ug/l','ug/l','2018-08-22','Lower Reporting Limit','Below Reporting Limit','Lead',NULL,'Inorganics, Minor, Metals','1807003-03-Lead',0,'paulinkenbrandt','paulinkenbrandt','2019-04-16 08:16:04.295547','2019-04-16 08:16:04.296550', 14119),('1807003-03','391026110472401d','USEPA','200.8','Total',4.5,1.0,'ug/l','ug/l','2018-08-22',NULL,NULL,'Selenium',NULL,'Inorganics, Minor, Non-metals','1807003-03-Selenium',0,'paulinkenbrandt','paulinkenbrandt','2019-04-16 08:16:04.295547','2019-04-16 08:16:04.296550', 14120),('1807003-03','391026110472401d','USEPA','200.8','Total',11.1,10.0,'ug/l','ug/l','2018-08-22',NULL,NULL,'Zinc',NULL,'Inorganics, Minor, Metals','1807003-03-Zinc',0,'paulinkenbrandt','paulinkenbrandt','2019-04-16 08:16:04.295547','2019-04-16 08:16:04.296550', 14121),('1807003-03','391026110472401d','USEPA','200.7','Total',379000.0,500.0,'ug/l','ug/l','2018-08-22',NULL,NULL,'Sodium',NULL,'Inorganics, Major, Metals','1807003-03-Sodium',0,'paulinkenbrandt','paulinkenbrandt','2019-04-16 08:16:04.295547','2019-04-16 08:16:04.296550', 14122),('1807003-03','391026110472401d','USEPA','200.7','Total',NULL,100.0,'ug/l','ug/l','2018-08-22','Lower Reporting Limit','Below Reporting Limit','Aluminum',NULL,'Inorganics, Minor, Metals','1807003-03-Aluminum',0,'paulinkenbrandt','paulinkenbrandt','2019-04-16 08:16:04.295547','2019-04-16 08:16:04.296550', 14123),('1807003-03','391026110472401d','USEPA','200.7','Total',7.1,4.0,'ug/l','ug/l','2018-08-22',NULL,NULL,'Barium',NULL,'Inorganics, Minor, Metals','1807003-03-Barium',0,'paulinkenbrandt','paulinkenbrandt','2019-04-16 08:16:04.295547','2019-04-16 08:16:04.296550', 14124),('1807003-03','391026110472401d','USEPA','200.7','Total',266000.0,100.0,'ug/l','ug/l','2018-08-22',NULL,NULL,'Magnesium',NULL,'Inorganics, Major, Metals','1807003-03-Magnesium',0,'paulinkenbrandt','paulinkenbrandt','2019-04-16 08:16:04.295547','2019-04-16 08:16:04.296550', 14125),('1807003-03','391026110472401d','USEPA','200.7','Total',11100.0,1000.0,'ug/l','ug/l','2018-08-22',NULL,NULL,'Potassium',NULL,'Inorganics, Major, Metals','1807003-03-Potassium',0,'paulinkenbrandt','paulinkenbrandt','2019-04-16 08:16:04.295547','2019-04-16 08:16:04.296550', 14126),('1807003-03','391026110472401d','USEPA','200.7','Total',NULL,100.0,'ug/l','ug/l','2018-08-22','Lower Reporting Limit','Below Reporting Limit','Iron',NULL,'Inorganics, Minor, Metals','1807003-03-Iron',0,'paulinkenbrandt','paulinkenbrandt','2019-04-16 08:16:04.295547','2019-04-16 08:16:04.296550', 14127),('1807003-03','391026110472401d','USEPA','200.7','Total',45.9,2.0,'ug/l','ug/l','2018-08-22',NULL,NULL,'Manganese',NULL,'Inorganics, Minor, Metals','1807003-03-Manganese',0,'paulinkenbrandt','paulinkenbrandt','2019-04-16 08:16:04.295547','2019-04-16 08:16:04.296550', 14128),('1807003-03','391026110472401d','USEPA','200.7','Total',1150.0,100.0,'ug/l','ug/l','2018-08-22',NULL,NULL,'Boron',NULL,'Inorganics, Minor, Non-metals','1807003-03-Boron',0,'paulinkenbrandt','paulinkenbrandt','2019-04-16 08:16:04.295547','2019-04-16 08:16:04.296550', 14129),('1807003-03','391026110472401d','USEPA','200.7','Total',NULL,10.0,'ug/l','ug/l','2018-08-22','Lower Reporting Limit','Below Reporting Limit','Copper',NULL,'Inorganics, Minor, Metals','1807003-03-Copper',0,'paulinkenbrandt','paulinkenbrandt','2019-04-16 08:16:04.295547','2019-04-16 08:16:04.296550', 14130),('1807003-03','391026110472401d','USEPA','200.7','Total',NULL,5.0,'ug/l','ug/l','2018-08-22','Lower Reporting Limit','Below Reporting Limit','Chromium',NULL,'Inorganics, Minor, Metals','1807003-03-Chromium',0,'paulinkenbrandt','paulinkenbrandt','2019-04-16 08:16:04.295547','2019-04-16 08:16:04.296550', 14131),('1807003-03RE1','391026110472401d','USEPA','300.0','Total',667.0,20.0,'mg/l','mg/l','2018-07-16',NULL,NULL,'Chloride',NULL,'Inorganics, Major, Non-metals','1807003-03RE1-Chloride',0,'paulinkenbrandt','paulinkenbrandt','2019-04-16 08:16:04.295547','2019-04-16 08:16:04.296550', 14132),('1807003-03RE1','391026110472401d','USEPA','300.0','Total',2410.0,50.0,'mg/l','mg/l','2018-07-16',NULL,NULL,'Sulfate','as SO4','Inorganics, Major, Non-metals','1807003-03RE1-Sulfate',0,'paulinkenbrandt','paulinkenbrandt','2019-04-16 08:16:04.295547','2019-04-16 08:16:04.296550', 14133),('1807003-03RE1','391026110472401d','USEPA','200.7','Total',549000.0,500.0,'ug/l','ug/l','2018-08-22',NULL,NULL,'Calcium',NULL,'Inorganics, Major, Metals','1807003-03RE1-Calcium',0,'paulinkenbrandt','paulinkenbrandt','2019-04-16 08:16:04.295547','2019-04-16 08:16:04.296550', 14134),('1807003-04','411830111581501','USEPA','300.0','Total',NULL,0.5,'mg/l','mg/l','2018-07-13','Lower Reporting Limit','Below Reporting Limit','Bromide',NULL,'Inorganics, Major, Non-metals','1807003-04-Bromide',0,'paulinkenbrandt','paulinkenbrandt','2019-04-16 08:16:04.295547','2019-04-16 08:16:04.296550', 14135),('1807003-04','411830111581501','USEPA','300.0','Total',6.17,1.0,'mg/l','mg/l','2018-07-13',NULL,NULL,'Chloride',NULL,'Inorganics, Major, Non-metals','1807003-04-Chloride',0,'paulinkenbrandt','paulinkenbrandt','2019-04-16 08:16:04.295547','2019-04-16 08:16:04.296550', 14136),('1807003-04','411830111581501','USEPA','300.0','Total',NULL,0.5,'mg/l','mg/l','2018-07-13','Lower Reporting Limit','Below Reporting Limit','Fluoride',NULL,'Inorganics, Major, Non-metals','1807003-04-Fluoride',0,'paulinkenbrandt','paulinkenbrandt','2019-04-16 08:16:04.295547','2019-04-16 08:16:04.296550', 14137),('1807003-04','411830111581501','USEPA','300.0','Total',7.83,2.5,'mg/l','mg/l','2018-07-13',NULL,NULL,'Sulfate','as SO4','Inorganics, Major, Non-metals','1807003-04-Sulfate',0,'paulinkenbrandt','paulinkenbrandt','2019-04-16 08:16:04.295547','2019-04-16 08:16:04.296550', 14138),('1807003-04','411830111581501','USEPA','310.1','Total',153.0,10.0,'mg/l','mg/l','2018-07-18',NULL,NULL,'Alkalinity',NULL,NULL,'1807003-04-Alkalinity',0,'paulinkenbrandt','paulinkenbrandt','2019-04-16 08:16:04.295547','2019-04-16 08:16:04.296550', 14139),('1807003-04','411830111581501','USEPA','350.1','Total',NULL,0.05,'mg/l','mg/l','2018-07-30','Lower Reporting Limit','Below Reporting Limit','Ammonia','as N','Nutrient','1807003-04-Ammonia',0,'paulinkenbrandt','paulinkenbrandt','2019-04-16 08:16:04.295547','2019-04-16 08:16:04.296550', 14140),('1807003-04','411830111581501','USEPA','200.8','Total',NULL,2.0,'ug/l','ug/l','2018-08-22','Lower Reporting Limit','Below Reporting Limit','Arsenic',NULL,'Inorganics, Minor, Non-metals','1807003-04-Arsenic',0,'paulinkenbrandt','paulinkenbrandt','2019-04-16 08:16:04.295547','2019-04-16 08:16:04.296550', 14141),('1807003-04','411830111581501','USEPA','200.8','Total',NULL,0.2,'ug/l','ug/l','2018-08-22','Lower Reporting Limit','Below Reporting Limit','Cadmium',NULL,'Inorganics, Minor, Metals','1807003-04-Cadmium',0,'paulinkenbrandt','paulinkenbrandt','2019-04-16 08:16:04.295547','2019-04-16 08:16:04.296550', 14142),('1807003-04','411830111581501','USEPA','200.8','Total',NULL,0.5,'ug/l','ug/l','2018-08-22','Lower Reporting Limit','Below Reporting Limit','Lead',NULL,'Inorganics, Minor, Metals','1807003-04-Lead',0,'paulinkenbrandt','paulinkenbrandt','2019-04-16 08:16:04.295547','2019-04-16 08:16:04.296550', 14143),('1807003-04','411830111581501','USEPA','200.8','Total',NULL,1.0,'ug/l','ug/l','2018-08-22','Lower Reporting Limit','Below Reporting Limit','Selenium',NULL,'Inorganics, Minor, Non-metals','1807003-04-Selenium',0,'paulinkenbrandt','paulinkenbrandt','2019-04-16 08:16:04.295547','2019-04-16 08:16:04.296550', 14144),('1807003-04','411830111581501','USEPA','200.8','Total',NULL,10.0,'ug/l','ug/l','2018-08-22','Lower Reporting Limit','Below Reporting Limit','Zinc',NULL,'Inorganics, Minor, Metals','1807003-04-Zinc',0,'paulinkenbrandt','paulinkenbrandt','2019-04-16 08:16:04.295547','2019-04-16 08:16:04.296550', 14145),('1807003-04','411830111581501','USEPA','200.7','Total',NULL,100.0,'ug/l','ug/l','2018-08-22','Lower Reporting Limit','Below Reporting Limit','Aluminum',NULL,'Inorganics, Minor, Metals','1807003-04-Aluminum',0,'paulinkenbrandt','paulinkenbrandt','2019-04-16 08:16:04.295547','2019-04-16 08:16:04.296550', 14146),('1807003-04','411830111581501','USEPA','200.7','Total',102.0,4.0,'ug/l','ug/l','2018-08-22',NULL,NULL,'Barium',NULL,'Inorganics, Minor, Metals','1807003-04-Barium',0,'paulinkenbrandt','paulinkenbrandt','2019-04-16 08:16:04.295547','2019-04-16 08:16:04.296550', 14147),('1807003-04','411830111581501','USEPA','200.7','Total',47700.0,100.0,'ug/l','ug/l','2018-08-22',NULL,NULL,'Calcium',NULL,'Inorganics, Major, Metals','1807003-04-Calcium',0,'paulinkenbrandt','paulinkenbrandt','2019-04-16 08:16:04.295547','2019-04-16 08:16:04.296550', 14148),('1807003-04','411830111581501','USEPA','200.7','Total',8560.0,100.0,'ug/l','ug/l','2018-08-22',NULL,NULL,'Magnesium',NULL,'Inorganics, Major, Metals','1807003-04-Magnesium',0,'paulinkenbrandt','paulinkenbrandt','2019-04-16 08:16:04.295547','2019-04-16 08:16:04.296550', 14149),('1807003-04','411830111581501','USEPA','200.7','Total',NULL,1000.0,'ug/l','ug/l','2018-08-22','Lower Reporting Limit','Below Reporting Limit','Potassium',NULL,'Inorganics, Major, Metals','1807003-04-Potassium',0,'paulinkenbrandt','paulinkenbrandt','2019-04-16 08:16:04.295547','2019-04-16 08:16:04.296550', 14150),('1807003-04','411830111581501','USEPA','200.7','Total',6080.0,500.0,'ug/l','ug/l','2018-08-22',NULL,NULL,'Sodium',NULL,'Inorganics, Major, Metals','1807003-04-Sodium',0,'paulinkenbrandt','paulinkenbrandt','2019-04-16 08:16:04.295547','2019-04-16 08:16:04.296550', 14151),('1807003-04','411830111581501','USEPA','200.7','Total',NULL,100.0,'ug/l','ug/l','2018-08-22','Lower Reporting Limit','Below Reporting Limit','Iron',NULL,'Inorganics, Minor, Metals','1807003-04-Iron',0,'paulinkenbrandt','paulinkenbrandt','2019-04-16 08:16:04.295547','2019-04-16 08:16:04.296550', 14152),('1807003-04','411830111581501','USEPA','200.7','Total',NULL,2.0,'ug/l','ug/l','2018-08-22','Lower Reporting Limit','Below Reporting Limit','Manganese',NULL,'Inorganics, Minor, Metals','1807003-04-Manganese',0,'paulinkenbrandt','paulinkenbrandt','2019-04-16 08:16:04.295547','2019-04-16 08:16:04.296550', 14153),('1807003-04','411830111581501','USEPA','200.7','Total',NULL,10.0,'ug/l','ug/l','2018-08-22','Lower Reporting Limit','Below Reporting Limit','Copper',NULL,'Inorganics, Minor, Metals','1807003-04-Copper',0,'paulinkenbrandt','paulinkenbrandt','2019-04-16 08:16:04.295547','2019-04-16 08:16:04.296550', 14154),('1807003-04','411830111581501','USEPA','200.7','Total',NULL,100.0,'ug/l','ug/l','2018-08-22','Lower Reporting Limit','Below Reporting Limit','Boron',NULL,'Inorganics, Minor, Non-metals','1807003-04-Boron',0,'paulinkenbrandt','paulinkenbrandt','2019-04-16 08:16:04.295547','2019-04-16 08:16:04.296550', 14155),('1807003-04','411830111581501','USEPA','200.7','Total',NULL,5.0,'ug/l','ug/l','2018-08-22','Lower Reporting Limit','Below Reporting Limit','Chromium',NULL,'Inorganics, Minor, Metals','1807003-04-Chromium',0,'paulinkenbrandt','paulinkenbrandt','2019-04-16 08:16:04.295547','2019-04-16 08:16:04.296550', 14156),('1807003-08','412857111495501','USEPA','300.0','Total',NULL,0.5,'mg/l','mg/l','2018-07-13','Lower Reporting Limit','Below Reporting Limit','Bromide',NULL,'Inorganics, Major, Non-metals','1807003-08-Bromide',0,'paulinkenbrandt','paulinkenbrandt','2019-04-16 08:16:04.295547','2019-04-16 08:16:04.296550', 14157),('1807003-08','412857111495501','USEPA','300.0','Total',5.75,1.0,'mg/l','mg/l','2018-07-13',NULL,NULL,'Chloride',NULL,'Inorganics, Major, Non-metals','1807003-08-Chloride',0,'paulinkenbrandt','paulinkenbrandt','2019-04-16 08:16:04.295547','2019-04-16 08:16:04.296550', 14158),('1807003-08','412857111495501','USEPA','300.0','Total',NULL,0.5,'mg/l','mg/l','2018-07-13','Lower Reporting Limit','Below Reporting Limit','Fluoride',NULL,'Inorganics, Major, Non-metals','1807003-08-Fluoride',0,'paulinkenbrandt','paulinkenbrandt','2019-04-16 08:16:04.295547','2019-04-16 08:16:04.296550', 14159),('1807003-08','412857111495501','USEPA','300.0','Total',4.63,2.5,'mg/l','mg/l','2018-07-13',NULL,NULL,'Sulfate','as SO4','Inorganics, Major, Non-metals','1807003-08-Sulfate',0,'paulinkenbrandt','paulinkenbrandt','2019-04-16 08:16:04.295547','2019-04-16 08:16:04.296550', 14160),('1807003-08','412857111495501','USEPA','310.1','Total',170.0,10.0,'mg/l','mg/l','2018-07-18',NULL,NULL,'Alkalinity',NULL,NULL,'1807003-08-Alkalinity',0,'paulinkenbrandt','paulinkenbrandt','2019-04-16 08:16:04.295547','2019-04-16 08:16:04.296550', 14161),('1807003-08','412857111495501','USEPA','350.1','Total',NULL,0.05,'mg/l','mg/l','2018-07-30','Lower Reporting Limit','Below Reporting Limit','Ammonia','as N','Nutrient','1807003-08-Ammonia',0,'paulinkenbrandt','paulinkenbrandt','2019-04-16 08:16:04.295547','2019-04-16 08:16:04.296550', 14162),('1807003-08','412857111495501','USEPA','200.8','Total',NULL,2.0,'ug/l','ug/l','2018-08-22','Lower Reporting Limit','Below Reporting Limit','Arsenic',NULL,'Inorganics, Minor, Non-metals','1807003-08-Arsenic',0,'paulinkenbrandt','paulinkenbrandt','2019-04-16 08:16:04.295547','2019-04-16 08:16:04.296550', 14163),('1807003-08','412857111495501','USEPA','200.8','Total',NULL,0.2,'ug/l','ug/l','2018-08-22','Lower Reporting Limit','Below Reporting Limit','Cadmium',NULL,'Inorganics, Minor, Metals','1807003-08-Cadmium',0,'paulinkenbrandt','paulinkenbrandt','2019-04-16 08:16:04.295547','2019-04-16 08:16:04.296550', 14164),('1807003-08','412857111495501','USEPA','200.8','Total',NULL,0.5,'ug/l','ug/l','2018-08-22','Lower Reporting Limit','Below Reporting Limit','Lead',NULL,'Inorganics, Minor, Metals','1807003-08-Lead',0,'paulinkenbrandt','paulinkenbrandt','2019-04-16 08:16:04.295547','2019-04-16 08:16:04.296550', 14165),('1807003-08','412857111495501','USEPA','200.8','Total',NULL,1.0,'ug/l','ug/l','2018-08-22','Lower Reporting Limit','Below Reporting Limit','Selenium',NULL,'Inorganics, Minor, Non-metals','1807003-08-Selenium',0,'paulinkenbrandt','paulinkenbrandt','2019-04-16 08:16:04.295547','2019-04-16 08:16:04.296550', 14166),('1807003-08','412857111495501','USEPA','200.8','Total',NULL,10.0,'ug/l','ug/l','2018-08-22','Lower Reporting Limit','Below Reporting Limit','Zinc',NULL,'Inorganics, Minor, Metals','1807003-08-Zinc',0,'paulinkenbrandt','paulinkenbrandt','2019-04-16 08:16:04.295547','2019-04-16 08:16:04.296550', 14167),('1807003-08','412857111495501','USEPA','200.7','Total',NULL,100.0,'ug/l','ug/l','2018-08-22','Lower Reporting Limit','Below Reporting Limit','Aluminum',NULL,'Inorganics, Minor, Metals','1807003-08-Aluminum',0,'paulinkenbrandt','paulinkenbrandt','2019-04-16 08:16:04.295547','2019-04-16 08:16:04.296550', 14168),('1807003-08','412857111495501','USEPA','200.7','Total',28.2,4.0,'ug/l','ug/l','2018-08-22',NULL,NULL,'Barium',NULL,'Inorganics, Minor, Metals','1807003-08-Barium',0,'paulinkenbrandt','paulinkenbrandt','2019-04-16 08:16:04.295547','2019-04-16 08:16:04.296550', 14169),('1807003-08','412857111495501','USEPA','200.7','Total',39400.0,100.0,'ug/l','ug/l','2018-08-22',NULL,NULL,'Calcium',NULL,'Inorganics, Major, Metals','1807003-08-Calcium',0,'paulinkenbrandt','paulinkenbrandt','2019-04-16 08:16:04.295547','2019-04-16 08:16:04.296550', 14170),('1807003-08','412857111495501','USEPA','200.7','Total',16300.0,100.0,'ug/l','ug/l','2018-08-22',NULL,NULL,'Magnesium',NULL,'Inorganics, Major, Metals','1807003-08-Magnesium',0,'paulinkenbrandt','paulinkenbrandt','2019-04-16 08:16:04.295547','2019-04-16 08:16:04.296550', 14171),('1807003-08','412857111495501','USEPA','200.7','Total',NULL,1000.0,'ug/l','ug/l','2018-08-22','Lower Reporting Limit','Below Reporting Limit','Potassium',NULL,'Inorganics, Major, Metals','1807003-08-Potassium',0,'paulinkenbrandt','paulinkenbrandt','2019-04-16 08:16:04.295547','2019-04-16 08:16:04.296550', 14172),('1807003-08','412857111495501','USEPA','200.7','Total',6210.0,500.0,'ug/l','ug/l','2018-08-22',NULL,NULL,'Sodium',NULL,'Inorganics, Major, Metals','1807003-08-Sodium',0,'paulinkenbrandt','paulinkenbrandt','2019-04-16 08:16:04.295547','2019-04-16 08:16:04.296550', 14173),('1807003-08','412857111495501','USEPA','200.7','Total',NULL,100.0,'ug/l','ug/l','2018-08-22','Lower Reporting Limit','Below Reporting Limit','Iron',NULL,'Inorganics, Minor, Metals','1807003-08-Iron',0,'paulinkenbrandt','paulinkenbrandt','2019-04-16 08:16:04.295547','2019-04-16 08:16:04.296550', 14174),('1807003-08','412857111495501','USEPA','200.7','Total',NULL,2.0,'ug/l','ug/l','2018-08-22','Lower Reporting Limit','Below Reporting Limit','Manganese',NULL,'Inorganics, Minor, Metals','1807003-08-Manganese',0,'paulinkenbrandt','paulinkenbrandt','2019-04-16 08:16:04.295547','2019-04-16 08:16:04.296550', 14175),('1807003-08','412857111495501','USEPA','200.7','Total',NULL,10.0,'ug/l','ug/l','2018-08-22','Lower Reporting Limit','Below Reporting Limit','Copper',NULL,'Inorganics, Minor, Metals','1807003-08-Copper',0,'paulinkenbrandt','paulinkenbrandt','2019-04-16 08:16:04.295547','2019-04-16 08:16:04.296550', 14176),('1807003-08','412857111495501','USEPA','200.7','Total',NULL,100.0,'ug/l','ug/l','2018-08-22','Lower Reporting Limit','Below Reporting Limit','Boron',NULL,'Inorganics, Minor, Non-metals','1807003-08-Boron',0,'paulinkenbrandt','paulinkenbrandt','2019-04-16 08:16:04.295547','2019-04-16 08:16:04.296550', 14177),('1807003-08','412857111495501','USEPA','200.7','Total',NULL,5.0,'ug/l','ug/l','2018-08-22','Lower Reporting Limit','Below Reporting Limit','Chromium',NULL,'Inorganics, Minor, Metals','1807003-08-Chromium',0,'paulinkenbrandt','paulinkenbrandt','2019-04-16 08:16:04.295547','2019-04-16 08:16:04.296550', 14178),('1807003-13','41332113545101','USEPA','300.0','Total',NULL,0.5,'mg/l','mg/l','2018-07-13','Lower Reporting Limit','Below Reporting Limit','Bromide',NULL,'Inorganics, Major, Non-metals','1807003-13-Bromide',0,'paulinkenbrandt','paulinkenbrandt','2019-04-16 08:16:04.295547','2019-04-16 08:16:04.296550', 14179),('1807003-13','41332113545101','USEPA','300.0','Total',NULL,0.5,'mg/l','mg/l','2018-07-13','Lower Reporting Limit','Below Reporting Limit','Fluoride',NULL,'Inorganics, Major, Non-metals','1807003-13-Fluoride',0,'paulinkenbrandt','paulinkenbrandt','2019-04-16 08:16:04.295547','2019-04-16 08:16:04.296550', 14180),('1807003-13','41332113545101','USEPA','300.0','Total',111.0,2.5,'mg/l','mg/l','2018-07-13',NULL,NULL,'Sulfate','as SO4','Inorganics, Major, Non-metals','1807003-13-Sulfate',0,'paulinkenbrandt','paulinkenbrandt','2019-04-16 08:16:04.295547','2019-04-16 08:16:04.296550', 14181),('1807003-13','41332113545101','USEPA','310.1','Total',326.0,50.0,'mg/l','mg/l','2018-07-18',NULL,NULL,'Alkalinity',NULL,NULL,'1807003-13-Alkalinity',0,'paulinkenbrandt','paulinkenbrandt','2019-04-16 08:16:04.295547','2019-04-16 08:16:04.296550', 14182),('1807003-13','41332113545101','USEPA','350.1','Total',NULL,0.05,'mg/l','mg/l','2018-07-30','Lower Reporting Limit','Below Reporting Limit','Ammonia','as N','Nutrient','1807003-13-Ammonia',0,'paulinkenbrandt','paulinkenbrandt','2019-04-16 08:16:04.295547','2019-04-16 08:16:04.296550', 14183),('1807003-13','41332113545101','USEPA','200.8','Total',8.7,2.0,'ug/l','ug/l','2018-08-22',NULL,NULL,'Arsenic',NULL,'Inorganics, Minor, Non-metals','1807003-13-Arsenic',0,'paulinkenbrandt','paulinkenbrandt','2019-04-16 08:16:04.295547','2019-04-16 08:16:04.296550', 14184),('1807003-13','41332113545101','USEPA','200.8','Total',NULL,0.2,'ug/l','ug/l','2018-08-22','Lower Reporting Limit','Below Reporting Limit','Cadmium',NULL,'Inorganics, Minor, Metals','1807003-13-Cadmium',0,'paulinkenbrandt','paulinkenbrandt','2019-04-16 08:16:04.295547','2019-04-16 08:16:04.296550', 14185),('1807003-13','41332113545101','USEPA','200.8','Total',NULL,0.5,'ug/l','ug/l','2018-08-22','Lower Reporting Limit','Below Reporting Limit','Lead',NULL,'Inorganics, Minor, Metals','1807003-13-Lead',0,'paulinkenbrandt','paulinkenbrandt','2019-04-16 08:16:04.295547','2019-04-16 08:16:04.296550', 14186),('1807003-13','41332113545101','USEPA','200.8','Total',7.1,1.0,'ug/l','ug/l','2018-08-22',NULL,NULL,'Selenium',NULL,'Inorganics, Minor, Non-metals','1807003-13-Selenium',0,'paulinkenbrandt','paulinkenbrandt','2019-04-16 08:16:04.295547','2019-04-16 08:16:04.296550', 14187),('1807003-13','41332113545101','USEPA','200.8','Total',15.6,10.0,'ug/l','ug/l','2018-08-22',NULL,NULL,'Zinc',NULL,'Inorganics, Minor, Metals','1807003-13-Zinc',0,'paulinkenbrandt','paulinkenbrandt','2019-04-16 08:16:04.295547','2019-04-16 08:16:04.296550', 14188),('1807003-13','41332113545101','USEPA','200.7','Total',110000.0,100.0,'ug/l','ug/l','2018-08-24',NULL,NULL,'Calcium',NULL,'Inorganics, Major, Metals','1807003-13-Calcium',0,'paulinkenbrandt','paulinkenbrandt','2019-04-16 08:16:04.295547','2019-04-16 08:16:04.296550', 14189),('1807003-13','41332113545101','USEPA','200.7','Total',72400.0,500.0,'ug/l','ug/l','2018-08-24',NULL,NULL,'Sodium',NULL,'Inorganics, Major, Metals','1807003-13-Sodium',0,'paulinkenbrandt','paulinkenbrandt','2019-04-16 08:16:04.295547','2019-04-16 08:16:04.296550', 14190),('1807003-13','41332113545101','USEPA','200.7','Total',NULL,100.0,'ug/l','ug/l','2018-08-24','Lower Reporting Limit','Below Reporting Limit','Aluminum',NULL,'Inorganics, Minor, Metals','1807003-13-Aluminum',0,'paulinkenbrandt','paulinkenbrandt','2019-04-16 08:16:04.295547','2019-04-16 08:16:04.296550', 14191),('1807003-13','41332113545101','USEPA','200.7','Total',91.7,4.0,'ug/l','ug/l','2018-08-24',NULL,NULL,'Barium',NULL,'Inorganics, Minor, Metals','1807003-13-Barium',0,'paulinkenbrandt','paulinkenbrandt','2019-04-16 08:16:04.295547','2019-04-16 08:16:04.296550', 14192),('1807003-13','41332113545101','USEPA','200.7','Total',30700.0,100.0,'ug/l','ug/l','2018-08-24',NULL,NULL,'Magnesium',NULL,'Inorganics, Major, Metals','1807003-13-Magnesium',0,'paulinkenbrandt','paulinkenbrandt','2019-04-16 08:16:04.295547','2019-04-16 08:16:04.296550', 14193),('1807003-13','41332113545101','USEPA','200.7','Total',8260.0,1000.0,'ug/l','ug/l','2018-08-24',NULL,NULL,'Potassium',NULL,'Inorganics, Major, Metals','1807003-13-Potassium',0,'paulinkenbrandt','paulinkenbrandt','2019-04-16 08:16:04.295547','2019-04-16 08:16:04.296550', 14194),('1807003-13','41332113545101','USEPA','200.7','Total',NULL,100.0,'ug/l','ug/l','2018-08-24','Lower Reporting Limit','Below Reporting Limit','Iron',NULL,'Inorganics, Minor, Metals','1807003-13-Iron',0,'paulinkenbrandt','paulinkenbrandt','2019-04-16 08:16:04.295547','2019-04-16 08:16:04.296550', 14195),('1807003-13','41332113545101','USEPA','200.7','Total',NULL,2.0,'ug/l','ug/l','2018-08-24','Lower Reporting Limit','Below Reporting Limit','Manganese',NULL,'Inorganics, Minor, Metals','1807003-13-Manganese',0,'paulinkenbrandt','paulinkenbrandt','2019-04-16 08:16:04.295547','2019-04-16 08:16:04.296550', 14196),('1807003-13','41332113545101','USEPA','200.7','Total',NULL,10.0,'ug/l','ug/l','2018-08-24','Lower Reporting Limit','Below Reporting Limit','Copper',NULL,'Inorganics, Minor, Metals','1807003-13-Copper',0,'paulinkenbrandt','paulinkenbrandt','2019-04-16 08:16:04.295547','2019-04-16 08:16:04.296550', 14197),('1807003-13','41332113545101','USEPA','200.7','Total',175.0,100.0,'ug/l','ug/l','2018-08-24',NULL,NULL,'Boron',NULL,'Inorganics, Minor, Non-metals','1807003-13-Boron',0,'paulinkenbrandt','paulinkenbrandt','2019-04-16 08:16:04.295547','2019-04-16 08:16:04.296550', 14198),('1807003-13','41332113545101','USEPA','200.7','Total',NULL,5.0,'ug/l','ug/l','2018-08-24','Lower Reporting Limit','Below Reporting Limit','Chromium',NULL,'Inorganics, Minor, Metals','1807003-13-Chromium',0,'paulinkenbrandt','paulinkenbrandt','2019-04-16 08:16:04.295547','2019-04-16 08:16:04.296550', 14199),('1807003-13RE1','41332113545101','USEPA','300.0','Total',108.0,20.0,'mg/l','mg/l','2018-07-16',NULL,NULL,'Chloride',NULL,'Inorganics, Major, Non-metals','1807003-13RE1-Chloride',0,'paulinkenbrandt','paulinkenbrandt','2019-04-16 08:16:04.295547','2019-04-16 08:16:04.296550', 14200),('1807003-07','414143111495501','USEPA','300.0','Total',NULL,0.5,'mg/l','mg/l','2018-07-13','Lower Reporting Limit','Below Reporting Limit','Bromide',NULL,'Inorganics, Major, Non-metals','1807003-07-Bromide',0,'paulinkenbrandt','paulinkenbrandt','2019-04-16 08:16:04.295547','2019-04-16 08:16:04.296550', 14201),('1807003-07','414143111495501','USEPA','300.0','Total',11.1,1.0,'mg/l','mg/l','2018-07-13',NULL,NULL,'Chloride',NULL,'Inorganics, Major, Non-metals','1807003-07-Chloride',0,'paulinkenbrandt','paulinkenbrandt','2019-04-16 08:16:04.295547','2019-04-16 08:16:04.296550', 14202),('1807003-07','414143111495501','USEPA','300.0','Total',NULL,0.5,'mg/l','mg/l','2018-07-13','Lower Reporting Limit','Below Reporting Limit','Fluoride',NULL,'Inorganics, Major, Non-metals','1807003-07-Fluoride',0,'paulinkenbrandt','paulinkenbrandt','2019-04-16 08:16:04.295547','2019-04-16 08:16:04.296550', 14203),('1807003-07','414143111495501','USEPA','300.0','Total',24.3,2.5,'mg/l','mg/l','2018-07-13',NULL,NULL,'Sulfate','as SO4','Inorganics, Major, Non-metals','1807003-07-Sulfate',0,'paulinkenbrandt','paulinkenbrandt','2019-04-16 08:16:04.295547','2019-04-16 08:16:04.296550', 14204),('1807003-07','414143111495501','USEPA','310.1','Total',291.0,50.0,'mg/l','mg/l','2018-07-18',NULL,NULL,'Alkalinity',NULL,NULL,'1807003-07-Alkalinity',0,'paulinkenbrandt','paulinkenbrandt','2019-04-16 08:16:04.295547','2019-04-16 08:16:04.296550', 14205),('1807003-07','414143111495501','USEPA','350.1','Total',NULL,0.05,'mg/l','mg/l','2018-07-30','Lower Reporting Limit','Below Reporting Limit','Ammonia','as N','Nutrient','1807003-07-Ammonia',0,'paulinkenbrandt','paulinkenbrandt','2019-04-16 08:16:04.295547','2019-04-16 08:16:04.296550', 14206),('1807003-07','414143111495501','USEPA','200.8','Total',NULL,2.0,'ug/l','ug/l','2018-08-22','Lower Reporting Limit','Below Reporting Limit','Arsenic',NULL,'Inorganics, Minor, Non-metals','1807003-07-Arsenic',0,'paulinkenbrandt','paulinkenbrandt','2019-04-16 08:16:04.295547','2019-04-16 08:16:04.296550', 14207),('1807003-07','414143111495501','USEPA','200.8','Total',NULL,0.2,'ug/l','ug/l','2018-08-22','Lower Reporting Limit','Below Reporting Limit','Cadmium',NULL,'Inorganics, Minor, Metals','1807003-07-Cadmium',0,'paulinkenbrandt','paulinkenbrandt','2019-04-16 08:16:04.295547','2019-04-16 08:16:04.296550', 14208),('1807003-07','414143111495501','USEPA','200.8','Total',NULL,0.5,'ug/l','ug/l','2018-08-22','Lower Reporting Limit','Below Reporting Limit','Lead',NULL,'Inorganics, Minor, Metals','1807003-07-Lead',0,'paulinkenbrandt','paulinkenbrandt','2019-04-16 08:16:04.295547','2019-04-16 08:16:04.296550', 14209),('1807003-07','414143111495501','USEPA','200.8','Total',NULL,1.0,'ug/l','ug/l','2018-08-22','Lower Reporting Limit','Below Reporting Limit','Selenium',NULL,'Inorganics, Minor, Non-metals','1807003-07-Selenium',0,'paulinkenbrandt','paulinkenbrandt','2019-04-16 08:16:04.295547','2019-04-16 08:16:04.296550', 14210),('1807003-07','414143111495501','USEPA','200.8','Total',36.5,10.0,'ug/l','ug/l','2018-08-22',NULL,NULL,'Zinc',NULL,'Inorganics, Minor, Metals','1807003-07-Zinc',0,'paulinkenbrandt','paulinkenbrandt','2019-04-16 08:16:04.295547','2019-04-16 08:16:04.296550', 14211),('1807003-07','414143111495501','USEPA','200.7','Total',NULL,100.0,'ug/l','ug/l','2018-08-22','Lower Reporting Limit','Below Reporting Limit','Aluminum',NULL,'Inorganics, Minor, Metals','1807003-07-Aluminum',0,'paulinkenbrandt','paulinkenbrandt','2019-04-16 08:16:04.295547','2019-04-16 08:16:04.296550', 14212),('1807003-07','414143111495501','USEPA','200.7','Total',95.0,4.0,'ug/l','ug/l','2018-08-22',NULL,NULL,'Barium',NULL,'Inorganics, Minor, Metals','1807003-07-Barium',0,'paulinkenbrandt','paulinkenbrandt','2019-04-16 08:16:04.295547','2019-04-16 08:16:04.296550', 14213),('1807003-07','414143111495501','USEPA','200.7','Total',74700.0,100.0,'ug/l','ug/l','2018-08-22',NULL,NULL,'Calcium',NULL,'Inorganics, Major, Metals','1807003-07-Calcium',0,'paulinkenbrandt','paulinkenbrandt','2019-04-16 08:16:04.295547','2019-04-16 08:16:04.296550', 14214),('1807003-07','414143111495501','USEPA','200.7','Total',28200.0,100.0,'ug/l','ug/l','2018-08-22',NULL,NULL,'Magnesium',NULL,'Inorganics, Major, Metals','1807003-07-Magnesium',0,'paulinkenbrandt','paulinkenbrandt','2019-04-16 08:16:04.295547','2019-04-16 08:16:04.296550', 14215),('1807003-07','414143111495501','USEPA','200.7','Total',2090.0,1000.0,'ug/l','ug/l','2018-08-22',NULL,NULL,'Potassium',NULL,'Inorganics, Major, Metals','1807003-07-Potassium',0,'paulinkenbrandt','paulinkenbrandt','2019-04-16 08:16:04.295547','2019-04-16 08:16:04.296550', 14216),('1807003-07','414143111495501','USEPA','200.7','Total',7800.0,500.0,'ug/l','ug/l','2018-08-22',NULL,NULL,'Sodium',NULL,'Inorganics, Major, Metals','1807003-07-Sodium',0,'paulinkenbrandt','paulinkenbrandt','2019-04-16 08:16:04.295547','2019-04-16 08:16:04.296550', 14217),('1807003-07','414143111495501','USEPA','200.7','Total',NULL,100.0,'ug/l','ug/l','2018-08-22','Lower Reporting Limit','Below Reporting Limit','Iron',NULL,'Inorganics, Minor, Metals','1807003-07-Iron',0,'paulinkenbrandt','paulinkenbrandt','2019-04-16 08:16:04.295547','2019-04-16 08:16:04.296550', 14218),('1807003-07','414143111495501','USEPA','200.7','Total',NULL,2.0,'ug/l','ug/l','2018-08-22','Lower Reporting Limit','Below Reporting Limit','Manganese',NULL,'Inorganics, Minor, Metals','1807003-07-Manganese',0,'paulinkenbrandt','paulinkenbrandt','2019-04-16 08:16:04.295547','2019-04-16 08:16:04.296550', 14219),('1807003-07','414143111495501','USEPA','200.7','Total',NULL,10.0,'ug/l','ug/l','2018-08-22','Lower Reporting Limit','Below Reporting Limit','Copper',NULL,'Inorganics, Minor, Metals','1807003-07-Copper',0,'paulinkenbrandt','paulinkenbrandt','2019-04-16 08:16:04.295547','2019-04-16 08:16:04.296550', 14220),('1807003-07','414143111495501','USEPA','200.7','Total',NULL,100.0,'ug/l','ug/l','2018-08-22','Lower Reporting Limit','Below Reporting Limit','Boron',NULL,'Inorganics, Minor, Non-metals','1807003-07-Boron',0,'paulinkenbrandt','paulinkenbrandt','2019-04-16 08:16:04.295547','2019-04-16 08:16:04.296550', 14221),('1807003-07','414143111495501','USEPA','200.7','Total',NULL,5.0,'ug/l','ug/l','2018-08-22','Lower Reporting Limit','Below Reporting Limit','Chromium',NULL,'Inorganics, Minor, Metals','1807003-07-Chromium',0,'paulinkenbrandt','paulinkenbrandt','2019-04-16 08:16:04.295547','2019-04-16 08:16:04.296550', 14222),('1807003-09','414234112551701','USEPA','300.0','Total',NULL,0.5,'mg/l','mg/l','2018-07-13','Lower Reporting Limit','Below Reporting Limit','Bromide',NULL,'Inorganics, Major, Non-metals','1807003-09-Bromide',0,'paulinkenbrandt','paulinkenbrandt','2019-04-16 08:16:04.295547','2019-04-16 08:16:04.296550', 14223),('1807003-09','414234112551701','USEPA','300.0','Total',NULL,0.5,'mg/l','mg/l','2018-07-13','Lower Reporting Limit','Below Reporting Limit','Fluoride',NULL,'Inorganics, Major, Non-metals','1807003-09-Fluoride',0,'paulinkenbrandt','paulinkenbrandt','2019-04-16 08:16:04.295547','2019-04-16 08:16:04.296550', 14224),('1807003-09','414234112551701','USEPA','300.0','Total',130.0,2.5,'mg/l','mg/l','2018-07-13',NULL,NULL,'Sulfate','as SO4','Inorganics, Major, Non-metals','1807003-09-Sulfate',0,'paulinkenbrandt','paulinkenbrandt','2019-04-16 08:16:04.295547','2019-04-16 08:16:04.296550', 14225),('1807003-09','414234112551701','USEPA','310.1','Total',169.0,10.0,'mg/l','mg/l','2018-07-18',NULL,NULL,'Alkalinity',NULL,NULL,'1807003-09-Alkalinity',0,'paulinkenbrandt','paulinkenbrandt','2019-04-16 08:16:04.295547','2019-04-16 08:16:04.296550', 14226),('1807003-09','414234112551701','USEPA','350.1','Total',0.066,0.05,'mg/l','mg/l','2018-07-30',NULL,NULL,'Ammonia','as N','Nutrient','1807003-09-Ammonia',0,'paulinkenbrandt','paulinkenbrandt','2019-04-16 08:16:04.295547','2019-04-16 08:16:04.296550', 14227),('1807003-09','414234112551701','USEPA','200.8','Total',4.2,2.0,'ug/l','ug/l','2018-08-22',NULL,NULL,'Arsenic',NULL,'Inorganics, Minor, Non-metals','1807003-09-Arsenic',0,'paulinkenbrandt','paulinkenbrandt','2019-04-16 08:16:04.295547','2019-04-16 08:16:04.296550', 14228),('1807003-09','414234112551701','USEPA','200.8','Total',NULL,0.2,'ug/l','ug/l','2018-08-22','Lower Reporting Limit','Below Reporting Limit','Cadmium',NULL,'Inorganics, Minor, Metals','1807003-09-Cadmium',0,'paulinkenbrandt','paulinkenbrandt','2019-04-16 08:16:04.295547','2019-04-16 08:16:04.296550', 14229),('1807003-09','414234112551701','USEPA','200.8','Total',0.5,0.5,'ug/l','ug/l','2018-08-22',NULL,NULL,'Lead',NULL,'Inorganics, Minor, Metals','1807003-09-Lead',0,'paulinkenbrandt','paulinkenbrandt','2019-04-16 08:16:04.295547','2019-04-16 08:16:04.296550', 14230),('1807003-09','414234112551701','USEPA','200.8','Total',6.1,1.0,'ug/l','ug/l','2018-08-22',NULL,NULL,'Selenium',NULL,'Inorganics, Minor, Non-metals','1807003-09-Selenium',0,'paulinkenbrandt','paulinkenbrandt','2019-04-16 08:16:04.295547','2019-04-16 08:16:04.296550', 14231),('1807003-09','414234112551701','USEPA','200.8','Total',NULL,10.0,'ug/l','ug/l','2018-08-22','Lower Reporting Limit','Below Reporting Limit','Zinc',NULL,'Inorganics, Minor, Metals','1807003-09-Zinc',0,'paulinkenbrandt','paulinkenbrandt','2019-04-16 08:16:04.295547','2019-04-16 08:16:04.296550', 14232),('1807003-09','414234112551701','USEPA','200.7','Total',125000.0,100.0,'ug/l','ug/l','2018-08-22',NULL,NULL,'Calcium',NULL,'Inorganics, Major, Metals','1807003-09-Calcium',0,'paulinkenbrandt','paulinkenbrandt','2019-04-16 08:16:04.295547','2019-04-16 08:16:04.296550', 14233),('1807003-09','414234112551701','USEPA','200.7','Total',NULL,100.0,'ug/l','ug/l','2018-08-22','Lower Reporting Limit','Below Reporting Limit','Aluminum',NULL,'Inorganics, Minor, Metals','1807003-09-Aluminum',0,'paulinkenbrandt','paulinkenbrandt','2019-04-16 08:16:04.295547','2019-04-16 08:16:04.296550', 14234),('1807003-09','414234112551701','USEPA','200.7','Total',77.7,4.0,'ug/l','ug/l','2018-08-22',NULL,NULL,'Barium',NULL,'Inorganics, Minor, Metals','1807003-09-Barium',0,'paulinkenbrandt','paulinkenbrandt','2019-04-16 08:16:04.295547','2019-04-16 08:16:04.296550', 14235),('1807003-09','414234112551701','USEPA','200.7','Total',68100.0,100.0,'ug/l','ug/l','2018-08-22',NULL,NULL,'Magnesium',NULL,'Inorganics, Major, Metals','1807003-09-Magnesium',0,'paulinkenbrandt','paulinkenbrandt','2019-04-16 08:16:04.295547','2019-04-16 08:16:04.296550', 14236),('1807003-09','414234112551701','USEPA','200.7','Total',29000.0,1000.0,'ug/l','ug/l','2018-08-22',NULL,NULL,'Potassium',NULL,'Inorganics, Major, Metals','1807003-09-Potassium',0,'paulinkenbrandt','paulinkenbrandt','2019-04-16 08:16:04.295547','2019-04-16 08:16:04.296550', 14237),('1807003-09','414234112551701','USEPA','200.7','Total',137.0,100.0,'ug/l','ug/l','2018-08-22',NULL,NULL,'Iron',NULL,'Inorganics, Minor, Metals','1807003-09-Iron',0,'paulinkenbrandt','paulinkenbrandt','2019-04-16 08:16:04.295547','2019-04-16 08:16:04.296550', 14238),('1807003-09','414234112551701','USEPA','200.7','Total',23.1,2.0,'ug/l','ug/l','2018-08-22',NULL,NULL,'Manganese',NULL,'Inorganics, Minor, Metals','1807003-09-Manganese',0,'paulinkenbrandt','paulinkenbrandt','2019-04-16 08:16:04.295547','2019-04-16 08:16:04.296550', 14239),('1807003-09','414234112551701','USEPA','200.7','Total',14.6,10.0,'ug/l','ug/l','2018-08-22',NULL,NULL,'Copper',NULL,'Inorganics, Minor, Metals','1807003-09-Copper',0,'paulinkenbrandt','paulinkenbrandt','2019-04-16 08:16:04.295547','2019-04-16 08:16:04.296550', 14240),('1807003-09','414234112551701','USEPA','200.7','Total',189.0,100.0,'ug/l','ug/l','2018-08-22',NULL,NULL,'Boron',NULL,'Inorganics, Minor, Non-metals','1807003-09-Boron',0,'paulinkenbrandt','paulinkenbrandt','2019-04-16 08:16:04.295547','2019-04-16 08:16:04.296550', 14241),('1807003-09','414234112551701','USEPA','200.7','Total',NULL,5.0,'ug/l','ug/l','2018-08-22','Lower Reporting Limit','Below Reporting Limit','Chromium',NULL,'Inorganics, Minor, Metals','1807003-09-Chromium',0,'paulinkenbrandt','paulinkenbrandt','2019-04-16 08:16:04.295547','2019-04-16 08:16:04.296550', 14242),('1807003-09RE1','414234112551701','USEPA','200.7','Total',616000.0,5000.0,'ug/l','ug/l','2018-08-22',NULL,NULL,'Sodium',NULL,'Inorganics, Major, Metals','1807003-09RE1-Sodium',0,'paulinkenbrandt','paulinkenbrandt','2019-04-16 08:16:04.295547','2019-04-16 08:16:04.296550', 14243),('1807003-09RE2','414234112551701','USEPA','300.0','Total',1330.0,50.0,'mg/l','mg/l','2018-07-16',NULL,NULL,'Chloride',NULL,'Inorganics, Major, Non-metals','1807003-09RE2-Chloride',0,'paulinkenbrandt','paulinkenbrandt','2019-04-16 08:16:04.295547','2019-04-16 08:16:04.296550', 14244),('1807003-05','414454111425901','USEPA','300.0','Total',NULL,0.5,'mg/l','mg/l','2018-07-13','Lower Reporting Limit','Below Reporting Limit','Bromide',NULL,'Inorganics, Major, Non-metals','1807003-05-Bromide',0,'paulinkenbrandt','paulinkenbrandt','2019-04-16 08:16:04.295547','2019-04-16 08:16:04.296550', 14245),('1807003-05','414454111425901','USEPA','300.0','Total',1.28,1.0,'mg/l','mg/l','2018-07-13',NULL,NULL,'Chloride',NULL,'Inorganics, Major, Non-metals','1807003-05-Chloride',0,'paulinkenbrandt','paulinkenbrandt','2019-04-16 08:16:04.295547','2019-04-16 08:16:04.296550', 14246),('1807003-05','414454111425901','USEPA','300.0','Total',NULL,0.5,'mg/l','mg/l','2018-07-13','Lower Reporting Limit','Below Reporting Limit','Fluoride',NULL,'Inorganics, Major, Non-metals','1807003-05-Fluoride',0,'paulinkenbrandt','paulinkenbrandt','2019-04-16 08:16:04.295547','2019-04-16 08:16:04.296550', 14247),('1807003-05','414454111425901','USEPA','300.0','Total',9.83,2.5,'mg/l','mg/l','2018-07-13',NULL,NULL,'Sulfate','as SO4','Inorganics, Major, Non-metals','1807003-05-Sulfate',0,'paulinkenbrandt','paulinkenbrandt','2019-04-16 08:16:04.295547','2019-04-16 08:16:04.296550', 14248),('1807003-05','414454111425901','USEPA','310.1','Total',177.0,10.0,'mg/l','mg/l','2018-07-18',NULL,NULL,'Alkalinity',NULL,NULL,'1807003-05-Alkalinity',0,'paulinkenbrandt','paulinkenbrandt','2019-04-16 08:16:04.295547','2019-04-16 08:16:04.296550', 14249),('1807003-05','414454111425901','USEPA','350.1','Total',NULL,0.05,'mg/l','mg/l','2018-07-30','Lower Reporting Limit','Below Reporting Limit','Ammonia','as N','Nutrient','1807003-05-Ammonia',0,'paulinkenbrandt','paulinkenbrandt','2019-04-16 08:16:04.295547','2019-04-16 08:16:04.296550', 14250),('1807003-05','414454111425901','USEPA','200.8','Total',NULL,2.0,'ug/l','ug/l','2018-08-22','Lower Reporting Limit','Below Reporting Limit','Arsenic',NULL,'Inorganics, Minor, Non-metals','1807003-05-Arsenic',0,'paulinkenbrandt','paulinkenbrandt','2019-04-16 08:16:04.295547','2019-04-16 08:16:04.296550', 14251),('1807003-05','414454111425901','USEPA','200.8','Total',NULL,0.2,'ug/l','ug/l','2018-08-22','Lower Reporting Limit','Below Reporting Limit','Cadmium',NULL,'Inorganics, Minor, Metals','1807003-05-Cadmium',0,'paulinkenbrandt','paulinkenbrandt','2019-04-16 08:16:04.295547','2019-04-16 08:16:04.296550', 14252),('1807003-05','414454111425901','USEPA','200.8','Total',NULL,0.5,'ug/l','ug/l','2018-08-22','Lower Reporting Limit','Below Reporting Limit','Lead',NULL,'Inorganics, Minor, Metals','1807003-05-Lead',0,'paulinkenbrandt','paulinkenbrandt','2019-04-16 08:16:04.295547','2019-04-16 08:16:04.296550', 14253),('1807003-05','414454111425901','USEPA','200.8','Total',NULL,1.0,'ug/l','ug/l','2018-08-22','Lower Reporting Limit','Below Reporting Limit','Selenium',NULL,'Inorganics, Minor, Non-metals','1807003-05-Selenium',0,'paulinkenbrandt','paulinkenbrandt','2019-04-16 08:16:04.295547','2019-04-16 08:16:04.296550', 14254),('1807003-05','414454111425901','USEPA','200.8','Total',NULL,10.0,'ug/l','ug/l','2018-08-22','Lower Reporting Limit','Below Reporting Limit','Zinc',NULL,'Inorganics, Minor, Metals','1807003-05-Zinc',0,'paulinkenbrandt','paulinkenbrandt','2019-04-16 08:16:04.295547','2019-04-16 08:16:04.296550', 14255),('1807003-05','414454111425901','USEPA','200.7','Total',NULL,100.0,'ug/l','ug/l','2018-08-22','Lower Reporting Limit','Below Reporting Limit','Aluminum',NULL,'Inorganics, Minor, Metals','1807003-05-Aluminum',0,'paulinkenbrandt','paulinkenbrandt','2019-04-16 08:16:04.295547','2019-04-16 08:16:04.296550', 14256),('1807003-05','414454111425901','USEPA','200.7','Total',24.0,4.0,'ug/l','ug/l','2018-08-22',NULL,NULL,'Barium',NULL,'Inorganics, Minor, Metals','1807003-05-Barium',0,'paulinkenbrandt','paulinkenbrandt','2019-04-16 08:16:04.295547','2019-04-16 08:16:04.296550', 14257),('1807003-05','414454111425901','USEPA','200.7','Total',50500.0,100.0,'ug/l','ug/l','2018-08-22',NULL,NULL,'Calcium',NULL,'Inorganics, Major, Metals','1807003-05-Calcium',0,'paulinkenbrandt','paulinkenbrandt','2019-04-16 08:16:04.295547','2019-04-16 08:16:04.296550', 14258),('1807003-05','414454111425901','USEPA','200.7','Total',12700.0,100.0,'ug/l','ug/l','2018-08-22',NULL,NULL,'Magnesium',NULL,'Inorganics, Major, Metals','1807003-05-Magnesium',0,'paulinkenbrandt','paulinkenbrandt','2019-04-16 08:16:04.295547','2019-04-16 08:16:04.296550', 14259),('1807003-05','414454111425901','USEPA','200.7','Total',NULL,1000.0,'ug/l','ug/l','2018-08-22','Lower Reporting Limit','Below Reporting Limit','Potassium',NULL,'Inorganics, Major, Metals','1807003-05-Potassium',0,'paulinkenbrandt','paulinkenbrandt','2019-04-16 08:16:04.295547','2019-04-16 08:16:04.296550', 14260),('1807003-05','414454111425901','USEPA','200.7','Total',2310.0,500.0,'ug/l','ug/l','2018-08-22',NULL,NULL,'Sodium',NULL,'Inorganics, Major, Metals','1807003-05-Sodium',0,'paulinkenbrandt','paulinkenbrandt','2019-04-16 08:16:04.295547','2019-04-16 08:16:04.296550', 14261),('1807003-05','414454111425901','USEPA','200.7','Total',NULL,100.0,'ug/l','ug/l','2018-08-22','Lower Reporting Limit','Below Reporting Limit','Iron',NULL,'Inorganics, Minor, Metals','1807003-05-Iron',0,'paulinkenbrandt','paulinkenbrandt','2019-04-16 08:16:04.295547','2019-04-16 08:16:04.296550', 14262),('1807003-05','414454111425901','USEPA','200.7','Total',NULL,2.0,'ug/l','ug/l','2018-08-22','Lower Reporting Limit','Below Reporting Limit','Manganese',NULL,'Inorganics, Minor, Metals','1807003-05-Manganese',0,'paulinkenbrandt','paulinkenbrandt','2019-04-16 08:16:04.295547','2019-04-16 08:16:04.296550', 14263),('1807003-05','414454111425901','USEPA','200.7','Total',NULL,10.0,'ug/l','ug/l','2018-08-22','Lower Reporting Limit','Below Reporting Limit','Copper',NULL,'Inorganics, Minor, Metals','1807003-05-Copper',0,'paulinkenbrandt','paulinkenbrandt','2019-04-16 08:16:04.295547','2019-04-16 08:16:04.296550', 14264),('1807003-05','414454111425901','USEPA','200.7','Total',NULL,100.0,'ug/l','ug/l','2018-08-22','Lower Reporting Limit','Below Reporting Limit','Boron',NULL,'Inorganics, Minor, Non-metals','1807003-05-Boron',0,'paulinkenbrandt','paulinkenbrandt','2019-04-16 08:16:04.295547','2019-04-16 08:16:04.296550', 14265),('1807003-05','414454111425901','USEPA','200.7','Total',NULL,5.0,'ug/l','ug/l','2018-08-22','Lower Reporting Limit','Below Reporting Limit','Chromium',NULL,'Inorganics, Minor, Metals','1807003-05-Chromium',0,'paulinkenbrandt','paulinkenbrandt','2019-04-16 08:16:04.295547','2019-04-16 08:16:04.296550', 14266),('1807003-10','414729113080001','USEPA','300.0','Total',0.54,0.5,'mg/l','mg/l','2018-07-13',NULL,NULL,'Bromide',NULL,'Inorganics, Major, Non-metals','1807003-10-Bromide',0,'paulinkenbrandt','paulinkenbrandt','2019-04-16 08:16:04.295547','2019-04-16 08:16:04.296550', 14267),('1807003-10','414729113080001','USEPA','300.0','Total',NULL,0.5,'mg/l','mg/l','2018-07-13','Lower Reporting Limit','Below Reporting Limit','Fluoride',NULL,'Inorganics, Major, Non-metals','1807003-10-Fluoride',0,'paulinkenbrandt','paulinkenbrandt','2019-04-16 08:16:04.295547','2019-04-16 08:16:04.296550', 14268),('1807003-10','414729113080001','USEPA','300.0','Total',58.3,2.5,'mg/l','mg/l','2018-07-13',NULL,NULL,'Sulfate','as SO4','Inorganics, Major, Non-metals','1807003-10-Sulfate',0,'paulinkenbrandt','paulinkenbrandt','2019-04-16 08:16:04.295547','2019-04-16 08:16:04.296550', 14269),('1807003-10','414729113080001','USEPA','310.1','Total',216.0,10.0,'mg/l','mg/l','2018-07-18',NULL,NULL,'Alkalinity',NULL,NULL,'1807003-10-Alkalinity',0,'paulinkenbrandt','paulinkenbrandt','2019-04-16 08:16:04.295547','2019-04-16 08:16:04.296550', 14270),('1807003-10','414729113080001','USEPA','350.1','Total',NULL,0.05,'mg/l','mg/l','2018-07-30','Lower Reporting Limit','Below Reporting Limit','Ammonia','as N','Nutrient','1807003-10-Ammonia',0,'paulinkenbrandt','paulinkenbrandt','2019-04-16 08:16:04.295547','2019-04-16 08:16:04.296550', 14271),('1807003-10','414729113080001','USEPA','200.8','Total',NULL,2.0,'ug/l','ug/l','2018-08-22','Lower Reporting Limit','Below Reporting Limit','Arsenic',NULL,'Inorganics, Minor, Non-metals','1807003-10-Arsenic',0,'paulinkenbrandt','paulinkenbrandt','2019-04-16 08:16:04.295547','2019-04-16 08:16:04.296550', 14272),('1807003-10','414729113080001','USEPA','200.8','Total',NULL,0.2,'ug/l','ug/l','2018-08-22','Lower Reporting Limit','Below Reporting Limit','Cadmium',NULL,'Inorganics, Minor, Metals','1807003-10-Cadmium',0,'paulinkenbrandt','paulinkenbrandt','2019-04-16 08:16:04.295547','2019-04-16 08:16:04.296550', 14273),('1807003-10','414729113080001','USEPA','200.8','Total',NULL,0.5,'ug/l','ug/l','2018-08-22','Lower Reporting Limit','Below Reporting Limit','Lead',NULL,'Inorganics, Minor, Metals','1807003-10-Lead',0,'paulinkenbrandt','paulinkenbrandt','2019-04-16 08:16:04.295547','2019-04-16 08:16:04.296550', 14274),('1807003-10','414729113080001','USEPA','200.8','Total',3.8,1.0,'ug/l','ug/l','2018-08-22',NULL,NULL,'Selenium',NULL,'Inorganics, Minor, Non-metals','1807003-10-Selenium',0,'paulinkenbrandt','paulinkenbrandt','2019-04-16 08:16:04.295547','2019-04-16 08:16:04.296550', 14275),('1807003-10','414729113080001','USEPA','200.8','Total',NULL,10.0,'ug/l','ug/l','2018-08-22','Lower Reporting Limit','Below Reporting Limit','Zinc',NULL,'Inorganics, Minor, Metals','1807003-10-Zinc',0,'paulinkenbrandt','paulinkenbrandt','2019-04-16 08:16:04.295547','2019-04-16 08:16:04.296550', 14276),('1807003-10','414729113080001','USEPA','200.7','Total',208000.0,100.0,'ug/l','ug/l','2018-08-22',NULL,NULL,'Calcium',NULL,'Inorganics, Major, Metals','1807003-10-Calcium',0,'paulinkenbrandt','paulinkenbrandt','2019-04-16 08:16:04.295547','2019-04-16 08:16:04.296550', 14277),('1807003-10','414729113080001','USEPA','200.7','Total',266000.0,500.0,'ug/l','ug/l','2018-08-22',NULL,NULL,'Sodium',NULL,'Inorganics, Major, Metals','1807003-10-Sodium',0,'paulinkenbrandt','paulinkenbrandt','2019-04-16 08:16:04.295547','2019-04-16 08:16:04.296550', 14278),('1807003-10','414729113080001','USEPA','200.7','Total',NULL,100.0,'ug/l','ug/l','2018-08-22','Lower Reporting Limit','Below Reporting Limit','Aluminum',NULL,'Inorganics, Minor, Metals','1807003-10-Aluminum',0,'paulinkenbrandt','paulinkenbrandt','2019-04-16 08:16:04.295547','2019-04-16 08:16:04.296550', 14279),('1807003-10','414729113080001','USEPA','200.7','Total',202.0,4.0,'ug/l','ug/l','2018-08-22',NULL,NULL,'Barium',NULL,'Inorganics, Minor, Metals','1807003-10-Barium',0,'paulinkenbrandt','paulinkenbrandt','2019-04-16 08:16:04.295547','2019-04-16 08:16:04.296550', 14280),('1807003-10','414729113080001','USEPA','200.7','Total',53400.0,100.0,'ug/l','ug/l','2018-08-22',NULL,NULL,'Magnesium',NULL,'Inorganics, Major, Metals','1807003-10-Magnesium',0,'paulinkenbrandt','paulinkenbrandt','2019-04-16 08:16:04.295547','2019-04-16 08:16:04.296550', 14281),('1807003-10','414729113080001','USEPA','200.7','Total',8750.0,1000.0,'ug/l','ug/l','2018-08-22',NULL,NULL,'Potassium',NULL,'Inorganics, Major, Metals','1807003-10-Potassium',0,'paulinkenbrandt','paulinkenbrandt','2019-04-16 08:16:04.295547','2019-04-16 08:16:04.296550', 14282),('1807003-10','414729113080001','USEPA','200.7','Total',NULL,100.0,'ug/l','ug/l','2018-08-22','Lower Reporting Limit','Below Reporting Limit','Iron',NULL,'Inorganics, Minor, Metals','1807003-10-Iron',0,'paulinkenbrandt','paulinkenbrandt','2019-04-16 08:16:04.295547','2019-04-16 08:16:04.296550', 14283),('1807003-10','414729113080001','USEPA','200.7','Total',NULL,2.0,'ug/l','ug/l','2018-08-22','Lower Reporting Limit','Below Reporting Limit','Manganese',NULL,'Inorganics, Minor, Metals','1807003-10-Manganese',0,'paulinkenbrandt','paulinkenbrandt','2019-04-16 08:16:04.295547','2019-04-16 08:16:04.296550', 14284),('1807003-10','414729113080001','USEPA','200.7','Total',10.3,10.0,'ug/l','ug/l','2018-08-22',NULL,NULL,'Copper',NULL,'Inorganics, Minor, Metals','1807003-10-Copper',0,'paulinkenbrandt','paulinkenbrandt','2019-04-16 08:16:04.295547','2019-04-16 08:16:04.296550', 14285),('1807003-10','414729113080001','USEPA','200.7','Total',190.0,100.0,'ug/l','ug/l','2018-08-22',NULL,NULL,'Boron',NULL,'Inorganics, Minor, Non-metals','1807003-10-Boron',0,'paulinkenbrandt','paulinkenbrandt','2019-04-16 08:16:04.295547','2019-04-16 08:16:04.296550', 14286),('1807003-10','414729113080001','USEPA','200.7','Total',NULL,5.0,'ug/l','ug/l','2018-08-22','Lower Reporting Limit','Below Reporting Limit','Chromium',NULL,'Inorganics, Minor, Metals','1807003-10-Chromium',0,'paulinkenbrandt','paulinkenbrandt','2019-04-16 08:16:04.295547','2019-04-16 08:16:04.296550', 14287),('1807003-10RE1','414729113080001','USEPA','300.0','Total',839.0,20.0,'mg/l','mg/l','2018-07-16',NULL,NULL,'Chloride',NULL,'Inorganics, Major, Non-metals','1807003-10RE1-Chloride',0,'paulinkenbrandt','paulinkenbrandt','2019-04-16 08:16:04.295547','2019-04-16 08:16:04.296550', 14288),('1807003-06','414905111510701','USEPA','300.0','Total',NULL,0.5,'mg/l','mg/l','2018-07-13','Lower Reporting Limit','Below Reporting Limit','Bromide',NULL,'Inorganics, Major, Non-metals','1807003-06-Bromide',0,'paulinkenbrandt','paulinkenbrandt','2019-04-16 08:16:04.295547','2019-04-16 08:16:04.296550', 14289),('1807003-06','414905111510701','USEPA','300.0','Total',9.94,1.0,'mg/l','mg/l','2018-07-13',NULL,NULL,'Chloride',NULL,'Inorganics, Major, Non-metals','1807003-06-Chloride',0,'paulinkenbrandt','paulinkenbrandt','2019-04-16 08:16:04.295547','2019-04-16 08:16:04.296550', 14290),('1807003-06','414905111510701','USEPA','300.0','Total',NULL,0.5,'mg/l','mg/l','2018-07-13','Lower Reporting Limit','Below Reporting Limit','Fluoride',NULL,'Inorganics, Major, Non-metals','1807003-06-Fluoride',0,'paulinkenbrandt','paulinkenbrandt','2019-04-16 08:16:04.295547','2019-04-16 08:16:04.296550', 14291),('1807003-06','414905111510701','USEPA','300.0','Total',8.48,2.5,'mg/l','mg/l','2018-07-13',NULL,NULL,'Sulfate','as SO4','Inorganics, Major, Non-metals','1807003-06-Sulfate',0,'paulinkenbrandt','paulinkenbrandt','2019-04-16 08:16:04.295547','2019-04-16 08:16:04.296550', 14292),('1807003-06','414905111510701','USEPA','310.1','Total',261.0,50.0,'mg/l','mg/l','2018-07-18',NULL,NULL,'Alkalinity',NULL,NULL,'1807003-06-Alkalinity',0,'paulinkenbrandt','paulinkenbrandt','2019-04-16 08:16:04.295547','2019-04-16 08:16:04.296550', 14293),('1807003-06','414905111510701','USEPA','350.1','Total',NULL,0.05,'mg/l','mg/l','2018-07-30','Lower Reporting Limit','Below Reporting Limit','Ammonia','as N','Nutrient','1807003-06-Ammonia',0,'paulinkenbrandt','paulinkenbrandt','2019-04-16 08:16:04.295547','2019-04-16 08:16:04.296550', 14294),('1807003-06','414905111510701','USEPA','200.8','Total',NULL,2.0,'ug/l','ug/l','2018-08-22','Lower Reporting Limit','Below Reporting Limit','Arsenic',NULL,'Inorganics, Minor, Non-metals','1807003-06-Arsenic',0,'paulinkenbrandt','paulinkenbrandt','2019-04-16 08:16:04.295547','2019-04-16 08:16:04.296550', 14295),('1807003-06','414905111510701','USEPA','200.8','Total',NULL,0.2,'ug/l','ug/l','2018-08-22','Lower Reporting Limit','Below Reporting Limit','Cadmium',NULL,'Inorganics, Minor, Metals','1807003-06-Cadmium',0,'paulinkenbrandt','paulinkenbrandt','2019-04-16 08:16:04.295547','2019-04-16 08:16:04.296550', 14296),('1807003-06','414905111510701','USEPA','200.8','Total',NULL,0.5,'ug/l','ug/l','2018-08-22','Lower Reporting Limit','Below Reporting Limit','Lead',NULL,'Inorganics, Minor, Metals','1807003-06-Lead',0,'paulinkenbrandt','paulinkenbrandt','2019-04-16 08:16:04.295547','2019-04-16 08:16:04.296550', 14297),('1807003-06','414905111510701','USEPA','200.8','Total',NULL,1.0,'ug/l','ug/l','2018-08-22','Lower Reporting Limit','Below Reporting Limit','Selenium',NULL,'Inorganics, Minor, Non-metals','1807003-06-Selenium',0,'paulinkenbrandt','paulinkenbrandt','2019-04-16 08:16:04.295547','2019-04-16 08:16:04.296550', 14298),('1807003-06','414905111510701','USEPA','200.8','Total',25.9,10.0,'ug/l','ug/l','2018-08-22',NULL,NULL,'Zinc',NULL,'Inorganics, Minor, Metals','1807003-06-Zinc',0,'paulinkenbrandt','paulinkenbrandt','2019-04-16 08:16:04.295547','2019-04-16 08:16:04.296550', 14299),('1807003-06','414905111510701','USEPA','200.7','Total',50200.0,100.0,'ug/l','ug/l','2018-08-22',NULL,NULL,'Calcium',NULL,'Inorganics, Major, Metals','1807003-06-Calcium',0,'paulinkenbrandt','paulinkenbrandt','2019-04-16 08:16:04.295547','2019-04-16 08:16:04.296550', 14300),('1807003-06','414905111510701','USEPA','200.7','Total',20900.0,500.0,'ug/l','ug/l','2018-08-22',NULL,NULL,'Sodium',NULL,'Inorganics, Major, Metals','1807003-06-Sodium',0,'paulinkenbrandt','paulinkenbrandt','2019-04-16 08:16:04.295547','2019-04-16 08:16:04.296550', 14301),('1807003-06','414905111510701','USEPA','200.7','Total',NULL,100.0,'ug/l','ug/l','2018-08-22','Lower Reporting Limit','Below Reporting Limit','Aluminum',NULL,'Inorganics, Minor, Metals','1807003-06-Aluminum',0,'paulinkenbrandt','paulinkenbrandt','2019-04-16 08:16:04.295547','2019-04-16 08:16:04.296550', 14302),('1807003-06','414905111510701','USEPA','200.7','Total',95.7,4.0,'ug/l','ug/l','2018-08-22',NULL,NULL,'Barium',NULL,'Inorganics, Minor, Metals','1807003-06-Barium',0,'paulinkenbrandt','paulinkenbrandt','2019-04-16 08:16:04.295547','2019-04-16 08:16:04.296550', 14303),('1807003-06','414905111510701','USEPA','200.7','Total',23900.0,100.0,'ug/l','ug/l','2018-08-22',NULL,NULL,'Magnesium',NULL,'Inorganics, Major, Metals','1807003-06-Magnesium',0,'paulinkenbrandt','paulinkenbrandt','2019-04-16 08:16:04.295547','2019-04-16 08:16:04.296550', 14304),('1807003-06','414905111510701','USEPA','200.7','Total',4400.0,1000.0,'ug/l','ug/l','2018-08-22',NULL,NULL,'Potassium',NULL,'Inorganics, Major, Metals','1807003-06-Potassium',0,'paulinkenbrandt','paulinkenbrandt','2019-04-16 08:16:04.295547','2019-04-16 08:16:04.296550', 14305),('1807003-06','414905111510701','USEPA','200.7','Total',NULL,100.0,'ug/l','ug/l','2018-08-22','Lower Reporting Limit','Below Reporting Limit','Iron',NULL,'Inorganics, Minor, Metals','1807003-06-Iron',0,'paulinkenbrandt','paulinkenbrandt','2019-04-16 08:16:04.295547','2019-04-16 08:16:04.296550', 14306),('1807003-06','414905111510701','USEPA','200.7','Total',NULL,2.0,'ug/l','ug/l','2018-08-22','Lower Reporting Limit','Below Reporting Limit','Manganese',NULL,'Inorganics, Minor, Metals','1807003-06-Manganese',0,'paulinkenbrandt','paulinkenbrandt','2019-04-16 08:16:04.295547','2019-04-16 08:16:04.296550', 14307),('1807003-06','414905111510701','USEPA','200.7','Total',20.6,10.0,'ug/l','ug/l','2018-08-22',NULL,NULL,'Copper',NULL,'Inorganics, Minor, Metals','1807003-06-Copper',0,'paulinkenbrandt','paulinkenbrandt','2019-04-16 08:16:04.295547','2019-04-16 08:16:04.296550', 14308),('1807003-06','414905111510701','USEPA','200.7','Total',NULL,100.0,'ug/l','ug/l','2018-08-22','Lower Reporting Limit','Below Reporting Limit','Boron',NULL,'Inorganics, Minor, Non-metals','1807003-06-Boron',0,'paulinkenbrandt','paulinkenbrandt','2019-04-16 08:16:04.295547','2019-04-16 08:16:04.296550', 14309),('1807003-06','414905111510701','USEPA','200.7','Total',NULL,5.0,'ug/l','ug/l','2018-08-22','Lower Reporting Limit','Below Reporting Limit','Chromium',NULL,'Inorganics, Minor, Metals','1807003-06-Chromium',0,'paulinkenbrandt','paulinkenbrandt','2019-04-16 08:16:04.295547','2019-04-16 08:16:04.296550', 14310),('1807003-12','415657112514101','USEPA','300.0','Total',NULL,0.5,'mg/l','mg/l','2018-07-13','Lower Reporting Limit','Below Reporting Limit','Bromide',NULL,'Inorganics, Major, Non-metals','1807003-12-Bromide',0,'paulinkenbrandt','paulinkenbrandt','2019-04-16 08:16:04.295547','2019-04-16 08:16:04.296550', 14311),('1807003-12','415657112514101','USEPA','300.0','Total',NULL,0.5,'mg/l','mg/l','2018-07-13','Lower Reporting Limit','Below Reporting Limit','Fluoride',NULL,'Inorganics, Major, Non-metals','1807003-12-Fluoride',0,'paulinkenbrandt','paulinkenbrandt','2019-04-16 08:16:04.295547','2019-04-16 08:16:04.296550', 14312),('1807003-12','415657112514101','USEPA','300.0','Total',121.0,2.5,'mg/l','mg/l','2018-07-13',NULL,NULL,'Sulfate','as SO4','Inorganics, Major, Non-metals','1807003-12-Sulfate',0,'paulinkenbrandt','paulinkenbrandt','2019-04-16 08:16:04.295547','2019-04-16 08:16:04.296550', 14313),('1807003-12','415657112514101','USEPA','310.1','Total',220.0,10.0,'mg/l','mg/l','2018-07-18',NULL,NULL,'Alkalinity',NULL,NULL,'1807003-12-Alkalinity',0,'paulinkenbrandt','paulinkenbrandt','2019-04-16 08:16:04.295547','2019-04-16 08:16:04.296550', 14314),('1807003-12','415657112514101','USEPA','350.1','Total',NULL,0.05,'mg/l','mg/l','2018-07-30','Lower Reporting Limit','Below Reporting Limit','Ammonia','as N','Nutrient','1807003-12-Ammonia',0,'paulinkenbrandt','paulinkenbrandt','2019-04-16 08:16:04.295547','2019-04-16 08:16:04.296550', 14315),('1807003-12','415657112514101','USEPA','200.8','Total',3.5,2.0,'ug/l','ug/l','2018-08-22',NULL,NULL,'Arsenic',NULL,'Inorganics, Minor, Non-metals','1807003-12-Arsenic',0,'paulinkenbrandt','paulinkenbrandt','2019-04-16 08:16:04.295547','2019-04-16 08:16:04.296550', 14316),('1807003-12','415657112514101','USEPA','200.8','Total',NULL,0.2,'ug/l','ug/l','2018-08-22','Lower Reporting Limit','Below Reporting Limit','Cadmium',NULL,'Inorganics, Minor, Metals','1807003-12-Cadmium',0,'paulinkenbrandt','paulinkenbrandt','2019-04-16 08:16:04.295547','2019-04-16 08:16:04.296550', 14317),('1807003-12','415657112514101','USEPA','200.8','Total',0.8,0.5,'ug/l','ug/l','2018-08-22',NULL,NULL,'Lead',NULL,'Inorganics, Minor, Metals','1807003-12-Lead',0,'paulinkenbrandt','paulinkenbrandt','2019-04-16 08:16:04.295547','2019-04-16 08:16:04.296550', 14318),('1807003-12','415657112514101','USEPA','200.8','Total',5.6,1.0,'ug/l','ug/l','2018-08-22',NULL,NULL,'Selenium',NULL,'Inorganics, Minor, Non-metals','1807003-12-Selenium',0,'paulinkenbrandt','paulinkenbrandt','2019-04-16 08:16:04.295547','2019-04-16 08:16:04.296550', 14319),('1807003-12','415657112514101','USEPA','200.8','Total',NULL,10.0,'ug/l','ug/l','2018-08-22','Lower Reporting Limit','Below Reporting Limit','Zinc',NULL,'Inorganics, Minor, Metals','1807003-12-Zinc',0,'paulinkenbrandt','paulinkenbrandt','2019-04-16 08:16:04.295547','2019-04-16 08:16:04.296550', 14320),('1807003-12','415657112514101','USEPA','200.7','Total',141000.0,100.0,'ug/l','ug/l','2018-08-22',NULL,NULL,'Calcium',NULL,'Inorganics, Major, Metals','1807003-12-Calcium',0,'paulinkenbrandt','paulinkenbrandt','2019-04-16 08:16:04.295547','2019-04-16 08:16:04.296550', 14321),('1807003-12','415657112514101','USEPA','200.7','Total',308000.0,500.0,'ug/l','ug/l','2018-08-22',NULL,NULL,'Sodium',NULL,'Inorganics, Major, Metals','1807003-12-Sodium',0,'paulinkenbrandt','paulinkenbrandt','2019-04-16 08:16:04.295547','2019-04-16 08:16:04.296550', 14322),('1807003-12','415657112514101','USEPA','200.7','Total',NULL,100.0,'ug/l','ug/l','2018-08-22','Lower Reporting Limit','Below Reporting Limit','Aluminum',NULL,'Inorganics, Minor, Metals','1807003-12-Aluminum',0,'paulinkenbrandt','paulinkenbrandt','2019-04-16 08:16:04.295547','2019-04-16 08:16:04.296550', 14323),('1807003-12','415657112514101','USEPA','200.7','Total',64.9,4.0,'ug/l','ug/l','2018-08-22',NULL,NULL,'Barium',NULL,'Inorganics, Minor, Metals','1807003-12-Barium',0,'paulinkenbrandt','paulinkenbrandt','2019-04-16 08:16:04.295547','2019-04-16 08:16:04.296550', 14324),('1807003-12','415657112514101','USEPA','200.7','Total',52500.0,100.0,'ug/l','ug/l','2018-08-22',NULL,NULL,'Magnesium',NULL,'Inorganics, Major, Metals','1807003-12-Magnesium',0,'paulinkenbrandt','paulinkenbrandt','2019-04-16 08:16:04.295547','2019-04-16 08:16:04.296550', 14325),('1807003-12','415657112514101','USEPA','200.7','Total',16400.0,1000.0,'ug/l','ug/l','2018-08-22',NULL,NULL,'Potassium',NULL,'Inorganics, Major, Metals','1807003-12-Potassium',0,'paulinkenbrandt','paulinkenbrandt','2019-04-16 08:16:04.295547','2019-04-16 08:16:04.296550', 14326),('1807003-12','415657112514101','USEPA','200.7','Total',NULL,100.0,'ug/l','ug/l','2018-08-22','Lower Reporting Limit','Below Reporting Limit','Iron',NULL,'Inorganics, Minor, Metals','1807003-12-Iron',0,'paulinkenbrandt','paulinkenbrandt','2019-04-16 08:16:04.295547','2019-04-16 08:16:04.296550', 14327),('1807003-12','415657112514101','USEPA','200.7','Total',NULL,2.0,'ug/l','ug/l','2018-08-22','Lower Reporting Limit','Below Reporting Limit','Manganese',NULL,'Inorganics, Minor, Metals','1807003-12-Manganese',0,'paulinkenbrandt','paulinkenbrandt','2019-04-16 08:16:04.295547','2019-04-16 08:16:04.296550', 14328),('1807003-12','415657112514101','USEPA','200.7','Total',NULL,10.0,'ug/l','ug/l','2018-08-22','Lower Reporting Limit','Below Reporting Limit','Copper',NULL,'Inorganics, Minor, Metals','1807003-12-Copper',0,'paulinkenbrandt','paulinkenbrandt','2019-04-16 08:16:04.295547','2019-04-16 08:16:04.296550', 14329),('1807003-12','415657112514101','USEPA','200.7','Total',102.0,100.0,'ug/l','ug/l','2018-08-22',NULL,NULL,'Boron',NULL,'Inorganics, Minor, Non-metals','1807003-12-Boron',0,'paulinkenbrandt','paulinkenbrandt','2019-04-16 08:16:04.295547','2019-04-16 08:16:04.296550', 14330),('1807003-12','415657112514101','USEPA','200.7','Total',NULL,5.0,'ug/l','ug/l','2018-08-22','Lower Reporting Limit','Below Reporting Limit','Chromium',NULL,'Inorganics, Minor, Metals','1807003-12-Chromium',0,'paulinkenbrandt','paulinkenbrandt','2019-04-16 08:16:04.295547','2019-04-16 08:16:04.296550', 14331),('1807003-12RE1','415657112514101','USEPA','300.0','Total',730.0,20.0,'mg/l','mg/l','2018-07-16',NULL,NULL,'Chloride',NULL,'Inorganics, Major, Non-metals','1807003-12RE1-Chloride',0,'paulinkenbrandt','paulinkenbrandt','2019-04-16 08:16:04.295547','2019-04-16 08:16:04.296550', 14332),('1807003-11','415704112514701','USEPA','300.0','Total',NULL,0.5,'mg/l','mg/l','2018-07-13','Lower Reporting Limit','Below Reporting Limit','Bromide',NULL,'Inorganics, Major, Non-metals','1807003-11-Bromide',0,'paulinkenbrandt','paulinkenbrandt','2019-04-16 08:16:04.295547','2019-04-16 08:16:04.296550', 14333),('1807003-11','415704112514701','USEPA','300.0','Total',NULL,0.5,'mg/l','mg/l','2018-07-13','Lower Reporting Limit','Below Reporting Limit','Fluoride',NULL,'Inorganics, Major, Non-metals','1807003-11-Fluoride',0,'paulinkenbrandt','paulinkenbrandt','2019-04-16 08:16:04.295547','2019-04-16 08:16:04.296550', 14334),('1807003-11','415704112514701','USEPA','310.1','Total',280.0,50.0,'mg/l','mg/l','2018-07-18',NULL,NULL,'Alkalinity',NULL,NULL,'1807003-11-Alkalinity',0,'paulinkenbrandt','paulinkenbrandt','2019-04-16 08:16:04.295547','2019-04-16 08:16:04.296550', 14335),('1807003-11','415704112514701','USEPA','350.1','Total',0.069,0.05,'mg/l','mg/l','2018-07-30',NULL,NULL,'Ammonia','as N','Nutrient','1807003-11-Ammonia',0,'paulinkenbrandt','paulinkenbrandt','2019-04-16 08:16:04.295547','2019-04-16 08:16:04.296550', 14336),('1807003-11','415704112514701','USEPA','200.8','Total',9.7,2.0,'ug/l','ug/l','2018-08-22',NULL,NULL,'Arsenic',NULL,'Inorganics, Minor, Non-metals','1807003-11-Arsenic',0,'paulinkenbrandt','paulinkenbrandt','2019-04-16 08:16:04.295547','2019-04-16 08:16:04.296550', 14337),('1807003-11','415704112514701','USEPA','200.8','Total',NULL,0.2,'ug/l','ug/l','2018-08-22','Lower Reporting Limit','Below Reporting Limit','Cadmium',NULL,'Inorganics, Minor, Metals','1807003-11-Cadmium',0,'paulinkenbrandt','paulinkenbrandt','2019-04-16 08:16:04.295547','2019-04-16 08:16:04.296550', 14338),('1807003-11','415704112514701','USEPA','200.8','Total',NULL,0.5,'ug/l','ug/l','2018-08-22','Lower Reporting Limit','Below Reporting Limit','Lead',NULL,'Inorganics, Minor, Metals','1807003-11-Lead',0,'paulinkenbrandt','paulinkenbrandt','2019-04-16 08:16:04.295547','2019-04-16 08:16:04.296550', 14339),('1807003-11','415704112514701','USEPA','200.8','Total',7.9,1.0,'ug/l','ug/l','2018-08-22',NULL,NULL,'Selenium',NULL,'Inorganics, Minor, Non-metals','1807003-11-Selenium',0,'paulinkenbrandt','paulinkenbrandt','2019-04-16 08:16:04.295547','2019-04-16 08:16:04.296550', 14340),('1807003-11','415704112514701','USEPA','200.8','Total',NULL,10.0,'ug/l','ug/l','2018-08-22','Lower Reporting Limit','Below Reporting Limit','Zinc',NULL,'Inorganics, Minor, Metals','1807003-11-Zinc',0,'paulinkenbrandt','paulinkenbrandt','2019-04-16 08:16:04.295547','2019-04-16 08:16:04.296550', 14341),('1807003-11','415704112514701','USEPA','200.7','Total',151000.0,100.0,'ug/l','ug/l','2018-08-22',NULL,NULL,'Calcium',NULL,'Inorganics, Major, Metals','1807003-11-Calcium',0,'paulinkenbrandt','paulinkenbrandt','2019-04-16 08:16:04.295547','2019-04-16 08:16:04.296550', 14342),('1807003-11','415704112514701','USEPA','200.7','Total',322000.0,500.0,'ug/l','ug/l','2018-08-22',NULL,NULL,'Sodium',NULL,'Inorganics, Major, Metals','1807003-11-Sodium',0,'paulinkenbrandt','paulinkenbrandt','2019-04-16 08:16:04.295547','2019-04-16 08:16:04.296550', 14343),('1807003-11','415704112514701','USEPA','200.7','Total',NULL,100.0,'ug/l','ug/l','2018-08-22','Lower Reporting Limit','Below Reporting Limit','Aluminum',NULL,'Inorganics, Minor, Metals','1807003-11-Aluminum',0,'paulinkenbrandt','paulinkenbrandt','2019-04-16 08:16:04.295547','2019-04-16 08:16:04.296550', 14344),('1807003-11','415704112514701','USEPA','200.7','Total',57.9,4.0,'ug/l','ug/l','2018-08-22',NULL,NULL,'Barium',NULL,'Inorganics, Minor, Metals','1807003-11-Barium',0,'paulinkenbrandt','paulinkenbrandt','2019-04-16 08:16:04.295547','2019-04-16 08:16:04.296550', 14345),('1807003-11','415704112514701','USEPA','200.7','Total',71900.0,100.0,'ug/l','ug/l','2018-08-22',NULL,NULL,'Magnesium',NULL,'Inorganics, Major, Metals','1807003-11-Magnesium',0,'paulinkenbrandt','paulinkenbrandt','2019-04-16 08:16:04.295547','2019-04-16 08:16:04.296550', 14346),('1807003-11','415704112514701','USEPA','200.7','Total',17900.0,1000.0,'ug/l','ug/l','2018-08-22',NULL,NULL,'Potassium',NULL,'Inorganics, Major, Metals','1807003-11-Potassium',0,'paulinkenbrandt','paulinkenbrandt','2019-04-16 08:16:04.295547','2019-04-16 08:16:04.296550', 14347),('1807003-11','415704112514701','USEPA','200.7','Total',NULL,100.0,'ug/l','ug/l','2018-08-22','Lower Reporting Limit','Below Reporting Limit','Iron',NULL,'Inorganics, Minor, Metals','1807003-11-Iron',0,'paulinkenbrandt','paulinkenbrandt','2019-04-16 08:16:04.295547','2019-04-16 08:16:04.296550', 14348),('1807003-11','415704112514701','USEPA','200.7','Total',6.0,2.0,'ug/l','ug/l','2018-08-22',NULL,NULL,'Manganese',NULL,'Inorganics, Minor, Metals','1807003-11-Manganese',0,'paulinkenbrandt','paulinkenbrandt','2019-04-16 08:16:04.295547','2019-04-16 08:16:04.296550', 14349),('1807003-11','415704112514701','USEPA','200.7','Total',NULL,10.0,'ug/l','ug/l','2018-08-22','Lower Reporting Limit','Below Reporting Limit','Copper',NULL,'Inorganics, Minor, Metals','1807003-11-Copper',0,'paulinkenbrandt','paulinkenbrandt','2019-04-16 08:16:04.295547','2019-04-16 08:16:04.296550', 14350),('1807003-11','415704112514701','USEPA','200.7','Total',146.0,100.0,'ug/l','ug/l','2018-08-22',NULL,NULL,'Boron',NULL,'Inorganics, Minor, Non-metals','1807003-11-Boron',0,'paulinkenbrandt','paulinkenbrandt','2019-04-16 08:16:04.295547','2019-04-16 08:16:04.296550', 14351),('1807003-11','415704112514701','USEPA','200.7','Total',NULL,5.0,'ug/l','ug/l','2018-08-22','Lower Reporting Limit','Below Reporting Limit','Chromium',NULL,'Inorganics, Minor, Metals','1807003-11-Chromium',0,'paulinkenbrandt','paulinkenbrandt','2019-04-16 08:16:04.295547','2019-04-16 08:16:04.296550', 14352),('1807003-11RE1','415704112514701','USEPA','300.0','Total',674.0,20.0,'mg/l','mg/l','2018-07-16',NULL,NULL,'Chloride',NULL,'Inorganics, Major, Non-metals','1807003-11RE1-Chloride',0,'paulinkenbrandt','paulinkenbrandt','2019-04-16 08:16:04.295547','2019-04-16 08:16:04.296550', 14353),('1807003-11RE1','415704112514701','USEPA','300.0','Total',271.0,50.0,'mg/l','mg/l','2018-07-16',NULL,NULL,'Sulfate','as SO4','Inorganics, Major, Non-metals','1807003-11RE1-Sulfate',0,'paulinkenbrandt','paulinkenbrandt','2019-04-16 08:16:04.295547','2019-04-16 08:16:04.296550', 14354)\n",
      "Committed Transaction\n",
      "success!\n"
     ]
    },
    {
     "name": "stdout",
     "output_type": "stream",
     "text": [
      "0 to 17 complete\n",
      "Transaction started...\n",
      "INSERT INTO UGGP.UGGPADMIN.UGS_NGWMN_Monitoring_Phy_Chem_Activities(ActivityID,ProjectID,MonitoringLocationID,ActivityStartDate,ActivityStartTime,notes,personnel,created_user,created_date,last_edited_user,last_edited_date,OBJECTID)\n",
      "VALUES ('1808006-03','UNGWMN','385630112321701','2018-08-06','15:50',NULL,NULL,'paulinkenbrandt','2019-04-16 08:16:24.566386','paulinkenbrandt','2019-04-16 08:16:24.566386', 13091),('1808006-03RE1','UNGWMN','385630112321701','2018-08-06','15:50',NULL,NULL,'paulinkenbrandt','2019-04-16 08:16:24.566386','paulinkenbrandt','2019-04-16 08:16:24.566386', 13092),('1808006-02','UNGWMN','391852112332601','2018-08-06','13:35',NULL,NULL,'paulinkenbrandt','2019-04-16 08:16:24.566386','paulinkenbrandt','2019-04-16 08:16:24.566386', 13093),('1808006-01','UNGWMN','392603112375001','2018-08-06','12:35',NULL,NULL,'paulinkenbrandt','2019-04-16 08:16:24.566386','paulinkenbrandt','2019-04-16 08:16:24.566386', 13094),('1808006-09','UNGWMN','393105109040801','2018-08-07','12:30',NULL,NULL,'paulinkenbrandt','2019-04-16 08:16:24.566386','paulinkenbrandt','2019-04-16 08:16:24.566386', 13095),('1808006-08','UNGWMN','393142109132201','2018-08-07','11:00',NULL,NULL,'paulinkenbrandt','2019-04-16 08:16:24.566386','paulinkenbrandt','2019-04-16 08:16:24.566386', 13096),('1808006-05','UNGWMN','394617110175201','2018-08-06','10:00',NULL,NULL,'paulinkenbrandt','2019-04-16 08:16:24.566386','paulinkenbrandt','2019-04-16 08:16:24.566386', 13097),('1808006-11','UNGWMN','394842109140101','2018-08-07','15:30',NULL,NULL,'paulinkenbrandt','2019-04-16 08:16:24.566386','paulinkenbrandt','2019-04-16 08:16:24.566386', 13098),('1808006-10','UNGWMN','394842109140101D','2018-08-07','15:00',NULL,NULL,'paulinkenbrandt','2019-04-16 08:16:24.566386','paulinkenbrandt','2019-04-16 08:16:24.566386', 13099),('1808006-12','UNGWMN','395036109074301','2018-08-07','16:45',NULL,NULL,'paulinkenbrandt','2019-04-16 08:16:24.566386','paulinkenbrandt','2019-04-16 08:16:24.566386', 13100),('1808006-07','UNGWMN','395632109384801','2018-08-06','14:45',NULL,NULL,'paulinkenbrandt','2019-04-16 08:16:24.566386','paulinkenbrandt','2019-04-16 08:16:24.566386', 13101),('1808006-07RE1','UNGWMN','395632109384801','2018-08-06','14:45',NULL,NULL,'paulinkenbrandt','2019-04-16 08:16:24.566386','paulinkenbrandt','2019-04-16 08:16:24.566386', 13102),('1808006-06','UNGWMN','400045110002901','2018-08-06','12:00',NULL,NULL,'paulinkenbrandt','2019-04-16 08:16:24.566386','paulinkenbrandt','2019-04-16 08:16:24.566386', 13103),('1808006-13','UNGWMN','400758110385101','2018-08-08','10:10',NULL,NULL,'paulinkenbrandt','2019-04-16 08:16:24.566386','paulinkenbrandt','2019-04-16 08:16:24.566386', 13104),('1808006-13RE1','UNGWMN','400758110385101','2018-08-08','10:10',NULL,NULL,'paulinkenbrandt','2019-04-16 08:16:24.566386','paulinkenbrandt','2019-04-16 08:16:24.566386', 13105),('1808006-13RE2','UNGWMN','400758110385101','2018-08-08','10:10',NULL,NULL,'paulinkenbrandt','2019-04-16 08:16:24.566386','paulinkenbrandt','2019-04-16 08:16:24.566386', 13106),('1808006-04','UNGWMN','404975112573501','2018-08-07','16:15',NULL,NULL,'paulinkenbrandt','2019-04-16 08:16:24.566386','paulinkenbrandt','2019-04-16 08:16:24.566386', 13107)\n",
      "Committed Transaction\n",
      "success!\n",
      "0 to 234 complete\n",
      "Transaction started...\n",
      "INSERT INTO UGGP.UGGPADMIN.UGS_NGWMN_Monitoring_Phy_Chem_Results(ActivityID,MonitoringLocationID,ResultAnalyticalMethodContext,ResultAnalyticalMethodID,ResultSampleFraction,resultvalue,DetecQuantLimitMeasure,ResultDetecQuantLimitUnit,ResultUnit,AnalysisStartDate,ResultDetecQuantLimitType,ResultDetectionCondition,CharacteristicName,MethodSpeciation,characteristicgroup,resultid,inwqx,created_user,last_edited_user,created_date,last_edited_date,OBJECTID)\n",
      "VALUES ('1808006-03','385630112321701','USEPA','310.1','Total',245.0,10.0,'mg/l','mg/l','2018-08-10',NULL,NULL,'Alkalinity',NULL,NULL,'1808006-03-Alkalinity',0,'paulinkenbrandt','paulinkenbrandt','2019-04-16 08:16:24.566386','2019-04-16 08:16:24.566386', 14355),('1808006-03','385630112321701','USEPA','200.8','Total',7.9,2.0,'ug/l','ug/l','2018-08-22',NULL,NULL,'Arsenic',NULL,'Inorganics, Minor, Non-metals','1808006-03-Arsenic',0,'paulinkenbrandt','paulinkenbrandt','2019-04-16 08:16:24.566386','2019-04-16 08:16:24.566386', 14356),('1808006-03','385630112321701','USEPA','200.8','Total',NULL,0.2,'ug/l','ug/l','2018-08-22','Lower Reporting Limit','Below Reporting Limit','Cadmium',NULL,'Inorganics, Minor, Metals','1808006-03-Cadmium',0,'paulinkenbrandt','paulinkenbrandt','2019-04-16 08:16:24.566386','2019-04-16 08:16:24.566386', 14357),('1808006-03','385630112321701','USEPA','200.8','Total',NULL,0.5,'ug/l','ug/l','2018-08-22','Lower Reporting Limit','Below Reporting Limit','Lead',NULL,'Inorganics, Minor, Metals','1808006-03-Lead',0,'paulinkenbrandt','paulinkenbrandt','2019-04-16 08:16:24.566386','2019-04-16 08:16:24.566386', 14358),('1808006-03','385630112321701','USEPA','200.8','Total',17.3,1.0,'ug/l','ug/l','2018-08-22',NULL,NULL,'Selenium',NULL,'Inorganics, Minor, Non-metals','1808006-03-Selenium',0,'paulinkenbrandt','paulinkenbrandt','2019-04-16 08:16:24.566386','2019-04-16 08:16:24.566386', 14359),('1808006-03','385630112321701','USEPA','200.8','Total',30.0,10.0,'ug/l','ug/l','2018-08-22',NULL,NULL,'Zinc',NULL,'Inorganics, Minor, Metals','1808006-03-Zinc',0,'paulinkenbrandt','paulinkenbrandt','2019-04-16 08:16:24.566386','2019-04-16 08:16:24.566386', 14360),('1808006-03','385630112321701','USEPA','200.7','Total',489000.0,100.0,'ug/l','ug/l','2018-08-22',NULL,NULL,'Calcium',NULL,'Inorganics, Major, Metals','1808006-03-Calcium',0,'paulinkenbrandt','paulinkenbrandt','2019-04-16 08:16:24.566386','2019-04-16 08:16:24.566386', 14361),('1808006-03','385630112321701','USEPA','200.7','Total',109000.0,1000.0,'ug/l','ug/l','2018-08-22',NULL,NULL,'Potassium',NULL,'Inorganics, Major, Metals','1808006-03-Potassium',0,'paulinkenbrandt','paulinkenbrandt','2019-04-16 08:16:24.566386','2019-04-16 08:16:24.566386', 14362),('1808006-03','385630112321701','USEPA','200.7','Total',NULL,100.0,'ug/l','ug/l','2018-08-22','Lower Reporting Limit','Below Reporting Limit','Aluminum',NULL,'Inorganics, Minor, Metals','1808006-03-Aluminum',0,'paulinkenbrandt','paulinkenbrandt','2019-04-16 08:16:24.566386','2019-04-16 08:16:24.566386', 14363),('1808006-03','385630112321701','USEPA','200.7','Total',43.3,4.0,'ug/l','ug/l','2018-08-22',NULL,NULL,'Barium',NULL,'Inorganics, Minor, Metals','1808006-03-Barium',0,'paulinkenbrandt','paulinkenbrandt','2019-04-16 08:16:24.566386','2019-04-16 08:16:24.566386', 14364),('1808006-03','385630112321701','USEPA','200.7','Total',205000.0,100.0,'ug/l','ug/l','2018-08-22',NULL,NULL,'Magnesium',NULL,'Inorganics, Major, Metals','1808006-03-Magnesium',0,'paulinkenbrandt','paulinkenbrandt','2019-04-16 08:16:24.566386','2019-04-16 08:16:24.566386', 14365),('1808006-03','385630112321701','USEPA','200.7','Total',NULL,100.0,'ug/l','ug/l','2018-08-22','Lower Reporting Limit','Below Reporting Limit','Iron',NULL,'Inorganics, Minor, Metals','1808006-03-Iron',0,'paulinkenbrandt','paulinkenbrandt','2019-04-16 08:16:24.566386','2019-04-16 08:16:24.566386', 14366),('1808006-03','385630112321701','USEPA','200.7','Total',NULL,2.0,'ug/l','ug/l','2018-08-22','Lower Reporting Limit','Below Reporting Limit','Manganese',NULL,'Inorganics, Minor, Metals','1808006-03-Manganese',0,'paulinkenbrandt','paulinkenbrandt','2019-04-16 08:16:24.566386','2019-04-16 08:16:24.566386', 14367),('1808006-03','385630112321701','USEPA','200.7','Total',3420.0,100.0,'ug/l','ug/l','2018-08-22',NULL,NULL,'Boron',NULL,'Inorganics, Minor, Non-metals','1808006-03-Boron',0,'paulinkenbrandt','paulinkenbrandt','2019-04-16 08:16:24.566386','2019-04-16 08:16:24.566386', 14368),('1808006-03','385630112321701','USEPA','200.7','Total',21.1,10.0,'ug/l','ug/l','2018-08-22',NULL,NULL,'Copper',NULL,'Inorganics, Minor, Metals','1808006-03-Copper',0,'paulinkenbrandt','paulinkenbrandt','2019-04-16 08:16:24.566386','2019-04-16 08:16:24.566386', 14369),('1808006-03','385630112321701','USEPA','200.7','Total',NULL,5.0,'ug/l','ug/l','2018-08-22','Lower Reporting Limit','Below Reporting Limit','Chromium',NULL,'Inorganics, Minor, Metals','1808006-03-Chromium',0,'paulinkenbrandt','paulinkenbrandt','2019-04-16 08:16:24.566386','2019-04-16 08:16:24.566386', 14370),('1808006-03','385630112321701','USEPA','350.1','Total',NULL,0.05,'mg/l','mg/l','2018-08-23','Lower Reporting Limit','Below Reporting Limit','Ammonia','as N','Nutrient','1808006-03-Ammonia',0,'paulinkenbrandt','paulinkenbrandt','2019-04-16 08:16:24.566386','2019-04-16 08:16:24.566386', 14371),('1808006-03RE1','385630112321701','USEPA','200.7','Total',1030000.0,5000.0,'ug/l','ug/l','2018-08-22',NULL,NULL,'Sodium',NULL,'Inorganics, Major, Metals','1808006-03RE1-Sodium',0,'paulinkenbrandt','paulinkenbrandt','2019-04-16 08:16:24.566386','2019-04-16 08:16:24.566386', 14372),('1808006-02','391852112332601','USEPA','310.1','Total',128.0,10.0,'mg/l','mg/l','2018-08-10',NULL,NULL,'Alkalinity',NULL,NULL,'1808006-02-Alkalinity',0,'paulinkenbrandt','paulinkenbrandt','2019-04-16 08:16:24.566386','2019-04-16 08:16:24.566386', 14373),('1808006-02','391852112332601','USEPA','200.8','Total',7.9,2.0,'ug/l','ug/l','2018-08-22',NULL,NULL,'Arsenic',NULL,'Inorganics, Minor, Non-metals','1808006-02-Arsenic',0,'paulinkenbrandt','paulinkenbrandt','2019-04-16 08:16:24.566386','2019-04-16 08:16:24.566386', 14374),('1808006-02','391852112332601','USEPA','200.8','Total',NULL,0.2,'ug/l','ug/l','2018-08-22','Lower Reporting Limit','Below Reporting Limit','Cadmium',NULL,'Inorganics, Minor, Metals','1808006-02-Cadmium',0,'paulinkenbrandt','paulinkenbrandt','2019-04-16 08:16:24.566386','2019-04-16 08:16:24.566386', 14375),('1808006-02','391852112332601','USEPA','200.8','Total',NULL,0.5,'ug/l','ug/l','2018-08-22','Lower Reporting Limit','Below Reporting Limit','Lead',NULL,'Inorganics, Minor, Metals','1808006-02-Lead',0,'paulinkenbrandt','paulinkenbrandt','2019-04-16 08:16:24.566386','2019-04-16 08:16:24.566386', 14376),('1808006-02','391852112332601','USEPA','200.8','Total',NULL,1.0,'ug/l','ug/l','2018-08-22','Lower Reporting Limit','Below Reporting Limit','Selenium',NULL,'Inorganics, Minor, Non-metals','1808006-02-Selenium',0,'paulinkenbrandt','paulinkenbrandt','2019-04-16 08:16:24.566386','2019-04-16 08:16:24.566386', 14377),('1808006-02','391852112332601','USEPA','200.8','Total',NULL,10.0,'ug/l','ug/l','2018-08-22','Lower Reporting Limit','Below Reporting Limit','Zinc',NULL,'Inorganics, Minor, Metals','1808006-02-Zinc',0,'paulinkenbrandt','paulinkenbrandt','2019-04-16 08:16:24.566386','2019-04-16 08:16:24.566386', 14378),('1808006-02','391852112332601','USEPA','200.7','Total',117.0,4.0,'ug/l','ug/l','2018-08-22',NULL,NULL,'Barium',NULL,'Inorganics, Minor, Metals','1808006-02-Barium',0,'paulinkenbrandt','paulinkenbrandt','2019-04-16 08:16:24.566386','2019-04-16 08:16:24.566386', 14379),('1808006-02','391852112332601','USEPA','200.7','Total',41800.0,500.0,'ug/l','ug/l','2018-08-22',NULL,NULL,'Sodium',NULL,'Inorganics, Major, Metals','1808006-02-Sodium',0,'paulinkenbrandt','paulinkenbrandt','2019-04-16 08:16:24.566386','2019-04-16 08:16:24.566386', 14380),('1808006-02','391852112332601','USEPA','200.7','Total',NULL,100.0,'ug/l','ug/l','2018-08-22','Lower Reporting Limit','Below Reporting Limit','Aluminum',NULL,'Inorganics, Minor, Metals','1808006-02-Aluminum',0,'paulinkenbrandt','paulinkenbrandt','2019-04-16 08:16:24.566386','2019-04-16 08:16:24.566386', 14381),('1808006-02','391852112332601','USEPA','200.7','Total',13800.0,100.0,'ug/l','ug/l','2018-08-22',NULL,NULL,'Calcium',NULL,'Inorganics, Major, Metals','1808006-02-Calcium',0,'paulinkenbrandt','paulinkenbrandt','2019-04-16 08:16:24.566386','2019-04-16 08:16:24.566386', 14382),('1808006-02','391852112332601','USEPA','200.7','Total',11900.0,100.0,'ug/l','ug/l','2018-08-22',NULL,NULL,'Magnesium',NULL,'Inorganics, Major, Metals','1808006-02-Magnesium',0,'paulinkenbrandt','paulinkenbrandt','2019-04-16 08:16:24.566386','2019-04-16 08:16:24.566386', 14383),('1808006-02','391852112332601','USEPA','200.7','Total',2900.0,1000.0,'ug/l','ug/l','2018-08-22',NULL,NULL,'Potassium',NULL,'Inorganics, Major, Metals','1808006-02-Potassium',0,'paulinkenbrandt','paulinkenbrandt','2019-04-16 08:16:24.566386','2019-04-16 08:16:24.566386', 14384),('1808006-02','391852112332601','USEPA','200.7','Total',NULL,100.0,'ug/l','ug/l','2018-08-22','Lower Reporting Limit','Below Reporting Limit','Iron',NULL,'Inorganics, Minor, Metals','1808006-02-Iron',0,'paulinkenbrandt','paulinkenbrandt','2019-04-16 08:16:24.566386','2019-04-16 08:16:24.566386', 14385),('1808006-02','391852112332601','USEPA','200.7','Total',NULL,2.0,'ug/l','ug/l','2018-08-22','Lower Reporting Limit','Below Reporting Limit','Manganese',NULL,'Inorganics, Minor, Metals','1808006-02-Manganese',0,'paulinkenbrandt','paulinkenbrandt','2019-04-16 08:16:24.566386','2019-04-16 08:16:24.566386', 14386),('1808006-02','391852112332601','USEPA','200.7','Total',NULL,10.0,'ug/l','ug/l','2018-08-22','Lower Reporting Limit','Below Reporting Limit','Copper',NULL,'Inorganics, Minor, Metals','1808006-02-Copper',0,'paulinkenbrandt','paulinkenbrandt','2019-04-16 08:16:24.566386','2019-04-16 08:16:24.566386', 14387),('1808006-02','391852112332601','USEPA','200.7','Total',NULL,100.0,'ug/l','ug/l','2018-08-22','Lower Reporting Limit','Below Reporting Limit','Boron',NULL,'Inorganics, Minor, Non-metals','1808006-02-Boron',0,'paulinkenbrandt','paulinkenbrandt','2019-04-16 08:16:24.566386','2019-04-16 08:16:24.566386', 14388),('1808006-02','391852112332601','USEPA','200.7','Total',NULL,5.0,'ug/l','ug/l','2018-08-22','Lower Reporting Limit','Below Reporting Limit','Chromium',NULL,'Inorganics, Minor, Metals','1808006-02-Chromium',0,'paulinkenbrandt','paulinkenbrandt','2019-04-16 08:16:24.566386','2019-04-16 08:16:24.566386', 14389),('1808006-02','391852112332601','USEPA','350.1','Total',NULL,0.05,'mg/l','mg/l','2018-08-23','Lower Reporting Limit','Below Reporting Limit','Ammonia','as N','Nutrient','1808006-02-Ammonia',0,'paulinkenbrandt','paulinkenbrandt','2019-04-16 08:16:24.566386','2019-04-16 08:16:24.566386', 14390),('1808006-01','392603112375001','USEPA','310.1','Total',130.0,10.0,'mg/l','mg/l','2018-08-10',NULL,NULL,'Alkalinity',NULL,NULL,'1808006-01-Alkalinity',0,'paulinkenbrandt','paulinkenbrandt','2019-04-16 08:16:24.566386','2019-04-16 08:16:24.566386', 14391),('1808006-01','392603112375001','USEPA','200.8','Total',26.6,2.0,'ug/l','ug/l','2018-08-22',NULL,NULL,'Arsenic',NULL,'Inorganics, Minor, Non-metals','1808006-01-Arsenic',0,'paulinkenbrandt','paulinkenbrandt','2019-04-16 08:16:24.566386','2019-04-16 08:16:24.566386', 14392),('1808006-01','392603112375001','USEPA','200.8','Total',NULL,0.2,'ug/l','ug/l','2018-08-22','Lower Reporting Limit','Below Reporting Limit','Cadmium',NULL,'Inorganics, Minor, Metals','1808006-01-Cadmium',0,'paulinkenbrandt','paulinkenbrandt','2019-04-16 08:16:24.566386','2019-04-16 08:16:24.566386', 14393),('1808006-01','392603112375001','USEPA','200.8','Total',NULL,0.5,'ug/l','ug/l','2018-08-22','Lower Reporting Limit','Below Reporting Limit','Lead',NULL,'Inorganics, Minor, Metals','1808006-01-Lead',0,'paulinkenbrandt','paulinkenbrandt','2019-04-16 08:16:24.566386','2019-04-16 08:16:24.566386', 14394),('1808006-01','392603112375001','USEPA','200.8','Total',NULL,1.0,'ug/l','ug/l','2018-08-22','Lower Reporting Limit','Below Reporting Limit','Selenium',NULL,'Inorganics, Minor, Non-metals','1808006-01-Selenium',0,'paulinkenbrandt','paulinkenbrandt','2019-04-16 08:16:24.566386','2019-04-16 08:16:24.566386', 14395),('1808006-01','392603112375001','USEPA','200.8','Total',NULL,10.0,'ug/l','ug/l','2018-08-22','Lower Reporting Limit','Below Reporting Limit','Zinc',NULL,'Inorganics, Minor, Metals','1808006-01-Zinc',0,'paulinkenbrandt','paulinkenbrandt','2019-04-16 08:16:24.566386','2019-04-16 08:16:24.566386', 14396),('1808006-01','392603112375001','USEPA','200.7','Total',20400.0,100.0,'ug/l','ug/l','2018-08-22',NULL,NULL,'Calcium',NULL,'Inorganics, Major, Metals','1808006-01-Calcium',0,'paulinkenbrandt','paulinkenbrandt','2019-04-16 08:16:24.566386','2019-04-16 08:16:24.566386', 14397),('1808006-01','392603112375001','USEPA','200.7','Total',54600.0,500.0,'ug/l','ug/l','2018-08-22',NULL,NULL,'Sodium',NULL,'Inorganics, Major, Metals','1808006-01-Sodium',0,'paulinkenbrandt','paulinkenbrandt','2019-04-16 08:16:24.566386','2019-04-16 08:16:24.566386', 14398),('1808006-01','392603112375001','USEPA','200.7','Total',NULL,100.0,'ug/l','ug/l','2018-08-22','Lower Reporting Limit','Below Reporting Limit','Aluminum',NULL,'Inorganics, Minor, Metals','1808006-01-Aluminum',0,'paulinkenbrandt','paulinkenbrandt','2019-04-16 08:16:24.566386','2019-04-16 08:16:24.566386', 14399),('1808006-01','392603112375001','USEPA','200.7','Total',76.4,4.0,'ug/l','ug/l','2018-08-22',NULL,NULL,'Barium',NULL,'Inorganics, Minor, Metals','1808006-01-Barium',0,'paulinkenbrandt','paulinkenbrandt','2019-04-16 08:16:24.566386','2019-04-16 08:16:24.566386', 14400),('1808006-01','392603112375001','USEPA','200.7','Total',14300.0,100.0,'ug/l','ug/l','2018-08-22',NULL,NULL,'Magnesium',NULL,'Inorganics, Major, Metals','1808006-01-Magnesium',0,'paulinkenbrandt','paulinkenbrandt','2019-04-16 08:16:24.566386','2019-04-16 08:16:24.566386', 14401),('1808006-01','392603112375001','USEPA','200.7','Total',2360.0,1000.0,'ug/l','ug/l','2018-08-22',NULL,NULL,'Potassium',NULL,'Inorganics, Major, Metals','1808006-01-Potassium',0,'paulinkenbrandt','paulinkenbrandt','2019-04-16 08:16:24.566386','2019-04-16 08:16:24.566386', 14402),('1808006-01','392603112375001','USEPA','200.7','Total',NULL,100.0,'ug/l','ug/l','2018-08-22','Lower Reporting Limit','Below Reporting Limit','Iron',NULL,'Inorganics, Minor, Metals','1808006-01-Iron',0,'paulinkenbrandt','paulinkenbrandt','2019-04-16 08:16:24.566386','2019-04-16 08:16:24.566386', 14403),('1808006-01','392603112375001','USEPA','200.7','Total',11.2,2.0,'ug/l','ug/l','2018-08-22',NULL,NULL,'Manganese',NULL,'Inorganics, Minor, Metals','1808006-01-Manganese',0,'paulinkenbrandt','paulinkenbrandt','2019-04-16 08:16:24.566386','2019-04-16 08:16:24.566386', 14404),('1808006-01','392603112375001','USEPA','200.7','Total',NULL,10.0,'ug/l','ug/l','2018-08-22','Lower Reporting Limit','Below Reporting Limit','Copper',NULL,'Inorganics, Minor, Metals','1808006-01-Copper',0,'paulinkenbrandt','paulinkenbrandt','2019-04-16 08:16:24.566386','2019-04-16 08:16:24.566386', 14405),('1808006-01','392603112375001','USEPA','200.7','Total',111.0,100.0,'ug/l','ug/l','2018-08-22',NULL,NULL,'Boron',NULL,'Inorganics, Minor, Non-metals','1808006-01-Boron',0,'paulinkenbrandt','paulinkenbrandt','2019-04-16 08:16:24.566386','2019-04-16 08:16:24.566386', 14406),('1808006-01','392603112375001','USEPA','200.7','Total',NULL,5.0,'ug/l','ug/l','2018-08-22','Lower Reporting Limit','Below Reporting Limit','Chromium',NULL,'Inorganics, Minor, Metals','1808006-01-Chromium',0,'paulinkenbrandt','paulinkenbrandt','2019-04-16 08:16:24.566386','2019-04-16 08:16:24.566386', 14407),('1808006-01','392603112375001','USEPA','350.1','Total',NULL,0.05,'mg/l','mg/l','2018-08-23','Lower Reporting Limit','Below Reporting Limit','Ammonia','as N','Nutrient','1808006-01-Ammonia',0,'paulinkenbrandt','paulinkenbrandt','2019-04-16 08:16:24.566386','2019-04-16 08:16:24.566386', 14408),('1808006-09','393105109040801','USEPA','310.1','Total',253.0,25.0,'mg/l','mg/l','2018-08-10',NULL,NULL,'Alkalinity',NULL,NULL,'1808006-09-Alkalinity',0,'paulinkenbrandt','paulinkenbrandt','2019-04-16 08:16:24.566386','2019-04-16 08:16:24.566386', 14409),('1808006-09','393105109040801','USEPA','200.8','Total',2.2,2.0,'ug/l','ug/l','2018-08-22',NULL,NULL,'Arsenic',NULL,'Inorganics, Minor, Non-metals','1808006-09-Arsenic',0,'paulinkenbrandt','paulinkenbrandt','2019-04-16 08:16:24.566386','2019-04-16 08:16:24.566386', 14410),('1808006-09','393105109040801','USEPA','200.8','Total',NULL,0.2,'ug/l','ug/l','2018-08-22','Lower Reporting Limit','Below Reporting Limit','Cadmium',NULL,'Inorganics, Minor, Metals','1808006-09-Cadmium',0,'paulinkenbrandt','paulinkenbrandt','2019-04-16 08:16:24.566386','2019-04-16 08:16:24.566386', 14411),('1808006-09','393105109040801','USEPA','200.8','Total',NULL,0.5,'ug/l','ug/l','2018-08-22','Lower Reporting Limit','Below Reporting Limit','Lead',NULL,'Inorganics, Minor, Metals','1808006-09-Lead',0,'paulinkenbrandt','paulinkenbrandt','2019-04-16 08:16:24.566386','2019-04-16 08:16:24.566386', 14412),('1808006-09','393105109040801','USEPA','200.8','Total',1.9,1.0,'ug/l','ug/l','2018-08-22',NULL,NULL,'Selenium',NULL,'Inorganics, Minor, Non-metals','1808006-09-Selenium',0,'paulinkenbrandt','paulinkenbrandt','2019-04-16 08:16:24.566386','2019-04-16 08:16:24.566386', 14413),('1808006-09','393105109040801','USEPA','200.8','Total',NULL,10.0,'ug/l','ug/l','2018-08-22','Lower Reporting Limit','Below Reporting Limit','Zinc',NULL,'Inorganics, Minor, Metals','1808006-09-Zinc',0,'paulinkenbrandt','paulinkenbrandt','2019-04-16 08:16:24.566386','2019-04-16 08:16:24.566386', 14414),('1808006-09','393105109040801','USEPA','200.7','Total',114000.0,100.0,'ug/l','ug/l','2018-08-24',NULL,NULL,'Calcium',NULL,'Inorganics, Major, Metals','1808006-09-Calcium',0,'paulinkenbrandt','paulinkenbrandt','2019-04-16 08:16:24.566386','2019-04-16 08:16:24.566386', 14415),('1808006-09','393105109040801','USEPA','200.7','Total',68200.0,500.0,'ug/l','ug/l','2018-08-24',NULL,NULL,'Sodium',NULL,'Inorganics, Major, Metals','1808006-09-Sodium',0,'paulinkenbrandt','paulinkenbrandt','2019-04-16 08:16:24.566386','2019-04-16 08:16:24.566386', 14416),('1808006-09','393105109040801','USEPA','200.7','Total',NULL,100.0,'ug/l','ug/l','2018-08-24','Lower Reporting Limit','Below Reporting Limit','Aluminum',NULL,'Inorganics, Minor, Metals','1808006-09-Aluminum',0,'paulinkenbrandt','paulinkenbrandt','2019-04-16 08:16:24.566386','2019-04-16 08:16:24.566386', 14417),('1808006-09','393105109040801','USEPA','200.7','Total',24.1,4.0,'ug/l','ug/l','2018-08-24',NULL,NULL,'Barium',NULL,'Inorganics, Minor, Metals','1808006-09-Barium',0,'paulinkenbrandt','paulinkenbrandt','2019-04-16 08:16:24.566386','2019-04-16 08:16:24.566386', 14418),('1808006-09','393105109040801','USEPA','200.7','Total',56600.0,100.0,'ug/l','ug/l','2018-08-24',NULL,NULL,'Magnesium',NULL,'Inorganics, Major, Metals','1808006-09-Magnesium',0,'paulinkenbrandt','paulinkenbrandt','2019-04-16 08:16:24.566386','2019-04-16 08:16:24.566386', 14419),('1808006-09','393105109040801','USEPA','200.7','Total',1610.0,1000.0,'ug/l','ug/l','2018-08-24',NULL,NULL,'Potassium',NULL,'Inorganics, Major, Metals','1808006-09-Potassium',0,'paulinkenbrandt','paulinkenbrandt','2019-04-16 08:16:24.566386','2019-04-16 08:16:24.566386', 14420),('1808006-09','393105109040801','USEPA','200.7','Total',NULL,100.0,'ug/l','ug/l','2018-08-24','Lower Reporting Limit','Below Reporting Limit','Iron',NULL,'Inorganics, Minor, Metals','1808006-09-Iron',0,'paulinkenbrandt','paulinkenbrandt','2019-04-16 08:16:24.566386','2019-04-16 08:16:24.566386', 14421),('1808006-09','393105109040801','USEPA','200.7','Total',NULL,2.0,'ug/l','ug/l','2018-08-24','Lower Reporting Limit','Below Reporting Limit','Manganese',NULL,'Inorganics, Minor, Metals','1808006-09-Manganese',0,'paulinkenbrandt','paulinkenbrandt','2019-04-16 08:16:24.566386','2019-04-16 08:16:24.566386', 14422),('1808006-09','393105109040801','USEPA','200.7','Total',NULL,10.0,'ug/l','ug/l','2018-08-24','Lower Reporting Limit','Below Reporting Limit','Copper',NULL,'Inorganics, Minor, Metals','1808006-09-Copper',0,'paulinkenbrandt','paulinkenbrandt','2019-04-16 08:16:24.566386','2019-04-16 08:16:24.566386', 14423),('1808006-09','393105109040801','USEPA','200.7','Total',NULL,100.0,'ug/l','ug/l','2018-08-24','Lower Reporting Limit','Below Reporting Limit','Boron',NULL,'Inorganics, Minor, Non-metals','1808006-09-Boron',0,'paulinkenbrandt','paulinkenbrandt','2019-04-16 08:16:24.566386','2019-04-16 08:16:24.566386', 14424),('1808006-09','393105109040801','USEPA','200.7','Total',NULL,5.0,'ug/l','ug/l','2018-08-24','Lower Reporting Limit','Below Reporting Limit','Chromium',NULL,'Inorganics, Minor, Metals','1808006-09-Chromium',0,'paulinkenbrandt','paulinkenbrandt','2019-04-16 08:16:24.566386','2019-04-16 08:16:24.566386', 14425),('1808006-09','393105109040801','USEPA','350.1','Total',NULL,0.05,'mg/l','mg/l','2018-08-23','Lower Reporting Limit','Below Reporting Limit','Ammonia','as N','Nutrient','1808006-09-Ammonia',0,'paulinkenbrandt','paulinkenbrandt','2019-04-16 08:16:24.566386','2019-04-16 08:16:24.566386', 14426),('1808006-08','393142109132201','USEPA','310.1','Total',297.0,25.0,'mg/l','mg/l','2018-08-10',NULL,NULL,'Alkalinity',NULL,NULL,'1808006-08-Alkalinity',0,'paulinkenbrandt','paulinkenbrandt','2019-04-16 08:16:24.566386','2019-04-16 08:16:24.566386', 14427),('1808006-08','393142109132201','USEPA','200.8','Total',NULL,2.0,'ug/l','ug/l','2018-08-22','Lower Reporting Limit','Below Reporting Limit','Arsenic',NULL,'Inorganics, Minor, Non-metals','1808006-08-Arsenic',0,'paulinkenbrandt','paulinkenbrandt','2019-04-16 08:16:24.566386','2019-04-16 08:16:24.566386', 14428),('1808006-08','393142109132201','USEPA','200.8','Total',NULL,0.2,'ug/l','ug/l','2018-08-22','Lower Reporting Limit','Below Reporting Limit','Cadmium',NULL,'Inorganics, Minor, Metals','1808006-08-Cadmium',0,'paulinkenbrandt','paulinkenbrandt','2019-04-16 08:16:24.566386','2019-04-16 08:16:24.566386', 14429),('1808006-08','393142109132201','USEPA','200.8','Total',NULL,0.5,'ug/l','ug/l','2018-08-22','Lower Reporting Limit','Below Reporting Limit','Lead',NULL,'Inorganics, Minor, Metals','1808006-08-Lead',0,'paulinkenbrandt','paulinkenbrandt','2019-04-16 08:16:24.566386','2019-04-16 08:16:24.566386', 14430),('1808006-08','393142109132201','USEPA','200.8','Total',1.8,1.0,'ug/l','ug/l','2018-08-22',NULL,NULL,'Selenium',NULL,'Inorganics, Minor, Non-metals','1808006-08-Selenium',0,'paulinkenbrandt','paulinkenbrandt','2019-04-16 08:16:24.566386','2019-04-16 08:16:24.566386', 14431),('1808006-08','393142109132201','USEPA','200.8','Total',NULL,10.0,'ug/l','ug/l','2018-08-22','Lower Reporting Limit','Below Reporting Limit','Zinc',NULL,'Inorganics, Minor, Metals','1808006-08-Zinc',0,'paulinkenbrandt','paulinkenbrandt','2019-04-16 08:16:24.566386','2019-04-16 08:16:24.566386', 14432),('1808006-08','393142109132201','USEPA','200.7','Total',152000.0,100.0,'ug/l','ug/l','2018-08-22',NULL,NULL,'Calcium',NULL,'Inorganics, Major, Metals','1808006-08-Calcium',0,'paulinkenbrandt','paulinkenbrandt','2019-04-16 08:16:24.566386','2019-04-16 08:16:24.566386', 14433),('1808006-08','393142109132201','USEPA','200.7','Total',61400.0,500.0,'ug/l','ug/l','2018-08-22',NULL,NULL,'Sodium',NULL,'Inorganics, Major, Metals','1808006-08-Sodium',0,'paulinkenbrandt','paulinkenbrandt','2019-04-16 08:16:24.566386','2019-04-16 08:16:24.566386', 14434),('1808006-08','393142109132201','USEPA','200.7','Total',NULL,100.0,'ug/l','ug/l','2018-08-22','Lower Reporting Limit','Below Reporting Limit','Aluminum',NULL,'Inorganics, Minor, Metals','1808006-08-Aluminum',0,'paulinkenbrandt','paulinkenbrandt','2019-04-16 08:16:24.566386','2019-04-16 08:16:24.566386', 14435),('1808006-08','393142109132201','USEPA','200.7','Total',14.4,4.0,'ug/l','ug/l','2018-08-22',NULL,NULL,'Barium',NULL,'Inorganics, Minor, Metals','1808006-08-Barium',0,'paulinkenbrandt','paulinkenbrandt','2019-04-16 08:16:24.566386','2019-04-16 08:16:24.566386', 14436),('1808006-08','393142109132201','USEPA','200.7','Total',68100.0,100.0,'ug/l','ug/l','2018-08-22',NULL,NULL,'Magnesium',NULL,'Inorganics, Major, Metals','1808006-08-Magnesium',0,'paulinkenbrandt','paulinkenbrandt','2019-04-16 08:16:24.566386','2019-04-16 08:16:24.566386', 14437),('1808006-08','393142109132201','USEPA','200.7','Total',1420.0,1000.0,'ug/l','ug/l','2018-08-22',NULL,NULL,'Potassium',NULL,'Inorganics, Major, Metals','1808006-08-Potassium',0,'paulinkenbrandt','paulinkenbrandt','2019-04-16 08:16:24.566386','2019-04-16 08:16:24.566386', 14438),('1808006-08','393142109132201','USEPA','200.7','Total',NULL,100.0,'ug/l','ug/l','2018-08-22','Lower Reporting Limit','Below Reporting Limit','Iron',NULL,'Inorganics, Minor, Metals','1808006-08-Iron',0,'paulinkenbrandt','paulinkenbrandt','2019-04-16 08:16:24.566386','2019-04-16 08:16:24.566386', 14439),('1808006-08','393142109132201','USEPA','200.7','Total',NULL,2.0,'ug/l','ug/l','2018-08-22','Lower Reporting Limit','Below Reporting Limit','Manganese',NULL,'Inorganics, Minor, Metals','1808006-08-Manganese',0,'paulinkenbrandt','paulinkenbrandt','2019-04-16 08:16:24.566386','2019-04-16 08:16:24.566386', 14440),('1808006-08','393142109132201','USEPA','200.7','Total',NULL,10.0,'ug/l','ug/l','2018-08-22','Lower Reporting Limit','Below Reporting Limit','Copper',NULL,'Inorganics, Minor, Metals','1808006-08-Copper',0,'paulinkenbrandt','paulinkenbrandt','2019-04-16 08:16:24.566386','2019-04-16 08:16:24.566386', 14441),('1808006-08','393142109132201','USEPA','200.7','Total',NULL,100.0,'ug/l','ug/l','2018-08-22','Lower Reporting Limit','Below Reporting Limit','Boron',NULL,'Inorganics, Minor, Non-metals','1808006-08-Boron',0,'paulinkenbrandt','paulinkenbrandt','2019-04-16 08:16:24.566386','2019-04-16 08:16:24.566386', 14442),('1808006-08','393142109132201','USEPA','200.7','Total',NULL,5.0,'ug/l','ug/l','2018-08-22','Lower Reporting Limit','Below Reporting Limit','Chromium',NULL,'Inorganics, Minor, Metals','1808006-08-Chromium',0,'paulinkenbrandt','paulinkenbrandt','2019-04-16 08:16:24.566386','2019-04-16 08:16:24.566386', 14443),('1808006-08','393142109132201','USEPA','350.1','Total',NULL,0.05,'mg/l','mg/l','2018-08-23','Lower Reporting Limit','Below Reporting Limit','Ammonia','as N','Nutrient','1808006-08-Ammonia',0,'paulinkenbrandt','paulinkenbrandt','2019-04-16 08:16:24.566386','2019-04-16 08:16:24.566386', 14444),('1808006-05','394617110175201','USEPA','310.1','Total',448.0,50.0,'mg/l','mg/l','2018-08-10',NULL,NULL,'Alkalinity',NULL,NULL,'1808006-05-Alkalinity',0,'paulinkenbrandt','paulinkenbrandt','2019-04-16 08:16:24.566386','2019-04-16 08:16:24.566386', 14445),('1808006-05','394617110175201','USEPA','200.8','Total',12.5,2.0,'ug/l','ug/l','2018-08-22',NULL,NULL,'Arsenic',NULL,'Inorganics, Minor, Non-metals','1808006-05-Arsenic',0,'paulinkenbrandt','paulinkenbrandt','2019-04-16 08:16:24.566386','2019-04-16 08:16:24.566386', 14446),('1808006-05','394617110175201','USEPA','200.8','Total',NULL,0.2,'ug/l','ug/l','2018-08-22','Lower Reporting Limit','Below Reporting Limit','Cadmium',NULL,'Inorganics, Minor, Metals','1808006-05-Cadmium',0,'paulinkenbrandt','paulinkenbrandt','2019-04-16 08:16:24.566386','2019-04-16 08:16:24.566386', 14447),('1808006-05','394617110175201','USEPA','200.8','Total',NULL,0.5,'ug/l','ug/l','2018-08-22','Lower Reporting Limit','Below Reporting Limit','Lead',NULL,'Inorganics, Minor, Metals','1808006-05-Lead',0,'paulinkenbrandt','paulinkenbrandt','2019-04-16 08:16:24.566386','2019-04-16 08:16:24.566386', 14448),('1808006-05','394617110175201','USEPA','200.8','Total',1.6,1.0,'ug/l','ug/l','2018-08-22',NULL,NULL,'Selenium',NULL,'Inorganics, Minor, Non-metals','1808006-05-Selenium',0,'paulinkenbrandt','paulinkenbrandt','2019-04-16 08:16:24.566386','2019-04-16 08:16:24.566386', 14449),('1808006-05','394617110175201','USEPA','200.8','Total',NULL,10.0,'ug/l','ug/l','2018-08-22','Lower Reporting Limit','Below Reporting Limit','Zinc',NULL,'Inorganics, Minor, Metals','1808006-05-Zinc',0,'paulinkenbrandt','paulinkenbrandt','2019-04-16 08:16:24.566386','2019-04-16 08:16:24.566386', 14450),('1808006-05','394617110175201','USEPA','200.7','Total',88500.0,100.0,'ug/l','ug/l','2018-08-24',NULL,NULL,'Calcium',NULL,'Inorganics, Major, Metals','1808006-05-Calcium',0,'paulinkenbrandt','paulinkenbrandt','2019-04-16 08:16:24.566386','2019-04-16 08:16:24.566386', 14451),('1808006-05','394617110175201','USEPA','200.7','Total',90300.0,500.0,'ug/l','ug/l','2018-08-24',NULL,NULL,'Sodium',NULL,'Inorganics, Major, Metals','1808006-05-Sodium',0,'paulinkenbrandt','paulinkenbrandt','2019-04-16 08:16:24.566386','2019-04-16 08:16:24.566386', 14452),('1808006-05','394617110175201','USEPA','200.7','Total',NULL,100.0,'ug/l','ug/l','2018-08-24','Lower Reporting Limit','Below Reporting Limit','Aluminum',NULL,'Inorganics, Minor, Metals','1808006-05-Aluminum',0,'paulinkenbrandt','paulinkenbrandt','2019-04-16 08:16:24.566386','2019-04-16 08:16:24.566386', 14453),('1808006-05','394617110175201','USEPA','200.7','Total',99.3,4.0,'ug/l','ug/l','2018-08-24',NULL,NULL,'Barium',NULL,'Inorganics, Minor, Metals','1808006-05-Barium',0,'paulinkenbrandt','paulinkenbrandt','2019-04-16 08:16:24.566386','2019-04-16 08:16:24.566386', 14454),('1808006-05','394617110175201','USEPA','200.7','Total',74900.0,100.0,'ug/l','ug/l','2018-08-24',NULL,NULL,'Magnesium',NULL,'Inorganics, Major, Metals','1808006-05-Magnesium',0,'paulinkenbrandt','paulinkenbrandt','2019-04-16 08:16:24.566386','2019-04-16 08:16:24.566386', 14455),('1808006-05','394617110175201','USEPA','200.7','Total',2750.0,1000.0,'ug/l','ug/l','2018-08-24',NULL,NULL,'Potassium',NULL,'Inorganics, Major, Metals','1808006-05-Potassium',0,'paulinkenbrandt','paulinkenbrandt','2019-04-16 08:16:24.566386','2019-04-16 08:16:24.566386', 14456),('1808006-05','394617110175201','USEPA','200.7','Total',NULL,100.0,'ug/l','ug/l','2018-08-24','Lower Reporting Limit','Below Reporting Limit','Iron',NULL,'Inorganics, Minor, Metals','1808006-05-Iron',0,'paulinkenbrandt','paulinkenbrandt','2019-04-16 08:16:24.566386','2019-04-16 08:16:24.566386', 14457),('1808006-05','394617110175201','USEPA','200.7','Total',12.6,2.0,'ug/l','ug/l','2018-08-24',NULL,NULL,'Manganese',NULL,'Inorganics, Minor, Metals','1808006-05-Manganese',0,'paulinkenbrandt','paulinkenbrandt','2019-04-16 08:16:24.566386','2019-04-16 08:16:24.566386', 14458),('1808006-05','394617110175201','USEPA','200.7','Total',708.0,100.0,'ug/l','ug/l','2018-08-24',NULL,NULL,'Boron',NULL,'Inorganics, Minor, Non-metals','1808006-05-Boron',0,'paulinkenbrandt','paulinkenbrandt','2019-04-16 08:16:24.566386','2019-04-16 08:16:24.566386', 14459),('1808006-05','394617110175201','USEPA','200.7','Total',NULL,10.0,'ug/l','ug/l','2018-08-24','Lower Reporting Limit','Below Reporting Limit','Copper',NULL,'Inorganics, Minor, Metals','1808006-05-Copper',0,'paulinkenbrandt','paulinkenbrandt','2019-04-16 08:16:24.566386','2019-04-16 08:16:24.566386', 14460),('1808006-05','394617110175201','USEPA','200.7','Total',NULL,5.0,'ug/l','ug/l','2018-08-24','Lower Reporting Limit','Below Reporting Limit','Chromium',NULL,'Inorganics, Minor, Metals','1808006-05-Chromium',0,'paulinkenbrandt','paulinkenbrandt','2019-04-16 08:16:24.566386','2019-04-16 08:16:24.566386', 14461),('1808006-05','394617110175201','USEPA','350.1','Total',NULL,0.05,'mg/l','mg/l','2018-08-23','Lower Reporting Limit','Below Reporting Limit','Ammonia','as N','Nutrient','1808006-05-Ammonia',0,'paulinkenbrandt','paulinkenbrandt','2019-04-16 08:16:24.566386','2019-04-16 08:16:24.566386', 14462),('1808006-11','394842109140101','USEPA','310.1','Total',861.0,25.0,'mg/l','mg/l','2018-08-10',NULL,NULL,'Alkalinity',NULL,NULL,'1808006-11-Alkalinity',0,'paulinkenbrandt','paulinkenbrandt','2019-04-16 08:16:24.566386','2019-04-16 08:16:24.566386', 14463),('1808006-11','394842109140101','USEPA','200.8','Total',30.7,2.0,'ug/l','ug/l','2018-08-22',NULL,NULL,'Arsenic',NULL,'Inorganics, Minor, Non-metals','1808006-11-Arsenic',0,'paulinkenbrandt','paulinkenbrandt','2019-04-16 08:16:24.566386','2019-04-16 08:16:24.566386', 14464),('1808006-11','394842109140101','USEPA','200.8','Total',NULL,0.2,'ug/l','ug/l','2018-08-22','Lower Reporting Limit','Below Reporting Limit','Cadmium',NULL,'Inorganics, Minor, Metals','1808006-11-Cadmium',0,'paulinkenbrandt','paulinkenbrandt','2019-04-16 08:16:24.566386','2019-04-16 08:16:24.566386', 14465),('1808006-11','394842109140101','USEPA','200.8','Total',NULL,0.5,'ug/l','ug/l','2018-08-22','Lower Reporting Limit','Below Reporting Limit','Lead',NULL,'Inorganics, Minor, Metals','1808006-11-Lead',0,'paulinkenbrandt','paulinkenbrandt','2019-04-16 08:16:24.566386','2019-04-16 08:16:24.566386', 14466),('1808006-11','394842109140101','USEPA','200.8','Total',23.4,1.0,'ug/l','ug/l','2018-08-22',NULL,NULL,'Selenium',NULL,'Inorganics, Minor, Non-metals','1808006-11-Selenium',0,'paulinkenbrandt','paulinkenbrandt','2019-04-16 08:16:24.566386','2019-04-16 08:16:24.566386', 14467),('1808006-11','394842109140101','USEPA','200.8','Total',NULL,10.0,'ug/l','ug/l','2018-08-22','Lower Reporting Limit','Below Reporting Limit','Zinc',NULL,'Inorganics, Minor, Metals','1808006-11-Zinc',0,'paulinkenbrandt','paulinkenbrandt','2019-04-16 08:16:24.566386','2019-04-16 08:16:24.566386', 14468),('1808006-11','394842109140101','USEPA','200.7','Total',50900.0,100.0,'ug/l','ug/l','2018-08-22',NULL,NULL,'Calcium',NULL,'Inorganics, Major, Metals','1808006-11-Calcium',0,'paulinkenbrandt','paulinkenbrandt','2019-04-16 08:16:24.566386','2019-04-16 08:16:24.566386', 14469),('1808006-11','394842109140101','USEPA','200.7','Total',299000.0,500.0,'ug/l','ug/l','2018-08-22',NULL,NULL,'Sodium',NULL,'Inorganics, Major, Metals','1808006-11-Sodium',0,'paulinkenbrandt','paulinkenbrandt','2019-04-16 08:16:24.566386','2019-04-16 08:16:24.566386', 14470),('1808006-11','394842109140101','USEPA','200.7','Total',NULL,100.0,'ug/l','ug/l','2018-08-22','Lower Reporting Limit','Below Reporting Limit','Aluminum',NULL,'Inorganics, Minor, Metals','1808006-11-Aluminum',0,'paulinkenbrandt','paulinkenbrandt','2019-04-16 08:16:24.566386','2019-04-16 08:16:24.566386', 14471),('1808006-11','394842109140101','USEPA','200.7','Total',17.7,4.0,'ug/l','ug/l','2018-08-22',NULL,NULL,'Barium',NULL,'Inorganics, Minor, Metals','1808006-11-Barium',0,'paulinkenbrandt','paulinkenbrandt','2019-04-16 08:16:24.566386','2019-04-16 08:16:24.566386', 14472),('1808006-11','394842109140101','USEPA','200.7','Total',132000.0,100.0,'ug/l','ug/l','2018-08-22',NULL,NULL,'Magnesium',NULL,'Inorganics, Major, Metals','1808006-11-Magnesium',0,'paulinkenbrandt','paulinkenbrandt','2019-04-16 08:16:24.566386','2019-04-16 08:16:24.566386', 14473),('1808006-11','394842109140101','USEPA','200.7','Total',2630.0,1000.0,'ug/l','ug/l','2018-08-22',NULL,NULL,'Potassium',NULL,'Inorganics, Major, Metals','1808006-11-Potassium',0,'paulinkenbrandt','paulinkenbrandt','2019-04-16 08:16:24.566386','2019-04-16 08:16:24.566386', 14474),('1808006-11','394842109140101','USEPA','200.7','Total',NULL,100.0,'ug/l','ug/l','2018-08-22','Lower Reporting Limit','Below Reporting Limit','Iron',NULL,'Inorganics, Minor, Metals','1808006-11-Iron',0,'paulinkenbrandt','paulinkenbrandt','2019-04-16 08:16:24.566386','2019-04-16 08:16:24.566386', 14475),('1808006-11','394842109140101','USEPA','200.7','Total',NULL,2.0,'ug/l','ug/l','2018-08-22','Lower Reporting Limit','Below Reporting Limit','Manganese',NULL,'Inorganics, Minor, Metals','1808006-11-Manganese',0,'paulinkenbrandt','paulinkenbrandt','2019-04-16 08:16:24.566386','2019-04-16 08:16:24.566386', 14476),('1808006-11','394842109140101','USEPA','200.7','Total',5270.0,100.0,'ug/l','ug/l','2018-08-22',NULL,NULL,'Boron',NULL,'Inorganics, Minor, Non-metals','1808006-11-Boron',0,'paulinkenbrandt','paulinkenbrandt','2019-04-16 08:16:24.566386','2019-04-16 08:16:24.566386', 14477),('1808006-11','394842109140101','USEPA','200.7','Total',16.4,10.0,'ug/l','ug/l','2018-08-22',NULL,NULL,'Copper',NULL,'Inorganics, Minor, Metals','1808006-11-Copper',0,'paulinkenbrandt','paulinkenbrandt','2019-04-16 08:16:24.566386','2019-04-16 08:16:24.566386', 14478),('1808006-11','394842109140101','USEPA','200.7','Total',NULL,5.0,'ug/l','ug/l','2018-08-22','Lower Reporting Limit','Below Reporting Limit','Chromium',NULL,'Inorganics, Minor, Metals','1808006-11-Chromium',0,'paulinkenbrandt','paulinkenbrandt','2019-04-16 08:16:24.566386','2019-04-16 08:16:24.566386', 14479),('1808006-11','394842109140101','USEPA','350.1','Total',NULL,0.05,'mg/l','mg/l','2018-08-23','Lower Reporting Limit','Below Reporting Limit','Ammonia','as N','Nutrient','1808006-11-Ammonia',0,'paulinkenbrandt','paulinkenbrandt','2019-04-16 08:16:24.566386','2019-04-16 08:16:24.566386', 14480),('1808006-10','394842109140101D','USEPA','310.1','Total',864.0,25.0,'mg/l','mg/l','2018-08-10',NULL,NULL,'Alkalinity',NULL,NULL,'1808006-10-Alkalinity',0,'paulinkenbrandt','paulinkenbrandt','2019-04-16 08:16:24.566386','2019-04-16 08:16:24.566386', 14481),('1808006-10','394842109140101D','USEPA','200.8','Total',29.5,2.0,'ug/l','ug/l','2018-08-22',NULL,NULL,'Arsenic',NULL,'Inorganics, Minor, Non-metals','1808006-10-Arsenic',0,'paulinkenbrandt','paulinkenbrandt','2019-04-16 08:16:24.566386','2019-04-16 08:16:24.566386', 14482),('1808006-10','394842109140101D','USEPA','200.8','Total',NULL,0.2,'ug/l','ug/l','2018-08-22','Lower Reporting Limit','Below Reporting Limit','Cadmium',NULL,'Inorganics, Minor, Metals','1808006-10-Cadmium',0,'paulinkenbrandt','paulinkenbrandt','2019-04-16 08:16:24.566386','2019-04-16 08:16:24.566386', 14483),('1808006-10','394842109140101D','USEPA','200.8','Total',NULL,0.5,'ug/l','ug/l','2018-08-22','Lower Reporting Limit','Below Reporting Limit','Lead',NULL,'Inorganics, Minor, Metals','1808006-10-Lead',0,'paulinkenbrandt','paulinkenbrandt','2019-04-16 08:16:24.566386','2019-04-16 08:16:24.566386', 14484),('1808006-10','394842109140101D','USEPA','200.8','Total',22.5,1.0,'ug/l','ug/l','2018-08-22',NULL,NULL,'Selenium',NULL,'Inorganics, Minor, Non-metals','1808006-10-Selenium',0,'paulinkenbrandt','paulinkenbrandt','2019-04-16 08:16:24.566386','2019-04-16 08:16:24.566386', 14485),('1808006-10','394842109140101D','USEPA','200.8','Total',NULL,10.0,'ug/l','ug/l','2018-08-22','Lower Reporting Limit','Below Reporting Limit','Zinc',NULL,'Inorganics, Minor, Metals','1808006-10-Zinc',0,'paulinkenbrandt','paulinkenbrandt','2019-04-16 08:16:24.566386','2019-04-16 08:16:24.566386', 14486),('1808006-10','394842109140101D','USEPA','200.7','Total',52000.0,100.0,'ug/l','ug/l','2018-08-22',NULL,NULL,'Calcium',NULL,'Inorganics, Major, Metals','1808006-10-Calcium',0,'paulinkenbrandt','paulinkenbrandt','2019-04-16 08:16:24.566386','2019-04-16 08:16:24.566386', 14487),('1808006-10','394842109140101D','USEPA','200.7','Total',304000.0,500.0,'ug/l','ug/l','2018-08-22',NULL,NULL,'Sodium',NULL,'Inorganics, Major, Metals','1808006-10-Sodium',0,'paulinkenbrandt','paulinkenbrandt','2019-04-16 08:16:24.566386','2019-04-16 08:16:24.566386', 14488),('1808006-10','394842109140101D','USEPA','200.7','Total',NULL,100.0,'ug/l','ug/l','2018-08-22','Lower Reporting Limit','Below Reporting Limit','Aluminum',NULL,'Inorganics, Minor, Metals','1808006-10-Aluminum',0,'paulinkenbrandt','paulinkenbrandt','2019-04-16 08:16:24.566386','2019-04-16 08:16:24.566386', 14489),('1808006-10','394842109140101D','USEPA','200.7','Total',17.5,4.0,'ug/l','ug/l','2018-08-22',NULL,NULL,'Barium',NULL,'Inorganics, Minor, Metals','1808006-10-Barium',0,'paulinkenbrandt','paulinkenbrandt','2019-04-16 08:16:24.566386','2019-04-16 08:16:24.566386', 14490),('1808006-10','394842109140101D','USEPA','200.7','Total',133000.0,100.0,'ug/l','ug/l','2018-08-22',NULL,NULL,'Magnesium',NULL,'Inorganics, Major, Metals','1808006-10-Magnesium',0,'paulinkenbrandt','paulinkenbrandt','2019-04-16 08:16:24.566386','2019-04-16 08:16:24.566386', 14491),('1808006-10','394842109140101D','USEPA','200.7','Total',2450.0,1000.0,'ug/l','ug/l','2018-08-22',NULL,NULL,'Potassium',NULL,'Inorganics, Major, Metals','1808006-10-Potassium',0,'paulinkenbrandt','paulinkenbrandt','2019-04-16 08:16:24.566386','2019-04-16 08:16:24.566386', 14492),('1808006-10','394842109140101D','USEPA','200.7','Total',NULL,100.0,'ug/l','ug/l','2018-08-22','Lower Reporting Limit','Below Reporting Limit','Iron',NULL,'Inorganics, Minor, Metals','1808006-10-Iron',0,'paulinkenbrandt','paulinkenbrandt','2019-04-16 08:16:24.566386','2019-04-16 08:16:24.566386', 14493),('1808006-10','394842109140101D','USEPA','200.7','Total',NULL,2.0,'ug/l','ug/l','2018-08-22','Lower Reporting Limit','Below Reporting Limit','Manganese',NULL,'Inorganics, Minor, Metals','1808006-10-Manganese',0,'paulinkenbrandt','paulinkenbrandt','2019-04-16 08:16:24.566386','2019-04-16 08:16:24.566386', 14494),('1808006-10','394842109140101D','USEPA','200.7','Total',5440.0,100.0,'ug/l','ug/l','2018-08-22',NULL,NULL,'Boron',NULL,'Inorganics, Minor, Non-metals','1808006-10-Boron',0,'paulinkenbrandt','paulinkenbrandt','2019-04-16 08:16:24.566386','2019-04-16 08:16:24.566386', 14495),('1808006-10','394842109140101D','USEPA','200.7','Total',17.9,10.0,'ug/l','ug/l','2018-08-22',NULL,NULL,'Copper',NULL,'Inorganics, Minor, Metals','1808006-10-Copper',0,'paulinkenbrandt','paulinkenbrandt','2019-04-16 08:16:24.566386','2019-04-16 08:16:24.566386', 14496),('1808006-10','394842109140101D','USEPA','200.7','Total',NULL,5.0,'ug/l','ug/l','2018-08-22','Lower Reporting Limit','Below Reporting Limit','Chromium',NULL,'Inorganics, Minor, Metals','1808006-10-Chromium',0,'paulinkenbrandt','paulinkenbrandt','2019-04-16 08:16:24.566386','2019-04-16 08:16:24.566386', 14497),('1808006-10','394842109140101D','USEPA','350.1','Total',NULL,0.05,'mg/l','mg/l','2018-08-23','Lower Reporting Limit','Below Reporting Limit','Ammonia','as N','Nutrient','1808006-10-Ammonia',0,'paulinkenbrandt','paulinkenbrandt','2019-04-16 08:16:24.566386','2019-04-16 08:16:24.566386', 14498),('1808006-12','395036109074301','USEPA','310.1','Total',775.0,25.0,'mg/l','mg/l','2018-08-10',NULL,NULL,'Alkalinity',NULL,NULL,'1808006-12-Alkalinity',0,'paulinkenbrandt','paulinkenbrandt','2019-04-16 08:16:24.566386','2019-04-16 08:16:24.566386', 14499),('1808006-12','395036109074301','USEPA','200.8','Total',NULL,2.0,'ug/l','ug/l','2018-08-22','Lower Reporting Limit','Below Reporting Limit','Arsenic',NULL,'Inorganics, Minor, Non-metals','1808006-12-Arsenic',0,'paulinkenbrandt','paulinkenbrandt','2019-04-16 08:16:24.566386','2019-04-16 08:16:24.566386', 14500),('1808006-12','395036109074301','USEPA','200.8','Total',NULL,0.2,'ug/l','ug/l','2018-08-22','Lower Reporting Limit','Below Reporting Limit','Cadmium',NULL,'Inorganics, Minor, Metals','1808006-12-Cadmium',0,'paulinkenbrandt','paulinkenbrandt','2019-04-16 08:16:24.566386','2019-04-16 08:16:24.566386', 14501),('1808006-12','395036109074301','USEPA','200.8','Total',NULL,0.5,'ug/l','ug/l','2018-08-22','Lower Reporting Limit','Below Reporting Limit','Lead',NULL,'Inorganics, Minor, Metals','1808006-12-Lead',0,'paulinkenbrandt','paulinkenbrandt','2019-04-16 08:16:24.566386','2019-04-16 08:16:24.566386', 14502),('1808006-12','395036109074301','USEPA','200.8','Total',NULL,1.0,'ug/l','ug/l','2018-08-22','Lower Reporting Limit','Below Reporting Limit','Selenium',NULL,'Inorganics, Minor, Non-metals','1808006-12-Selenium',0,'paulinkenbrandt','paulinkenbrandt','2019-04-16 08:16:24.566386','2019-04-16 08:16:24.566386', 14503),('1808006-12','395036109074301','USEPA','200.8','Total',NULL,10.0,'ug/l','ug/l','2018-08-22','Lower Reporting Limit','Below Reporting Limit','Zinc',NULL,'Inorganics, Minor, Metals','1808006-12-Zinc',0,'paulinkenbrandt','paulinkenbrandt','2019-04-16 08:16:24.566386','2019-04-16 08:16:24.566386', 14504),('1808006-12','395036109074301','USEPA','200.7','Total',319000.0,500.0,'ug/l','ug/l','2018-08-22',NULL,NULL,'Sodium',NULL,'Inorganics, Major, Metals','1808006-12-Sodium',0,'paulinkenbrandt','paulinkenbrandt','2019-04-16 08:16:24.566386','2019-04-16 08:16:24.566386', 14505),('1808006-12','395036109074301','USEPA','200.7','Total',NULL,100.0,'ug/l','ug/l','2018-08-22','Lower Reporting Limit','Below Reporting Limit','Aluminum',NULL,'Inorganics, Minor, Metals','1808006-12-Aluminum',0,'paulinkenbrandt','paulinkenbrandt','2019-04-16 08:16:24.566386','2019-04-16 08:16:24.566386', 14506),('1808006-12','395036109074301','USEPA','200.7','Total',41.3,4.0,'ug/l','ug/l','2018-08-22',NULL,NULL,'Barium',NULL,'Inorganics, Minor, Metals','1808006-12-Barium',0,'paulinkenbrandt','paulinkenbrandt','2019-04-16 08:16:24.566386','2019-04-16 08:16:24.566386', 14507),('1808006-12','395036109074301','USEPA','200.7','Total',578.0,100.0,'ug/l','ug/l','2018-08-22',NULL,NULL,'Calcium',NULL,'Inorganics, Major, Metals','1808006-12-Calcium',0,'paulinkenbrandt','paulinkenbrandt','2019-04-16 08:16:24.566386','2019-04-16 08:16:24.566386', 14508),('1808006-12','395036109074301','USEPA','200.7','Total',NULL,1000.0,'ug/l','ug/l','2018-08-22','Lower Reporting Limit','Below Reporting Limit','Potassium',NULL,'Inorganics, Major, Metals','1808006-12-Potassium',0,'paulinkenbrandt','paulinkenbrandt','2019-04-16 08:16:24.566386','2019-04-16 08:16:24.566386', 14509),('1808006-12','395036109074301','USEPA','200.7','Total',NULL,100.0,'ug/l','ug/l','2018-08-22','Lower Reporting Limit','Below Reporting Limit','Iron',NULL,'Inorganics, Minor, Metals','1808006-12-Iron',0,'paulinkenbrandt','paulinkenbrandt','2019-04-16 08:16:24.566386','2019-04-16 08:16:24.566386', 14510),('1808006-12','395036109074301','USEPA','200.7','Total',308.0,100.0,'ug/l','ug/l','2018-08-22',NULL,NULL,'Magnesium',NULL,'Inorganics, Major, Metals','1808006-12-Magnesium',0,'paulinkenbrandt','paulinkenbrandt','2019-04-16 08:16:24.566386','2019-04-16 08:16:24.566386', 14511),('1808006-12','395036109074301','USEPA','200.7','Total',NULL,2.0,'ug/l','ug/l','2018-08-22','Lower Reporting Limit','Below Reporting Limit','Manganese',NULL,'Inorganics, Minor, Metals','1808006-12-Manganese',0,'paulinkenbrandt','paulinkenbrandt','2019-04-16 08:16:24.566386','2019-04-16 08:16:24.566386', 14512),('1808006-12','395036109074301','USEPA','200.7','Total',387.0,100.0,'ug/l','ug/l','2018-08-22',NULL,NULL,'Boron',NULL,'Inorganics, Minor, Non-metals','1808006-12-Boron',0,'paulinkenbrandt','paulinkenbrandt','2019-04-16 08:16:24.566386','2019-04-16 08:16:24.566386', 14513),('1808006-12','395036109074301','USEPA','200.7','Total',NULL,10.0,'ug/l','ug/l','2018-08-22','Lower Reporting Limit','Below Reporting Limit','Copper',NULL,'Inorganics, Minor, Metals','1808006-12-Copper',0,'paulinkenbrandt','paulinkenbrandt','2019-04-16 08:16:24.566386','2019-04-16 08:16:24.566386', 14514),('1808006-12','395036109074301','USEPA','200.7','Total',NULL,5.0,'ug/l','ug/l','2018-08-22','Lower Reporting Limit','Below Reporting Limit','Chromium',NULL,'Inorganics, Minor, Metals','1808006-12-Chromium',0,'paulinkenbrandt','paulinkenbrandt','2019-04-16 08:16:24.566386','2019-04-16 08:16:24.566386', 14515),('1808006-12','395036109074301','USEPA','350.1','Total',0.452,0.05,'mg/l','mg/l','2018-08-23',NULL,NULL,'Ammonia','as N','Nutrient','1808006-12-Ammonia',0,'paulinkenbrandt','paulinkenbrandt','2019-04-16 08:16:24.566386','2019-04-16 08:16:24.566386', 14516),('1808006-07','395632109384801','USEPA','310.1','Total',1100.0,25.0,'mg/l','mg/l','2018-08-10',NULL,NULL,'Alkalinity',NULL,NULL,'1808006-07-Alkalinity',0,'paulinkenbrandt','paulinkenbrandt','2019-04-16 08:16:24.566386','2019-04-16 08:16:24.566386', 14517),('1808006-07','395632109384801','USEPA','200.8','Total',14.1,2.0,'ug/l','ug/l','2018-08-22',NULL,NULL,'Arsenic',NULL,'Inorganics, Minor, Non-metals','1808006-07-Arsenic',0,'paulinkenbrandt','paulinkenbrandt','2019-04-16 08:16:24.566386','2019-04-16 08:16:24.566386', 14518),('1808006-07','395632109384801','USEPA','200.8','Total',0.6,0.2,'ug/l','ug/l','2018-08-22',NULL,NULL,'Cadmium',NULL,'Inorganics, Minor, Metals','1808006-07-Cadmium',0,'paulinkenbrandt','paulinkenbrandt','2019-04-16 08:16:24.566386','2019-04-16 08:16:24.566386', 14519),('1808006-07','395632109384801','USEPA','200.8','Total',1.1,0.5,'ug/l','ug/l','2018-08-22',NULL,NULL,'Lead',NULL,'Inorganics, Minor, Metals','1808006-07-Lead',0,'paulinkenbrandt','paulinkenbrandt','2019-04-16 08:16:24.566386','2019-04-16 08:16:24.566386', 14520),('1808006-07','395632109384801','USEPA','200.8','Total',13.5,1.0,'ug/l','ug/l','2018-08-22',NULL,NULL,'Selenium',NULL,'Inorganics, Minor, Non-metals','1808006-07-Selenium',0,'paulinkenbrandt','paulinkenbrandt','2019-04-16 08:16:24.566386','2019-04-16 08:16:24.566386', 14521),('1808006-07','395632109384801','USEPA','200.8','Total',2170.0,10.0,'ug/l','ug/l','2018-08-22',NULL,NULL,'Zinc',NULL,'Inorganics, Minor, Metals','1808006-07-Zinc',0,'paulinkenbrandt','paulinkenbrandt','2019-04-16 08:16:24.566386','2019-04-16 08:16:24.566386', 14522),('1808006-07','395632109384801','USEPA','200.7','Total',122000.0,100.0,'ug/l','ug/l','2018-08-22',NULL,NULL,'Calcium',NULL,'Inorganics, Major, Metals','1808006-07-Calcium',0,'paulinkenbrandt','paulinkenbrandt','2019-04-16 08:16:24.566386','2019-04-16 08:16:24.566386', 14523),('1808006-07','395632109384801','USEPA','200.7','Total',NULL,100.0,'ug/l','ug/l','2018-08-22','Lower Reporting Limit','Below Reporting Limit','Aluminum',NULL,'Inorganics, Minor, Metals','1808006-07-Aluminum',0,'paulinkenbrandt','paulinkenbrandt','2019-04-16 08:16:24.566386','2019-04-16 08:16:24.566386', 14524),('1808006-07','395632109384801','USEPA','200.7','Total',16.3,4.0,'ug/l','ug/l','2018-08-22',NULL,NULL,'Barium',NULL,'Inorganics, Minor, Metals','1808006-07-Barium',0,'paulinkenbrandt','paulinkenbrandt','2019-04-16 08:16:24.566386','2019-04-16 08:16:24.566386', 14525),('1808006-07','395632109384801','USEPA','200.7','Total',388000.0,100.0,'ug/l','ug/l','2018-08-22',NULL,NULL,'Magnesium',NULL,'Inorganics, Major, Metals','1808006-07-Magnesium',0,'paulinkenbrandt','paulinkenbrandt','2019-04-16 08:16:24.566386','2019-04-16 08:16:24.566386', 14526),('1808006-07','395632109384801','USEPA','200.7','Total',8570.0,1000.0,'ug/l','ug/l','2018-08-22',NULL,NULL,'Potassium',NULL,'Inorganics, Major, Metals','1808006-07-Potassium',0,'paulinkenbrandt','paulinkenbrandt','2019-04-16 08:16:24.566386','2019-04-16 08:16:24.566386', 14527),('1808006-07','395632109384801','USEPA','200.7','Total',NULL,100.0,'ug/l','ug/l','2018-08-22','Lower Reporting Limit','Below Reporting Limit','Iron',NULL,'Inorganics, Minor, Metals','1808006-07-Iron',0,'paulinkenbrandt','paulinkenbrandt','2019-04-16 08:16:24.566386','2019-04-16 08:16:24.566386', 14528),('1808006-07','395632109384801','USEPA','200.7','Total',115.0,2.0,'ug/l','ug/l','2018-08-22',NULL,NULL,'Manganese',NULL,'Inorganics, Minor, Metals','1808006-07-Manganese',0,'paulinkenbrandt','paulinkenbrandt','2019-04-16 08:16:24.566386','2019-04-16 08:16:24.566386', 14529),('1808006-07','395632109384801','USEPA','200.7','Total',NULL,10.0,'ug/l','ug/l','2018-08-22','Lower Reporting Limit','Below Reporting Limit','Copper',NULL,'Inorganics, Minor, Metals','1808006-07-Copper',0,'paulinkenbrandt','paulinkenbrandt','2019-04-16 08:16:24.566386','2019-04-16 08:16:24.566386', 14530),('1808006-07','395632109384801','USEPA','200.7','Total',NULL,5.0,'ug/l','ug/l','2018-08-22','Lower Reporting Limit','Below Reporting Limit','Chromium',NULL,'Inorganics, Minor, Metals','1808006-07-Chromium',0,'paulinkenbrandt','paulinkenbrandt','2019-04-16 08:16:24.566386','2019-04-16 08:16:24.566386', 14531),('1808006-07','395632109384801','USEPA','350.1','Total',0.947,0.05,'mg/l','mg/l','2018-08-23',NULL,NULL,'Ammonia','as N','Nutrient','1808006-07-Ammonia',0,'paulinkenbrandt','paulinkenbrandt','2019-04-16 08:16:24.566386','2019-04-16 08:16:24.566386', 14532),('1808006-07RE1','395632109384801','USEPA','200.7','Total',2030000.0,5000.0,'ug/l','ug/l','2018-08-22',NULL,NULL,'Sodium',NULL,'Inorganics, Major, Metals','1808006-07RE1-Sodium',0,'paulinkenbrandt','paulinkenbrandt','2019-04-16 08:16:24.566386','2019-04-16 08:16:24.566386', 14533),('1808006-07RE1','395632109384801','USEPA','200.7','Total',22000.0,1000.0,'ug/l','ug/l','2018-08-22',NULL,NULL,'Boron',NULL,'Inorganics, Minor, Non-metals','1808006-07RE1-Boron',0,'paulinkenbrandt','paulinkenbrandt','2019-04-16 08:16:24.566386','2019-04-16 08:16:24.566386', 14534),('1808006-06','400045110002901','USEPA','310.1','Total',434.0,50.0,'mg/l','mg/l','2018-08-10',NULL,NULL,'Alkalinity',NULL,NULL,'1808006-06-Alkalinity',0,'paulinkenbrandt','paulinkenbrandt','2019-04-16 08:16:24.566386','2019-04-16 08:16:24.566386', 14535),('1808006-06','400045110002901','USEPA','200.8','Total',NULL,2.0,'ug/l','ug/l','2018-08-22','Lower Reporting Limit','Below Reporting Limit','Arsenic',NULL,'Inorganics, Minor, Non-metals','1808006-06-Arsenic',0,'paulinkenbrandt','paulinkenbrandt','2019-04-16 08:16:24.566386','2019-04-16 08:16:24.566386', 14536),('1808006-06','400045110002901','USEPA','200.8','Total',NULL,0.2,'ug/l','ug/l','2018-08-22','Lower Reporting Limit','Below Reporting Limit','Cadmium',NULL,'Inorganics, Minor, Metals','1808006-06-Cadmium',0,'paulinkenbrandt','paulinkenbrandt','2019-04-16 08:16:24.566386','2019-04-16 08:16:24.566386', 14537),('1808006-06','400045110002901','USEPA','200.8','Total',NULL,0.5,'ug/l','ug/l','2018-08-22','Lower Reporting Limit','Below Reporting Limit','Lead',NULL,'Inorganics, Minor, Metals','1808006-06-Lead',0,'paulinkenbrandt','paulinkenbrandt','2019-04-16 08:16:24.566386','2019-04-16 08:16:24.566386', 14538),('1808006-06','400045110002901','USEPA','200.8','Total',10.6,1.0,'ug/l','ug/l','2018-08-22',NULL,NULL,'Selenium',NULL,'Inorganics, Minor, Non-metals','1808006-06-Selenium',0,'paulinkenbrandt','paulinkenbrandt','2019-04-16 08:16:24.566386','2019-04-16 08:16:24.566386', 14539),('1808006-06','400045110002901','USEPA','200.8','Total',NULL,10.0,'ug/l','ug/l','2018-08-22','Lower Reporting Limit','Below Reporting Limit','Zinc',NULL,'Inorganics, Minor, Metals','1808006-06-Zinc',0,'paulinkenbrandt','paulinkenbrandt','2019-04-16 08:16:24.566386','2019-04-16 08:16:24.566386', 14540),('1808006-06','400045110002901','USEPA','200.7','Total',427000.0,500.0,'ug/l','ug/l','2018-08-22',NULL,NULL,'Sodium',NULL,'Inorganics, Major, Metals','1808006-06-Sodium',0,'paulinkenbrandt','paulinkenbrandt','2019-04-16 08:16:24.566386','2019-04-16 08:16:24.566386', 14541),('1808006-06','400045110002901','USEPA','200.7','Total',NULL,100.0,'ug/l','ug/l','2018-08-22','Lower Reporting Limit','Below Reporting Limit','Aluminum',NULL,'Inorganics, Minor, Metals','1808006-06-Aluminum',0,'paulinkenbrandt','paulinkenbrandt','2019-04-16 08:16:24.566386','2019-04-16 08:16:24.566386', 14542),('1808006-06','400045110002901','USEPA','200.7','Total',11.6,4.0,'ug/l','ug/l','2018-08-22',NULL,NULL,'Barium',NULL,'Inorganics, Minor, Metals','1808006-06-Barium',0,'paulinkenbrandt','paulinkenbrandt','2019-04-16 08:16:24.566386','2019-04-16 08:16:24.566386', 14543),('1808006-06','400045110002901','USEPA','200.7','Total',16100.0,100.0,'ug/l','ug/l','2018-08-22',NULL,NULL,'Calcium',NULL,'Inorganics, Major, Metals','1808006-06-Calcium',0,'paulinkenbrandt','paulinkenbrandt','2019-04-16 08:16:24.566386','2019-04-16 08:16:24.566386', 14544),('1808006-06','400045110002901','USEPA','200.7','Total',11900.0,100.0,'ug/l','ug/l','2018-08-22',NULL,NULL,'Magnesium',NULL,'Inorganics, Major, Metals','1808006-06-Magnesium',0,'paulinkenbrandt','paulinkenbrandt','2019-04-16 08:16:24.566386','2019-04-16 08:16:24.566386', 14545),('1808006-06','400045110002901','USEPA','200.7','Total',2570.0,1000.0,'ug/l','ug/l','2018-08-22',NULL,NULL,'Potassium',NULL,'Inorganics, Major, Metals','1808006-06-Potassium',0,'paulinkenbrandt','paulinkenbrandt','2019-04-16 08:16:24.566386','2019-04-16 08:16:24.566386', 14546),('1808006-06','400045110002901','USEPA','200.7','Total',NULL,100.0,'ug/l','ug/l','2018-08-22','Lower Reporting Limit','Below Reporting Limit','Iron',NULL,'Inorganics, Minor, Metals','1808006-06-Iron',0,'paulinkenbrandt','paulinkenbrandt','2019-04-16 08:16:24.566386','2019-04-16 08:16:24.566386', 14547),('1808006-06','400045110002901','USEPA','200.7','Total',NULL,2.0,'ug/l','ug/l','2018-08-22','Lower Reporting Limit','Below Reporting Limit','Manganese',NULL,'Inorganics, Minor, Metals','1808006-06-Manganese',0,'paulinkenbrandt','paulinkenbrandt','2019-04-16 08:16:24.566386','2019-04-16 08:16:24.566386', 14548),('1808006-06','400045110002901','USEPA','200.7','Total',1700.0,100.0,'ug/l','ug/l','2018-08-22',NULL,NULL,'Boron',NULL,'Inorganics, Minor, Non-metals','1808006-06-Boron',0,'paulinkenbrandt','paulinkenbrandt','2019-04-16 08:16:24.566386','2019-04-16 08:16:24.566386', 14549),('1808006-06','400045110002901','USEPA','200.7','Total',NULL,10.0,'ug/l','ug/l','2018-08-22','Lower Reporting Limit','Below Reporting Limit','Copper',NULL,'Inorganics, Minor, Metals','1808006-06-Copper',0,'paulinkenbrandt','paulinkenbrandt','2019-04-16 08:16:24.566386','2019-04-16 08:16:24.566386', 14550),('1808006-06','400045110002901','USEPA','200.7','Total',NULL,5.0,'ug/l','ug/l','2018-08-22','Lower Reporting Limit','Below Reporting Limit','Chromium',NULL,'Inorganics, Minor, Metals','1808006-06-Chromium',0,'paulinkenbrandt','paulinkenbrandt','2019-04-16 08:16:24.566386','2019-04-16 08:16:24.566386', 14551),('1808006-06','400045110002901','USEPA','350.1','Total',NULL,0.05,'mg/l','mg/l','2018-08-23','Lower Reporting Limit','Below Reporting Limit','Ammonia','as N','Nutrient','1808006-06-Ammonia',0,'paulinkenbrandt','paulinkenbrandt','2019-04-16 08:16:24.566386','2019-04-16 08:16:24.566386', 14552),('1808006-13','400758110385101','USEPA','310.1','Total',5650.0,500.0,'mg/l','mg/l','2018-08-10',NULL,NULL,'Alkalinity',NULL,NULL,'1808006-13-Alkalinity',0,'paulinkenbrandt','paulinkenbrandt','2019-04-16 08:16:24.566386','2019-04-16 08:16:24.566386', 14553),('1808006-13','400758110385101','USEPA','200.8','Total',NULL,2.0,'ug/l','ug/l','2018-08-22','Lower Reporting Limit','Below Reporting Limit','Arsenic',NULL,'Inorganics, Minor, Non-metals','1808006-13-Arsenic',0,'paulinkenbrandt','paulinkenbrandt','2019-04-16 08:16:24.566386','2019-04-16 08:16:24.566386', 14554),('1808006-13','400758110385101','USEPA','200.8','Total',NULL,0.2,'ug/l','ug/l','2018-08-22','Lower Reporting Limit','Below Reporting Limit','Cadmium',NULL,'Inorganics, Minor, Metals','1808006-13-Cadmium',0,'paulinkenbrandt','paulinkenbrandt','2019-04-16 08:16:24.566386','2019-04-16 08:16:24.566386', 14555),('1808006-13','400758110385101','USEPA','200.8','Total',NULL,0.5,'ug/l','ug/l','2018-08-22','Lower Reporting Limit','Below Reporting Limit','Lead',NULL,'Inorganics, Minor, Metals','1808006-13-Lead',0,'paulinkenbrandt','paulinkenbrandt','2019-04-16 08:16:24.566386','2019-04-16 08:16:24.566386', 14556),('1808006-13','400758110385101','USEPA','200.8','Total',NULL,10.0,'ug/l','ug/l','2018-08-22','Lower Reporting Limit','Below Reporting Limit','Zinc',NULL,'Inorganics, Minor, Metals','1808006-13-Zinc',0,'paulinkenbrandt','paulinkenbrandt','2019-04-16 08:16:24.566386','2019-04-16 08:16:24.566386', 14557),('1808006-13','400758110385101','USEPA','200.7','Total',NULL,100.0,'ug/l','ug/l','2018-08-22','Lower Reporting Limit','Below Reporting Limit','Aluminum',NULL,'Inorganics, Minor, Metals','1808006-13-Aluminum',0,'paulinkenbrandt','paulinkenbrandt','2019-04-16 08:16:24.566386','2019-04-16 08:16:24.566386', 14558),('1808006-13','400758110385101','USEPA','200.7','Total',128.0,4.0,'ug/l','ug/l','2018-08-22',NULL,NULL,'Barium',NULL,'Inorganics, Minor, Metals','1808006-13-Barium',0,'paulinkenbrandt','paulinkenbrandt','2019-04-16 08:16:24.566386','2019-04-16 08:16:24.566386', 14559),('1808006-13','400758110385101','USEPA','200.7','Total',530.0,100.0,'ug/l','ug/l','2018-08-22',NULL,NULL,'Calcium',NULL,'Inorganics, Major, Metals','1808006-13-Calcium',0,'paulinkenbrandt','paulinkenbrandt','2019-04-16 08:16:24.566386','2019-04-16 08:16:24.566386', 14560),('1808006-13','400758110385101','USEPA','200.7','Total',14000.0,1000.0,'ug/l','ug/l','2018-08-22',NULL,NULL,'Potassium',NULL,'Inorganics, Major, Metals','1808006-13-Potassium',0,'paulinkenbrandt','paulinkenbrandt','2019-04-16 08:16:24.566386','2019-04-16 08:16:24.566386', 14561),('1808006-13','400758110385101','USEPA','200.7','Total',NULL,100.0,'ug/l','ug/l','2018-08-22','Lower Reporting Limit','Below Reporting Limit','Iron',NULL,'Inorganics, Minor, Metals','1808006-13-Iron',0,'paulinkenbrandt','paulinkenbrandt','2019-04-16 08:16:24.566386','2019-04-16 08:16:24.566386', 14562),('1808006-13','400758110385101','USEPA','200.7','Total',128.0,100.0,'ug/l','ug/l','2018-08-22',NULL,NULL,'Magnesium',NULL,'Inorganics, Major, Metals','1808006-13-Magnesium',0,'paulinkenbrandt','paulinkenbrandt','2019-04-16 08:16:24.566386','2019-04-16 08:16:24.566386', 14563),('1808006-13','400758110385101','USEPA','200.7','Total',NULL,2.0,'ug/l','ug/l','2018-08-22','Lower Reporting Limit','Below Reporting Limit','Manganese',NULL,'Inorganics, Minor, Metals','1808006-13-Manganese',0,'paulinkenbrandt','paulinkenbrandt','2019-04-16 08:16:24.566386','2019-04-16 08:16:24.566386', 14564),('1808006-13','400758110385101','USEPA','200.7','Total',24.9,10.0,'ug/l','ug/l','2018-08-22',NULL,NULL,'Copper',NULL,'Inorganics, Minor, Metals','1808006-13-Copper',0,'paulinkenbrandt','paulinkenbrandt','2019-04-16 08:16:24.566386','2019-04-16 08:16:24.566386', 14565),('1808006-13','400758110385101','USEPA','200.7','Total',NULL,5.0,'ug/l','ug/l','2018-08-22','Lower Reporting Limit','Below Reporting Limit','Chromium',NULL,'Inorganics, Minor, Metals','1808006-13-Chromium',0,'paulinkenbrandt','paulinkenbrandt','2019-04-16 08:16:24.566386','2019-04-16 08:16:24.566386', 14566),('1808006-13','400758110385101','USEPA','350.1','Total',3.33,0.05,'mg/l','mg/l','2018-08-23',NULL,NULL,'Ammonia','as N','Nutrient','1808006-13-Ammonia',0,'paulinkenbrandt','paulinkenbrandt','2019-04-16 08:16:24.566386','2019-04-16 08:16:24.566386', 14567),('1808006-13RE1','400758110385101','USEPA','200.7','Total',2660000.0,5000.0,'ug/l','ug/l','2018-08-22',NULL,NULL,'Sodium',NULL,'Inorganics, Major, Metals','1808006-13RE1-Sodium',0,'paulinkenbrandt','paulinkenbrandt','2019-04-16 08:16:24.566386','2019-04-16 08:16:24.566386', 14568),('1808006-13RE1','400758110385101','USEPA','200.7','Total',17800.0,1000.0,'ug/l','ug/l','2018-08-22',NULL,NULL,'Boron',NULL,'Inorganics, Minor, Non-metals','1808006-13RE1-Boron',0,'paulinkenbrandt','paulinkenbrandt','2019-04-16 08:16:24.566386','2019-04-16 08:16:24.566386', 14569),('1808006-13RE2','400758110385101','USEPA','200.8','Total',3.8,3.0,'ug/l','ug/l','2018-08-22',NULL,NULL,'Selenium',NULL,'Inorganics, Minor, Non-metals','1808006-13RE2-Selenium',0,'paulinkenbrandt','paulinkenbrandt','2019-04-16 08:16:24.566386','2019-04-16 08:16:24.566386', 14570),('1808006-04','404975112573501','USEPA','310.1','Total',322.0,50.0,'mg/l','mg/l','2018-08-10',NULL,NULL,'Alkalinity',NULL,NULL,'1808006-04-Alkalinity',0,'paulinkenbrandt','paulinkenbrandt','2019-04-16 08:16:24.566386','2019-04-16 08:16:24.566386', 14571),('1808006-04','404975112573501','USEPA','200.8','Total',NULL,2.0,'ug/l','ug/l','2018-08-22','Lower Reporting Limit','Below Reporting Limit','Arsenic',NULL,'Inorganics, Minor, Non-metals','1808006-04-Arsenic',0,'paulinkenbrandt','paulinkenbrandt','2019-04-16 08:16:24.566386','2019-04-16 08:16:24.566386', 14572),('1808006-04','404975112573501','USEPA','200.8','Total',NULL,0.2,'ug/l','ug/l','2018-08-22','Lower Reporting Limit','Below Reporting Limit','Cadmium',NULL,'Inorganics, Minor, Metals','1808006-04-Cadmium',0,'paulinkenbrandt','paulinkenbrandt','2019-04-16 08:16:24.566386','2019-04-16 08:16:24.566386', 14573),('1808006-04','404975112573501','USEPA','200.8','Total',NULL,0.5,'ug/l','ug/l','2018-08-22','Lower Reporting Limit','Below Reporting Limit','Lead',NULL,'Inorganics, Minor, Metals','1808006-04-Lead',0,'paulinkenbrandt','paulinkenbrandt','2019-04-16 08:16:24.566386','2019-04-16 08:16:24.566386', 14574),('1808006-04','404975112573501','USEPA','200.8','Total',1.1,1.0,'ug/l','ug/l','2018-08-22',NULL,NULL,'Selenium',NULL,'Inorganics, Minor, Non-metals','1808006-04-Selenium',0,'paulinkenbrandt','paulinkenbrandt','2019-04-16 08:16:24.566386','2019-04-16 08:16:24.566386', 14575),('1808006-04','404975112573501','USEPA','200.8','Total',NULL,10.0,'ug/l','ug/l','2018-08-22','Lower Reporting Limit','Below Reporting Limit','Zinc',NULL,'Inorganics, Minor, Metals','1808006-04-Zinc',0,'paulinkenbrandt','paulinkenbrandt','2019-04-16 08:16:24.566386','2019-04-16 08:16:24.566386', 14576),('1808006-04','404975112573501','USEPA','200.7','Total',NULL,100.0,'ug/l','ug/l','2018-08-22','Lower Reporting Limit','Below Reporting Limit','Aluminum',NULL,'Inorganics, Minor, Metals','1808006-04-Aluminum',0,'paulinkenbrandt','paulinkenbrandt','2019-04-16 08:16:24.566386','2019-04-16 08:16:24.566386', 14577),('1808006-04','404975112573501','USEPA','200.7','Total',180.0,4.0,'ug/l','ug/l','2018-08-22',NULL,NULL,'Barium',NULL,'Inorganics, Minor, Metals','1808006-04-Barium',0,'paulinkenbrandt','paulinkenbrandt','2019-04-16 08:16:24.566386','2019-04-16 08:16:24.566386', 14578),('1808006-04','404975112573501','USEPA','200.7','Total',75400.0,100.0,'ug/l','ug/l','2018-08-22',NULL,NULL,'Calcium',NULL,'Inorganics, Major, Metals','1808006-04-Calcium',0,'paulinkenbrandt','paulinkenbrandt','2019-04-16 08:16:24.566386','2019-04-16 08:16:24.566386', 14579),('1808006-04','404975112573501','USEPA','200.7','Total',24500.0,100.0,'ug/l','ug/l','2018-08-22',NULL,NULL,'Magnesium',NULL,'Inorganics, Major, Metals','1808006-04-Magnesium',0,'paulinkenbrandt','paulinkenbrandt','2019-04-16 08:16:24.566386','2019-04-16 08:16:24.566386', 14580),('1808006-04','404975112573501','USEPA','200.7','Total',3010.0,1000.0,'ug/l','ug/l','2018-08-22',NULL,NULL,'Potassium',NULL,'Inorganics, Major, Metals','1808006-04-Potassium',0,'paulinkenbrandt','paulinkenbrandt','2019-04-16 08:16:24.566386','2019-04-16 08:16:24.566386', 14581),('1808006-04','404975112573501','USEPA','200.7','Total',39600.0,500.0,'ug/l','ug/l','2018-08-22',NULL,NULL,'Sodium',NULL,'Inorganics, Major, Metals','1808006-04-Sodium',0,'paulinkenbrandt','paulinkenbrandt','2019-04-16 08:16:24.566386','2019-04-16 08:16:24.566386', 14582),('1808006-04','404975112573501','USEPA','200.7','Total',NULL,100.0,'ug/l','ug/l','2018-08-22','Lower Reporting Limit','Below Reporting Limit','Iron',NULL,'Inorganics, Minor, Metals','1808006-04-Iron',0,'paulinkenbrandt','paulinkenbrandt','2019-04-16 08:16:24.566386','2019-04-16 08:16:24.566386', 14583),('1808006-04','404975112573501','USEPA','200.7','Total',NULL,2.0,'ug/l','ug/l','2018-08-22','Lower Reporting Limit','Below Reporting Limit','Manganese',NULL,'Inorganics, Minor, Metals','1808006-04-Manganese',0,'paulinkenbrandt','paulinkenbrandt','2019-04-16 08:16:24.566386','2019-04-16 08:16:24.566386', 14584),('1808006-04','404975112573501','USEPA','200.7','Total',NULL,10.0,'ug/l','ug/l','2018-08-22','Lower Reporting Limit','Below Reporting Limit','Copper',NULL,'Inorganics, Minor, Metals','1808006-04-Copper',0,'paulinkenbrandt','paulinkenbrandt','2019-04-16 08:16:24.566386','2019-04-16 08:16:24.566386', 14585),('1808006-04','404975112573501','USEPA','200.7','Total',NULL,100.0,'ug/l','ug/l','2018-08-22','Lower Reporting Limit','Below Reporting Limit','Boron',NULL,'Inorganics, Minor, Non-metals','1808006-04-Boron',0,'paulinkenbrandt','paulinkenbrandt','2019-04-16 08:16:24.566386','2019-04-16 08:16:24.566386', 14586),('1808006-04','404975112573501','USEPA','200.7','Total',NULL,5.0,'ug/l','ug/l','2018-08-22','Lower Reporting Limit','Below Reporting Limit','Chromium',NULL,'Inorganics, Minor, Metals','1808006-04-Chromium',0,'paulinkenbrandt','paulinkenbrandt','2019-04-16 08:16:24.566386','2019-04-16 08:16:24.566386', 14587),('1808006-04','404975112573501','USEPA','350.1','Total',NULL,0.05,'mg/l','mg/l','2018-08-23','Lower Reporting Limit','Below Reporting Limit','Ammonia','as N','Nutrient','1808006-04-Ammonia',0,'paulinkenbrandt','paulinkenbrandt','2019-04-16 08:16:24.566386','2019-04-16 08:16:24.566386', 14588)\n",
      "Committed Transaction\n",
      "success!\n"
     ]
    }
   ],
   "source": [
    "epa_file = \"G:/Team Drives/UGS_Groundwater/Projects/NGWMN/Chemistry Data/EPAdata_results/2018/1807003 FINAL EPA Excel 12 Sep 18 1357.xls\"\n",
    "schema_file_path = \"G:/My Drive/Python/Pycharm/wqxsde/examples/Domains.xlsx\"\n",
    "save_path = \"G:/My Drive/WORK/Groundwater Chemistry/\"\n",
    "\n",
    "for file in glob.glob(\"G:/Team Drives/UGS_Groundwater/Projects/NGWMN/Chemistry Data/EPAdata_results/2018/*.xls\"):\n",
    "\n",
    "    epa = wqxsde.ProcessEPASheet(file, save_path, schema_file_path)\n",
    "\n",
    "    epa.append_data()"
   ]
  },
  {
   "cell_type": "code",
   "execution_count": null,
   "metadata": {},
   "outputs": [],
   "source": [
    "epa.append_data()"
   ]
  },
  {
   "cell_type": "code",
   "execution_count": null,
   "metadata": {},
   "outputs": [],
   "source": [
    "{'Ammonia as N':['Ammonia','as N'], \n",
    " 'Sulfate as SO4':['Sulfate','as SO4'], \n",
    " 'Nitrate as N':['Nitrate','as N'], \n",
    " 'Nitrite as N':['Nitrite','as N'], \n",
    " 'Orthophosphate as P':['Orthophosphate','as P']}\n"
   ]
  },
  {
   "cell_type": "code",
   "execution_count": null,
   "metadata": {},
   "outputs": [],
   "source": [
    "class ProcessEPASheet(object):\n",
    "\n",
    "    def __init__(self, file_path, save_path, schema_file_path, user = 'paulinkenbrandt'):\n",
    "        self.enviro = \"C:/Users/paulinkenbrandt/AppData/Roaming/Esri/Desktop10.6/ArcCatalog/Connection to DEFAULT@uggp.agrc.utah.gov.sde\"\n",
    "        arcpy.env.workspace = self.enviro\n",
    "        self.chem_table_name = \"UGGP.UGGPADMIN.UGS_NGWMN_Monitoring_Phy_Chem_Results\"\n",
    "        self.activities_table_name = \"UGGP.UGGPADMIN.UGS_NGWMN_Monitoring_Phy_Chem_Activities\"\n",
    "        self.stations_table_name = \"UGGP.UGGPADMIN.UGS_NGWMN_Monitoring_Locations\"\n",
    "        self.user = user\n",
    "        self.save_folder = save_path\n",
    "        self.schema_file_path = schema_file_path\n",
    "\n",
    "        self.epa_raw_data = pd.read_excel(file_path)\n",
    "        self.epa_data = None\n",
    "        self.epa_rename = {'Laboratory':'LaboratoryName',\n",
    "              'LabNumber':'ActivityID',\n",
    "              'SampleName':'MonitoringLocationID',\n",
    "              'Method':'ResultAnalyticalMethodID',\n",
    "              'Analyte':'CharacteristicName',\n",
    "              'ReportLimit':'ResultDetecQuantLimitUnit',\n",
    "              'Result':'ResultValue',\n",
    "              'AnalyteQual':'ResultQualifier',\n",
    "              'AnalysisClass':'ResultSampleFraction',\n",
    "              'ReportLimit':'ResultDetecQuantLimitMeasure'\n",
    "             }\n",
    "        \n",
    "        self.epa_drop = ['Batch','Analysis','Analyst','CASNumber','Elevation','LabQual',\n",
    "            'Client','ClientMatrix','Dilution','SpkAmt','UpperLimit','Recovery',\n",
    "           'Surrogate','LowerLimit','Latitude','Longitude','SampleID','ProjectNumber',\n",
    "            'Sampled','Analyzed','PrepMethod','Prepped','Project']\n",
    "        \n",
    "    def hasless(self, df):\n",
    "        if '<' in str(df['ResultValue']):\n",
    "            df['ResultValue'] = None\n",
    "            df['ResultDetectionCondition'] = 'Below Reporting Limit'\n",
    "            df['ResultDetectQuantLimitType'] = 'Lower Reporting Limit'\n",
    "        elif '>' in str(df['ResultValue']):\n",
    "            df['ResultValue'] = None\n",
    "            df['ResultDetectionCondition'] = 'Above Reporting Limit'\n",
    "            df['ResultDetectQuantLimitType'] = 'Upper Reporting Limit'\n",
    "        else:\n",
    "            df['ResultValue'] = pd.to_numeric(df['ResultValue'])\n",
    "        return df\n",
    "\n",
    "    def resqual(self, x):\n",
    "        if pd.isna(x[1]) and x[0] == 'Below Reporting Limit':\n",
    "            return 'BRL'\n",
    "        elif pd.notnull(x[1]):\n",
    "            return x[1]\n",
    "        else:\n",
    "            return None\n",
    "    \n",
    "    def filtmeth(self, x):\n",
    "        if \"EPA\" in x:\n",
    "            x = x.split(' ')[1]\n",
    "        elif '/' in x:\n",
    "            x = x.split('/')[0]\n",
    "        else:\n",
    "            x = x\n",
    "        return x\n",
    "    \n",
    "    def save_it(self, savefolder):\n",
    "        self.epa_data.to_csv(\"{:}/epa_sheet_to_sde_{:%Y%m%d%M%H}.csv\".format(savefolder, pd.datetime.today()))\n",
    "    \n",
    "    def run_calcs(self):\n",
    "        epa_raw_data = self.epa_raw_data\n",
    "        epa_raw_data = epa_raw_data.rename(columns=self.epa_rename)\n",
    "        epa_raw_data['ResultSampleFraction'] = epa_raw_data['ResultSampleFraction'].apply(lambda x: 'Total' if 'WET' else x, 1)\n",
    "        epa_raw_data = epa_raw_data.apply(lambda x: self.hasless(x),1)\n",
    "        epa_raw_data['ResultAnalyticalMethodID'] = epa_raw_data['ResultAnalyticalMethodID'].apply(lambda x: self.filtmeth(x), 1)\n",
    "        epa_raw_data['ResultAnalyticalMethodContext'] = 'USEPA'\n",
    "        epa_raw_data['ProjectID'] = 'UNGWMN'\n",
    "        epa_raw_data['ResultQualifier'] = epa_raw_data[['ResultDetectionCondition',\n",
    "                                                        'ResultQualifier']].apply(lambda x: self.resqual(x),1)\n",
    "        epa_raw_data['Sample Date'] = epa_raw_data['Sampled'].apply(lambda x: \"{:%Y-%m-%d}\".format(x),1)\n",
    "        epa_raw_data['Sample Time'] = epa_raw_data['Sampled'].apply(lambda x: \"{:%H:%M}\".format(x),1)\n",
    "        epa_raw_data['AnalysisStartDate'] = epa_raw_data['Analyzed'].apply(lambda x: \"{:%Y-%m-%d}\".format(x),1)\n",
    "        epa_data = epa_raw_data.drop(epa_drop,axis=1)\n",
    "        self.epa_data = epa_data\n",
    "        self.save_it(self.save_folder)\n",
    "        return epa_data\n",
    "        \n",
    "    def append_data(self):\n",
    "        epa_chem = self.run_calcs()\n",
    "        sdeact = table_to_pandas_dataframe(self.activities_table_name, field_names=['MonitoringLocationID', 'ActivityID'])\n",
    "        sdechem = table_to_pandas_dataframe(self.chem_table_name, field_names=['MonitoringLocationID', 'ActivityID'])\n",
    "\n",
    "        epa_chem['created_user'] = self.user\n",
    "        epa_chem['last_edited_user'] = self.user\n",
    "        epa_chem['created_date'] = pd.datetime.today()\n",
    "        epa_chem['last_edited_date'] = pd.datetime.today()\n",
    "\n",
    "        try:\n",
    "            df = epa_chem[~epa_chem['ActivityID'].isin(sdeact['ActivityID'])]\n",
    "            fieldnames = ['ActivityID', 'ProjectID', 'MonitoringLocationID', 'ActivityStartDate',\n",
    "                          'ActivityStartTime', 'notes', 'personnel', 'created_user', 'created_date', 'last_edited_user',\n",
    "                          'last_edited_date']\n",
    "\n",
    "            for i in range(0, len(df), 500):\n",
    "                j = i + 500\n",
    "                if j > len(df):\n",
    "                    j = len(df)\n",
    "                subset = df.iloc[i:j]\n",
    "                print(\"{:} to {:} complete\".format(i, j))\n",
    "                edit_table(subset, self.activities_table_name, fieldnames=fieldnames, enviro = self.enviro)\n",
    "                print('success!')\n",
    "        except Exception as err:\n",
    "            print(err)\n",
    "            print('fail!')\n",
    "            pass\n",
    "\n",
    "        try:\n",
    "            df = epa_chem[~epa_chem['ActivityID'].isin(sdechem['ActivityID'])]\n",
    "            fieldnames = ['ActivityID', 'MonitoringLocationID', 'ResultAnalyticalMethodContext', 'ResultAnalyticalMethodID',\n",
    "                          'ResultSampleFraction',\n",
    "                          'resultvalue', 'ResultDetecQuantLimitMeasure', 'ResultDetecQuantLimitUnit', 'ResultUnit',\n",
    "                          'AnalysisStartDate', 'ResultDetecQuantLimitType', 'ResultDetectionCondition',\n",
    "                          'CharacteristicName',\n",
    "                          'MethodSpeciation', 'characteristicgroup', 'ResultValueType', 'ResultStatusID',\n",
    "                          'inwqx', 'created_user', 'last_edited_user', 'created_date', 'last_edited_date']\n",
    "\n",
    "            for i in range(0, len(df), 500):\n",
    "                j = i + 500\n",
    "                if j > len(df):\n",
    "                    j = len(df)\n",
    "                subset = df.iloc[i:j]\n",
    "                print(\"{:} to {:} complete\".format(i, j))\n",
    "                edit_table(subset, self.chem_table_name, fieldnames = fieldnames, enviro = self.enviro)\n",
    "                print('success!')\n",
    "        except Exception as err:\n",
    "            print(err)\n",
    "            print('fail!')\n",
    "            pass"
   ]
  },
  {
   "cell_type": "code",
   "execution_count": null,
   "metadata": {},
   "outputs": [],
   "source": [
    "epa_file = \"G:/Team Drives/UGS_Groundwater/Projects/NGWMN/Chemistry Data/EPAdata_results/2018/1807003 FINAL EPA Excel 12 Sep 18 1357.xls\"\n",
    "\n",
    "epa_raw_data = pd.read_excel(epa_file)\n",
    "\n",
    "epa_rename = {'Laboratory':'LaboratoryName',\n",
    "              'LabNumber':'ActivityID',\n",
    "              'SampleName':'MonitoringLocationID',\n",
    "              'Method':'ResultAnalyticalMethodID',\n",
    "              'Analyte':'CharacteristicName',\n",
    "              'ReportLimit':'ResultDetecQuantLimitUnit',\n",
    "              'Result':'ResultValue',\n",
    "              'AnalyteQual':'ResultQualifier',\n",
    "              'AnalysisClass':'ResultSampleFraction',\n",
    "              'ReportLimit':'ResultDetecQuantLimitMeasure'\n",
    "             }\n",
    "\n",
    "epa_raw_data = epa_raw_data.rename(columns=epa_rename)\n",
    "\n",
    "epa_raw_data['ResultSampleFraction'] = epa_raw_data['ResultSampleFraction'].apply(lambda x: 'Total' if 'WET' else x, 1)\n",
    "\n",
    "def hasless(df):\n",
    "    if '<' in str(df['ResultValue']):\n",
    "        df['ResultValue'] = None\n",
    "        df['ResultDetectionCondition'] = 'Below Reporting Limit'\n",
    "        df['ResultDetectQuantLimitType'] = 'Lower Reporting Limit'\n",
    "    elif '>' in str(df['ResultValue']):\n",
    "        df['ResultValue'] = None\n",
    "        df['ResultDetectionCondition'] = 'Above Reporting Limit'\n",
    "        df['ResultDetectQuantLimitType'] = 'Upper Reporting Limit'\n",
    "    else:\n",
    "        df['ResultValue'] = pd.to_numeric(df['ResultValue'])\n",
    "    return df\n",
    "\n",
    "epa_raw_data = epa_raw_data.apply(lambda x: hasless(x),1)\n",
    "\n",
    "\n",
    "def resqual(x):\n",
    "    if pd.isna(x[1]) and x[0] == 'Below Reporting Limit':\n",
    "        return 'BRL'\n",
    "    elif pd.notnull(x[1]):\n",
    "        return x[1]\n",
    "    else:\n",
    "        return None\n",
    "    \n",
    "\n",
    "def filtmeth(x):\n",
    "    if \"EPA\" in x:\n",
    "        x = x.split(' ')[1]\n",
    "    elif '/' in x:\n",
    "        x = x.split('/')[0]\n",
    "    else:\n",
    "        x = x\n",
    "    return x\n",
    "\n",
    "\n",
    "epa_raw_data['ResultAnalyticalMethodID'] = epa_raw_data['ResultAnalyticalMethodID'].apply(lambda x: filtmeth(x), 1)\n",
    "epa_raw_data['ResultAnalyticalMethodContext'] = 'USEPA'\n",
    "epa_raw_data['ProjectID'] = 'UNGWMN'\n",
    "epa_raw_data['ResultQualifier'] = epa_raw_data[['ResultDetectionCondition',\n",
    "                                                'ResultQualifier']].apply(lambda x: resqual(x),1)\n",
    "\n",
    "epa_raw_data['Sample Date'] = epa_raw_data['Sampled'].apply(lambda x: \"{:%Y-%m-%d}\".format(x),1)\n",
    "epa_raw_data['Sample Time'] = epa_raw_data['Sampled'].apply(lambda x: \"{:%H:%M}\".format(x),1)\n",
    "epa_raw_data['AnalysisStartDate'] = epa_raw_data['Analyzed'].apply(lambda x: \"{:%Y-%m-%d}\".format(x),1)\n",
    "\n",
    "epa_drop = ['Batch','Analysis','Analyst','CASNumber','Elevation','LabQual',\n",
    "            'Client','ClientMatrix','Dilution','SpkAmt','UpperLimit','Recovery',\n",
    "           'Surrogate','LowerLimit','Latitude','Longitude','SampleID','ProjectNumber',\n",
    "            'Sampled','Analyzed','PrepMethod','Prepped','Project']\n",
    "epa_data = epa_raw_data.drop(epa_drop,axis=1)\n",
    "epa_data"
   ]
  },
  {
   "cell_type": "code",
   "execution_count": null,
   "metadata": {},
   "outputs": [],
   "source": []
  },
  {
   "cell_type": "code",
   "execution_count": null,
   "metadata": {},
   "outputs": [],
   "source": [
    "sdechem.columns"
   ]
  },
  {
   "cell_type": "code",
   "execution_count": null,
   "metadata": {},
   "outputs": [],
   "source": [
    "sdeact.columns"
   ]
  },
  {
   "cell_type": "code",
   "execution_count": null,
   "metadata": {},
   "outputs": [],
   "source": [
    "epa_raw_data['ResultQualifier']"
   ]
  },
  {
   "cell_type": "markdown",
   "metadata": {},
   "source": [
    "## State Lab Chemistry Import to SDE"
   ]
  },
  {
   "cell_type": "markdown",
   "metadata": {},
   "source": [
    "### Compile Old State Lab Data"
   ]
  },
  {
   "cell_type": "code",
   "execution_count": null,
   "metadata": {},
   "outputs": [],
   "source": []
  },
  {
   "cell_type": "code",
   "execution_count": null,
   "metadata": {},
   "outputs": [],
   "source": [
    "slfiles = \"G:/Team Drives/UGS_Groundwater/Projects/NGWMN/Chemistry Data/StateLab/\"\n",
    "\n",
    "old_to_new = {'Sample#Number':'Sample Number',\n",
    "              'Sample#Date':'Date Collected',\n",
    "              'Sample#Time':'Time Collected',\n",
    "              'Analysis#Date':'Analysis Date',\n",
    "              'CAS#Number':'CAS Number',\n",
    "              'Agency#Bill#Code':'Agency Bill Code',\n",
    "              'Batch#Number':'Batch Number',\n",
    "              'Comment#Text':'Result Comment',\n",
    "              'Chain#of#Custody#Ind.':'Chain of Custody',\n",
    "              'Cost#Code':'Cost Code',\n",
    "              'Dilution#Factor':'Dilution Factor',\n",
    "              'Lower#Report#Limit':'Lower Report Limit',\n",
    "              'Matrix#Description':'Matrix Description',\n",
    "              'Method#Agency':'Method Agency',\n",
    "              'Method#Description':'Method Description',\n",
    "              'Method#Detect#Limit':'Method Detect Limit',\n",
    "              'Param#Description':'Param Description',\n",
    "              'Problem#Identifier':'Problem Identifier',\n",
    "              'Method#ID':'Method ID',\n",
    "              'Sample#Comment':'Sample Comment',\n",
    "              'Sample#Description':'Sample Description',\n",
    "              'Result#Value':'Result Value',\n",
    "              'Sample#Recieved#Date':'Sample Received Date',\n",
    "              'Replicate#Number':'Replicate Number',\n",
    "              'Result#Code':'Result#Code',\n",
    "              'Station#ID':'Station ID',\n",
    "              'Sample#Type':'Sample Type',\n",
    "              'Trip#ID':'Trip ID'}\n",
    "\n",
    "oldfields = ['%#Confidence#Limit', 'Confidence#Limit', 'Comment#Number', 'Comment#Number.1', 'Comment#Text.1',\n",
    "             'Lab#Code', 'Preparation#Date', 'Source#Code',  'Billing#Code','Matrix#Number',\n",
    "             'Upper#Quant#Limit','Result#Code','Method#Number','Param#Number']\n",
    "\n",
    "\n",
    "stlbnew = {}\n",
    "stlbold = {}\n",
    "\n",
    "for file in glob.glob(slfiles+\"*.txt\"):\n",
    "    \n",
    "    shrtnm = os.path.splitext(os.path.basename(file))[0]\n",
    "    if \"UTGS_EDD\" in shrtnm: \n",
    "        stlbnew[shrtnm] = pd.read_csv(file, sep='\\t', error_bad_lines=False)\n",
    "        samecols = {'Collected By':'Collector',\n",
    "                    'Analyte CAS Number':'CAS Number',\n",
    "                    'Method Number':'Method ID',\n",
    "                    'Method Reported Name':'Param Description',\n",
    "                   'Entry Qualifier':'Problem Identifier',\n",
    "                    'Result Flags':'Result Code',\n",
    "                   'Result Entry':'Result Value',\n",
    "                    'Sample Detection Limit':'Sample Detect Limit',\n",
    "                    'Date Analyzed':'Analysis Date',\n",
    "                   'Method Detection Limit':'Method Detect Limit','Project Comments':'Project Comment',\n",
    "                   'Sample Comments':'Sample Comment','Test Comments':'Test Comment',\n",
    "                   'Result Comments':'Result Comment','Sample Reporting Limit':'Sample Report Limit',\n",
    "                   'Result Dilution Factor':'Dilution Factor','Date Recieved':'Sample Received Date',\n",
    "                   'Specimen Source':'Matrix Description','Customer Internal Code':'Cost Code',\n",
    "                   'Collecting Agency':'Agency Bill Code',\n",
    "                   'Result Units':'Units'}\n",
    "        stlbnew[shrtnm] = stlbnew[shrtnm].rename(columns=samecols)\n",
    "    else:\n",
    "        stlbold[shrtnm] = pd.read_csv(file, sep='\\t', error_bad_lines=False)\n",
    "        stlbold[shrtnm] = stlbold[shrtnm].rename(columns=old_to_new)\n",
    "new_st_data = pd.concat(stlbnew).reset_index().drop(['level_0','level_1'],axis=1)\n",
    "old_st_data = pd.concat(stlbold).reset_index().drop(['level_0','level_1'],axis=1)\n",
    "st_data = pd.concat([new_st_data,old_st_data])\n",
    "st_data = st_data.drop(oldfields, axis=1)\n",
    "\n",
    "\n",
    "st_data.columns"
   ]
  },
  {
   "cell_type": "code",
   "execution_count": null,
   "metadata": {},
   "outputs": [],
   "source": [
    "st_data.head()"
   ]
  },
  {
   "cell_type": "code",
   "execution_count": null,
   "metadata": {},
   "outputs": [],
   "source": []
  },
  {
   "cell_type": "markdown",
   "metadata": {},
   "source": [
    "### Designate the file with the id matches."
   ]
  },
  {
   "cell_type": "code",
   "execution_count": null,
   "metadata": {},
   "outputs": [],
   "source": [
    "lab_based_chem = \"https://cdx.epa.gov/WQXWeb/ImportConfigurationDetail.aspx?impcfg_uid=5926\"\n",
    "\n",
    "field_chem = \"https://cdx.epa.gov/WQXWeb/ImportConfigurationDetail.aspx?mode=import&impcfg_uid=5931\""
   ]
  },
  {
   "cell_type": "code",
   "execution_count": null,
   "metadata": {
    "ExecuteTime": {
     "end_time": "2019-04-09T18:26:39.172118Z",
     "start_time": "2019-04-09T18:26:39.163092Z"
    }
   },
   "outputs": [],
   "source": [
    "match_file = \"G:/My Drive/Python/Pycharm/wqxsde/examples/id_match.csv\"\n",
    "file_path = \"G:/My Drive/Python/Pycharm/wqxsde/examples/UTGS_EDD_20190304.txt\"\n",
    "file_path2 = \"G:/Team Drives/UGS_Groundwater/Projects/NGWMN/Chemistry Data/StateLab/UTGS_EDD_20170907.txt\"\n",
    "schema_file_path = \"G:/My Drive/Python/Pycharm/wqxsde/examples/Domains.xlsx\""
   ]
  },
  {
   "cell_type": "code",
   "execution_count": null,
   "metadata": {},
   "outputs": [],
   "source": [
    "wqx_chem_table, sde_chem_table = compare_sde_wqx(wqx_results_filename,enviro,chem_table_name,table_type=\"chem\")\n",
    "sde_chem_import = sde_chem_table[sde_chem_table['inwqx']==0]"
   ]
  },
  {
   "cell_type": "markdown",
   "metadata": {},
   "source": [
    "### Process the state lab text file to import into database"
   ]
  },
  {
   "cell_type": "code",
   "execution_count": null,
   "metadata": {
    "ExecuteTime": {
     "end_time": "2019-04-09T18:27:01.569451Z",
     "start_time": "2019-04-09T18:27:01.491692Z"
    }
   },
   "outputs": [],
   "source": [
    "state = wqxsde.ProcessStateLabText(file_path,\"G:/My Drive/WORK/Groundwater Chemistry\",\n",
    "                                   match_file, schema_file_path)\n"
   ]
  },
  {
   "cell_type": "code",
   "execution_count": null,
   "metadata": {},
   "outputs": [],
   "source": [
    "state = wqxsde.ProcessStateLabText(file_path,\"\")"
   ]
  },
  {
   "cell_type": "code",
   "execution_count": null,
   "metadata": {
    "ExecuteTime": {
     "end_time": "2019-04-09T18:27:11.979790Z",
     "start_time": "2019-04-09T18:27:04.195207Z"
    }
   },
   "outputs": [],
   "source": [
    "state_lab_chem = state.run_calcs()"
   ]
  },
  {
   "cell_type": "code",
   "execution_count": null,
   "metadata": {
    "ExecuteTime": {
     "end_time": "2019-04-09T18:30:13.594922Z",
     "start_time": "2019-04-09T18:30:13.539269Z"
    }
   },
   "outputs": [],
   "source": [
    "state_lab_chem['resultid'] = state_lab_chem[['ActivityID','CharacteristicName']].apply(lambda x: str(x[0])+ \"-\" +x[1],1) "
   ]
  },
  {
   "cell_type": "code",
   "execution_count": null,
   "metadata": {
    "ExecuteTime": {
     "end_time": "2019-04-09T18:31:21.354523Z",
     "start_time": "2019-04-09T18:31:21.287478Z"
    }
   },
   "outputs": [],
   "source": [
    "state_lab_chem.to_csv(\"G:/My Drive/WORK/Groundwater Chemistry/crosscheck.csv\")"
   ]
  },
  {
   "cell_type": "markdown",
   "metadata": {},
   "source": [
    "### Import SDE Data"
   ]
  },
  {
   "cell_type": "code",
   "execution_count": null,
   "metadata": {},
   "outputs": [],
   "source": [
    "state.append_data()"
   ]
  },
  {
   "cell_type": "markdown",
   "metadata": {},
   "source": [
    "## Pull SDE Data and Prep for WQX import"
   ]
  },
  {
   "cell_type": "code",
   "execution_count": null,
   "metadata": {
    "ExecuteTime": {
     "end_time": "2019-04-10T21:09:13.809401Z",
     "start_time": "2019-04-10T21:08:56.042050Z"
    }
   },
   "outputs": [],
   "source": [
    "chemfields = ['ActivityID', 'ResultDetectionCondition', 'CharacteristicName', 'MethodSpeciation',\n",
    "              'ResultSampleFraction', 'ResultValue', 'ResultUnit', 'ResultQualifier', \n",
    "              'ResultStatusID', 'ResultValueType', 'ResultAnalyticalMethodID', \n",
    "              'ResultAnalyticalMethodContext', 'LaboratoryName',\n",
    "              'AnalysisStartDate', 'ResultDetecQuantLimitType',\n",
    "              'ResultDetecQuantLimitMeasure', 'ResultDetecQuantLimitUnit']\n",
    "\n",
    "activfields = ['ActivityID', 'ProjectID', 'MonitoringLocationID', \n",
    "               'ActivityStartDate', 'ActivityStartTime','temperature_c','conduct_uscm','pH']\n",
    "\n",
    "sdeact = wqxsde.table_to_pandas_dataframe(sde.activities_table, field_names = activfields)\n",
    "sdechem = wqxsde.table_to_pandas_dataframe(sde.chemistry_table, field_names = chemfields, query = 'inwqx = 0' )"
   ]
  },
  {
   "cell_type": "code",
   "execution_count": null,
   "metadata": {
    "ExecuteTime": {
     "end_time": "2019-04-10T21:10:27.249053Z",
     "start_time": "2019-04-10T21:10:27.230002Z"
    }
   },
   "outputs": [],
   "source": [
    "sdechem.head()"
   ]
  },
  {
   "cell_type": "code",
   "execution_count": null,
   "metadata": {},
   "outputs": [],
   "source": [
    "onlineacts"
   ]
  },
  {
   "cell_type": "code",
   "execution_count": null,
   "metadata": {
    "ExecuteTime": {
     "end_time": "2019-04-10T21:31:09.460740Z",
     "start_time": "2019-04-10T21:31:09.448733Z"
    },
    "scrolled": true
   },
   "outputs": [],
   "source": [
    "afields = ['ActivityID', 'ProjectID', 'MonitoringLocationID', \n",
    "               'ActivityStartDate', 'ActivityStartTime']\n",
    "\n",
    "actmatch = onlineacts[afields].set_index('ActivityID').to_dict()"
   ]
  },
  {
   "cell_type": "code",
   "execution_count": null,
   "metadata": {},
   "outputs": [],
   "source": [
    "sdefieldact.head()"
   ]
  },
  {
   "cell_type": "code",
   "execution_count": null,
   "metadata": {
    "ExecuteTime": {
     "end_time": "2019-04-10T21:18:25.726715Z",
     "start_time": "2019-04-10T21:18:25.701622Z"
    }
   },
   "outputs": [],
   "source": [
    "sdefieldact = onlineacts[['ActivityID','temperature_c','conduct_uscm','pH']].set_index('ActivityID').stack().reset_index()\n",
    "sdefieldact['ActivityID'] = sdefieldact['ActivityID'].apply(lambda x: str(x)+'-FM',1)\n",
    "sdefieldact.columns = ['ActivityID','CharacteristicName','ResultValue']\n",
    "fcharnms = {'temperature_c':['Temperature, water','deg C'],'conduct_uscm':['Specific conductance','uS/cm'],'pH':['pH','None']}\n",
    "\n",
    "def funitsandchar(df):\n",
    "    fcharnms = {'temperature_c':['Temperature, water','deg C'],\n",
    "                'conduct_uscm':['Specific conductance','uS/cm'],\n",
    "                'pH':['pH','None']}\n",
    "    df['ResultUnit'] = fcharnms.get(df['CharacteristicName'])[1]\n",
    "    df['CharacteristicName'] = fcharnms.get(df['CharacteristicName'])[0]\n",
    "    return df\n",
    "\n",
    "sdefieldact = sdefieldact.apply(lambda x: funitsandchar(x),1)"
   ]
  },
  {
   "cell_type": "code",
   "execution_count": null,
   "metadata": {},
   "outputs": [],
   "source": [
    "actmatch.keys()"
   ]
  },
  {
   "cell_type": "code",
   "execution_count": null,
   "metadata": {},
   "outputs": [],
   "source": [
    "sdefieldact['ActivityStartDate'] = sdefieldact['ActivityID'].apply(lambda)"
   ]
  },
  {
   "cell_type": "code",
   "execution_count": null,
   "metadata": {
    "ExecuteTime": {
     "end_time": "2019-04-09T22:01:51.077067Z",
     "start_time": "2019-04-09T22:01:51.063000Z"
    }
   },
   "outputs": [],
   "source": [
    "sdeactchem = pd.merge(sdechem, sdeact, how = 'inner', on = 'ActivityID')"
   ]
  },
  {
   "cell_type": "code",
   "execution_count": null,
   "metadata": {
    "ExecuteTime": {
     "end_time": "2019-04-09T22:01:51.087567Z",
     "start_time": "2019-04-09T22:01:51.078571Z"
    }
   },
   "outputs": [],
   "source": [
    "sdeactchem['Activity Media Name'] = 'Water'\n",
    "sdeactchem['Activity Start Time Zone'] = 'MDT'\n",
    "sdeactchem['Activity Type'] = sdeactchem['ActivityID'].apply(lambda x: 'Field Msr/Obs' if '-FM' in x else 'Sample-Routine', 1)\n",
    "sdeactchem['Sample Collection Equipment Name'] = 'Water Bottle'\n",
    "sdeactchem['Sample Collection Method ID'] = 'GRAB'\n",
    "sdeactchem['ResultStatusID'] = 'Final'\n",
    "sdeactchem['ResultValueType'] = 'Actual'"
   ]
  },
  {
   "cell_type": "code",
   "execution_count": null,
   "metadata": {
    "ExecuteTime": {
     "end_time": "2019-04-09T22:02:25.276849Z",
     "start_time": "2019-04-09T22:02:25.080754Z"
    }
   },
   "outputs": [],
   "source": [
    "fieldorder = ['ActivityID', 'Activity Media Name', 'ActivityStartDate', 'ActivityStartTime',\n",
    "              'Activity Start Time Zone', 'Activity Type', 'AnalysisStartDate', \n",
    "              'CharacteristicName', 'LaboratoryName', 'MethodSpeciation',\n",
    "              'MonitoringLocationID', 'ProjectID', 'ResultAnalyticalMethodContext',\n",
    "              'ResultAnalyticalMethodID', 'ResultDetectionCondition',\n",
    "              'ResultDetecQuantLimitMeasure', 'ResultDetecQuantLimitType',\n",
    "              'ResultDetecQuantLimitUnit', 'ResultQualifier', 'ResultSampleFraction', \n",
    "              'ResultStatusID', 'ResultUnit',  'ResultValue', 'ResultValueType',\n",
    "              'Sample Collection Equipment Name','Sample Collection Method ID']\n",
    "\n",
    "\n",
    "sdeactchemimp = sdeactchem[fieldorder].replace(to_replace='None',value=None)\n",
    "#sdeactchemimp = sdeactchemimp[sdeactchemimp['Activity Type']=='Sample-Routine']\n",
    "sdeactchemimp = sdeactchemimp[pd.notna(sdeactchemimp['ProjectID'])]"
   ]
  },
  {
   "cell_type": "code",
   "execution_count": null,
   "metadata": {
    "ExecuteTime": {
     "end_time": "2019-04-09T22:09:03.530525Z",
     "start_time": "2019-04-09T22:09:03.465856Z"
    }
   },
   "outputs": [],
   "source": [
    "sdeactchemimp"
   ]
  },
  {
   "cell_type": "code",
   "execution_count": null,
   "metadata": {
    "ExecuteTime": {
     "end_time": "2019-04-09T22:02:32.430598Z",
     "start_time": "2019-04-09T22:02:32.426110Z"
    }
   },
   "outputs": [],
   "source": [
    "sdeactchemimp['ProjectID'].unique()"
   ]
  },
  {
   "cell_type": "code",
   "execution_count": null,
   "metadata": {
    "ExecuteTime": {
     "end_time": "2019-04-09T17:04:05.318358Z",
     "start_time": "2019-04-09T17:04:05.309299Z"
    }
   },
   "outputs": [],
   "source": []
  },
  {
   "cell_type": "code",
   "execution_count": null,
   "metadata": {
    "ExecuteTime": {
     "end_time": "2019-04-09T22:09:19.120588Z",
     "start_time": "2019-04-09T22:09:18.975942Z"
    }
   },
   "outputs": [],
   "source": [
    "save_dir = 'G:/My Drive/Python/Pycharm/wqxsde'\n",
    "sdeactchemimp.to_csv(save_dir + \"/chem_{:%Y%m%d%H}.csv\".format(pd.datetime.today()), index=False)"
   ]
  },
  {
   "cell_type": "code",
   "execution_count": null,
   "metadata": {},
   "outputs": [],
   "source": [
    "activities = "
   ]
  },
  {
   "cell_type": "code",
   "execution_count": null,
   "metadata": {},
   "outputs": [],
   "source": [
    "stations[['LocationName','AltLocationID','Offset','BaroLoggerType']][stations['AltLocationID']>1000].to_clipboard()"
   ]
  },
  {
   "cell_type": "markdown",
   "metadata": {},
   "source": [
    "~~~~sql\n",
    "CREATE VIEW UGGP.UGGPADMIN.UGS_NGWMN_View_Activities_and_Results\n",
    "AS\n",
    "SELECT \n",
    "UGGP.UGGPADMIN.UGS_NGWMN_Monitoring_Phy_Chem_Activities.ActivityID,\n",
    "UGGP.UGGPADMIN.UGS_NGWMN_Monitoring_Phy_Chem_Activities.ActivityStartDate,\n",
    "UGGP.UGGPADMIN.UGS_NGWMN_Monitoring_Phy_Chem_Activities.ActivityStartTime,\n",
    "UGGP.UGGPADMIN.UGS_NGWMN_Monitoring_Phy_Chem_Activities.ProjectID,\n",
    "UGGP.UGGPADMIN.UGS_NGWMN_Monitoring_Phy_Chem_Activities.MonitoringLocationID,\n",
    "UGGP.UGGPADMIN.UGS_NGWMN_Monitoring_Phy_Chem_Results.ResultDetectionCondition,\n",
    "UGGP.UGGPADMIN.UGS_NGWMN_Monitoring_Phy_Chem_Results.CharacteristicName,\n",
    "UGGP.UGGPADMIN.UGS_NGWMN_Monitoring_Phy_Chem_Results.MethodSpeciation,\n",
    "UGGP.UGGPADMIN.UGS_NGWMN_Monitoring_Phy_Chem_Results.ResultSampleFraction,\n",
    "UGGP.UGGPADMIN.UGS_NGWMN_Monitoring_Phy_Chem_Results.ResultValue,\n",
    "UGGP.UGGPADMIN.UGS_NGWMN_Monitoring_Phy_Chem_Results.ResultUnit,\n",
    "UGGP.UGGPADMIN.UGS_NGWMN_Monitoring_Phy_Chem_Results.ResultQualifier,\n",
    "UGGP.UGGPADMIN.UGS_NGWMN_Monitoring_Phy_Chem_Results.ResultStatusID,\n",
    "UGGP.UGGPADMIN.UGS_NGWMN_Monitoring_Phy_Chem_Results.ResultValueType,\n",
    "UGGP.UGGPADMIN.UGS_NGWMN_Monitoring_Phy_Chem_Results.ResultAnalyticalMethodID,\n",
    "UGGP.UGGPADMIN.UGS_NGWMN_Monitoring_Phy_Chem_Results.ResultAnalyticalMethodContext,\n",
    "UGGP.UGGPADMIN.UGS_NGWMN_Monitoring_Phy_Chem_Results.LaboratoryName,\n",
    "UGGP.UGGPADMIN.UGS_NGWMN_Monitoring_Phy_Chem_Results.AnalysisStartDate,\n",
    "UGGP.UGGPADMIN.UGS_NGWMN_Monitoring_Phy_Chem_Results.ResultDetecQuantLimitType,\n",
    "UGGP.UGGPADMIN.UGS_NGWMN_Monitoring_Phy_Chem_Results.ResultDetecQuantLimitMeasure,\n",
    "UGGP.UGGPADMIN.UGS_NGWMN_Monitoring_Phy_Chem_Results.ResultDetecQuantLimitUnit\n",
    "\n",
    "FROM\n",
    "UGGP.UGGPADMIN.UGS_NGWMN_Monitoring_Phy_Chem_Results \n",
    "JOIN\n",
    "UGGP.UGGPADMIN.UGS_NGWMN_Monitoring_Phy_Chem_Activities ON\n",
    "UGGP.UGGPADMIN.UGS_NGWMN_Monitoring_Phy_Chem_Activities.ActivityID = UGGP.UGGPADMIN.UGS_NGWMN_Monitoring_Phy_Chem_Results.ActivityID\n",
    "~~~~\n"
   ]
  },
  {
   "cell_type": "code",
   "execution_count": null,
   "metadata": {},
   "outputs": [],
   "source": []
  },
  {
   "cell_type": "code",
   "execution_count": null,
   "metadata": {},
   "outputs": [],
   "source": []
  },
  {
   "cell_type": "code",
   "execution_count": null,
   "metadata": {},
   "outputs": [],
   "source": []
  },
  {
   "cell_type": "code",
   "execution_count": null,
   "metadata": {},
   "outputs": [],
   "source": []
  }
 ],
 "metadata": {
  "kernelspec": {
   "display_name": "Python 3",
   "language": "python",
   "name": "python3"
  },
  "language_info": {
   "codemirror_mode": {
    "name": "ipython",
    "version": 3
   },
   "file_extension": ".py",
   "mimetype": "text/x-python",
   "name": "python",
   "nbconvert_exporter": "python",
   "pygments_lexer": "ipython3",
   "version": "3.6.6"
  },
  "toc": {
   "base_numbering": 1,
   "nav_menu": {},
   "number_sections": true,
   "sideBar": true,
   "skip_h1_title": false,
   "title_cell": "Table of Contents",
   "title_sidebar": "Contents",
   "toc_cell": false,
   "toc_position": {
    "height": "calc(100% - 180px)",
    "left": "10px",
    "top": "150px",
    "width": "248.867px"
   },
   "toc_section_display": true,
   "toc_window_display": true
  }
 },
 "nbformat": 4,
 "nbformat_minor": 2
}
