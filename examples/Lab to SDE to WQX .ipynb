{
 "cells": [
  {
   "cell_type": "code",
   "execution_count": 1,
   "metadata": {
    "ExecuteTime": {
     "end_time": "2019-04-10T23:17:15.231948Z",
     "start_time": "2019-04-10T23:17:15.227937Z"
    }
   },
   "outputs": [],
   "source": [
    "import pandas as pd\n",
    "import numpy as np\n",
    "import glob\n",
    "import os\n",
    "import arcpy\n",
    "from io import StringIO\n",
    "from arcgis.gis import GIS\n",
    "\n",
    "import requests\n",
    "\n",
    "# Python Standard Library Modules\n",
    "from pathlib import Path\n",
    "from zipfile import ZipFile"
   ]
  },
  {
   "cell_type": "code",
   "execution_count": 2,
   "metadata": {
    "ExecuteTime": {
     "end_time": "2019-04-10T22:07:09.727382Z",
     "start_time": "2019-04-10T22:07:09.193459Z"
    }
   },
   "outputs": [],
   "source": [
    "import importlib.util\n",
    "spec = importlib.util.spec_from_file_location(\"dbconnect\", \"G:/My Drive/Python/dbconnect.py\")\n",
    "dbconnect = importlib.util.module_from_spec(spec)\n",
    "spec.loader.exec_module(dbconnect)"
   ]
  },
  {
   "cell_type": "markdown",
   "metadata": {},
   "source": [
    "Import the `wqxsde` module (if it is not installed)"
   ]
  },
  {
   "cell_type": "code",
   "execution_count": 3,
   "metadata": {
    "ExecuteTime": {
     "end_time": "2019-04-10T20:01:51.749853Z",
     "start_time": "2019-04-10T20:01:51.743837Z"
    }
   },
   "outputs": [],
   "source": [
    "wqxpath = \"G:/My Drive/Python/Pycharm/wqxsde/\"\n",
    "sys.path.append(wqxpath)\n",
    "import wqxsde"
   ]
  },
  {
   "cell_type": "markdown",
   "metadata": {},
   "source": [
    "assign the relevant paths to the "
   ]
  },
  {
   "cell_type": "code",
   "execution_count": 4,
   "metadata": {
    "ExecuteTime": {
     "end_time": "2019-04-09T15:06:31.761026Z",
     "start_time": "2019-04-09T15:06:23.071227Z"
    }
   },
   "outputs": [],
   "source": [
    "sde = wqxsde.GetPaths()\n",
    "arcpy.env.workspace = sde.enviro\n",
    "wqx_results_filename = \"ResultsExport.xlsx\"\n",
    "wqx_stations_filename = \"LocationsExport.xlsx\""
   ]
  },
  {
   "cell_type": "markdown",
   "metadata": {},
   "source": [
    "# Stations"
   ]
  },
  {
   "cell_type": "markdown",
   "metadata": {},
   "source": [
    "Compare station export from the CDX to the data in the ArcGIS SDE table."
   ]
  },
  {
   "cell_type": "code",
   "execution_count": null,
   "metadata": {},
   "outputs": [],
   "source": [
    "wqx_stat_table, sde_stat_table = wqxsde.compare_sde_wqx(wqx_stations_filename,\n",
    "                                                        sde.enviro, \n",
    "                                                        sde.stations_table,\n",
    "                                                        table_type=\"stat\")"
   ]
  },
  {
   "cell_type": "markdown",
   "metadata": {},
   "source": [
    "Get data from SDE and prepare for WQX import configuration number 6441 <br>\n",
    "https://cdx.epa.gov/WQXWeb/ImportConfigurationDetail.aspx?mode=import&impcfg_uid=6441"
   ]
  },
  {
   "cell_type": "code",
   "execution_count": null,
   "metadata": {},
   "outputs": [],
   "source": [
    "stats = wqxsde.SDEStationstoWQX(sde_stat_table,\"G:/My Drive/Python/Pycharm/wqxsde\")\n",
    "stats.save_file() # save file to csv\n"
   ]
  },
  {
   "cell_type": "code",
   "execution_count": null,
   "metadata": {},
   "outputs": [],
   "source": [
    "sde_stats = stats.sde_stat_import"
   ]
  },
  {
   "cell_type": "markdown",
   "metadata": {
    "ExecuteTime": {
     "end_time": "2019-04-09T15:07:09.899121Z",
     "start_time": "2019-04-09T15:07:09.896114Z"
    }
   },
   "source": [
    "# Chemistry"
   ]
  },
  {
   "cell_type": "code",
   "execution_count": 5,
   "metadata": {},
   "outputs": [],
   "source": [
    "wqx_results_filename = wqxpath + \"WQXResultsExport.xlsx\""
   ]
  },
  {
   "cell_type": "code",
   "execution_count": null,
   "metadata": {},
   "outputs": [],
   "source": [
    "sdechem = wqxsde.table_to_pandas_dataframe(sde.chemistry_table)"
   ]
  },
  {
   "cell_type": "code",
   "execution_count": null,
   "metadata": {},
   "outputs": [],
   "source": [
    "sdechem.columns"
   ]
  },
  {
   "cell_type": "code",
   "execution_count": null,
   "metadata": {},
   "outputs": [],
   "source": [
    "wqx_chem_table, sde_chem_table = wqxsde.compare_sde_wqx(wqx_results_filename,\n",
    "                                                        sde.enviro, \n",
    "                                                        sde.chemistry_table,\n",
    "                                                        table_type=\"chem\")"
   ]
  },
  {
   "cell_type": "markdown",
   "metadata": {},
   "source": [
    "## EPA Lab Data to SDE"
   ]
  },
  {
   "cell_type": "code",
   "execution_count": null,
   "metadata": {},
   "outputs": [],
   "source": [
    "epa_file = \"G:/Team Drives/UGS_Groundwater/Projects/NGWMN/Chemistry Data/EPAdata_results/2018/1807003 FINAL EPA Excel 12 Sep 18 1357.xls\"\n",
    "schema_file_path = \"G:/My Drive/Python/Pycharm/wqxsde/examples/Domains.xlsx\"\n",
    "save_path = \"G:/My Drive/WORK/Groundwater Chemistry/\"\n",
    "\n",
    "for file in glob.glob(\"G:/Team Drives/UGS_Groundwater/Projects/NGWMN/Chemistry Data/EPAdata_results/2018/*.xls\"):\n",
    "\n",
    "    epa = wqxsde.ProcessEPASheet(file, save_path, schema_file_path)\n",
    "\n",
    "    epa.append_data()"
   ]
  },
  {
   "cell_type": "code",
   "execution_count": null,
   "metadata": {},
   "outputs": [],
   "source": [
    "epa.append_data()"
   ]
  },
  {
   "cell_type": "code",
   "execution_count": null,
   "metadata": {},
   "outputs": [],
   "source": [
    "{'Ammonia as N':['Ammonia','as N'], \n",
    " 'Sulfate as SO4':['Sulfate','as SO4'], \n",
    " 'Nitrate as N':['Nitrate','as N'], \n",
    " 'Nitrite as N':['Nitrite','as N'], \n",
    " 'Orthophosphate as P':['Orthophosphate','as P']}\n"
   ]
  },
  {
   "cell_type": "code",
   "execution_count": null,
   "metadata": {},
   "outputs": [],
   "source": [
    "epa_file = \"G:/Team Drives/UGS_Groundwater/Projects/NGWMN/Chemistry Data/EPAdata_results/2018/1807003 FINAL EPA Excel 12 Sep 18 1357.xls\"\n",
    "\n",
    "epa_raw_data = pd.read_excel(epa_file)\n",
    "\n",
    "epa_rename = {'Laboratory':'LaboratoryName',\n",
    "              'LabNumber':'ActivityID',\n",
    "              'SampleName':'MonitoringLocationID',\n",
    "              'Method':'ResultAnalyticalMethodID',\n",
    "              'Analyte':'CharacteristicName',\n",
    "              'ReportLimit':'ResultDetecQuantLimitUnit',\n",
    "              'Result':'ResultValue',\n",
    "              'AnalyteQual':'ResultQualifier',\n",
    "              'AnalysisClass':'ResultSampleFraction',\n",
    "              'ReportLimit':'ResultDetecQuantLimitMeasure'\n",
    "             }\n",
    "\n",
    "epa_raw_data = epa_raw_data.rename(columns=epa_rename)\n",
    "\n",
    "epa_raw_data['ResultSampleFraction'] = epa_raw_data['ResultSampleFraction'].apply(lambda x: 'Total' if 'WET' else x, 1)\n",
    "\n",
    "def hasless(df):\n",
    "    if '<' in str(df['ResultValue']):\n",
    "        df['ResultValue'] = None\n",
    "        df['ResultDetectionCondition'] = 'Below Reporting Limit'\n",
    "        df['ResultDetectQuantLimitType'] = 'Lower Reporting Limit'\n",
    "    elif '>' in str(df['ResultValue']):\n",
    "        df['ResultValue'] = None\n",
    "        df['ResultDetectionCondition'] = 'Above Reporting Limit'\n",
    "        df['ResultDetectQuantLimitType'] = 'Upper Reporting Limit'\n",
    "    else:\n",
    "        df['ResultValue'] = pd.to_numeric(df['ResultValue'])\n",
    "    return df\n",
    "\n",
    "epa_raw_data = epa_raw_data.apply(lambda x: hasless(x),1)\n",
    "\n",
    "\n",
    "def resqual(x):\n",
    "    if pd.isna(x[1]) and x[0] == 'Below Reporting Limit':\n",
    "        return 'BRL'\n",
    "    elif pd.notnull(x[1]):\n",
    "        return x[1]\n",
    "    else:\n",
    "        return None\n",
    "    \n",
    "\n",
    "def filtmeth(x):\n",
    "    if \"EPA\" in x:\n",
    "        x = x.split(' ')[1]\n",
    "    elif '/' in x:\n",
    "        x = x.split('/')[0]\n",
    "    else:\n",
    "        x = x\n",
    "    return x\n",
    "\n",
    "\n",
    "epa_raw_data['ResultAnalyticalMethodID'] = epa_raw_data['ResultAnalyticalMethodID'].apply(lambda x: filtmeth(x), 1)\n",
    "epa_raw_data['ResultAnalyticalMethodContext'] = 'USEPA'\n",
    "epa_raw_data['ProjectID'] = 'UNGWMN'\n",
    "epa_raw_data['ResultQualifier'] = epa_raw_data[['ResultDetectionCondition',\n",
    "                                                'ResultQualifier']].apply(lambda x: resqual(x),1)\n",
    "\n",
    "epa_raw_data['Sample Date'] = epa_raw_data['Sampled'].apply(lambda x: \"{:%Y-%m-%d}\".format(x),1)\n",
    "epa_raw_data['Sample Time'] = epa_raw_data['Sampled'].apply(lambda x: \"{:%H:%M}\".format(x),1)\n",
    "epa_raw_data['AnalysisStartDate'] = epa_raw_data['Analyzed'].apply(lambda x: \"{:%Y-%m-%d}\".format(x),1)\n",
    "\n",
    "epa_drop = ['Batch','Analysis','Analyst','CASNumber','Elevation','LabQual',\n",
    "            'Client','ClientMatrix','Dilution','SpkAmt','UpperLimit','Recovery',\n",
    "           'Surrogate','LowerLimit','Latitude','Longitude','SampleID','ProjectNumber',\n",
    "            'Sampled','Analyzed','PrepMethod','Prepped','Project']\n",
    "epa_data = epa_raw_data.drop(epa_drop,axis=1)\n",
    "epa_data"
   ]
  },
  {
   "cell_type": "code",
   "execution_count": null,
   "metadata": {},
   "outputs": [],
   "source": []
  },
  {
   "cell_type": "code",
   "execution_count": null,
   "metadata": {},
   "outputs": [],
   "source": [
    "sdechem.columns"
   ]
  },
  {
   "cell_type": "code",
   "execution_count": null,
   "metadata": {},
   "outputs": [],
   "source": [
    "sdeact.columns"
   ]
  },
  {
   "cell_type": "code",
   "execution_count": null,
   "metadata": {},
   "outputs": [],
   "source": [
    "epa_raw_data['ResultQualifier']"
   ]
  },
  {
   "cell_type": "markdown",
   "metadata": {},
   "source": [
    "## State Lab Chemistry Import to SDE"
   ]
  },
  {
   "cell_type": "markdown",
   "metadata": {},
   "source": [
    "### Compile Old State Lab Data"
   ]
  },
  {
   "cell_type": "code",
   "execution_count": null,
   "metadata": {},
   "outputs": [],
   "source": []
  },
  {
   "cell_type": "code",
   "execution_count": null,
   "metadata": {},
   "outputs": [],
   "source": [
    "slfiles = \"G:/Team Drives/UGS_Groundwater/Projects/NGWMN/Chemistry Data/StateLab/\"\n",
    "\n",
    "old_to_new = {'Sample#Number':'Sample Number',\n",
    "              'Sample#Date':'Date Collected',\n",
    "              'Sample#Time':'Time Collected',\n",
    "              'Analysis#Date':'Analysis Date',\n",
    "              'CAS#Number':'CAS Number',\n",
    "              'Agency#Bill#Code':'Agency Bill Code',\n",
    "              'Batch#Number':'Batch Number',\n",
    "              'Comment#Text':'Result Comment',\n",
    "              'Chain#of#Custody#Ind.':'Chain of Custody',\n",
    "              'Cost#Code':'Cost Code',\n",
    "              'Dilution#Factor':'Dilution Factor',\n",
    "              'Lower#Report#Limit':'Lower Report Limit',\n",
    "              'Matrix#Description':'Matrix Description',\n",
    "              'Method#Agency':'Method Agency',\n",
    "              'Method#Description':'Method Description',\n",
    "              'Method#Detect#Limit':'Method Detect Limit',\n",
    "              'Param#Description':'Param Description',\n",
    "              'Problem#Identifier':'Problem Identifier',\n",
    "              'Method#ID':'Method ID',\n",
    "              'Sample#Comment':'Sample Comment',\n",
    "              'Sample#Description':'Sample Description',\n",
    "              'Result#Value':'Result Value',\n",
    "              'Sample#Recieved#Date':'Sample Received Date',\n",
    "              'Replicate#Number':'Replicate Number',\n",
    "              'Result#Code':'Result#Code',\n",
    "              'Station#ID':'Station ID',\n",
    "              'Sample#Type':'Sample Type',\n",
    "              'Trip#ID':'Trip ID'}\n",
    "\n",
    "oldfields = ['%#Confidence#Limit', 'Confidence#Limit', 'Comment#Number', 'Comment#Number.1', 'Comment#Text.1',\n",
    "             'Lab#Code', 'Preparation#Date', 'Source#Code',  'Billing#Code','Matrix#Number',\n",
    "             'Upper#Quant#Limit','Result#Code','Method#Number','Param#Number']\n",
    "\n",
    "\n",
    "stlbnew = {}\n",
    "stlbold = {}\n",
    "\n",
    "for file in glob.glob(slfiles+\"*.txt\"):\n",
    "    \n",
    "    shrtnm = os.path.splitext(os.path.basename(file))[0]\n",
    "    if \"UTGS_EDD\" in shrtnm: \n",
    "        stlbnew[shrtnm] = pd.read_csv(file, sep='\\t', error_bad_lines=False)\n",
    "        samecols = {'Collected By':'Collector',\n",
    "                    'Analyte CAS Number':'CAS Number',\n",
    "                    'Method Number':'Method ID',\n",
    "                    'Method Reported Name':'Param Description',\n",
    "                   'Entry Qualifier':'Problem Identifier',\n",
    "                    'Result Flags':'Result Code',\n",
    "                   'Result Entry':'Result Value',\n",
    "                    'Sample Detection Limit':'Sample Detect Limit',\n",
    "                    'Date Analyzed':'Analysis Date',\n",
    "                   'Method Detection Limit':'Method Detect Limit','Project Comments':'Project Comment',\n",
    "                   'Sample Comments':'Sample Comment','Test Comments':'Test Comment',\n",
    "                   'Result Comments':'Result Comment','Sample Reporting Limit':'Sample Report Limit',\n",
    "                   'Result Dilution Factor':'Dilution Factor','Date Recieved':'Sample Received Date',\n",
    "                   'Specimen Source':'Matrix Description','Customer Internal Code':'Cost Code',\n",
    "                   'Collecting Agency':'Agency Bill Code',\n",
    "                   'Result Units':'Units'}\n",
    "        stlbnew[shrtnm] = stlbnew[shrtnm].rename(columns=samecols)\n",
    "    else:\n",
    "        stlbold[shrtnm] = pd.read_csv(file, sep='\\t', error_bad_lines=False)\n",
    "        stlbold[shrtnm] = stlbold[shrtnm].rename(columns=old_to_new)\n",
    "new_st_data = pd.concat(stlbnew).reset_index().drop(['level_0','level_1'],axis=1)\n",
    "old_st_data = pd.concat(stlbold).reset_index().drop(['level_0','level_1'],axis=1)\n",
    "st_data = pd.concat([new_st_data,old_st_data])\n",
    "st_data = st_data.drop(oldfields, axis=1)\n",
    "\n",
    "\n",
    "st_data.columns"
   ]
  },
  {
   "cell_type": "code",
   "execution_count": null,
   "metadata": {},
   "outputs": [],
   "source": [
    "st_data.head()"
   ]
  },
  {
   "cell_type": "code",
   "execution_count": null,
   "metadata": {},
   "outputs": [],
   "source": []
  },
  {
   "cell_type": "markdown",
   "metadata": {},
   "source": [
    "### Designate the file with the id matches."
   ]
  },
  {
   "cell_type": "code",
   "execution_count": null,
   "metadata": {},
   "outputs": [],
   "source": [
    "lab_based_chem = \"https://cdx.epa.gov/WQXWeb/ImportConfigurationDetail.aspx?impcfg_uid=5926\"\n",
    "\n",
    "field_chem = \"https://cdx.epa.gov/WQXWeb/ImportConfigurationDetail.aspx?mode=import&impcfg_uid=5931\""
   ]
  },
  {
   "cell_type": "code",
   "execution_count": null,
   "metadata": {
    "ExecuteTime": {
     "end_time": "2019-04-09T18:26:39.172118Z",
     "start_time": "2019-04-09T18:26:39.163092Z"
    }
   },
   "outputs": [],
   "source": [
    "match_file = \"G:/My Drive/Python/Pycharm/wqxsde/examples/id_match.csv\"\n",
    "file_path = \"G:/My Drive/Python/Pycharm/wqxsde/examples/UTGS_EDD_20190304.txt\"\n",
    "file_path2 = \"G:/Team Drives/UGS_Groundwater/Projects/NGWMN/Chemistry Data/StateLab/UTGS_EDD_20170907.txt\"\n",
    "schema_file_path = \"G:/My Drive/Python/Pycharm/wqxsde/examples/Domains.xlsx\""
   ]
  },
  {
   "cell_type": "code",
   "execution_count": null,
   "metadata": {},
   "outputs": [],
   "source": [
    "wqx_chem_table, sde_chem_table = compare_sde_wqx(wqx_results_filename,enviro,chem_table_name,table_type=\"chem\")\n",
    "sde_chem_import = sde_chem_table[sde_chem_table['inwqx']==0]"
   ]
  },
  {
   "cell_type": "markdown",
   "metadata": {},
   "source": [
    "### Process the state lab text file to import into database"
   ]
  },
  {
   "cell_type": "code",
   "execution_count": null,
   "metadata": {
    "ExecuteTime": {
     "end_time": "2019-04-09T18:27:01.569451Z",
     "start_time": "2019-04-09T18:27:01.491692Z"
    }
   },
   "outputs": [],
   "source": [
    "state = wqxsde.ProcessStateLabText(file_path,\"G:/My Drive/WORK/Groundwater Chemistry\",\n",
    "                                   match_file, schema_file_path)\n"
   ]
  },
  {
   "cell_type": "code",
   "execution_count": null,
   "metadata": {},
   "outputs": [],
   "source": [
    "state = wqxsde.ProcessStateLabText(file_path,\"\")"
   ]
  },
  {
   "cell_type": "code",
   "execution_count": null,
   "metadata": {
    "ExecuteTime": {
     "end_time": "2019-04-09T18:27:11.979790Z",
     "start_time": "2019-04-09T18:27:04.195207Z"
    }
   },
   "outputs": [],
   "source": [
    "state_lab_chem = state.run_calcs()"
   ]
  },
  {
   "cell_type": "code",
   "execution_count": null,
   "metadata": {
    "ExecuteTime": {
     "end_time": "2019-04-09T18:30:13.594922Z",
     "start_time": "2019-04-09T18:30:13.539269Z"
    }
   },
   "outputs": [],
   "source": [
    "state_lab_chem['resultid'] = state_lab_chem[['ActivityID','CharacteristicName']].apply(lambda x: str(x[0])+ \"-\" +x[1],1) "
   ]
  },
  {
   "cell_type": "code",
   "execution_count": null,
   "metadata": {
    "ExecuteTime": {
     "end_time": "2019-04-09T18:31:21.354523Z",
     "start_time": "2019-04-09T18:31:21.287478Z"
    }
   },
   "outputs": [],
   "source": [
    "state_lab_chem.to_csv(\"G:/My Drive/WORK/Groundwater Chemistry/crosscheck.csv\")"
   ]
  },
  {
   "cell_type": "markdown",
   "metadata": {},
   "source": [
    "### Import SDE Data"
   ]
  },
  {
   "cell_type": "code",
   "execution_count": null,
   "metadata": {},
   "outputs": [],
   "source": [
    "state.append_data()"
   ]
  },
  {
   "cell_type": "markdown",
   "metadata": {},
   "source": [
    "## Pull SDE Data and Prep for WQX import"
   ]
  },
  {
   "cell_type": "code",
   "execution_count": null,
   "metadata": {
    "ExecuteTime": {
     "end_time": "2019-04-10T21:09:13.809401Z",
     "start_time": "2019-04-10T21:08:56.042050Z"
    }
   },
   "outputs": [],
   "source": []
  },
  {
   "cell_type": "code",
   "execution_count": null,
   "metadata": {
    "ExecuteTime": {
     "end_time": "2019-04-10T21:10:27.249053Z",
     "start_time": "2019-04-10T21:10:27.230002Z"
    }
   },
   "outputs": [],
   "source": []
  },
  {
   "cell_type": "code",
   "execution_count": null,
   "metadata": {},
   "outputs": [],
   "source": [
    "onlineacts"
   ]
  },
  {
   "cell_type": "code",
   "execution_count": null,
   "metadata": {
    "ExecuteTime": {
     "end_time": "2019-04-10T21:31:09.460740Z",
     "start_time": "2019-04-10T21:31:09.448733Z"
    },
    "scrolled": true
   },
   "outputs": [],
   "source": []
  },
  {
   "cell_type": "code",
   "execution_count": null,
   "metadata": {},
   "outputs": [],
   "source": [
    "sdefieldact.head()"
   ]
  },
  {
   "cell_type": "code",
   "execution_count": null,
   "metadata": {},
   "outputs": [],
   "source": [
    "actmatch.keys()"
   ]
  },
  {
   "cell_type": "code",
   "execution_count": null,
   "metadata": {},
   "outputs": [],
   "source": [
    "sdefieldact['ActivityStartDate'] = sdefieldact['ActivityID'].apply(lambda)"
   ]
  },
  {
   "cell_type": "markdown",
   "metadata": {
    "ExecuteTime": {
     "end_time": "2019-04-10T21:18:25.726715Z",
     "start_time": "2019-04-10T21:18:25.701622Z"
    }
   },
   "source": [
    "### Pull AGOL Field data and transpose"
   ]
  },
  {
   "cell_type": "code",
   "execution_count": null,
   "metadata": {
    "ExecuteTime": {
     "end_time": "2019-04-09T22:01:51.077067Z",
     "start_time": "2019-04-09T22:01:51.063000Z"
    }
   },
   "outputs": [],
   "source": [
    "url = 'https://services.arcgis.com/ZzrwjTRez6FJiOq4/arcgis/rest/services/SamplingActivitiesTable/FeatureServer/1/query?'\n",
    "kwargs = {}\n",
    "kwargs['where'] = 'ActivityID is NOT NULL'\n",
    "kwargs['returnIdsOnly'] = 'false'\n",
    "kwargs['returnUniqueIdsOnly'] = 'false'\n",
    "kwargs['returnCountOnly'] ='false'\n",
    "kwargs['returnDistinctValues'] ='true'\n",
    "kwargs['outFields'] = '*'\n",
    "kwargs['orderByFields'] ='ActivityID'\n",
    "kwargs['sqlFormat'] ='standard'\n",
    "kwargs['f'] ='pjson'\n",
    "kwargs['token'] = 'twt1PeCt9UqHmMEe4hceWzSLu6FllZQoVAi3pdSTvTkH9OZBJVv1RveHS6Xzzcaj4kZ3QozNIniFitdBQ2LKU7Bwjz-WNGdP2yVvEXPc7NRJuj0FsV2njhebPV-5nktDAbdcHKwqUdVQQQ-EnW63gHG17KVZJiMjeyJXy2oduZfPPsGzbhfURZGFuaRRCg3WCT-GI8Tr04lnAHBbYT5g1akFQYmf6QV1lAOVVv4DOnM.'\n",
    "repsns = requests.get(url, params=kwargs)\n",
    "onlineacts = pd.DataFrame([i['attributes'] for i in repsns.json()['features']])\n",
    "onlineacts.head()\n",
    "\n",
    "afields = ['ActivityID', 'ProjectID', 'MonitoringLocationID', \n",
    "               'ActivityStartDate', 'ActivityStartTime']\n",
    "\n",
    "actmatch = onlineacts[afields].set_index('ActivityID').to_dict()\n",
    "\n",
    "sdefieldact = onlineacts[['ActivityID','temperature_c','conduct_uscm','pH']].set_index('ActivityID').stack().reset_index()\n",
    "\n",
    "sdefieldact.columns = ['ActivityID','CharacteristicName','ResultValue']\n",
    "\n",
    "def funitsandchar(df):\n",
    "    fcharnms = {'temperature_c':['Temperature, water','deg C'],\n",
    "                'conduct_uscm':['Specific conductance','uS/cm'],\n",
    "                'pH':['pH','None']}\n",
    "    df['ResultUnit'] = fcharnms.get(df['CharacteristicName'])[1]\n",
    "    df['CharacteristicName'] = fcharnms.get(df['CharacteristicName'])[0]\n",
    "    return df\n",
    "\n",
    "sdefieldact = sdefieldact.apply(lambda x: funitsandchar(x),1)\n",
    "sdefieldact['ActivityID'] = sdefieldact['ActivityID'].apply(lambda x: str(x)+'-FM',1)\n",
    "\n",
    "\n",
    "sdestat = wqxsde.table_to_pandas_dataframe(sde.stations_table, field_names = statfields)\n",
    "sdeact = wqxsde.table_to_pandas_dataframe(sde.activities_table, field_names = activfields)\n",
    "sdechem = wqxsde.table_to_pandas_dataframe(sde.chemistry_table, field_names = chemfields, query = 'inwqx = 0' )\n",
    "\n",
    "\n",
    "fcharnms = {'temperature_c':['Temperature, water','deg C'],'conduct_uscm':['Specific conductance','uS/cm'],'pH':['pH','None']}\n",
    "\n",
    "sdefactchem = sdefieldact\n",
    "#sdefactchem = pd.merge(sdechem, sdefieldact, how = 'inner', on = 'ActivityID')\n",
    "\n",
    "sdefactchem['Activity Media Name'] = 'Water'\n",
    "sdefactchem['Activity Start Time Zone'] = 'MDT'\n",
    "sdefactchem['Activity Type'] = sdefactchem['ActivityID'].apply(lambda x: 'Field Msr/Obs' if '-FM' in x else 'Sample-Routine', 1)\n",
    "sdefactchem['ResultStatusID'] = 'Final'\n",
    "sdefactchem['ResultValueType'] = 'Actual'"
   ]
  },
  {
   "cell_type": "markdown",
   "metadata": {},
   "source": [
    "### Pull SDE Data and export a WQX csv for import"
   ]
  },
  {
   "cell_type": "code",
   "execution_count": null,
   "metadata": {
    "ExecuteTime": {
     "end_time": "2019-04-09T22:01:51.087567Z",
     "start_time": "2019-04-09T22:01:51.078571Z"
    }
   },
   "outputs": [],
   "source": [
    "chemfields = ['ActivityID', 'ResultDetectionCondition', 'CharacteristicName', 'MethodSpeciation',\n",
    "              'ResultSampleFraction', 'ResultValue', 'ResultUnit', 'ResultQualifier', \n",
    "              'ResultAnalyticalMethodID', \n",
    "              'ResultAnalyticalMethodContext', 'LaboratoryName',\n",
    "              'AnalysisStartDate', 'ResultDetecQuantLimitType',\n",
    "              'DetecQuantLimitMeasure', 'ResultDetecQuantLimitUnit']\n",
    "\n",
    "activfields = ['ActivityID', 'ProjectID', 'MonitoringLocationID', \n",
    "               'ActivityStartDate', 'ActivityStartTime','temperature_c','conduct_uscm','pH']\n",
    "\n",
    "statfields = ['LocationID','Send','inwqx']\n",
    "\n",
    "sdestat = wqxsde.table_to_pandas_dataframe(sde.stations_table, field_names = statfields)\n",
    "sdeact = wqxsde.table_to_pandas_dataframe(sde.activities_table, field_names = activfields)\n",
    "sdechem = wqxsde.table_to_pandas_dataframe(sde.chemistry_table, field_names = chemfields, query = 'inwqx = 0' )\n",
    "\n",
    "\n",
    "fcharnms = {'temperature_c':['Temperature, water','deg C'],'conduct_uscm':['Specific conductance','uS/cm'],'pH':['pH','None']}\n",
    "\n",
    "sdeactchem = pd.merge(sdechem, sdeact, how = 'inner', on = 'ActivityID')\n",
    "\n",
    "sdeactchem['Activity Media Name'] = 'Water'\n",
    "sdeactchem['Activity Start Time Zone'] = 'MDT'\n",
    "sdeactchem['Activity Type'] = sdeactchem['ActivityID'].apply(lambda x: 'Field Msr/Obs' if '-FM' in x else 'Sample-Routine', 1)\n",
    "sdeactchem['Sample Collection Equipment Name'] = 'Water Bottle'\n",
    "sdeactchem['Sample Collection Method ID'] = 'GRAB'\n",
    "sdeactchem['ResultStatusID'] = 'Final'\n",
    "sdeactchem['ResultValueType'] = 'Actual'\n",
    "\n",
    "fieldorder = ['ActivityID', 'Activity Media Name', 'ActivityStartDate', 'ActivityStartTime',\n",
    "              'Activity Start Time Zone', 'Activity Type', 'AnalysisStartDate', \n",
    "              'CharacteristicName', 'LaboratoryName', 'MethodSpeciation',\n",
    "              'MonitoringLocationID', 'ProjectID', 'ResultAnalyticalMethodContext',\n",
    "              'ResultAnalyticalMethodID', 'ResultDetectionCondition',\n",
    "              'DetecQuantLimitMeasure', 'ResultDetecQuantLimitType',\n",
    "              'ResultDetecQuantLimitUnit', 'ResultQualifier', 'ResultSampleFraction', \n",
    "              'ResultStatusID', 'ResultUnit',  'ResultValue', 'ResultValueType',\n",
    "              'Sample Collection Equipment Name','Sample Collection Method ID']\n",
    "\n",
    "senders = sdestat[sdestat['Send']=='1']['LocationID'].values\n",
    "\n",
    "\n",
    "sdeactchemimp = sdeactchem[fieldorder].replace(to_replace='None',value=None)\n",
    "#sdeactchemimp = sdeactchemimp[sdeactchemimp['Activity Type']=='Sample-Routine']\n",
    "sdeactchemimp = sdeactchemimp[pd.notna(sdeactchemimp['ProjectID'])]\n",
    "sdeactchemimp = sdeactchemimp[sdeactchemimp['MonitoringLocationID'].isin(senders)]\n",
    "\n",
    "save_dir = 'G:/My Drive/Python/Pycharm/wqxsde'\n",
    "sdeactchemimp.to_csv(save_dir + \"/chem_{:%Y%m%d%H%M}.csv\".format(pd.datetime.today()), index=False)"
   ]
  },
  {
   "cell_type": "code",
   "execution_count": null,
   "metadata": {
    "ExecuteTime": {
     "end_time": "2019-04-09T22:02:25.276849Z",
     "start_time": "2019-04-09T22:02:25.080754Z"
    }
   },
   "outputs": [],
   "source": [
    "sfieldorder = ['ActivityID','ActivityStartDate', 'ActivityStartTime',\n",
    "              'CharacteristicName',\n",
    "              'MonitoringLocationID','ResultAnalyticalMethodContext',\n",
    "              'ResultAnalyticalMethodID']\n",
    "\n",
    "sdeactchemimp[sfieldorder][(pd.notnull(sdeactchemimp['ResultAnalyticalMethodContext']))&(pd.isnull(sdeactchemimp['ResultAnalyticalMethodID']))]"
   ]
  },
  {
   "cell_type": "code",
   "execution_count": null,
   "metadata": {
    "ExecuteTime": {
     "end_time": "2019-04-09T22:09:03.530525Z",
     "start_time": "2019-04-09T22:09:03.465856Z"
    }
   },
   "outputs": [],
   "source": [
    "sdeactchemimp"
   ]
  },
  {
   "cell_type": "code",
   "execution_count": null,
   "metadata": {
    "ExecuteTime": {
     "end_time": "2019-04-09T22:02:32.430598Z",
     "start_time": "2019-04-09T22:02:32.426110Z"
    }
   },
   "outputs": [],
   "source": [
    "sdeactchemimp['ProjectID'].unique()"
   ]
  },
  {
   "cell_type": "code",
   "execution_count": null,
   "metadata": {
    "ExecuteTime": {
     "end_time": "2019-04-09T17:04:05.318358Z",
     "start_time": "2019-04-09T17:04:05.309299Z"
    }
   },
   "outputs": [],
   "source": [
    "sdeactchem"
   ]
  },
  {
   "cell_type": "code",
   "execution_count": null,
   "metadata": {
    "ExecuteTime": {
     "end_time": "2019-04-09T22:09:19.120588Z",
     "start_time": "2019-04-09T22:09:18.975942Z"
    }
   },
   "outputs": [],
   "source": []
  },
  {
   "cell_type": "code",
   "execution_count": null,
   "metadata": {},
   "outputs": [],
   "source": [
    "activities = "
   ]
  },
  {
   "cell_type": "code",
   "execution_count": null,
   "metadata": {},
   "outputs": [],
   "source": [
    "stations[['LocationName','AltLocationID','Offset','BaroLoggerType']][stations['AltLocationID']>1000].to_clipboard()"
   ]
  },
  {
   "cell_type": "markdown",
   "metadata": {},
   "source": [
    "~~~~sql\n",
    "CREATE VIEW UGGP.UGGPADMIN.UGS_NGWMN_View_Activities_and_Results\n",
    "AS\n",
    "SELECT \n",
    "UGGP.UGGPADMIN.UGS_NGWMN_Monitoring_Phy_Chem_Activities.ActivityID,\n",
    "UGGP.UGGPADMIN.UGS_NGWMN_Monitoring_Phy_Chem_Activities.ActivityStartDate,\n",
    "UGGP.UGGPADMIN.UGS_NGWMN_Monitoring_Phy_Chem_Activities.ActivityStartTime,\n",
    "UGGP.UGGPADMIN.UGS_NGWMN_Monitoring_Phy_Chem_Activities.ProjectID,\n",
    "UGGP.UGGPADMIN.UGS_NGWMN_Monitoring_Phy_Chem_Activities.MonitoringLocationID,\n",
    "UGGP.UGGPADMIN.UGS_NGWMN_Monitoring_Phy_Chem_Results.ResultDetectionCondition,\n",
    "UGGP.UGGPADMIN.UGS_NGWMN_Monitoring_Phy_Chem_Results.CharacteristicName,\n",
    "UGGP.UGGPADMIN.UGS_NGWMN_Monitoring_Phy_Chem_Results.MethodSpeciation,\n",
    "UGGP.UGGPADMIN.UGS_NGWMN_Monitoring_Phy_Chem_Results.ResultSampleFraction,\n",
    "UGGP.UGGPADMIN.UGS_NGWMN_Monitoring_Phy_Chem_Results.ResultValue,\n",
    "UGGP.UGGPADMIN.UGS_NGWMN_Monitoring_Phy_Chem_Results.ResultUnit,\n",
    "UGGP.UGGPADMIN.UGS_NGWMN_Monitoring_Phy_Chem_Results.ResultQualifier,\n",
    "UGGP.UGGPADMIN.UGS_NGWMN_Monitoring_Phy_Chem_Results.ResultStatusID,\n",
    "UGGP.UGGPADMIN.UGS_NGWMN_Monitoring_Phy_Chem_Results.ResultValueType,\n",
    "UGGP.UGGPADMIN.UGS_NGWMN_Monitoring_Phy_Chem_Results.ResultAnalyticalMethodID,\n",
    "UGGP.UGGPADMIN.UGS_NGWMN_Monitoring_Phy_Chem_Results.ResultAnalyticalMethodContext,\n",
    "UGGP.UGGPADMIN.UGS_NGWMN_Monitoring_Phy_Chem_Results.LaboratoryName,\n",
    "UGGP.UGGPADMIN.UGS_NGWMN_Monitoring_Phy_Chem_Results.AnalysisStartDate,\n",
    "UGGP.UGGPADMIN.UGS_NGWMN_Monitoring_Phy_Chem_Results.ResultDetecQuantLimitType,\n",
    "UGGP.UGGPADMIN.UGS_NGWMN_Monitoring_Phy_Chem_Results.ResultDetecQuantLimitMeasure,\n",
    "UGGP.UGGPADMIN.UGS_NGWMN_Monitoring_Phy_Chem_Results.ResultDetecQuantLimitUnit\n",
    "\n",
    "FROM\n",
    "UGGP.UGGPADMIN.UGS_NGWMN_Monitoring_Phy_Chem_Results \n",
    "JOIN\n",
    "UGGP.UGGPADMIN.UGS_NGWMN_Monitoring_Phy_Chem_Activities ON\n",
    "UGGP.UGGPADMIN.UGS_NGWMN_Monitoring_Phy_Chem_Activities.ActivityID = UGGP.UGGPADMIN.UGS_NGWMN_Monitoring_Phy_Chem_Results.ActivityID\n",
    "~~~~\n"
   ]
  },
  {
   "cell_type": "code",
   "execution_count": null,
   "metadata": {},
   "outputs": [],
   "source": []
  },
  {
   "cell_type": "code",
   "execution_count": null,
   "metadata": {},
   "outputs": [],
   "source": []
  },
  {
   "cell_type": "code",
   "execution_count": null,
   "metadata": {},
   "outputs": [],
   "source": []
  },
  {
   "cell_type": "code",
   "execution_count": null,
   "metadata": {},
   "outputs": [],
   "source": []
  }
 ],
 "metadata": {
  "kernelspec": {
   "display_name": "Python 3",
   "language": "python",
   "name": "python3"
  },
  "language_info": {
   "codemirror_mode": {
    "name": "ipython",
    "version": 3
   },
   "file_extension": ".py",
   "mimetype": "text/x-python",
   "name": "python",
   "nbconvert_exporter": "python",
   "pygments_lexer": "ipython3",
   "version": "3.6.6"
  },
  "toc": {
   "base_numbering": 1,
   "nav_menu": {},
   "number_sections": true,
   "sideBar": true,
   "skip_h1_title": false,
   "title_cell": "Table of Contents",
   "title_sidebar": "Contents",
   "toc_cell": false,
   "toc_position": {
    "height": "calc(100% - 180px)",
    "left": "10px",
    "top": "150px",
    "width": "248.867px"
   },
   "toc_section_display": true,
   "toc_window_display": true
  }
 },
 "nbformat": 4,
 "nbformat_minor": 2
}
